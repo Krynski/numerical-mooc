{
 "cells": [
  {
   "cell_type": "code",
   "execution_count": 1,
   "metadata": {
    "collapsed": true
   },
   "outputs": [],
   "source": [
    "import sympy\n",
    "sympy.init_printing()"
   ]
  },
  {
   "cell_type": "markdown",
   "metadata": {},
   "source": [
    "We need to find the values of constants A,B in the cubic flux traffic equation with given values of $$\\rho_{\\rm max} , u_{\\rm max}\\ , u^{\\star}$$  .\n",
    "\n",
    "The derivation of the cubic flux traffic flux equation in the lesson 3 gives us 3 equations:\n",
    "\\begin{equation} 0 = u_{\\rm max}\\, \\rho_{\\rm max}(1 - A \\rho_{\\rm max} - B \\rho_{\\rm max}^2)\\end{equation}\n",
    "\n",
    "\n",
    "\\begin{equation} 0  = u_{\\rm max}(1 - 2A\\rho^{\\star} - 3B(\\rho^{\\star})^2)\\end{equation}\n",
    "\n",
    "\\begin{equation}\n",
    "u^{\\star} = u_{\\rm max}(1 - A \\rho^{\\star} - B(\\rho^{\\star})^2)\\end{equation}\n",
    "\n",
    "First, let's define variables"
   ]
  },
  {
   "cell_type": "code",
   "execution_count": 2,
   "metadata": {
    "collapsed": false
   },
   "outputs": [],
   "source": [
    "(u_max , rho_max ,rho_star,u_max, A, B, u_star ) = sympy.symbols('u_max rho_max rho_star u_max A B u_star')"
   ]
  },
  {
   "cell_type": "markdown",
   "metadata": {},
   "source": [
    "Now the 3 equations"
   ]
  },
  {
   "cell_type": "code",
   "execution_count": 3,
   "metadata": {
    "collapsed": false
   },
   "outputs": [],
   "source": [
    "eq1 = sympy.Eq( 0, u_max*rho_max*(1 - A*rho_max-B*rho_max**2) )\n",
    "eq2 = sympy.Eq( 0, u_max*(1 - 2*A*rho_star-3*B*rho_star**2) )\n",
    "eq3 = sympy.Eq( u_star, u_max*(1 - A*rho_star - B*rho_star**2) )"
   ]
  },
  {
   "cell_type": "markdown",
   "metadata": {},
   "source": [
    "Solving them for A and B, we obtain the following equations"
   ]
  },
  {
   "cell_type": "code",
   "execution_count": 4,
   "metadata": {
    "collapsed": false
   },
   "outputs": [],
   "source": [
    "eqA= sympy.Eq (0, (-3*u_max + 6*u_star) * A**2 + 3*(2*u_max-3*u_star)**2/(rho_max*u_max)*A - 3*(2*u_max-3*u_star)**2/(rho_max**2*u_max))\n",
    "eqB_solved= sympy.solve(eq1,B)[0]"
   ]
  },
  {
   "cell_type": "code",
   "execution_count": 5,
   "metadata": {
    "collapsed": false
   },
   "outputs": [
    {
     "data": {
      "image/png": "[encoded data removed]",
      "text/latex": [
       "$$0 = A^{2} \\left(- 3 u_{max} + 6 u_{star}\\right) + \\frac{3 A}{\\rho_{max} u_{max}} \\left(2 u_{max} - 3 u_{star}\\right)^{2} - \\frac{3}{\\rho_{max}^{2} u_{max}} \\left(2 u_{max} - 3 u_{star}\\right)^{2}$$"
      ],
      "text/plain": [
       "                                                   2                       2\n",
       "     2                       3⋅A⋅(2⋅uₘₐₓ - 3⋅uₛₜₐᵣ)    3⋅(2⋅uₘₐₓ - 3⋅uₛₜₐᵣ) \n",
       "0 = A ⋅(-3⋅uₘₐₓ + 6⋅uₛₜₐᵣ) + ─────────────────────── - ─────────────────────\n",
       "                                    ρₘₐₓ⋅uₘₐₓ                    2          \n",
       "                                                             ρₘₐₓ ⋅uₘₐₓ     "
      ]
     },
     "execution_count": 5,
     "metadata": {},
     "output_type": "execute_result"
    }
   ],
   "source": [
    "eqA"
   ]
  },
  {
   "cell_type": "code",
   "execution_count": 6,
   "metadata": {
    "collapsed": false
   },
   "outputs": [
    {
     "data": {
      "image/png": "[encoded data removed]",
      "text/latex": [
       "$$\\frac{1}{\\rho_{max}^{2}} \\left(- A \\rho_{max} + 1\\right)$$"
      ],
      "text/plain": [
       "-A⋅ρₘₐₓ + 1\n",
       "───────────\n",
       "       2   \n",
       "   ρₘₐₓ    "
      ]
     },
     "execution_count": 6,
     "metadata": {},
     "output_type": "execute_result"
    }
   ],
   "source": [
    "eqB_solved"
   ]
  },
  {
   "cell_type": "code",
   "execution_count": 7,
   "metadata": {
    "collapsed": true
   },
   "outputs": [],
   "source": [
    "eqA_solved = sympy.solve(eqA,A)"
   ]
  },
  {
   "cell_type": "code",
   "execution_count": 8,
   "metadata": {
    "collapsed": false
   },
   "outputs": [
    {
     "data": {
      "image/png": "[encoded data removed]",
      "text/latex": [
       "$$\\left [ \\frac{1}{2 \\rho_{max} u_{max} \\left(u_{max} - 2 u_{star}\\right)} \\left(\\sqrt{- u_{star} \\left(4 u_{max} - 9 u_{star}\\right)} \\left(- 2 u_{max} + 3 u_{star}\\right) + \\left(2 u_{max} - 3 u_{star}\\right)^{2}\\right), \\quad \\frac{1}{2 \\rho_{max} u_{max} \\left(u_{max} - 2 u_{star}\\right)} \\left(2 u_{max} - 3 u_{star}\\right) \\left(2 u_{max} - 3 u_{star} + \\sqrt{- u_{star} \\left(4 u_{max} - 9 u_{star}\\right)}\\right)\\right ]$$"
      ],
      "text/plain": [
       "⎡  ___________________________                                         2      \n",
       "⎢╲╱ -uₛₜₐᵣ⋅(4⋅uₘₐₓ - 9⋅uₛₜₐᵣ) ⋅(-2⋅uₘₐₓ + 3⋅uₛₜₐᵣ) + (2⋅uₘₐₓ - 3⋅uₛₜₐᵣ)   (2⋅u\n",
       "⎢───────────────────────────────────────────────────────────────────────, ────\n",
       "⎣                      2⋅ρₘₐₓ⋅uₘₐₓ⋅(uₘₐₓ - 2⋅uₛₜₐᵣ)                           \n",
       "\n",
       "               ⎛                     ___________________________⎞⎤\n",
       "ₘₐₓ - 3⋅uₛₜₐᵣ)⋅⎝2⋅uₘₐₓ - 3⋅uₛₜₐᵣ + ╲╱ -uₛₜₐᵣ⋅(4⋅uₘₐₓ - 9⋅uₛₜₐᵣ) ⎠⎥\n",
       "─────────────────────────────────────────────────────────────────⎥\n",
       "                 2⋅ρₘₐₓ⋅uₘₐₓ⋅(uₘₐₓ - 2⋅uₛₜₐᵣ)                    ⎦"
      ]
     },
     "execution_count": 8,
     "metadata": {},
     "output_type": "execute_result"
    }
   ],
   "source": [
    "eqA_solved"
   ]
  },
  {
   "cell_type": "markdown",
   "metadata": {},
   "source": [
    "The first solution used the positive root.\n",
    "Now we can calculate the solution using the values given in the assignement.\n",
    "\\begin{align} \n",
    "\\rho_{\\rm max} &=15.0 \\nonumber\\\\ u_{\\rm max} &=2.0 \\nonumber\\\\ u^{\\star} &=1.5 \\nonumber\n",
    "\\end{align}"
   ]
  },
  {
   "cell_type": "code",
   "execution_count": 9,
   "metadata": {
    "collapsed": false
   },
   "outputs": [
    {
     "data": {
      "image/png": "[encoded data removed]",
      "text/latex": [
       "$$-0.0281023443605751$$"
      ],
      "text/plain": [
       "-0.0281023443605751"
      ]
     },
     "execution_count": 9,
     "metadata": {},
     "output_type": "execute_result"
    }
   ],
   "source": [
    "Aval = eqA_solved[0].evalf(subs={u_star: 1.5, u_max:2.0, rho_max:15} )\n",
    "Aval"
   ]
  },
  {
   "cell_type": "code",
   "execution_count": 10,
   "metadata": {
    "collapsed": false
   },
   "outputs": [
    {
     "data": {
      "image/png": "[encoded data removed]",
      "text/latex": [
       "$$0.00631793406848279$$"
      ],
      "text/plain": [
       "0.00631793406848279"
      ]
     },
     "execution_count": 10,
     "metadata": {},
     "output_type": "execute_result"
    }
   ],
   "source": [
    "Bval = eqB_solved.evalf(subs={rho_max: 15.0, A: Aval})\n",
    "Bval"
   ]
  },
  {
   "cell_type": "code",
   "execution_count": null,
   "metadata": {
    "collapsed": true
   },
   "outputs": [],
   "source": []
  },
  {
   "cell_type": "markdown",
   "metadata": {},
   "source": [
    "CODING ASSIGNEMENT"
   ]
  },
  {
   "cell_type": "markdown",
   "metadata": {},
   "source": [
    "The PDE we need to solve is\n",
    "\\begin{equation}\n",
    "\\frac{\\partial }{\\partial t} \\underline{\\mathbf{u}} + \\frac{\\partial }{\\partial x} \\underline{\\mathbf{f}} = 0\n",
    "\\end{equation}\n",
    "Where\n",
    "\\begin{equation}\\underline{\\mathbf{u}} = \\left[ \\begin{array}{c}\n",
    "\\rho \\\\\n",
    "\\rho u \\\\\n",
    "\\rho e_T \\\\ \n",
    "\\end{array} \\right]\\end{equation}\n",
    "and\n",
    "\\begin{equation}\\underline{\\mathbf{f}} = \\left[ \\begin{array}{c}\n",
    "\\rho u \\\\\n",
    "\\rho u^2 + p \\\\\n",
    "(\\rho e_T + p) u \\\\ \\end{array} \\right]\n",
    "\\end{equation}\n",
    "Using the equation of state for an ideal gas, we can calculate the pressure in term of $$e_T , \\rho$$.\n",
    "\n",
    "i.e. $$p = (\\gamma -1)\\left(\\rho e_T - \\frac{\\rho u^2}{2}\\right).$$\n",
    "\n",
    "Now, we can write\n",
    "$$\\underline{\\mathbf{u}} = \n",
    "\\left[ \\begin{array}{c}\n",
    "u_1 \\\\\n",
    "u_2 \\\\\n",
    "u_3 \\\\ \n",
    "\\end{array} \\right] =\n",
    "\\left[ \\begin{array}{c}\n",
    "\\rho \\\\\n",
    "\\rho u \\\\\n",
    "\\rho e_T \\\\ \n",
    "\\end{array} \\right]$$\n",
    "\n",
    "$$\\underline{\\mathbf{f}} = \\left[ \\begin{array}{c}\n",
    "f_1 \\\\\n",
    "f_2 \\\\\n",
    "f_3 \\\\ \\end{array} \\right] =\n",
    "\\left[ \\begin{array}{c}\n",
    "u_2\\\\\n",
    "\\frac{u^2_2}{u_1} + (\\gamma -1)\\left(u_3 - \\frac{1}{2} \\frac{u^2_2}{u_1} \\right) \\\\\n",
    "\\left(u_3 + (\\gamma -1)\\left(u_3 - \\frac{1}{2} \\frac{u^2_2}{u_1}\\right) \\right) \\frac{u_2}{u_1}\\\\ \\end{array}\n",
    "\\right]$$"
   ]
  },
  {
   "cell_type": "code",
   "execution_count": 1,
   "metadata": {
    "collapsed": false
   },
   "outputs": [
    {
     "ename": "NameError",
     "evalue": "name 'sympy' is not defined",
     "output_type": "error",
     "traceback": [
      "\u001b[1;31m\u001b[0m",
      "\u001b[1;31mNameError\u001b[0mTraceback (most recent call last)",
      "\u001b[1;32m<ipython-input-1-a7a5e3a9b446>\u001b[0m in \u001b[0;36m<module>\u001b[1;34m()\u001b[0m\n\u001b[1;32m----> 1\u001b[1;33m \u001b[0msympy\u001b[0m\u001b[1;33m.\u001b[0m\u001b[0minit_printing\u001b[0m\u001b[1;33m(\u001b[0m\u001b[0muse_latex\u001b[0m\u001b[1;33m=\u001b[0m\u001b[1;32mFalse\u001b[0m\u001b[1;33m)\u001b[0m\u001b[1;33m\u001b[0m\u001b[0m\n\u001b[0m",
      "\u001b[1;31mNameError\u001b[0m: name 'sympy' is not defined"
     ]
    }
   ],
   "source": [
    "sympy.init_printing(use_latex=False)"
   ]
  },
  {
   "cell_type": "markdown",
   "metadata": {},
   "source": [
    "Let's try to compute it."
   ]
  },
  {
   "cell_type": "code",
   "execution_count": 2,
   "metadata": {
    "collapsed": true
   },
   "outputs": [],
   "source": [
    "%matplotlib inline\n",
    "import numpy \n",
    "from matplotlib import pyplot\n",
    "from matplotlib import rcParams\n",
    "rcParams['font.family'] = 'serif'\n",
    "rcParams['font.size'] = 16"
   ]
  },
  {
   "cell_type": "code",
   "execution_count": 171,
   "metadata": {
    "collapsed": true
   },
   "outputs": [],
   "source": [
    "    #Code parameters#\n",
    "nx = 81\n",
    "dx = 20/(nx-1)\n",
    "dt = 0.0002\n",
    "nt = 50\n",
    "gamma = 1.4\n",
    "\n",
    "\n",
    "    #Initial conditions#\n",
    "rhoL = 1\n",
    "uL = 0\n",
    "pL = 100000\n",
    "rhoR = 0.125\n",
    "uR = 0\n",
    "pR = 10000\n"
   ]
  },
  {
   "cell_type": "code",
   "execution_count": 172,
   "metadata": {
    "collapsed": false
   },
   "outputs": [
    {
     "data": {
      "text/plain": [
       "500.0"
      ]
     },
     "execution_count": 172,
     "metadata": {},
     "output_type": "execute_result"
    }
   ],
   "source": [
    "si\n",
    "ve=5/(50*dt)\n",
    "ve"
   ]
  },
  {
   "cell_type": "code",
   "execution_count": 173,
   "metadata": {
    "collapsed": true
   },
   "outputs": [],
   "source": [
    "def inicond(nx, rhoL,uL,pL,rhoR,uR,pR):\n",
    "    \"\"\"Computes the Shock Tube at t = 0: there's a left part,\n",
    "         a right part and a discontinuity at x=0\"\"\"\n",
    "    rho= numpy.zeros(nx)\n",
    "    rho[0:]=rhoL\n",
    "    rho[int((nx-1)/2):]=rhoR\n",
    "    \n",
    "    u= numpy.zeros(nx)\n",
    "    u[0:]=uL\n",
    "    u[int((nx-1)/2):]=uR\n",
    "    \n",
    "    p= numpy.zeros(nx)\n",
    "    p[0:]=pL\n",
    "    p[int((nx-1)/2):]=pR\n",
    "    \n",
    "    inivect = numpy.array([rho,u,p])\n",
    "    return inivect"
   ]
  },
  {
   "cell_type": "markdown",
   "metadata": {},
   "source": [
    "We will write down the u,f vectors in term of u1,2,3"
   ]
  },
  {
   "cell_type": "code",
   "execution_count": 174,
   "metadata": {
    "collapsed": false
   },
   "outputs": [],
   "source": [
    "#First, we need to calculate the eT value for all x using the state equation#\n",
    "eT = numpy.zeros(nx)\n",
    "rho = inicond(nx, rhoL,uL,pL,rhoR,uR,pR)[0]\n",
    "u = inicond(nx, rhoL,uL,pL,rhoR,uR,pR)[1] \n",
    "p = inicond(nx, rhoL,uL,pL,rhoR,uR,pR)[2]\n",
    "\n",
    "eT[0:] = p[0:]/(gamma-1) /rho[0:] + 0.5*u[0]**2  \n"
   ]
  },
  {
   "cell_type": "code",
   "execution_count": 175,
   "metadata": {
    "collapsed": false
   },
   "outputs": [],
   "source": [
    "#We create the vectors U and F#\n",
    "u1 = rho\n",
    "u2 = rho * u\n",
    "u3 = rho * eT\n",
    "U = numpy.array([u1,u2,u3])\n",
    "\n",
    "def computeF(U):\n",
    "    f1 = U[1]\n",
    "    f2 = U[1]**2/U[0] + (gamma-1) * (U[2] -0.5*U[1] **2/U[0])\n",
    "    f3 = (U[2] +(gamma-1)*(U[2] - 0.5*U[1]**2/U[0]))*U[1]/U[0]\n",
    "    F = numpy.array([f1,f2,f3])\n",
    "    return F\n",
    "F=computeF(U)\n"
   ]
  },
  {
   "cell_type": "code",
   "execution_count": 177,
   "metadata": {
    "collapsed": false
   },
   "outputs": [],
   "source": [
    "#Now we compute the Richtmyer method#\n",
    "def richtmyer(U):\n",
    "    \n",
    "    U_n = numpy.zeros((nt,len(U),nx))\n",
    "    U_half = numpy.empty_like(U)\n",
    "    U_n[:,:] = U.copy()\n",
    "    U_half =U.copy()\n",
    "    \n",
    "    for t in range(1,nt):\n",
    "        F= computeF(U)\n",
    "        U_half[0:,1:] = 0.5*(U[0:,1:]+U[0:,:-1]) - dt/(2*dx) * (F[0:,1:]-F[0:,:-1])\n",
    "        F_half= computeF(U_half)\n",
    "        U_n[t,0:,:-1] = U[0:,:-1] - dt/dx * (F_half[0:,1:]-F_half[0:,:-1])\n",
    "        U = U_n[t].copy()\n",
    "    return U_n\n",
    "#I copied the global pattern of this function from the MacCormack function from lesson 2#\n",
    "#We will be able to do some cool animations with it#"
   ]
  },
  {
   "cell_type": "code",
   "execution_count": 178,
   "metadata": {
    "collapsed": false
   },
   "outputs": [],
   "source": [
    "U_n = richtmyer(U)"
   ]
  },
  {
   "cell_type": "code",
   "execution_count": 179,
   "metadata": {
    "collapsed": false
   },
   "outputs": [],
   "source": [
    "#Uc is a vector containing information on density, velocity and pressure in space and time#\n",
    "Uc = numpy.empty_like(U_n)\n",
    "Uc[0:,0,0:] = U_n[0:,0,0:]\n",
    "Uc[0:,1,0:] = U_n[0:,1,0:]/U_n[0:,0,0:]\n",
    "Uc[0:,2,0:] = (gamma-1) * (U_n[0:,2,0:]- U_n[0:,1,0:]**2 /U_n[0:,0,0:]/2)"
   ]
  },
  {
   "cell_type": "markdown",
   "metadata": {},
   "source": [
    "Let's place our results on animations"
   ]
  },
  {
   "cell_type": "code",
   "execution_count": 180,
   "metadata": {
    "collapsed": false
   },
   "outputs": [],
   "source": [
    "from matplotlib import animation\n",
    "from IPython.display import HTML\n",
    "def animate(data):\n",
    "    x = numpy.linspace(-10,10,nx)\n",
    "    y = data\n",
    "    line.set_data(x,y)\n",
    "    return line,"
   ]
  },
  {
   "cell_type": "markdown",
   "metadata": {},
   "source": [
    "Density"
   ]
  },
  {
   "cell_type": "code",
   "execution_count": 181,
   "metadata": {
    "collapsed": false
   },
   "outputs": [
    {
     "data": {
      "image/png": "[encoded data removed]",
      "text/plain": [
       "<matplotlib.figure.Figure at 0x255bf641ba8>"
      ]
     },
     "metadata": {},
     "output_type": "display_data"
    }
   ],
   "source": [
    "fig = pyplot.figure();\n",
    "ax = pyplot.axes(xlim=(-10,10),ylim=(0,1.3),xlabel=('Distance'),ylabel=('Density'));\n",
    "line, = ax.plot([],[],color='#003366', lw=2);"
   ]
  },
  {
   "cell_type": "code",
   "execution_count": 182,
   "metadata": {
    "collapsed": false
   },
   "outputs": [
    {
     "data": {
      "text/html": [
       "<video width=\"432.0\" height=\"288.0\" controls autoplay loop>\n",
       "  <source type=\"video/mp4\" src=\"data:video/mp4;base64,AAAAHGZ0eXBNNFYgAAACAGlzb21pc28yYXZjMQAAAAhmcmVlAAAwGW1kYXQAAAKuBgX//6rcRem9\n",
       "5tlIt5Ys2CDZI+7veDI2NCAtIGNvcmUgMTQ4IHIyNzIxIDcyZDUzYWIgLSBILjI2NC9NUEVHLTQg\n",
       "QVZDIGNvZGVjIC0gQ29weWxlZnQgMjAwMy0yMDE2IC0gaHR0cDovL3d3dy52aWRlb2xhbi5vcmcv\n",
       "eDI2NC5odG1sIC0gb3B0aW9uczogY2FiYWM9MSByZWY9MyBkZWJsb2NrPTE6MDowIGFuYWx5c2U9\n",
       "MHgzOjB4MTEzIG1lPWhleCBzdWJtZT03IHBzeT0xIHBzeV9yZD0xLjAwOjAuMDAgbWl4ZWRfcmVm\n",
       "PTEgbWVfcmFuZ2U9MTYgY2hyb21hX21lPTEgdHJlbGxpcz0xIDh4OGRjdD0xIGNxbT0wIGRlYWR6\n",
       "b25lPTIxLDExIGZhc3RfcHNraXA9MSBjaHJvbWFfcXBfb2Zmc2V0PS0yIHRocmVhZHM9OSBsb29r\n",
       "YWhlYWRfdGhyZWFkcz0xIHNsaWNlZF90aHJlYWRzPTAgbnI9MCBkZWNpbWF0ZT0xIGludGVybGFj\n",
       "ZWQ9MCBibHVyYXlfY29tcGF0PTAgY29uc3RyYWluZWRfaW50cmE9MCBiZnJhbWVzPTMgYl9weXJh\n",
       "bWlkPTIgYl9hZGFwdD0xIGJfYmlhcz0wIGRpcmVjdD0xIHdlaWdodGI9MSBvcGVuX2dvcD0wIHdl\n",
       "aWdodHA9MiBrZXlpbnQ9MjUwIGtleWludF9taW49MjUgc2NlbmVjdXQ9NDAgaW50cmFfcmVmcmVz\n",
       "aD0wIHJjX2xvb2thaGVhZD00MCByYz1jcmYgbWJ0cmVlPTEgY3JmPTIzLjAgcWNvbXA9MC42MCBx\n",
       "cG1pbj0wIHFwbWF4PTY5IHFwc3RlcD00IGlwX3JhdGlvPTEuNDAgYXE9MToxLjAwAIAAAA1mZYiE\n",
       "ACv//vZzfAprRzOVLgV292aj5dCS5fsQYPrQAAADAAGq07a5wTCo8QFAyxNmt3Ir7brqLgHaL0/v\n",
       "LpDVPar0f3/A735fols31DYSNaHPWX8z5MOE86jJD/xfe+JJFvwO2ZAHePQAWZ0ddsh0BYfhwMST\n",
       "gU8k+J9Kcs5G12whskfpvfxR9d6YBaFi139DSMwnK2ZmQRnM2u9ZBPAxpCc5TkVEqpHbx7HvvDi2\n",
       "adpNcGPF/V0QXY2sjNSKy8WPMkRWkRn4qUopLKGnM8pd2il7JgAYnDcX6poHH+AjNyuEEZ4rAGq2\n",
       "h96RTCoQU2m10TerMAeL2j4UfYL7IoPaBuARqiNgaeWhofP/MYMysUBMmGCUL2BLqQjxnuEq8BKL\n",
       "8YEXKJNjBZLE/KwO2zfpMj3DHdkLjeKw9LvQYXef5pnO8NNEYsn8SSPhg6vdb76L+He0VqY5c4HW\n",
       "1vnNTAi7WJTwUXQpI3A6fIp56gPZV/vlJMje3+t12H+ACKekbfU3h+ESja3sAGGExZe4af/MHCN4\n",
       "AACV8u+nqz3yZZmmUPFhSVj5zpgB31QcQAjOKi/tQ+oCuK5FWKW4aG78ny9VR3qb9yAb3OPzw7US\n",
       "gyn64FJLwTHroxbmjj2PbIzrdFBKhs2/2sxxut4KlMehi3F/bZHfblOeEMuT9AMR9mvkuRAUSYf2\n",
       "+y5ayGNMHQHUPAraIBqb7lynjpWod8wdR29vS3KYk977telc6nX+fqr5f7IZENNbJciXuQixC2YJ\n",
       "xzoOQLUertuX0FwKmjmNJQylkIJN8vNRY7w5IORUHcAu9kbgR+rc8OSeg/BDQuEWKdNt8w6zlcM2\n",
       "JmHwWFWmZUlkEJxpAtgBKQgV12QKG8isuvGvojGpae3btgyUtz10UwOGF30i+Qtzv0MSj4N8n8yX\n",
       "7fu3entky/NwQFh6i60F40ZjTfO7ReqxVtgflPGD4byWm//e5P9VlypH3O8iD1MG23NvXYV5Cbm4\n",
       "I5oTemkcI8Gw9iQjMqqZE+1zsz4Wr/n/PXKvjUDes3NB+Xc5x4N+pVgOhC4Y776wIuho84yYGrIO\n",
       "SU+0g9bo9tSSXP0PUElWi7I1kAru3QcqGmJ8vrO8jtBX2onk6QGgLsYJOfu0pJwakDTDZHPC4tt9\n",
       "YPOXD8ulNKbOJ9bm9R/+yCxF0XHbu31hJoW+yBinBxx+YTsm32NaMInHcFZ0TEfu2StC0rhdve4E\n",
       "QH8Tdf0UBErSTFGRBZBk62HyPx2oYRQw7nqXb5cWq1Bf/+PEOYJDsQ5GxnZbCVhn9oG4bCDS4Bsj\n",
       "//2rtySnbUN/a4QJMpsXFNt2cKC3it6WVN8uvWTZl9ro5wV91tUTCYo1FZmg7Tqa6gzMoM7JXWdD\n",
       "m2M16jZYhjFSrbdlD2ReZYIWxglWXTxjYDqqe0zhL/GD4h99sKLkwvyeIADivNL/FuBxSXQBPohA\n",
       "YAkGeDnaBcs9dP2iCKqJGVA09VAJWqBcZW7x5tccbM27GovFaHV4pjf08X1B5APR5C+ntu3DM8ms\n",
       "+5r1oJ3ix+WuBkHt2/MhOd28Eazamh2YMZvPqyrRhnrOM18naXTvJx5fGX9SMqE7/4S4tWct13d5\n",
       "zQeS+tExdzYa4FmrSSFRhZsoljr+F2pbKqysDMKeFCKjgs87nFQRX6BsnKpmBoh5xA8GswOjGq5/\n",
       "wcWlvvTUaI9hMyGrPd0NzdPYOw+6l0PCLAq0LCzcgNDoNFlpe0yTGOLQfvPID6mozdYGbxkWmppd\n",
       "jBXZZlTUzBAh168a0Bj8PqQAuOTJGetCJ+s0RQD9f5gpAxdGeh/35oXYy+dmIQGDmKJyp05QOcC7\n",
       "/XV854zeCydlM9lobiy9MZWs5/4diW8TAVlHCQQbYIkkfJPd8aAbwsu/tOl/fQ4fs/n3o0Dhtnwt\n",
       "md140FpOFLf8mHXmQ5G/xhoowkwq3hHfumQvgJ4h5bc611uxdaTWrqKTKV2FkJgfLkuCAMIG2d7d\n",
       "wDwoUXrWEXZFiLqXnonraU8YNCjVd8t498uyMgp7eFuQT0FmOYu3C6X74zj8tuL7a1UFlWLniCGs\n",
       "MAY/npOML+KZFeJfckq4sMJrm+/FuAjyeuBPFEArlg22bdhkvrT26C3xHn+ycGB5lZBHWRzvOYuG\n",
       "w6PDqFqZQgg0Xkb5uaS3tED/n/PrGxmt3xZ7bIhEyhXnQmv+AN0fqhGlpEJkPsUbGgbLs6D2D3T/\n",
       "t/HiWblD6OCtnG3RNK9PoyQMocAJgGDBnIwerhINRvbVu04BOLri2GjD0fdxulBxonrkFptkrfgz\n",
       "2as7iqmdrJ3mrUf2NjzydXi/J0+rXk8SWE+MkSoU/Ys8zfaf+gpxvFg0ZHGnyQM/q+tqYN55z8TA\n",
       "jdAM5rzv1sA9y3aIEkXXYywg8/HLQnw/+Y5gD9THGBH27qcjKJyloltHsJNAKLU5d0IY89tKxHNe\n",
       "A39bZaANzqM67trCXVzQNtGULUmTOms56yNoxTqWYsAt6i0HKK71AvZ3TyOaJVHTs+jNy77h3HWw\n",
       "ipe1fSPBOlfFi0+JCTF1C7ORy4TALsG2kClSzVtAgtRggkxlsMPee7AV/8bhu/0QWWkqfZiGNnyN\n",
       "eWKApsVwUN5j2t3P5nwG83A7I/krRv4gp4llugnxru6d4RM94fn4q9esMW2zBi4D/KbhJx8sawDg\n",
       "cSkcXJO3BddrGMCq/Ch50ISrf1XR0CmQIJeAyBaQkSEB8EnzQ+gLF3c1lNdBRSEGaFM1U7ZJQ4Pk\n",
       "IKBCOb2WqEfSvvyQgr3qxqbK1CqmvfNGgF5ys2DV7GyfpP/hqjg6zFaYm9tRyR1y/uYfD+NdG9ex\n",
       "ueVIyLVj8dP2/mv3kzdVErxR8Cwi58Y6XFXXlLTj3MgmfX37i580k7amLMihPOEwB3ochRfg9tsy\n",
       "v/O+IFKGZc/xepA2fTCxffZpzhZW9x6NgAAPlFnrczfanaE4ZJ1cYdPfeoz+07vWG+xAX9U1Bopf\n",
       "MFtoSd11s3jKOAq6swbWGl0+FfR8N0e6jeE3fOLoR/pZNvH87h7RSRxpLSs7RIX9u/N/dxnEWSa9\n",
       "CTioNk2BdZQgWYcbHcOUE4cqDUMaAcCMGvESkPdrAuDS53/9zaaJu9V1ghtRUXP5DEGrUUo5dA0P\n",
       "Uwf7em6GLrsZKSKXZLMRyiVZplTWqb2sgxvKS9E5S4Q6b4TLwesoJgE9QU3vIUmnicE4khE8L2kn\n",
       "uKpR5BewsygBlobR6qidnVno/Y8+Ep3cEjU2Rfos56/g8GyOl0p9f05BvOmBnkJ+6xO5vfb5t71H\n",
       "BfRBDfmUWElJiUC6bxkF9997cqG6/I6rXRdjSmU1rILaq06awJbxKX/fFbUBTZUImj7ASvK6l95l\n",
       "RNOAsmVFrCBhch9Yp2Maw+DT/77O2iGwt8P/4IBhiJlAgaoz5/TauEL+s3XtMNXUuB6knSylauzD\n",
       "hAFEg7ZaDNOt/kxdO4s/86tPVLvLQvL4VEKrvvO8429+bCdT6gnk9+58inkRsjVADmRkuHMt7zBi\n",
       "uK14KeuwUiD4fvxNMfHU6Kg51ddYHTEKjVaUgsMqpcYQkyexX0dUH2tzU9R/UcsBKItewRtcDlnO\n",
       "J60rvXsB5H1cgWU+bGfykLHTFURDrfmQwRvBE926uvtGa0CnCRKHIJq+KV/wNPmXtOITlRUlFdX/\n",
       "VuTIvLB4LlGGUg6bBXqvXEXfnY+7GoPrIL0oZuNKmJ2OgMXsKxaavi3XBCVMb/bdMtqM5v9MQ9AL\n",
       "ZeKgokVK2BWXhkRu398C0lwEENKlpqm/iAjMM/RnNoFC3LNn5rFcaJ/twiLj1iP4DfRWkm08F/2A\n",
       "4yhziSY8mP25AhFhSL5gxiKjPSPNDLcIU2fYDir/ZluTWTXswP4jYqNoClPwwlrXs80vv5PLh+26\n",
       "Cw9wxwzum5DwqXNHxNfYlyr1HUq+JQ+dvZy4J9PZ+1jKSzG1aURUCttivQDWoUxUNkvejertaDqW\n",
       "ML52sKLNO071QoecMP9fQ92r972V/K7t41OkxWANxlqUMDZLizr1dDadHlyV02cIqsIx76TZQt/M\n",
       "bUBz2Q+i0GaoWt8GTZsUZjpdZTJj46w3EqoxpVVLgOdQoEm25TWMg52O6o/ODIE/Nb1aopkHzkXv\n",
       "JzhsMfRCs+Nn2OBSN1NVo8atPyyHiGs/gZ/2gCA3rPx7y/Qu+77iY3U7Fe2F1J36G/jG7g01ooG6\n",
       "xUFwWQqtPYS6UYirjy+Sk2RasU7HyWi9xr5ISsF73kZ1Tdyx4sbjNvve2Cw8jN6G8Ugx/sxA51p5\n",
       "21ntLSoAN/9d5MREutaI+ox46hFM7WNZIVcpaJKNNtN7SiplLvNxj42JK2ZXdO4XENBRL/v6Lw5g\n",
       "lGurPYkn80UEevLGLj5Tlb9tgAYABsfANLUiLRq58weYdTR/Ltnd0XH9OCa9j7o/gVOMD7VYJOQ4\n",
       "SnHUjbISsj7G2nWYfO8l0CGhnptyvgG/PNpnz2ZPIESIhTfzJH+fR4b/GwSc2B7NmnXYdoK+9YAu\n",
       "GK2hX9WhqdB6u3Mpcs9y4cXRp4ygUoeYA04bk8cxvyTnHygVUNLckyAEHZBguak6Y0E+GWN8QcFa\n",
       "DJ53aZbhJQAAANFBmiFsQr/+OEGLGYAFIw8Ppbmu1eoOQB8CMusRNV7zQuLcB1qT/aKMig0wv9CW\n",
       "TvxNOOZFMGOn3pgn+odzTa9kqyGWakL2v4PQYr7lpNvshIwAPvnCFSGctI9fU1LWFVgqnvZbTTtJ\n",
       "YaeC0tpbQ+xv+ePjIUyqYQb7XtCkdI2uCFUFX1OEcq7uNcG5eF5A7QtWa+Fr8LhEBWRLyqijyH48\n",
       "dgmczMrnnynMWFKVSF3bMEvV9n6Y7x31HPk3KWAatrOPiAS3yNAkewo74FtZBAAdEAAAAIdBmkI8\n",
       "IZMphCv//jhABRoqQvau6LK/sAGzbI9uwQJv7dES7OauvGURS08K+/Or2gcXICBZUknq9MKFEJPQ\n",
       "8gtgibonaOR+ZK/xb0RlxqIOYPO6vwYpkXBJkTnIw7LeYmUhP/S/FQu6aQVTeqlCHM6jSJ8bKZJY\n",
       "lq9riag/OubmLQCA0N/cOCEAAACKQZpjSeEPJlMCFf/+OEAFPsoEA1fKmssV/hVRLLANvaRCWMLl\n",
       "rkrwPIS+5PYkmcj7/lTzyyUhSgEH+1XsYFyQTh1eCMnomgb7r0/BK1i2g1Ush43HQxhtVSb7Ynv/\n",
       "+AWp79J3tjLE/7yYpppYHoltmjIdYJZBi8hpQ9lokbz6DAmw0yPMAv6aObsVAAAAp0GahEnhDyZT\n",
       "AhX//jhABWLemoA9j7rLGFHqhQLsgs/r0179ez+T7TgsX8xb2CrStkm7vdx3JqxB9ImrbmdwoQc9\n",
       "IO2mwqV0vnYlzJAjMVUycAhTu6rLcZHTuCpaxOAhnkV3qOyj1HnGw22Ia0MUb7UPZTAwmdkXPd9a\n",
       "6VnW5m1kdKGF/QMqIA6uVQMiDtxCN6sBiniiOc/YEtwFTpLulYm1g1y6J53ZAAAAw0GapUnhDyZT\n",
       "AhX//jhABT5CsINbXvm0QCExk4VcyaEAca8dIZNqtD++cXdlin1D2m0se+9u2lIaRTWyPxplKsQR\n",
       "XHBmvrtecAdteF2b07wqKd5w/dZYFbH5UTiV4UFLywmpxn/8oNtP4PiLAzW5L+EYMVt6ap//wQjo\n",
       "JetGq3m/vyEreWzkdFq2peK6g0frXSjfceEgiaZ18eS66ISOo+1aBLvSiCW/0SnlJ98UeMxl28TL\n",
       "y9fkLceBtXqFWp+aMOuylQAAAM5BmsZJ4Q8mUwIV//44QAU9GUQEhSQeiwEAGm+oN6CTjDt7G47l\n",
       "IGgjNAWG5bpZfbBUodO1fpTOL2Ga9MI2zIVYpcdgaAQLRppdpO8TCcqQpO0/jBCKqtoehTZaXasP\n",
       "XFrBLXVzfsx8b0PnXZPlHgdvzok+AvIrcm/1LckhXe32WfRD81dK13xtCB1terZqj7OoF82XlK2n\n",
       "oG9c9jHGE+xe8mC5lq3NRH0MpCo4oXumxr2XaJqkjN1yt0fc00NyRljkOfPXU06BJaFtYv3g2QAA\n",
       "ALtBmudJ4Q8mUwIX//6MsAFb8yieG5UNRFtywANFE6C+nBt3V9v9MVjOT8RV71+3In0hAhDei4Jp\n",
       "CdQE4a5xikDqibiXcoiITpQ+Qas2881MRXJVYJj2pkkdPPEZonxHL1usZliNRDg5fH0XVvXI9gJ7\n",
       "D9p8t6XrSdReF3LZ/a65vnerXNegXbVzUYgNOiKUKddPMMwsXve+tzJmkSunn62BVblJnnueeHZ8\n",
       "eeiaI8WUdKaCJt9Ew1h3HId/AAAA30GbCUnhDyZTBRE8L//+jLABW6all18vK8Mg/hKJx4ADVDu7\n",
       "/N4az8tZEYhqkt7t/etawaITdTukieDJmgAjHGl3OqJScjrj37UbZnZDIFLheFGAAnh/nSNENbc5\n",
       "1lYaSXtT4/P8f6rut7gIADGekbCbbDfwBY7j/XNuYoVfEquUt9PkrvEku2qGycMb/7L8BJeRsKro\n",
       "QDQeSGHK2iQWqZPKIhOzgU89diJ6OCwIOByQs3phEFI5kWpm5Ei+KMpUM2KIUVqpIZfHiuNRuz//\n",
       "JRrHDMyYPi9gPACjBMGG5bAAAABZAZ8oakf/A1rxLNZnWyg+Z1eXmmAA8bvjuR6/ZbiFJO00WS2O\n",
       "KkVMjRQtqaXmK95hdRfZ+bWQSXAX6XDjT2W+X17kYjucg7Q3VwYVy88ShQgEQjYSYccwQoAAAAEA\n",
       "QZsrSeEPJlMFPC///oywAW3LIwAG4Uum0iErxvq0qnPFBkLgOg8tTXqOvw1DwEPogJ0EDax9DxOF\n",
       "Pn080pEpy1lH56/JybTRUGXaL1fbvDoxorOZv5QvJ7g53LBf7alTc4RMJvb5H3pt2e69sGz8XfK3\n",
       "g3xOtTxNsEyX1Bn9WKx0pTiC32898MTNUjwAMcFAE4DWx1n9n61vTS7PAphzfdUmDwfl+xEs/+Mi\n",
       "7i3VCDcfdHfB0qY0oY6Br5UkSHlmLX6ui1/yQwdHjRbMU5CjUfdxXi7dOvF22ax7IpADlIAG21VK\n",
       "jBp2nRGSqRUi4bNk7+wNiLZYUWQ4Yzd4jI04wQAAAFABn0pqR/8DWvEs1o9YPOJCStwls+68qe5B\n",
       "anwC9cEf2WeQNUg30JYACdMSf4b6bNhnO60X39L6dDcdzLV3OTGkrAS4F4iVBAluv1B0S8wUoAAA\n",
       "AO1Bm01J4Q8mUwU8L//+jLABZKXjg0vHnE+XlK3FSmx3dfEAGohF/Qq8h+/bWg53y28iTgziMK/R\n",
       "QgfPtHdwXbU/jOa7B0xFqbGRIDMCWloLX3N9SGvC5nDDLB7C/Wi+XKd8eyegRxKn3rUP7+InDKB6\n",
       "cj97FjvZWpnsN/1sJ7CF++8BJBUipnVZYRmCmEiqVV5QDsUGeZldAD8YZ9H3wa62l3gMMXS8RRzK\n",
       "M0dFGeaQDc5xPCtVAya5RjV7006Hjnd5D3RUR0gZ0XDiK1rtVMndAyuH+JLmMLl3OEWrCZO2xMG2\n",
       "DxyYkdG32/3ex4AAAABQAZ9sakf/A1rxLNx0Za5jx/H2+jVnyUxKMsh30Ku75+1clQ3SqNITWu3h\n",
       "/luezMVOgEYrXSuhtxDo1mREswB+iwAkz3DUm0A/2HtZRaB0PGEAAADhQZtvSeEPJlMFPC///oyw\n",
       "AW3FQQEo5adB9TbL4Ifu0SyKodadOhclzchnatZjKWRSAE4Q0by8keBUveRs+q2ebR2u1D/U5xQp\n",
       "mFu2xhD6l1CqGxnfbD56X5frI9x3ln8/9Tzf7+KfRl1k0lgrJhA1tKyQILkOCEAKKOuDC/sr+p4Y\n",
       "guF+hkWyJfeXr3tLL1F1dm3MGnz6jgRakMunYeBFAUzraLkoilaExZnc6fxGqCBUrXtaAO673Rmu\n",
       "49BdgVLA9qbdb71fnnSTZGlon5y7ChpOY9zeTJj++YTUCoM861p/AAAAUAGfjmpH/wNa8Szb/iIM\n",
       "Omb4Z5snvXAo50TTsTZLkOGlb8aXe+Jits+I1Iu4eE6jg5rugAfyaQhGlfOxxKeedfiZhEtVlutO\n",
       "aeBnTKufrMNBAAABK0Gbk0nhDyZTAhf//oywAXbLIwAG4Uum07abyvAS/ttBwPkkIqX4L1W+30VK\n",
       "8Tk0WWM+mvff9HxPly/Scm4V6tof28FIlN0TNCS+mXUeHuYbwi26WcoR+t/GnD09bFaGzzpE0lMl\n",
       "/yMk0c/yXdDWQlHmnABEOJJ9LMB8+w4dlTmOAeAUkzi5WjOFgBCw+Yq83oNGtnsny88TDhsxWnFI\n",
       "7o6RhZ7b0vaKt9tDRZsm2g26FzSsyrIVW60Kr/0VsXiyTN0fLKCBPIvOvYWWzubhxzY22TGXulNK\n",
       "+pCkb+CjcKij2DnE/8IPvLeAJ1q16HzoIn8xJrR3sZA9oFF2M9K6GeqZr8XWOtbZLP9cFJWuY3Ir\n",
       "39DpHy1Em+7eFaG5HSUMpSzSAbrvcehdDNLAAAAAg0GfsUURPCP/AhpljQI2kmi+CVTP3xkKnN0R\n",
       "Gwr3ZBJuiajjPY3kh12ZnnM7eRVXdpzeqPwEnACTs6S0M+mZEkLi4Cxuj3R25LgwTOryJmwO3TeN\n",
       "E+uTJtLxgmBszUQOeFFTy8DPLP0mHsm5DNWRJXg/szv1KSJMxsUTfNBYDFwDcESAAAAAUQGf0HRH\n",
       "/wCxC7jJX8h5QszmntKFsYmzwODvF2frXbFrwf17P61+OzF2rXzdoJbABHuGowH4dLGcI9vHQf9B\n",
       "GFt60jgHSgHp6H6raqIY/NHXwQAAAE4Bn9JqR/8AsWbRrrBK4ZzcRTU65E7fmYGbebXjrfQRrXvt\n",
       "lmaW7Xqhr/3E09yoWWMU1MAHvWfNXS6S+5JoKnb3MgmqfltkkFi7+6U/2ioAAAESQZvWSahBaJlM\n",
       "CF///oywAW2oIPM90Ymz10NmdcB7I99dM6w3DFkgl1j9xwd+it/nwuGpPMILEOGoatwqsfdQWtpX\n",
       "sn1lWVAQpU1HnFHDgLWo9FGjDi52ObT10MNFZf9zLpwGOYgvDcghNCdyQ27UQAhkTXnRhAyCDUK3\n",
       "0989PAXcTYpLEZ2AzXe7FedICEQS4vfGWDrnhML4RU0eBJ3Mj3UxtMms1C3syZAO56+T58dBYYzi\n",
       "uwqAsc1MwT9SJvAzHZHGGBck/WLjUStX7JdJvtXBPxPE8uZiIU8Q6qGYePNbGh6nV+QtN5tknpWi\n",
       "KKhq5e13OZ2DLi7bhbK0POR1cG+UXsJws/aPmK3HRM6JpsEDgAAAAH5Bn/RFESwj/wIaZY0CNpKn\n",
       "tglrOAnYGDzqyi5VgxnsRXqVNiIwtzyIlX+6JWmJsAFq7Ze7I0iRnKaNSxEKooO4CDaybY4NHnD/\n",
       "Bx2Lz93n4mg02ApMD5/T3dlWVl2Vaa62npAgukILV4LS7PgQ8vgPnJkbZyNWcUrMptfd7kEAAABp\n",
       "AZ4Vakf/ALFm0uTiUc0L0clmW98QEmccaQBrjTAb0gBbC7nZcSlGqO/+5/gyxJ4A8fXZc9z33HLQ\n",
       "hXbdOlmpegzCywAfDltLUFMB/ua4EpNXZe0g731YI7nT565OjXIl+/kIBPB4qz+9AAABHUGaGkmo\n",
       "QWyZTAhf//6MsAFtqLFbTa6qNexddqFW4AP6VZrvaYNSl8KmztfoFv5etFVIUhQzJJ6fsrDQNl+M\n",
       "9hF043rIMtWuZeMmOYKa+fNUkkQKaeDkqiYg2tANyOMZDoYiWUtqs3PY9eNgISX8QGkruuWy6YD4\n",
       "I8C7chNHhUfHwhkCuiQSoBximuEUP9qxVvZP6j0gbkwoCRSmgZFMSzn4GqDKGwG6zdh4EYsnGuSO\n",
       "CjDl74LZ48HnlrDPh4W31KDao92JO/cFoJJ6bpfWDosV4ANb1nOAdZGFhwSDQT7kyPB1tEAGljOX\n",
       "58aLQTitSxUz2eTn8fNF4mfUIOABeEZdbAZ118nBGRJ2BW/FRr6J6aVtPlQd/wHznLYljwAAAIRB\n",
       "njhFFSwj/wIaZY0COdd0pCa6pfKP0wdNSyEaWofDPv2PNLasDTyTNXahNHGRkPcb1YQCjmkYAW8J\n",
       "9EuQqRuAZif1ysH9Fg95H/udrByiZ+TWsNalisZCy2L0rAdkWXTURF7T95YW43siSfGVbvaHfN+Q\n",
       "xOD+LMRJHPs+sNi5WPfS9VUAAABpAZ5XdEf/ALEL11CantnMRPLYemUFkuJ/JMddDNAvtSPQkkWz\n",
       "1Ka+OBsP/84Yo0k8o/Pz4ESa6gAhx4w+uYlCAs+iaWx02FlXWhOVn+WXvAcW6tlxJXBLVD2M9bw5\n",
       "4/urdrOL5Nz0j3CAAAAAXQGeWWpH/wC1pp7AV+6fZwK76GbmjMnkH1I2l1VXyOL+Ol8dGUYmb3+o\n",
       "+DEy8BdxjcieHRAAg1DMBTvNvKoBQf6/pOqBk07F6FHKUTnDIQibp3p+qydpKwLwstUizwAAARVB\n",
       "ml1JqEFsmUwIX//+jLABdsVBAMcou6uMLRKr8L9Zco1ftGz0jAjzDxmfCkxOxDzIodIiq5IKJ/v3\n",
       "426OmN/ArSTPGCf026fHCQAEip35qVfwkovXuL9mIMbYRb8YfWpyJITNSltCE9H8/Yoh2Q5AbgNs\n",
       "FhIo4LfrTLHACguNaVQBJQggUf0wr5zIMSd4lm7tRZXl5vdfHxNL711Xikx9PDfWtFCWyYyr8T9u\n",
       "mjLsXRlD2VfC3VhaOlB0jHUvO+IocrY9ZGaibHH7PGCenlp+m560vw5AsETHysCGOaRjjz7RcecC\n",
       "bFYks1GrlIvmBNvRLKvt/3QSCK7aDWi9l3B1CAchVmK/ZZsb9I1BcAl4JdsRyMbgAAAAZkGee0UV\n",
       "LCP/AhpljQITsZv0B54FbNFRUSFHNO47znHVXuhiVikaZa/j9RVBGv1N6uz37uhDoETI35Z2lnL1\n",
       "dcijG3EEJWmbfABKzEde6McenkoHdPTHH1qxWFJfLjYtt/E/K678gQAAAGoBnpxqR/8AsWbV+aq3\n",
       "3TzA0XRrHk3enCxfSX3g2BHPQ6lKuOXhTqP562NAogLnksdsmPRBtLRbWKXYACdzbgRLgme8lrvQ\n",
       "5hmePxxdMb17iMqkU08Of12upAoxUXhrSpYJ27KRet3MwZwzAAABG0Gan0moQWyZTBRML//+jLAB\n",
       "gHsjAAbhS6bTtpudiCmPQWAAicbNrrjGK5LDuspG4NRwbJJgmymKq/RJE9aE8D18yhLeiZKK/9Z9\n",
       "spfRMxmlkYoLPioBj6UiOkWtfw/jHOMPMLAuxRO27HcIScGf0CoxnqhYln2HCcj/5tV+zksx79t6\n",
       "aaIGGDtxytP7kFYa19R9vpSZKU9U+mWBW/wIEVIt+H3OnQudCcUyU42hjtsFO1H5pyj04wLHNppE\n",
       "f93JlszomDChl8dl6xta4Pq3UUiNjOHZTk4fz7NU7XVFbw8sENARXXOszLgXYgIPFdKspsnco9ap\n",
       "MbSyXGZhFyA5LLTiJsnbjt63R0BRjskkh4Tk96ct7RNJocYuXoAAAABxAZ6+akf/A13kJ7vRWtMd\n",
       "yZG9B+0EIDWFS8SQjSk/FjDrVxjHB+RhGr9y/XScP0dDQ9a6SRewCpp3PboATnblPDze6mMu9eU7\n",
       "uGH10Wy77ZxKszdFt5161FVoZPOD7JF5DjXx/kPwxyzWyM7XycPlp/AAAAE1QZqjSeEKUmUwIX/+\n",
       "jLABdqiA+GwV3tXC23PRXlcALdrw76rT4DA56BJ2H9wx6MQukc3ZYWYNth2/9r/kIzgiMgJ4G2Fa\n",
       "CqGwkWTABaVUMBjnXpSVKek9YcIUPeaqzTdVN7JvI5sCg7I/I/+FPOLxC62ecMMeNW8FlNiUFDqD\n",
       "q2ujY16Uwsdb2U9u8myIZAK8wZE7LghPXccwFk5D84P2UyUmN+Fr+b1jXwk7FrXj+S2Y6ZbixTAi\n",
       "4/zDr/p0Xy7nQ2R/dShjlnMbFwieJuZRVs5kCHzWXIE7MbVnKaVmF6rNINtYJ3owSL7jeX+xo5Jf\n",
       "Z25huTTd4a6iRaBrQuL4KhDtFRl4EFOlW2o21XkJhON93FViAFYGxG8i0z6AjCg4NHMCtxVCxp6R\n",
       "OLqbrjH4JNiTrmbVAAAAdUGewUU0TCP/AhpljQJejkTeDcqf/HCO6wq5B0ISuqg2KCVey06+smPt\n",
       "G7+L78/Bd/gw66YKbABbOxt6CbBUlny0TuVpz9ABQZLFAS3I/YokZP6FmqGvXugMEllrAqHpxovb\n",
       "sEz4wRUxkynM9hdU+xj8TtxSwAAAAGEBnuB0R/8AsQu8gGp1R2MCQ39ri9+Gg85Y66+CxtFVetzT\n",
       "hN1gzc/1Nn7+1sAAYl3NQAfy2XCm8rXxg3vpls2DT6O3cHQ/rGt3nt+DE3jjLn5n/yWjxRfzLuio\n",
       "9nasWOmBAAAAcAGe4mpH/wC6XhopiZlffJZoLWeeGUKJzibSnqhoAQ1ETy46H579m4bNpUKo0fon\n",
       "noIndIXy6md2pMgAfzsXDxrJq/pXO4+e0FtDJiITeLzsQnAAJ+7vzbbAsnfqUNxB/yeB75S76p9x\n",
       "y6zD1esnV4AAAAFRQZrnSahBaJlMCF///oywAXbz5azlTt8IRdu4AIoM0ouFyy/TJhaevXELDyJ9\n",
       "aIMmwcs2WcsCZiLBoX7jTMLp26EplUDRp2j+GvvXNH7i5HpG+H1T/sNy2Pyzwyrs2Gp38pOfbJDr\n",
       "Xga+UHLAmeyxjMgBGVFMb4CmhI36P0hkGZYkzVVGrBSwwJoA++Vxppbk9VdpzXNsRjNkaEIf7hR0\n",
       "Keo3OpEgDKmp8X32+oWMsvrAOGsJJmUvsekpTlFX6QfQ/NkD4xy6DiOCUmK1ZzfwN616hZoq3orf\n",
       "IHQdUXMu35NmW5u30UV77YFBj0jILT5NO8pZIl9Wnt5fH6KU99unEkisUa18lhzEALcGprPQzou7\n",
       "jX/UVdLUDrSqCyq6nO3I6MhUxaBWrVeFt37LB5oSWR9NDBSc9y2ruPFros/j7HzSagJRqgiYPkQY\n",
       "nmmkDQPbsQAAAI9BnwVFESwj/wIaZY0Cho3x6vgZw4g7SgDfYQUUSwzau+S9tJ3IQjfFrwG7GZF7\n",
       "xzKlHtTRc2i9jYZYPdLPZ0bu2Lww+ptaETjYzCxinn4LSzoYZikOulIGBdSPc9QwjzOOzfjJPpCZ\n",
       "3pkIWWrAUkK1eI5y0FgEWl0Q1UGvyFo5p2E2mmtPX5fFzNsB2C32zQAAAGMBnyR0R/8AuZ5nqO12\n",
       "m7VK/NK/50+ydzlfsILzqIzjWpFbk52lMkiPRc8WVSCzfKDjHtklv2fbwAnTDJ3ADUETzHMq50/d\n",
       "jdlXlRF1hsSQikODvQzZH0X+BQ+RCg1NcMg+jFUAAABuAZ8makf/ALXmExI029UJR6OJqAS2hyuF\n",
       "pLHl1TUoq8dJuMoWrzNdfykOJqihEiLaFLgrWyAKDc3XSoAEL9m9gbgSJKzymqRlziKLytj3S89/\n",
       "W5InmWxYACX0uqtEyXa1ghoCHbyrBTgbTwHvA2cAAAELQZspSahBbJlMFEwv//6MsAGAdUEAxyii\n",
       "q4nKlPd9SYvYBVNAJhgXAdWyTFac21+C48z3oaXNgL30pBudhKPPNnHvwCwkAybqNDaiytAIj/LO\n",
       "Cf7CbXttKe6SXwCS7e4VaPb2OCGjahIAykuriyf6kdEnzbS6kYVazuUkrLecaJC39UhyHYWu9Z4J\n",
       "R8Lm9kIKR2RHmSyqDmFH1BdbcvHEUcjx0uGWFytKv38pk8FGL3SHypSIGy9CMyx/PCLoQzjUfjn3\n",
       "nAPcdSsVBnQ1WetTgSCoUwQenlBRBs0obtAn6r1TmrVrzvTeyIO97zyLzPa5KNVmRv462i5yXalu\n",
       "SqXcrF2TdQSH0UaMbs3AAAAAZwGfSGpH/wNd5Ce7/FATzer8WrMovYja4jCwvsA8Q2kP/ee0wIx9\n",
       "JX2cyaO5kfU4eQ8RH6fuM46RYIgGuWkAJzRfzmo/FsP0iCfXcTjfackrsA9dCZW9NVOhOlJof/p+\n",
       "I92NhY160YgAAAFIQZtNSeEKUmUwIV/+OEAFzjA7SIduKCMAujvP2S77g+DEWTOJ9rIAVxzxhDmW\n",
       "JFy2iJ87pBtsDjaX0qD2a/7gmd91grQg8zv+t+uK7IsqU+SCE1Kgx1TLDFj8Y/j2Rk7FQ2JrNhKV\n",
       "05J/UaYjjCpSNwtq0/yzw5RzXZR9APnIomcMl3bZ429mdx9RESoLtzud78iO8Y6UiqQh8nU01Mza\n",
       "9/6TQlUX0jQyMFscrprq9y1efdUOdDpSLAiTn9fqyc/PflOkz3oM2esNV65CefUcx5hGixizkjy8\n",
       "NHQqxzJ5zLBErvaUolXN1T9VWAyH0kwTRagDJSRORo/rKYf3tlVdV66hyzAKEwi0GCnJYUDmNAW0\n",
       "DtNrlDlimqGllOt8JFALLM+Z362gI8Jp0H+csb6lUjwDqnfVPQ8XO/z8zpzftdpBBGtmDtO5eQAA\n",
       "AHVBn2tFNEwj/wIaZY0Cho3/p7R7o70VgkySZXFGKvBTtj9po+yIUt0IUd2sgHxuRfpOqSCDEDb/\n",
       "IeITjeNxL4bcfwMkre7dbTO6XFGzkrVo6NuV/w1/dQHxSXIfOegn5BtIDeLHBIA5eg5Qz6Rb3Ez1\n",
       "czTra7cAAABlAZ+KdEf/ALoKSxLgjPKuy277rZq+yUCAAFuKmjGmjiJaXw4h0NSADTM8u5RxEuoH\n",
       "0E25eMpiySeKxgNksAH1JfiV3p+wk3idZr/Ixtp6aMjQ2T300H6QigYbSxxtaXuNQ2rEc+YAAABg\n",
       "AZ+Makf/ALpmEguCQ4kWJkAHeFp8HmWhLbPr1W8o5hBp6TG4VjBaEmkzGHHjprBrWSiymyIAAnZa\n",
       "pLP1151b+ACakzEAczpDTCQ/6omuhZULzur97tAZkdXMuvKnOQEDAAAAx0Gbj0moQWiZTBTwn/3x\n",
       "AA4dhycMSQmPsDV9DuTeTSs1VlHFWwqhjsCzI2HpFPzOPaEZk02ZHrMn8JAC0+7TFPsT823jw10X\n",
       "xljfui2BQfWK9gkQloWHBxXIgAETqUDzEmv1xmkwKRl2vhitB3fAEQMnDjcGdBAfMJf4whvmy0ej\n",
       "HNV0sYQplzmyXFzeHiM4Di9hhQNW/5CAEh4puzSestIcB+XZ/IGDOBlXC6cJvV1TcCxZoD0fCohY\n",
       "kXF14GOY6JhkYqPPbbEAAABnAZ+uakf/A13kJ7wQKUFZ4J3nsyMdqQuaPEo8N6xIQ0J7oaYYieEW\n",
       "H6voLSnANKNgjo2GZ435rXn6vBr7AwlkzzQAH6P19BM5QzOUk4JDw6v+fEHyASbz4UElAjjC+Yhm\n",
       "uQroOObxoQAAAJtBm7FJ4QpSZTBSx//8hABYUNcBRfDpdAgK6SgYUiMnN7DtlV+uq2JOqLSevuQ8\n",
       "8XMqKRblABOcJ1+2ahumRpNbdq7upmsup3DmBuuHz5iQhRE7tu51NqHAQpdCBduG2q9//Qc5/7YC\n",
       "5K8mucf/Wcs1uK0qAQwMZ/gqhE36ia5dyxQ+JCAaq3GYjnad3IQfF8azTmpme8HnSrmvMAAAAF8B\n",
       "n9BqR/8DWvEs3Reod7b9mUeDYk83YegtHrJQZojg5IL95BRcP/HuCTxaF3Xq6qbcLic5evMCSklh\n",
       "p9kQAk9LO1L+VnqSHC1UiG+xGbNGFFMuqhQ6TogjwEaZEpZkzwAABT5tb292AAAAbG12aGQAAAAA\n",
       "AAAAAAAAAAAAAAPoAAAD6AABAAABAAAAAAAAAAAAAAAAAQAAAAAAAAAAAAAAAAAAAAEAAAAAAAAA\n",
       "AAAAAAAAAEAAAAAAAAAAAAAAAAAAAAAAAAAAAAAAAAAAAAAAAAACAAAEaHRyYWsAAABcdGtoZAAA\n",
       "AAMAAAAAAAAAAAAAAAEAAAAAAAAD6AAAAAAAAAAAAAAAAAAAAAAAAQAAAAAAAAAAAAAAAAAAAAEA\n",
       "AAAAAAAAAAAAAAAAAEAAAAABsAAAASAAAAAAACRlZHRzAAAAHGVsc3QAAAAAAAAAAQAAA+gAAAIA\n",
       "AAEAAAAAA+BtZGlhAAAAIG1kaGQAAAAAAAAAAAAAAAAAADIAAAAyAFXEAAAAAAAtaGRscgAAAAAA\n",
       "AAAAdmlkZQAAAAAAAAAAAAAAAFZpZGVvSGFuZGxlcgAAAAOLbWluZgAAABR2bWhkAAAAAQAAAAAA\n",
       "AAAAAAAAJGRpbmYAAAAcZHJlZgAAAAAAAAABAAAADHVybCAAAAABAAADS3N0YmwAAACzc3RzZAAA\n",
       "AAAAAAABAAAAo2F2YzEAAAAAAAAAAQAAAAAAAAAAAAAAAAAAAAABsAEgAEgAAABIAAAAAAAAAAEA\n",
       "AAAAAAAAAAAAAAAAAAAAAAAAAAAAAAAAAAAAAAAAAAAY//8AAAAxYXZjQwFkAB7/4QAYZ2QAHqzZ\n",
       "QbCWhAAAAwAEAAADAZA8WLZYAQAGaOvjyyLAAAAAHHV1aWRraEDyXyRPxbo5pRvPAyPzAAAAAAAA\n",
       "ABhzdHRzAAAAAAAAAAEAAAAyAAABAAAAABRzdHNzAAAAAAAAAAEAAAABAAABWGN0dHMAAAAAAAAA\n",
       "KQAAAAgAAAIAAAAAAQAAAwAAAAABAAABAAAAAAEAAAMAAAAAAQAAAQAAAAABAAADAAAAAAEAAAEA\n",
       "AAAAAQAAAwAAAAABAAABAAAAAAEAAAUAAAAAAQAAAgAAAAABAAAAAAAAAAEAAAEAAAAAAQAABAAA\n",
       "AAACAAABAAAAAAEAAAUAAAAAAQAAAgAAAAABAAAAAAAAAAEAAAEAAAAAAQAABAAAAAACAAABAAAA\n",
       "AAEAAAMAAAAAAQAAAQAAAAABAAAFAAAAAAEAAAIAAAAAAQAAAAAAAAABAAABAAAAAAEAAAUAAAAA\n",
       "AQAAAgAAAAABAAAAAAAAAAEAAAEAAAAAAQAAAwAAAAABAAABAAAAAAEAAAUAAAAAAQAAAgAAAAAB\n",
       "AAAAAAAAAAEAAAEAAAAAAQAAAwAAAAABAAABAAAAAAEAAAMAAAAAAQAAAQAAAAAcc3RzYwAAAAAA\n",
       "AAABAAAAAQAAADIAAAABAAAA3HN0c3oAAAAAAAAAAAAAADIAABAcAAAA1QAAAIsAAACOAAAAqwAA\n",
       "AMcAAADSAAAAvwAAAOMAAABdAAABBAAAAFQAAADxAAAAVAAAAOUAAABUAAABLwAAAIcAAABVAAAA\n",
       "UgAAARYAAACCAAAAbQAAASEAAACIAAAAbQAAAGEAAAEZAAAAagAAAG4AAAEfAAAAdQAAATkAAAB5\n",
       "AAAAZQAAAHQAAAFVAAAAkwAAAGcAAAByAAABDwAAAGsAAAFMAAAAeQAAAGkAAABkAAAAywAAAGsA\n",
       "AACfAAAAYwAAABRzdGNvAAAAAAAAAAEAAAAsAAAAYnVkdGEAAABabWV0YQAAAAAAAAAhaGRscgAA\n",
       "AAAAAAAAbWRpcmFwcGwAAAAAAAAAAAAAAAAtaWxzdAAAACWpdG9vAAAAHWRhdGEAAAABAAAAAExh\n",
       "dmY1Ny41Ny4xMDA=\n",
       "\">\n",
       "  Your browser does not support the video tag.\n",
       "</video>"
      ],
      "text/plain": [
       "<IPython.core.display.HTML object>"
      ]
     },
     "execution_count": 182,
     "metadata": {},
     "output_type": "execute_result"
    }
   ],
   "source": [
    "anim = animation.FuncAnimation(fig, animate, frames=Uc[0:,0,0:], interval=20)\n",
    "HTML(anim.to_html5_video())"
   ]
  },
  {
   "cell_type": "markdown",
   "metadata": {},
   "source": [
    "Velocity"
   ]
  },
  {
   "cell_type": "code",
   "execution_count": 183,
   "metadata": {
    "collapsed": false
   },
   "outputs": [
    {
     "data": {
      "image/png": "[encoded data removed]",
      "text/plain": [
       "<matplotlib.figure.Figure at 0x255bf6260f0>"
      ]
     },
     "metadata": {},
     "output_type": "display_data"
    }
   ],
   "source": [
    "fig = pyplot.figure();\n",
    "ax = pyplot.axes(xlim=(-10,10),ylim=(-1,500),xlabel=('Distance'),ylabel=('Velocity'));\n",
    "line, = ax.plot([],[],color='#003366', lw=2);"
   ]
  },
  {
   "cell_type": "code",
   "execution_count": 197,
   "metadata": {
    "collapsed": false
   },
   "outputs": [
    {
     "data": {
      "text/html": [
       "<video width=\"432.0\" height=\"288.0\" controls autoplay loop>\n",
       "  <source type=\"video/mp4\" src=\"data:video/mp4;base64,AAAAHGZ0eXBNNFYgAAACAGlzb21pc28yYXZjMQAAAAhmcmVlAAAW/21kYXQAAAKuBgX//6rcRem9\n",
       "5tlIt5Ys2CDZI+7veDI2NCAtIGNvcmUgMTQ4IHIyNzIxIDcyZDUzYWIgLSBILjI2NC9NUEVHLTQg\n",
       "QVZDIGNvZGVjIC0gQ29weWxlZnQgMjAwMy0yMDE2IC0gaHR0cDovL3d3dy52aWRlb2xhbi5vcmcv\n",
       "eDI2NC5odG1sIC0gb3B0aW9uczogY2FiYWM9MSByZWY9MyBkZWJsb2NrPTE6MDowIGFuYWx5c2U9\n",
       "MHgzOjB4MTEzIG1lPWhleCBzdWJtZT03IHBzeT0xIHBzeV9yZD0xLjAwOjAuMDAgbWl4ZWRfcmVm\n",
       "PTEgbWVfcmFuZ2U9MTYgY2hyb21hX21lPTEgdHJlbGxpcz0xIDh4OGRjdD0xIGNxbT0wIGRlYWR6\n",
       "b25lPTIxLDExIGZhc3RfcHNraXA9MSBjaHJvbWFfcXBfb2Zmc2V0PS0yIHRocmVhZHM9OSBsb29r\n",
       "YWhlYWRfdGhyZWFkcz0xIHNsaWNlZF90aHJlYWRzPTAgbnI9MCBkZWNpbWF0ZT0xIGludGVybGFj\n",
       "ZWQ9MCBibHVyYXlfY29tcGF0PTAgY29uc3RyYWluZWRfaW50cmE9MCBiZnJhbWVzPTMgYl9weXJh\n",
       "bWlkPTIgYl9hZGFwdD0xIGJfYmlhcz0wIGRpcmVjdD0xIHdlaWdodGI9MSBvcGVuX2dvcD0wIHdl\n",
       "aWdodHA9MiBrZXlpbnQ9MjUwIGtleWludF9taW49MjUgc2NlbmVjdXQ9NDAgaW50cmFfcmVmcmVz\n",
       "aD0wIHJjX2xvb2thaGVhZD00MCByYz1jcmYgbWJ0cmVlPTEgY3JmPTIzLjAgcWNvbXA9MC42MCBx\n",
       "cG1pbj0wIHFwbWF4PTY5IHFwc3RlcD00IGlwX3JhdGlvPTEuNDAgYXE9MToxLjAwAIAAAA08ZYiE\n",
       "ADP//vbsvgU1/Z/QlxEsxdpKcD4qpICAdzTAAAADAAECk+C0lTgAIwK6L+xDVU5wCj3AZyjiA3p0\n",
       "RoHit07u+hyIWVXJJxY4ZBnZw6FhDyyTMMYlXiQkWtKZofR83LEvZMNjNNF+ACpXr7igmN87uU/3\n",
       "rPwl9m8SNaK8AXd+jpAKc9/fYBN2Hm9I5GQi/vYXMqQKtfRd3X2r638OzgzARxyJssvXwblcqdqR\n",
       "dI+FXyFsnpefwsqc6upRwc0p1D0VJnkNTZ7dDKJde1TQV/8b5w1m5UGJbOIbDEi6n0gFNdgpQfI0\n",
       "X7Pgw8S/pLKRCeZjRYzeDNKjrdM7LV3dM5JRuOixc5bjyplPANQ/cCvVKXlSfMfToSM5K/ouURQ/\n",
       "pCg60ouwLyEH7rT46KJgLaHnWYzeJyl2O3n6lu5Ay1KJFN55+TLfKEJ7jUyFCkCCCukejncaol62\n",
       "IrMoUd98XSt+JVWCBeLOiEeh8WEgu6szR/qNAozLdW/YX9kL3zEQoFPtUyJ9eyfwDHbcwuwPA9We\n",
       "FTRDqSSA77RNpmJwExGngh2ny+6NZMrcpMiLDHPfQ/x9vFt5rn2JuONh3/o4xPqOoDF2mfNs5lp0\n",
       "d5XKMOjKVYnDQs0QTDAqPrLIo2+Q3KaV9Lsr62V1DMk0suCEmFnvS6QxzUZHo7UZYn42JNL6ceWl\n",
       "ooFyTDMv3oYZeYPBPl1R/+yoSYev/8f9w+tgSo/nYhJnHvvN8pqGe2YDy/2IJRR243KyFu5Meqqd\n",
       "J6Y3b85SfgB0F3V8Pf7mptibDj7AFudk0AAEUbKjk5BK1vcHPX1FM+67qAPKlUmqzuREGRWCKgfa\n",
       "z96uq8rj6cFduDqeGqCKuY324nxvJPm291718s54mwMuTeGgvoWfNYmOLHKKx8QMUdwc+Fik3i/F\n",
       "I4hWThP1p349PWgiukCpjfqRRdhQHjnNvxJyxvxRosz/Yow6GTpRF3kmwo8uYL0XmnP28y0WjwOz\n",
       "8JP3O3wJ4bSH4sAybiVkcdYX9b1zkoL07JJEw5pCQV/58jYNSBfH53V03P84+8Ra8fCJm45JI3jt\n",
       "fYybhYaSrvuQKR5CUVjT2UwkMwDH+J3x+oT1dS9X55EsQU8WAozwnyhbrg9Mfk7t5k8nmaTFJYhC\n",
       "z45Ir6RGFD8gyduynrdEsSw9TWGnfXaemVa7PjCC5JB7/kv7z1eePRtOfPT2+JFv39QaIHTZAFm8\n",
       "gvFJbeELQFnG3mhQZxJ5yCqTntgXiqH4Wzp8E6I/PsDDIqiS+TmKSfIaVFHuU50dTD2PxoOhhvGe\n",
       "wUwP6+9wIYEcDAU2zza5yDgAAw50RmWzwklmRAzpVR8sNo/pJd3VZtzhuFgh4kDzoLWGGohsj/J6\n",
       "v2IE89u6MuwmaakaRnnWanWumWpXp+PiqaKBbx9ceybKL3U05WBUhnwyJQv1bc1Oin3Wp3hS7D+9\n",
       "WMMNtb5rv8pV0fjBanqClmvnaXfgGk8mI5oQTYlzOYXqpU2xwX0b0iIZKypLUwZEpyfXzVv+ZSZY\n",
       "84vlAJMiMIOi2WKkx5lQYdFHT5ZMYfkMvE8jxS7h1uL3JK3cSfiNa+x0XChU8nE8octnqTpFTH3I\n",
       "Y6dk3OIum8WflBjK1eWmrb6i080gWcv2M1oTwNLdPxtWbr8i8aL2OZyAe2LTtXs0xkIbZBXpovBe\n",
       "2AbkPMDzKS3SqWrY6Rqi/1SEw+/JxWnLa1xl+mrbQxbbsVwdUP+cwiJwg9pK1iGt8Z4iYl8qx8BM\n",
       "Bd2P1feixQGAmrNv+aOJ/ibLxj8kw7kXBQmFfMB0a8Wt2lobeleZj2Mo+QS3R8em2zMzKg709fik\n",
       "qMcVLz6G+/VdaCLBD68qWovbkwErl6QmgH6EUf3gFCbRHmrDQn7EH74/DAXwGxqEhPSZowuIrnSl\n",
       "+1qElaaKDhVurWmjxWrGcU2MhtmFSqeGfh9To1PgCPji5fOU80OD1+zxr3VbJgeTowTaxrXIfmX9\n",
       "G89elKzbcRwGtMl7iRxwDI9hQlrWg7P5Q619yCbNV8p5kmqnU56oVeYrBMAcZPf1mOBv9Ax4I3A3\n",
       "B2GjLH1NtE0cnzJDY8MorJM89tGDnlJo+fsCpLkWLIiW224d+nmtotN+aQnSt4zKgcCTvjkV9GDb\n",
       "bTPcm2WvMVeW+vD/dBItC4YoC7WU/cAVlgZyz6C3BxxOP4AVOH8TnBUvR6MKgmCgjsyvEPs9Gecj\n",
       "Psju4HryeewwD03AY1/atJlJgIFLASF+O1xG3Z4RLpbbXqlBtNJYEQwm/qFT/hMkGWyKpWJg30Ec\n",
       "/+4sjBMlqahOld7YfpIWVhfm3mkBa9n/aZYj32TbfoKsQX/83+QoWZWjJA+25E78pSEB/HEnsMMf\n",
       "SG0zQGV/QlzxwljvDFPKTbXqFuMGzmYsxGbzmePPxteaWCI36NGl3xJt6ErbeKYQbD97qrt3V/nL\n",
       "V9joeWHlMYjNGL++lW8EzMiG7C3rmLKMiaC2Rtn1aIuozCvtDT/yomzU1HL4Vx7xHajlJr4TIjZY\n",
       "DAUUbPM+fjkt+cQH2ZcCvRWXnAn7CLBmdfCKiU043RZ3ajixXzE9cTv4RzORI+3ce18/g3/smYc6\n",
       "Ee/fowE44QLoNVuKh+tZK0Qx/vs8e5sGcUGAOA259E/IuW5Z4sWEFIrQ9IenO+EAXQ/3vAwM44lX\n",
       "ZwZXqN8UdZbj+Y9h0GYHyTMA27zhIHUxWxy3sZG7q1gQa8/R3RWfDyyAD8tNoA2EXOr5Aza4mz+e\n",
       "zHHpOoZ5PEe4TBLifCP95w/m1kqa0W5ZmihKaPW3Drf3HkxBKBzCgTfYzxXmGYeTMwrQrBK1meo3\n",
       "2Ki2e8pj53dqa4+knkKLdRGBLvWXJFHf+3sUvNPMjXCTclI+6LDZyPXCmZ2/176U6Wp7SE+bJ98W\n",
       "Bb7SLXypuOZIdpRVUNVGvAZfMhH5QyUIrip3S94efGrfyWmWy9PdfcTxAu5sO6jX5DvcVxl27JTY\n",
       "+KaDWmlIhCqzqwx7qZWGNlG7wfsh3Nl3MwILqvYQn+gwhscVtFQHhN0gV3vce8Ha2+fzGg5nLcHo\n",
       "/PHOe7ktT/ITua5tfRSmr0h6K/JDzxYoYm3YxFlyVfZcI9abgxv8xUYLpOfhJ98Nl6bJmVPrHUtl\n",
       "oEaqSi2/gAPAqI/USpijHSb1NVN9LQTAxY6knkXMILJnjJeSO4VX7dbdEIfim7I4Gqon3PuWH/3G\n",
       "WXnsa0jZyyYORdT+o95yiOeNHecPMGTjwUWX6UDUYBemBZ7THc4UuceMgZvOX4Bx7LT+rmaAp2HB\n",
       "PAdXGGYsdA5Wt1yS4Y3L/tNCcnROg/F8v/+X1XRDvDctTrf8UVXWIl1v7eJ72OYFDHyz928Iydmc\n",
       "+/pZVJOKcJLALROkMIoSSpXCQk+nhiuT6/XpBW/p9LYpSORn00gCxcxByqDRVQhdLhpznGAT3Fvq\n",
       "zC/IIT+vm1cxunb8MBXMyoeKL2LyS2vdeK6m6SehgHlUEYt8Sg1o19UsE/WoikTiqD7W5qepSQwn\n",
       "BpaGiyuxvIikgxb5v9TsMdUnc3Qsp82N7cXPTTFURDrfmRYPsI0Qib/nb+BfwUyS1DkE1fFR8iHE\n",
       "wfNJXHRh9HxXV/1bkyR7vc2AAZlIvEIFeVqJmr52PuxqGqj9aUM3GlTE7HQHZJ1Wog/KnjnQYAUh\n",
       "d33xm9KZCDgyj+WPZ3NItOPnnnqAWwWovxc9De7pZVgXMlDTTvx1Mkh6AzoUn/lJJ1gNfg/1kveH\n",
       "ofgPlNXY8Q8F/23ttbiLft6D/tyBCmPR6N/jthHkJbvQU5mUzeD2JrPP6sUbbepsUkymrNX3CR7A\n",
       "AxRFAEEuH+ib2WGPRH3+r1epB0VH8K8yF9ChPU7GKTJvikGv3NRwdGPisG05RFQK22K2QOu7JsNt\n",
       "lJuLmrtaDqWoMzHiGJ1aqyCRK84Yf6+m+g4HzJnysPlNruYbTRNgG260Z/y1vw/eDuPf3kQYdh68\n",
       "DyKf5wIoiozcdbjV4HnhJdhLdrWqPHOA6l7bgEAIj7Y5k3QyCDu8jlvU/5Z8FsuinhOXqY86Dpxu\n",
       "6z0U7YnFiPYzPIO7cxlxqg+5GuWTxgCrCUvbxEQZUv50hXgAk2KhB3Ze9K17nlnFAOb2DKqET8mW\n",
       "G7z8ZCdAuoR3anorKQlTDmqiZTuQZ0CXWGJSLB1hd7mRD58PRw7GSfEZ+RAX+/vdr6LX6xYeRm9D\n",
       "eKUKvEO6U7bIycoLYkRE/pVaZME3J3SLb2KS8oY+1mouWGQPDaSjTdVPGzN6/2g+RUHicq4XuncL\n",
       "iHAn5f0AyJhdy+EY92JJ/NFBHryyFG+QfW/bYBCjyvpFpTMnBF/l6VXssQEqC7Z3dFx6HbmvY+6P\n",
       "4FTjNaxaiTkOEpx2M1pQouDNirs2lGK4X2evqROcv0ox0LkZtcbMoRkEiVQQgifmmRJC0+owHbrq\n",
       "fE0HmkjMJpvIKsntgui2PlSXnp71BjBg88mRgYb3yRxNse33Ilzqh89hl11SPBjiMRQ/3SXwqyfF\n",
       "Cj0ZvipwPM99G5ZwpULm5gAHJIz7GQAAAPBBmiRsQz/+nhB/DpOQCa2xOJAzR0V/DzxF6ck5uSV1\n",
       "4W54LDRxPvcZF/cTSLVj6oKSHFFzqPtdVGLNljydWY5f8Pp3V847TPjnPl7u+URBeCD2nNuU095B\n",
       "IA17uQ+RE+Au0BsH8KPMo7WxwrlNS0JGdavNn6PfvvYan6TWBVRUyEAAlBeyYaK4TW6BwcJa9qk+\n",
       "aThq9mSpk/s9TLgW5Oq4v9aHHk+tRO5xaVW/hR1z5xPglj9drvZOUXUl5/cPSPoU9JbP46nvLVER\n",
       "pG3syKgWNOePsvsjeZemR+QW9N+U42nR2ERiG1LWD35jZZvA89gAAABRQZ5CeIR/AhplrFAnTuAq\n",
       "jEaeUiDWP5fMxqNtw4Cdz4sIASAdDV25hOaHFK+r6gAt+ElvV2SUX4CBKIUNtZvWM7LIF0DPd9L+\n",
       "YM+/miMKhfLjAAAAOgGeYXRH/wP0TCSQiD4k+/Hd59GCNsq6CmygY0DeSKNBU3EEbjSlL0CAPfiY\n",
       "2oCZMziNJZSm8riLG4AAAAAxAZ5jakf/AA4sAyuTwi7+LY5P//3pExnjteLUrot3Cg6S3Xfv3KYT\n",
       "Mu5vH8DQUf6S4QAAAG1BmmhJqEFomUwIZ//+nhAAG5pWf72PCtGGradGwnjCAIJMAAS//vcLipp4\n",
       "z9mM1DcqJluj3ji5ySrvt7zAAH+qGJ7t2PAGA0Y6VmYX8nwHqtH2GWujE8Q6BUUiSfs6u4/ENZUq\n",
       "vbn091MClAopAAAAKkGehkURLCP/AhplrFTpyrbVfW4TFVkiRFsblHXrgkzkyIdbt+sBf6FrMQAA\n",
       "AB8BnqV0R/8ADiRW14HfabfXAtgusLTGwBp8zKTAjrOBAAAAFAGep2pH/wAAFHztEBRsNlaJ6wDA\n",
       "AAAAMUGarEmoQWyZTAhn//6eEAAAKxWrsXuMACFTAAEu7chRGp5KihR+C6xeLogI2iksrEYAAAAb\n",
       "QZ7KRRUsI/8CGmWqgqfxzYTRyGk56WqR1cCxAAAAEwGe6XRH/wAAFHGOJkibl2qRq0YAAAAQAZ7r\n",
       "akf/AAALFnkM0MIjeAAAAC1BmvBJqEFsmUwIZ//+nhAAACsPe3b4DHQAGbyMPRrS/BsLvlfM2Yxx\n",
       "5Ti/8rcAAAATQZ8ORRUsI/8CGmWqgXAV772g8QAAABABny10R/8AABT9YuEoNjgfAAAADAGfL2pH\n",
       "/wAACj5slQAAACpBmzRJqEFsmUwIZ//+nhAAACsd3+GZJoANhie0LoH3E8L77neGnMcJ3twAAAAT\n",
       "QZ9SRRUsI/8CGmWqgXAV772g8QAAAAwBn3F0R/8AAAo4utMAAAAMAZ9zakf/AAAKPmyVAAAAKEGb\n",
       "eEmoQWyZTAhn//6eEAAAKx3bJfYqkIAaxXs+YsLyWaFtMAVPaYEAAAAWQZ+WRRUsI/8CGmWqgqla\n",
       "cEx+EbeJwAAAAAsBn7V0R/8AAAMDuwAAAA8Bn7dqR/8AABQ4xpiiDV0AAAA5QZu8SahBbJlMCGf/\n",
       "/p4QAAAsOL0AAuFOD+sISdJi/oH72ffPBYJA4SV5iN93y0riG3JkXCl8s66AAAAAGEGf2kUVLCP/\n",
       "AhplqoKqKQ4qsJtjdAqroQAAAA8Bn/l0R/8AABQ4xpiPGHgAAAAQAZ/7akf/AAAUOMaYofB8YwAA\n",
       "ADlBm+BJqEFsmUwIX//+jLAAACyNhXfEooKvDPcAN9XwUeUQbuV+o9LYLDDNgIDbSaXYG7ywB1al\n",
       "InUAAAAXQZ4eRRUsI/8CGmWqgqooy/YUM2s8JgUAAAAPAZ49dEf/AAAUOMaXuuF8AAAADwGeP2pH\n",
       "/wAAFDjEI4J+YQAAACtBmiRJqEFsmUwIX//+jLAAACyeep+CWEexPPBipIAgipc+BuA33CBHrnMw\n",
       "AAAAF0GeQkUVLCP/AhplqoKhZrcZPOw+9SdzAAAADQGeYXRH/wAAFHFJtvMAAAAPAZ5jakf/AAAU\n",
       "fMJjKrk9AAAALEGaaEmoQWyZTAhf//6MsAAALJS8t3wBOgQAkaGRNxPDwGQ/lBDj80I5MYMZAAAA\n",
       "FEGehkUVLCP/AhplqoKocwJB3E6RAAAADwGepXRH/wAAFHFJuzs36wAAAA8BnqdqR/8AABPs23mG\n",
       "FYAAAAAnQZqsSahBbJlMCFf//jhAAACwpcUQwAAtUQfIrdtV1dA3NcdoCI+AAAAAFEGeykUVLCP/\n",
       "AhplqoKWem3BS6ehAAAADgGe6XRH/wAAE+F4jwwrAAAADgGe62pH/wAAC15hMLmAAAAAJUGa8Emo\n",
       "QWyZTAhH//3hAAADAipcH8ljJAA9e6tYgNsqb0WK2jEAAAASQZ8ORRUsI/8CGmWqgXkUmm5RAAAA\n",
       "DQGfLXRH/wAAC1ik2/MAAAAMAZ8vakf/AAALXmxvAAAAEkGbMUmoQWyZTAj//IQAAAMBswAABYZt\n",
       "b292AAAAbG12aGQAAAAAAAAAAAAAAAAAAAPoAAAD6AABAAABAAAAAAAAAAAAAAAAAQAAAAAAAAAA\n",
       "AAAAAAAAAAEAAAAAAAAAAAAAAAAAAEAAAAAAAAAAAAAAAAAAAAAAAAAAAAAAAAAAAAAAAAACAAAE\n",
       "sHRyYWsAAABcdGtoZAAAAAMAAAAAAAAAAAAAAAEAAAAAAAAD6AAAAAAAAAAAAAAAAAAAAAAAAQAA\n",
       "AAAAAAAAAAAAAAAAAAEAAAAAAAAAAAAAAAAAAEAAAAABsAAAASAAAAAAACRlZHRzAAAAHGVsc3QA\n",
       "AAAAAAAAAQAAA+gAAAIAAAEAAAAABChtZGlhAAAAIG1kaGQAAAAAAAAAAAAAAAAAADIAAAAyAFXE\n",
       "AAAAAAAtaGRscgAAAAAAAAAAdmlkZQAAAAAAAAAAAAAAAFZpZGVvSGFuZGxlcgAAAAPTbWluZgAA\n",
       "ABR2bWhkAAAAAQAAAAAAAAAAAAAAJGRpbmYAAAAcZHJlZgAAAAAAAAABAAAADHVybCAAAAABAAAD\n",
       "k3N0YmwAAACzc3RzZAAAAAAAAAABAAAAo2F2YzEAAAAAAAAAAQAAAAAAAAAAAAAAAAAAAAABsAEg\n",
       "AEgAAABIAAAAAAAAAAEAAAAAAAAAAAAAAAAAAAAAAAAAAAAAAAAAAAAAAAAAAAAY//8AAAAxYXZj\n",
       "QwFkAB7/4QAYZ2QAHqzZQbCWhAAAAwAEAAADAZA8WLZYAQAGaOvjyyLAAAAAHHV1aWRraEDyXyRP\n",
       "xbo5pRvPAyPzAAAAAAAAABhzdHRzAAAAAAAAAAEAAAAyAAABAAAAABRzdHNzAAAAAAAAAAEAAAAB\n",
       "AAABoGN0dHMAAAAAAAAAMgAAAAEAAAIAAAAAAQAABQAAAAABAAACAAAAAAEAAAAAAAAAAQAAAQAA\n",
       "AAABAAAFAAAAAAEAAAIAAAAAAQAAAAAAAAABAAABAAAAAAEAAAUAAAAAAQAAAgAAAAABAAAAAAAA\n",
       "AAEAAAEAAAAAAQAABQAAAAABAAACAAAAAAEAAAAAAAAAAQAAAQAAAAABAAAFAAAAAAEAAAIAAAAA\n",
       "AQAAAAAAAAABAAABAAAAAAEAAAUAAAAAAQAAAgAAAAABAAAAAAAAAAEAAAEAAAAAAQAABQAAAAAB\n",
       "AAACAAAAAAEAAAAAAAAAAQAAAQAAAAABAAAFAAAAAAEAAAIAAAAAAQAAAAAAAAABAAABAAAAAAEA\n",
       "AAUAAAAAAQAAAgAAAAABAAAAAAAAAAEAAAEAAAAAAQAABQAAAAABAAACAAAAAAEAAAAAAAAAAQAA\n",
       "AQAAAAABAAAFAAAAAAEAAAIAAAAAAQAAAAAAAAABAAABAAAAAAEAAAUAAAAAAQAAAgAAAAABAAAA\n",
       "AAAAAAEAAAEAAAAAAQAAAgAAAAAcc3RzYwAAAAAAAAABAAAAAQAAADIAAAABAAAA3HN0c3oAAAAA\n",
       "AAAAAAAAADIAAA/yAAAA9AAAAFUAAAA+AAAANQAAAHEAAAAuAAAAIwAAABgAAAA1AAAAHwAAABcA\n",
       "AAAUAAAAMQAAABcAAAAUAAAAEAAAAC4AAAAXAAAAEAAAABAAAAAsAAAAGgAAAA8AAAATAAAAPQAA\n",
       "ABwAAAATAAAAFAAAAD0AAAAbAAAAEwAAABMAAAAvAAAAGwAAABEAAAATAAAAMAAAABgAAAATAAAA\n",
       "EwAAACsAAAAYAAAAEgAAABIAAAApAAAAFgAAABEAAAAQAAAAFgAAABRzdGNvAAAAAAAAAAEAAAAs\n",
       "AAAAYnVkdGEAAABabWV0YQAAAAAAAAAhaGRscgAAAAAAAAAAbWRpcmFwcGwAAAAAAAAAAAAAAAAt\n",
       "aWxzdAAAACWpdG9vAAAAHWRhdGEAAAABAAAAAExhdmY1Ny41Ny4xMDA=\n",
       "\">\n",
       "  Your browser does not support the video tag.\n",
       "</video>"
      ],
      "text/plain": [
       "<IPython.core.display.HTML object>"
      ]
     },
     "execution_count": 197,
     "metadata": {},
     "output_type": "execute_result"
    }
   ],
   "source": [
    "anim = animation.FuncAnimation(fig, animate, frames=Uc[0:,1,0:], interval=20)\n",
    "HTML(anim.to_html5_video())"
   ]
  },
  {
   "cell_type": "code",
   "execution_count": 187,
   "metadata": {
    "collapsed": false,
    "scrolled": true
   },
   "outputs": [],
   "source": [
    "FF= numpy.empty_like(U_n)\n",
    "for i in range(0,50):\n",
    "    FF[i]= computeF(U_n[i])"
   ]
  },
  {
   "cell_type": "code",
   "execution_count": 189,
   "metadata": {
    "collapsed": false
   },
   "outputs": [
    {
     "data": {
      "image/png": "[encoded data removed]",
      "text/plain": [
       "<matplotlib.figure.Figure at 0x255bf4e51d0>"
      ]
     },
     "metadata": {},
     "output_type": "display_data"
    }
   ],
   "source": [
    "fig = pyplot.figure();\n",
    "ax = pyplot.axes(xlim=(-10,10),ylim=(-1,100000),xlabel=('Distance'),ylabel=('Velocity'));\n",
    "line, = ax.plot([],[],color='#003366', lw=2);\n"
   ]
  },
  {
   "cell_type": "code",
   "execution_count": 190,
   "metadata": {
    "collapsed": false
   },
   "outputs": [
    {
     "data": {
      "text/html": [
       "<video width=\"432.0\" height=\"288.0\" controls autoplay loop>\n",
       "  <source type=\"video/mp4\" src=\"data:video/mp4;base64,AAAAHGZ0eXBNNFYgAAACAGlzb21pc28yYXZjMQAAAAhmcmVlAAA7VG1kYXQAAAKuBgX//6rcRem9\n",
       "5tlIt5Ys2CDZI+7veDI2NCAtIGNvcmUgMTQ4IHIyNzIxIDcyZDUzYWIgLSBILjI2NC9NUEVHLTQg\n",
       "QVZDIGNvZGVjIC0gQ29weWxlZnQgMjAwMy0yMDE2IC0gaHR0cDovL3d3dy52aWRlb2xhbi5vcmcv\n",
       "eDI2NC5odG1sIC0gb3B0aW9uczogY2FiYWM9MSByZWY9MyBkZWJsb2NrPTE6MDowIGFuYWx5c2U9\n",
       "MHgzOjB4MTEzIG1lPWhleCBzdWJtZT03IHBzeT0xIHBzeV9yZD0xLjAwOjAuMDAgbWl4ZWRfcmVm\n",
       "PTEgbWVfcmFuZ2U9MTYgY2hyb21hX21lPTEgdHJlbGxpcz0xIDh4OGRjdD0xIGNxbT0wIGRlYWR6\n",
       "b25lPTIxLDExIGZhc3RfcHNraXA9MSBjaHJvbWFfcXBfb2Zmc2V0PS0yIHRocmVhZHM9OSBsb29r\n",
       "YWhlYWRfdGhyZWFkcz0xIHNsaWNlZF90aHJlYWRzPTAgbnI9MCBkZWNpbWF0ZT0xIGludGVybGFj\n",
       "ZWQ9MCBibHVyYXlfY29tcGF0PTAgY29uc3RyYWluZWRfaW50cmE9MCBiZnJhbWVzPTMgYl9weXJh\n",
       "bWlkPTIgYl9hZGFwdD0xIGJfYmlhcz0wIGRpcmVjdD0xIHdlaWdodGI9MSBvcGVuX2dvcD0wIHdl\n",
       "aWdodHA9MiBrZXlpbnQ9MjUwIGtleWludF9taW49MjUgc2NlbmVjdXQ9NDAgaW50cmFfcmVmcmVz\n",
       "aD0wIHJjX2xvb2thaGVhZD00MCByYz1jcmYgbWJ0cmVlPTEgY3JmPTIzLjAgcWNvbXA9MC42MCBx\n",
       "cG1pbj0wIHFwbWF4PTY5IHFwc3RlcD00IGlwX3JhdGlvPTEuNDAgYXE9MToxLjAwAIAAAA4NZYiE\n",
       "ACv//vZzfAprRzOVLgV292aj5dCS5fsQYPrQAAADAAORNeD3U9QBfSt1VCl/ajSgo9wCbeJEhTF2\n",
       "6mAbD9vcEe/XKrTX1CAvn4KT6DCgJSlLI+fx3trvDdsNd0tK17R3e2VXZLWWvH/tT5krC7O5YA3y\n",
       "PWj9m8SNaK7V0AynZLhplgPdhsaG76EvnI7/ZeK/CL7zDRd3X2qZ0cOzgzARxx4monjX05MdMGpa\n",
       "KzjKxmrhT0PcUpz1dSjg5pQi29XtnAOgmANdzrfO1T9t3Tsyb9ngL5cW7QZVSyc/pAKa7BSg7RoV\n",
       "sB9vZ94cNEr5gzUd7wpoqKYNnpycQ7CVgGRStwc0a3HlTKeAaA+3XKH7Yjl5MRjl2Hz7bRcn5L+8\n",
       "wsC80tLgK2oM+WP0UTAW03kNH8b+W3CkTFPU5jsRqULKbzz8XP3kIT3GpkJK/88/k0B+dxqiXrYi\n",
       "syhR3wH10jQprcgIg+Ne9xe+XKtYTm6ZKNLfxAt7fRD1UYOY6zvnQp9+RjLfTRP//hgFItpuRZhw\n",
       "0V+KjxvH+cGsvbR5wIZmSZMRMuawvzTKtFGtzSz45RT1YMmlDMNIMZvDcCeuNyXqDCBohSVhC3sb\n",
       "/o6Ed6BQknHUnTS101OeJmVIm3O62VGfqTSj6QFt7/Sxiy4VMI5WjMuGzoUJk/dxdHgGqGTPDKB3\n",
       "4uN4oPtiqCWVeRcp3j0/Np1ycvNxTjY8iGOwAjq4hX/VFgk38iIvoK2E9dZf/UmS+BGg1XNbiSc0\n",
       "KUguVu9a6BFta+g6bj/iVFR7a7ClXPVs/T0ZkxtU5diJch/B4KiEpoKeKIE6mi3UdJiW5uWV0At7\n",
       "neKZ52mjQAap4Wsy7Dnl4Gn8th62+f7mywB3DNo00R3biFP8c1xVcezZJSd/AP4X8AF0Uy/cDuoj\n",
       "cT43knzbe696+Wc8TYGXJvDQX0LPmsTHFjlFYQ5oWVz7OPQisr8UjiFZOE/Wnfj09aCK6QKmN+rt\n",
       "aZtewAMO0CmJcafJuUDNHG0RZda5UAzxaIUhIDkNicqPNMGSjZ7m4VPUT03c0C5ydoFngjV+FZkJ\n",
       "3ny7gS+0zn9AXj2fjvHDRy2VNKV9V5mIs3+PLw3fWmcYsueyWw+1xJZUOTQxUs8cxZGMObY5PxW6\n",
       "44xip/Ep6Pcp06Z/V89xLC1kkE8YHtkeOuUwQyaSNlfBJ0CQbrbMFWELPjkivcgOwa02X+XeGHov\n",
       "SOYYgSng00RVo8nrl3IdkGjNnYtd56vPDTf3q5cVtn8Ri/aRhabOMSk5mmQ0sNKEtZmKWTg9mv9W\n",
       "Odrp5s2tMoWd9ERXQ12wXLV4ibID+3Dk0LPdE2sZFpBOApHLzAGH67umHy9eUdcoUoOQC7+id+eU\n",
       "D42Lxz4Ay/+JKPzqyt49nY9ha7U6wWQjA6DoLCciydGaiUgmHeYYQ873rRV1tZNu1HF9zS1/UnN4\n",
       "3bnb/hFA2Mi27evpaGFoNDaJXt7xzYNZE4GaP2RGBRNSxBC3RcfuxbcgU7V9A1Njuwmg04TITWnU\n",
       "hAwShkaWAVwxEXlKh6D13CNgS/zXV5vyR/yJUTmq2LGP7FJTt0tnuJhwuR1714TtPUoPyytkFbje\n",
       "Pd9ec0IJsSG2KPV87ilAvo3o0bg36qvzBkRdRdLs2dNDDUoIZGiIBJkRhBvPFL4Wx1C2RvQymUTg\n",
       "G34mI5sTsdeTxmdPU6IQhwUyshvo3Lu3gnENfsrfpdGz3mFLYeh8wWJZIYP23C3r2etutqLTzSCd\n",
       "/EEg0yu2EC45cdbe4MtKlfafUGP4uiw0n/D9EXi8Zy8Fkd7X0AmNud+qSGmMhogFj+CIUGkQlTxq\n",
       "cLPU6iyx6zYa68OLM+5tX7pyQdy0zFrENb4mcIlWgYPECQly1GhkedWx8JGYGv7C7kS8Zo2ef7hS\n",
       "5zHDEBMD/5VlST6Zz+syP3Y9uuJ4L6Pj022Zjj1UnImlzultnUvPob79V1oH7tn15UtRe3JbJa2r\n",
       "1RLNRF82CAKE/x80H9G9XrWZpuUA5X6bz6DlPHC/nHl08rWXasFR7L6aZp1GO7f0ZTQI071YL5ia\n",
       "n1fEfQf0Sh8g9DgFAae4LEASJiFpQzOB8OIdvpxJmC2iOxPAT2ROVzk0vlRGGsyANpna27xcexKO\n",
       "wPcxzdPU+EeLhAqEAKmorIjlffvb6RzhRblxYeO+oC1FiwKgXwJVWxOMzYlz01UutZhpUaWLOQk9\n",
       "3pUqObAHGT4LwaznUPyuuqN0fbgMA1aqDv0ild/IsUsgpEJGCSaCNtF94zHRY74iMTJMC0QJX4Tt\n",
       "hD5PeJxqix//41MgjvzWU13X6yDYy4oJzhZFt6txu59SJV+IUlKjCmsAVkyVDjakm6Q3rNAE+dM/\n",
       "+S6q8yZVm2IgVPlKXgAjMqIjkorjT1Eq+JK0vQdVQEeB7EbgMw5BLHVFn98iwSYGRyTFzsz9VKiC\n",
       "VzCkRt2eES0tOGWikFIhoEdPnhkmz/hE0GWyKpWJO5O7wzrxCM3oNSWuNkfTL0X1TonlJW6NHOFE\n",
       "TQ/fWZbATaZ5anJX/7QrSloK408z5ksUHLxI652lxTros7xUI+xQOASbIsIhj6USdJjtaMj5PO3P\n",
       "Bguyyy3MP8LbOPOL+W6dCE8r4XJW7gVx+mHFOBK3uG7Z6z+sox8vJptVHSGp6nnE3dJ+A/NpV6U7\n",
       "DFWKdxrWELUw2E9snSo55RdpPDaVnTiGwJjZW//aV6/Kgaet/UPxV9MDg1LkUovtCFvoDSHIYAw9\n",
       "nkZL0ZUezBcK2nBaCoffxIjHHprFetmGRjf5AMmYSrERDeEcnmZIUxHXHKkvcLkz7xuCMw8IQHd/\n",
       "NJvojwxKKd8vNzznHCBAgDk7BONOetswjTn9O7Z+LUrYfZ0VUY0+8yhRiru5pFaHpD053wf4bqYQ\n",
       "bqPQ2I1d69eAdZbj+ojPR78gzhmAbd5Wb5yrYPYC+1WAAB+seeceO6Kz4eWQAeMBzeEBsw9PavQs\n",
       "dn+celrGg9spzYU9fyqx3DSH82slTWi11TQUx+LbaAR9qpySwygcwoE5SiAdZAzD7UisZXsKrMuP\n",
       "6SB0pnJWCKYydjjs/obmtRWCjdoqLZ7igbrf8tW3heuxd6UymOVhAVpcXCuzgqcMLdcLcTpSgL5l\n",
       "GeLBGDj46B1DrTQL5WIi63Gn2lsC4CGw59GamUKdvOEQeg+aPk3iiRegflm5n9uHC3+RB43oUn93\n",
       "b/0e4nl4lcCiKW7H4DT+wB+m56+jiYw4i9xQeW+sEZNsMiLqZ1HiJlGg98bXh5/t8fGaUbtw5Be2\n",
       "nf1bO85QREQY3lRUHRw0x+h6W0mInf0198+qXWGDbcd1+199uV6I3W/o4fW7mI6XGT7qrv9PZB/Q\n",
       "VCEEb4qh1anToI//yCfXi2gYrY78s0ufQxQ/Xuz0dMcKFa1dDJhCcD376gn89jACqmWJO76AllOC\n",
       "XzMa1hpGQ0DyvBLfkSGHVBzvuHWCigsUUHdSMB6qfnm/zFRb6pOKQyE1lZyvcHza/JGNkPjZY6tB\n",
       "KpJVI9wkfAIWydRoulmZZjMWHVGUZ+LhOZZCQpp70vSLhh/X2LfZspOgbwlWeNMJuxkAo7fVWuKj\n",
       "G4C5HkY7drosri7wd8yWn//P8JeI6bvWT//RUEsJ6Hfrgqvj8Ng2aC4eFqN9RcG+0z0yRQps8VVB\n",
       "41xix9TiY/O4d7g5nXGC3puih4IgAERlnalnJeD1bhgVOfawdKF/KOuuLJDOJWVle8uPDJTEGx55\n",
       "iMdJiXnXIBsFQFpX61SEhnDpK7DgBbcEOzUZGOVcy4Gf9QtjEYm/q80iDg0tHuFXEjOMalQDKkqA\n",
       "hga7k/0zt1xXPwcrtpiqIh1vzIEU3gie7dXX2jN5303HrzZyPRxXkMV2AfxNU5KmDzkMEmVrEEnq\n",
       "1xWx/7SkXiDEyEkIG/Ox92NTOs1voOdNKmJ2Oe/NWFqIPyp45mKUxv98POhlnN/piHNd2s1meUBs\n",
       "JKQVl4ZEbt/fAtJeCgllWBcyUNNPF4NeufoGFClOuySdYC0vxL0XHrEfwIYiAxkyvUmmcR9gy6D+\n",
       "pKb8U40iuwMVYTg0CaqUsxk0zPSjRSTVTzxSzk6YninBCcYV+wiDnq7belicHuBTUtB5ga04nfhV\n",
       "O6bkPDEu3vqfqv7kRllfFxtCeYiGB6MYFUbcxMZV/4sIxGW2KAfih/aMZU2rZoDkDR8ZfTDHZeRj\n",
       "3XST3YuYmRoGyvoNzhTzWLABgP6GrrlEYkutUxwQemlgz9M0PsPau5h+Y084wU3J/uUKutKW0Qox\n",
       "lA5C6oPvdncuQHjnAdMjzdGiPo+2OZjMJHp3eRy2/RDhNnuBF04n2SZ88FCpPId18qFNRRZZooiq\n",
       "/Abv00vK5u89+6H/2t437CIMqX5eUAOZiIdV8m3baZhoNe1puoO7/TUZBPlNa9PCzKJPmR2TokH8\n",
       "W1xiWxW7NmvkJXPN9DCQanqlk+bD9UgieRnVOUDOp1uM2/7WPo5ZKcv9jr4rAd8DnWnnbWhVrC9L\n",
       "9BAmTBNzGp4g7fXfqEUztY1tJHdxM5n2BfWYIFTKXebjHxu32CEcYUmMSIHpLYO78SN5/wlfruO8\n",
       "4rjMVuZqpwwIaq2DvvYAGx8A0tSItGe8bz5A5UL/gOUSay4S6kTF9CTcgRRlxarBJyHCU468dZCV\n",
       "kfqzk2bD53kugQqwUTeV9KMcfWdgvsyeSMR/cFKJBL7dpfpX910hE7rqfE0HmkjMJpvIKsntgui2\n",
       "PlSXnp71N6CYbtc6VjxSxlzZf+tfCpc6ofPYZddUjwY4jEUP90l8KsnxQo9Gb4aVPJCWqr2SxNY1\n",
       "qZFtAAAA7EGaIWxC//6MsIQO+NANW1kFrGdlSq+g3XTKZcCDZIca05Bw5kjxUGqEGaVqJvvsSdDK\n",
       "vNhP4luMr4fYOjUwMTE6rSUwXn6Cacw2wxRkBNiPdczf7jatxzMXgx8mJNkfxK8LSItr7l403sGk\n",
       "QyBROcFFwbdayKY49gK6tGQqPhqUX3jj0ouqCOm5GAS3s4naibaDl8U83pKAZRmO34RPoqMhjFjB\n",
       "y1Fr49oKtFcHZzJRwE0oK2hZbV47+ZPNCJS96oLEBM4v0PVdqfFs60OXtGemlwuNxIQXqoGwltEP\n",
       "hqm3DCgYsDM6YPcFVB5QAAAA7kGaQzwhkymEL//+jLAgtg1AZHLrVa3JN+BAQkhnPont426oxsSW\n",
       "I+vlWQIPDLz/G5CKg1O/CwrSYyhe7yU9Etmsipz09LnvUwCAAxhEFHO0XqsTSoK4SAM9aXzg4oSP\n",
       "s0qi918+UUgG6fr3hlUQnM3jwxPz+2Kan/2tTn0YhE0xXuZfZZYYMLJuwxuPauiiCC+fZDYST5u4\n",
       "LnyL2vAl7arH4WnG9wYWJImrZy30YV4+D2FyIonwi4qWBNxC72dpHQPC+M+N5tKW/g/43jjSZBaG\n",
       "2Sse1ZQ8oiAoInCbfqvqKnvNMo891rX5hOcSrIcAAABzAZ5iakf/BWaKq5j+NUX7zBmMBgAnAZPv\n",
       "qVC7Wr0KUVEErXEXaoO9isyBFSXH/ekUrmZ/RTvzWNXrCuzHbX+kweGGmrA0qNq2QBL9i2SS0Qt3\n",
       "sEdkO2ZU0WYVrENGNYkKn4KMhSID66ojLD8OadjVMZN+wAAAAOlBmmZJ4Q8mUwIX//6MsB90HVyA\n",
       "Ba6yOd0OOUTw7pU+vSyMb7aX/SM/PTV9E+sYodxCGxdpnd5jyUcXwDTiwziI0n2kZdl+PX2k4x0P\n",
       "dtBeWzlmt5URpLeVpSFlaPrwQLylUA69U8ifGhIZV2ToU8KbTUceFJIP+awtQ8sALasspOONYl6l\n",
       "GVlmti9Ic64GuJKRfC8+iIa1b423vZp3xn0zzY8SyK03mTe2pbRTyucgj5c+XQbat6SNYxTG1XW2\n",
       "iB5lJXLzPYTPQzbVt/dMCSzOhDmlblTz9/TClHubrvfJlwbwBU10C08ZwwAAAI1BnoRFETwj/wOS\n",
       "ijFC3/KkgcCshi4y0ngASwRhUUmAX0YUGQlUpi1JEUaWH1VfwlGoPt71RX4HCaM6iaGyrWfRFSvo\n",
       "KgwrrD26mdC/P25xCfm5hF2pb8vObjaDIA8pifJBfozkqMXEZtpd/3TztR6n2zNGRtNuZa1ntTs0\n",
       "57YSy5DdkuTidU+c/wnmZ4EAAACRAZ6lakf/BZZURVoGQ75qpoyNQBr/Vibojbvx3oATU2Rik2Nf\n",
       "uIlwCHNQNdDmzFELNDH05n+JWclsVfANtU2paIPqJDH3WRjmhkhVRH54Ft+wXlrWa3u3JnVVbZaB\n",
       "9z4TuF4zKhIx7DlkrqqI3ZyXPkGxRmWpGyIc0/PY9aMBdMFP3rAvHq1csdSEpEkQkOW8pQAAATlB\n",
       "mqlJqEFomUwIX//+jLAfdBywcrCnroLJ9MAFhsruTaXGns8OKVzHGUuDTawJGi1SEMN8Au7ieqcU\n",
       "12gsVYPTt+eDksy7yju09wA1yj41wcadY0O8351WgqdTMsHW5gzDqCqmLfULEOZq1j9b0Hii1WL0\n",
       "ILl1wbkSgbqux/EajLuJCqEbdSjfVrXyhPDpecj3z+hU/BasJKoMlaSf1kVBl4zOmHPK8zUjyxsS\n",
       "GNVCtMI29j4cwgrqxcxa+38fvN/lAvhf3rfYMr01fHUZW5+Fm3kF26DY72iIAmB9+E4qlp2mpShP\n",
       "eUiOFsm96crZhgHNyRZts3KoH8ILM4XvYGOGLh3BKTpSOPPecxr2CRbSh1mSLcAkZ1YWH+fvTG7s\n",
       "coe+ugK+BKY7c4qhDNkbR+lzZ/P7yllcGhnBAAAAdEGex0URLCP/A5CdD3ka/EFCR3Ejcl9xGU6V\n",
       "JEvr+lRxijaVAA2jj04C7ncXa1uPuNX3hd2FeRYlvIElnUbU7pKI5vsfZhiuKFydbU3VhFb06iDd\n",
       "9kjqZ4KwoZs8H3JTQdqPuHDXnAVUnTNhUQuzSwT8xfekAAAAZgGe6GpH/wWWYivPN/6vxIgahxlq\n",
       "RorxqgFVcErL/PJxs1wZQoAEnItNk8khNL6RdIyGhk/iL4+X29eO2Qq7butFVK2jpiiK1AtV0Ei3\n",
       "t1lMDvZTaKv1zWP4jnyQjaCPE3pGMdDvgAAAANVBmutJqEFsmUwUTC///oywH3NXrOADjQp1doJg\n",
       "o6bbyKEVS0mXeioqgj8FmqPWO5lQc8LXPZ5F+3ggLRJQ3E/ytXe8dSBHfmxPEHSv0QPZPaAAX31G\n",
       "lNL0Q6nbLb7ZOgA03JVlXdFd02YlMOBo8B7QE8seAsRS4lBpYfr9pFkL4vEmieLePd6icLKuuj8R\n",
       "r88RiWO/6CMwNzlytTp8iW1AeBRBrw0lkYnL0MyiStTa9Wy0gvle6yGaSn6CWlL3dn2j6cpHsegD\n",
       "w74H+aKO7cpHnggFiOEAAAB7AZ8Kakf/BZKKjttqABvXolDFZWnsWlue/xsBaIWyvRe6ABAKPCi4\n",
       "VUm8JOOiXqIjh9FyBhCWvgb2IH6Wwh+COWqkA/TAD+Hg9DydKT/SKJDWhjjnZn3Ve3VQ+Kd5+i58\n",
       "Z4e2vbi2/8xoHkbXcR9Yehr5mvHnLSLnPZjgAAABO0GbDknhClJlMCGf/p4QIo7VDQAEY/nH3eg4\n",
       "YT6jZiDruF3b7jN+dFG84CzfOhC7jxbessYC63qP6Wy7AKSk9B4W0fhA3B1O0o5wxeAHcwcBB7A0\n",
       "VQp8QHX9Dyir3n1SqRAqXyp3LnTI1yO7o2XR6WO3L07anej7HsFB90hgpaCn42u7JChCudW19KVK\n",
       "K5roYw9h+ixJMoCbLPmTt7R9hL0bTIBnN1Q7mldnRjeURen3+EtDSE7xX/htqLtxYU3JqcLIedj0\n",
       "sUNq93mPY5mLTv89YbhMieIgcAY87TT3oU//PWFIRc1Q1sgI42geF7u87vgYXDsDefaBedgk8MAt\n",
       "3l1s8SE986X3je3SViVElL1lsblQoNBzIEq+zjOa0PjPWWJXwv2VYAXOgXZCmSD78UCZfjviWJFM\n",
       "EA8egAAAAIhBnyxFNEwj/wOSgQZ2YWwT8qPKXOAEv5CIwEqa/ZveHO20zdBGRw4nT9vR7Foxppgu\n",
       "KYG7JXrerVZfqXVEve+WFUtBjtrXmFXJU3Nz7Cpttl8I1MAkbuevmPr5goYwrxmIFrXSoKAZZ8So\n",
       "VAeZBmSQ3BVrH6pk/camU2gP8+ZweH1hmNWFq6zBAAAAdgGfTWpH/wWWVKgJ6x+kusgwcgCAbkh7\n",
       "xXk/6dk4Xlq4fgBuZpBQW1nYj2mteYa2Ui+FbdZ+inu00XpcGSIxl2FJp2wqeB7JVjbfdAVNLuxM\n",
       "E4RfPmtyza1PMe/1VMwf2dAFJxTLEihFMbURgsd/gayLXtjik4EAAAF+QZtSSahBaJlMCGf//p4Q\n",
       "Iq+b9ggAW20o8KARj9YY9z8ltKIt3zWFXuhxyr3zGwcZf/cigQlEaBd8UOhiIfy738P1dybCBTkn\n",
       "ur7gKeLE+8af/5Yd72cyM6Y5+B3r05pku3vScdsfR3h+bkM/KUhf+RqdYl6sUPMHIcitcqujnZ2L\n",
       "jEjbAGopkCM0/fabTd6fh5M3Rr5Pnluq2LZSVq6RNCz4DaOYtnOhcynT5yWQeLcRSXUUZ1hwfE/A\n",
       "pokIh/2Th1PuMDOVYvPY/deO/Ki5kj5h9EgL1gvw/vzH/ncpMOZSAzKKo2e2YG2ioQiKS9w9fKat\n",
       "TrKOV/X2QgAO3Fc4Y+haV/XoB3NlTzr+OHLuWI53URN6IWHiCFP8x8pcTy+svdmm7rt0rUBpEnF8\n",
       "FcBmYQAijclXEUnB7DnbmObdLw7dVGqrIMduxd2Ng9A1k/Ssd592QCV8DKcJ4vL6W+DGMRZAU/1w\n",
       "0HIZuLfOReaO/9pufJ5bo5XmlApq0OrNgQAAAMBBn3BFESwj/wOvOufTWV6hvoepEn+z0VgBXQu/\n",
       "g7mHb3DbIk9GxHJLuTMEcpJ1E8ViVoaFDAPeLpN9SaSXHmS2eqH66amhdjbg0YCWdVlaE9jEZJ6C\n",
       "nszGDGknjToyK+bnS0E6PQxeZPlS7srHF5mkfsoV4PmC60hhBGLRzP14KEoPq2Jn00gGOvpcfK7b\n",
       "tEFxlDbAlD2tqHPL5yCqIU3XxEOCNrUgluIFCr7c6+/wf4yoxe1Xbfl3+Y8Lt8e+/EAAAACqAZ+P\n",
       "dEf/BcGtIs5XqD9egi2QW2ZMPMeM2nZ2Y1/KjXcBuyJ4TGzfemcL4agA4x+SooJZg2SHAgbEHZ+g\n",
       "sjAhfnltg02A9SG0b8nV9wRPR3J5cxhB6QteWss6J/kOBNte3vl4rfn9+SN3u/oi6s5moXaGQxyb\n",
       "oBW40Ib0VltEXLdVk3oDi43OQsHMOjOW9eQ7+Lw810UWZ28MX14a/LL+pznt3H7huIIj6cgAAACU\n",
       "AZ+Rakf/BcWfsc3iWB+wfSzDgJGS7er8KYJgu1+59hpcnSfeNTEAw125l4dlno26rMuqsB4oZzkA\n",
       "Ey5wic3sxV0SVA8nJcZJ7QwzRt7bSCl4fm8UC97SVGQUh+r5dfxYvCao8gctyk/qggjb44NwG9Pc\n",
       "haXgkdPR+/jAqtIsKofBJMA+uVh5FY0QRoij+TbhAstYsQAAAaxBm5ZJqEFsmUwIX//+jLAovcRl\n",
       "SYUBEARA2tO5og/B9FF52XlKedtHMmzUDYlwZEQcTngSaQ2vtbt/rNLb8Q+Yv++eJvCzZWBAsGE4\n",
       "vfCgI0Glb447HOt6xGL8Wdo59I+u+/8unI0TwQt438H3hvxzQNs9+3bfol8025Ir/jSg0tGeaH/e\n",
       "7plZYVvUyyjKdpsMsANucRbkhkaC7TxX7cOKQdKfsmmw0ux7p9Q5/0/0xOBI4mP0svrfTuGyvmI3\n",
       "6iS2l7W7VK83kV0bZD9J7uMqw+Spuw6tzBorHmEgaojshHDd6TUZiY04u2vQG4SkQyH0JrmTho+f\n",
       "uBiBvxxtzOgoeHcKcA93kXGRQxt79W1OTMc52N9JGudmv3+J7SqqTbW53qkWrhpNogNtr6Hbiv0n\n",
       "l9+JBDqNuPSkJg+g57AA9jPr06+eruoo1KvgQk2bDTYDs8dWwZeDBEygi0+Oy35/TFO5Cv3Dn1UK\n",
       "GT8XmAnGQfI6AiGB3RC9wRfOp/8RXUBm0PCoP5iyXirVyAzII8jvckM+rkMaTC9uwMBEYovvkFXh\n",
       "+VOVh7DeX+MffgAAALBBn7RFFSwj/wO0x7pUbj9rGAAAsYPRvRa4GkMIxAjr2r3p8QiteZlxAaM0\n",
       "W0V+lP2/M/oHdyOG8NG68kRrMo07ourbIPWehEwECKekFgDlO7FLAfg9J/cYRdbxDePY9Si1Bcfq\n",
       "45104ay5JhdmbrVkssMumgcDhLmRZuNVm6FmsOFF2RzwpDIYI40Cr16kjwv60jbPRnuRH4wnVjWK\n",
       "ysCLFSIxIKK15JPbsEJgNSTuSAAAAKMBn9N0R/8FxFn9OJ1wAW33JXKsHF+7XRpSNyIlT6zTEEq+\n",
       "d6qB9b+h9w/WsUNZAnSdVRr910xpZyHODxhoS13hqCtZf0oPaEaClkO07fpGV+REdvYOUGGnqBMs\n",
       "qQcJSEDo1Obvp7KLBpAjE7Vyswo8Fvc4S5qlCYugnJe6RiuyYfYk0nQKjMorSZoKkBkNFa4hW9Su\n",
       "ejccrdtjW6w/HEflbxn5AAAAwgGf1WpH/wW/bfy3S3aiYtjhTR1b21hX0oZlR6FFXL9QS7idC8Ga\n",
       "QdFGYAHFFPRAti83D2mJF6Jklyw7Qm02ZxFrBrHEFWKcxpr7h9aC/rt65v0CggARULS1HFTWqsVi\n",
       "fcei6TrlMHOPaoN4JWO1Cz4m0PPTHbf/X3b+1xhFT07Y+QeSPsoH5Ln7/NtOe9Wn4CcwTDfX90iq\n",
       "Zj87ewrI/4+heDsEsjK8r7OHwHhXwn1vP96ErU+JXC4EfsbuIpRSuC2jAAABjEGb2kmoQWyZTAhf\n",
       "//6MsDDueoI74VhLMcu9KPHX8PDMxhHp+Vm8qPFDUuAgzIHKhzIRasDSn93fqZ74k1k5nkyLeE1h\n",
       "dpuz6Bj6RCbfHcPhGB5Vi7GsK5grmObKOu2h0NFSqAP7ho5E2qm7dFUOF5RUbLYg3Tda8mEiCTxw\n",
       "b1sUhup6qWc0XfLryMz0zeklE415lmpxqgCCBJD6x2kPBijiiov24cetSpGSEFlcKU0fsbYLIEm+\n",
       "LAT3NtygFckrtMW5988kXHK9Jcd9/GoBrLFBbzOXRbJSwf97KiuLPvI+0Wi257xaHtYjd2Aieb1h\n",
       "0Jc2DevzSwCwsno8eeHmI8xkmGmYrNmExwOOXgZXwQFqiSv9vuKZ+Y0l1WEEKL/bDIFtvj/fcnA3\n",
       "CM/ePjdmm2E4NBXZ3OcPW9UbUUpAaUKdSz3pxifVrrU98nDW4H8fO5DgBYTg2QYcBtXsviFHimw7\n",
       "okKLw83J90pMt7kG4dOLPhlaA9LNh71r3VSWNQ0EJeBhz0VeUY/FOnHdQQAAALpBn/hFFSwj/wPU\n",
       "fdlC7rAjhMQPyiUAJpyovmdsG8OjroT06VMShRKYCTB7DDegygMzHVnKAQ8W63zsaCCP2cIkp3ec\n",
       "zM+rucreGVBBh8aMY7g0U248Jt1wS3gdjAOyrXRecpE4A1ofGTaZeEMHcru4Lb/qRz9HZUELO7AN\n",
       "iIombuqrfKpmAQa2daghstyY+cfjGp/e8M1lj3PZ9mfi1bdV2wARVv4TFOON48M4xS08ao7Y31V9\n",
       "JY/dIYEAAAC3AZ4XdEf/BcYWwy4mRK3Wuttax2BAduzZfqgHgUzeFISTXESCglAAJYLuebonvhXv\n",
       "pSaQ1n7p1wf/J0pF7KAKmiIUKEgiKIeTcaBb8oLjs6aLkXDa3PTZMz4JfV9C9QUfnbyzeHkqv6S5\n",
       "ME3fPFyDd+9dpdXi2OnVnYwCUjlFOQdu1DrA3fOPMVTnc2SksDT/iePlf6Ol7loCBluchdkZrP83\n",
       "pKOzBS3roWnsb3McByzR2k+qUqNSAAAAqAGeGWpH/wXCVKgQNVpYjaa3cOjTX3e0iUJZmPchyifK\n",
       "r0ABbpw69AjEgdsM5b0fSS4Wokv+UMLlyV1zNVsOeSmucFVP8ln19dseoAFN2S7rkz7VRFxS1NUq\n",
       "jXjINDK/23QvPWm5meRnDo+bby27g3GHD1Qf2TNBwZtnz4muLQuFFX0ZEv6XXNLsw3sYPBNyLXcC\n",
       "ve3hK/sJOfWrQeTrDrVscVDdL9rZQQAAAcNBmh5JqEFsmUwIX//+jLApMgGbfUmrCxM3POgBXN0/\n",
       "8CrWkKrNSJ1Z4jxXGQmzmNpxgXXRXhLLCKOly1eWKo9HrsoMa+XIYxeQQt7bs9kZR2vxdc0NamOg\n",
       "EtqX6uOByUZC9xoq7VTnF9x26DVqM1PPkhRGtDXXEhoZDmwJdfit5Ufre7pkOS/CuTjK+2m+NVEC\n",
       "PY4ynnVAcsIEnbjv9sosySRmUzcNobEkkwcyut+Ny52uDRUKgGISXd7eyHTAGKEEUlmW+7bw02Lr\n",
       "i5min07Od/5vvfGLfL1EjXSRbxQhTsyJ5sztNYmvKCXz1YzF0lh4E/f3fkQJ3KpOdgGYgmXWZHEh\n",
       "4Of6akN/xxV4t9rBWp82K0BJNCKNdRjUCeqkIBbUn/qfldZ/wlcL5Spq+/TYUnFvl6LNZoRITWzi\n",
       "B3/qD6W2Q4pRzntQfim5Ps6X6PyrNlTnKKfZnTkIb0X7AqqBwRdbvSKRzJASld3ruZRghcJmFXoO\n",
       "SLQPd2jTCsQRRWcfl8nntDRP24URDcyx0K7OCTomkMqUncxt7jfrP4gJi31II6tmjHw3QGORfLmZ\n",
       "kPMKvRFpVnTfdm50EJHD2WYjG0QgAAAApUGePEUVLCP/A9R92ULarQIygGlEtA4Do1j1uT9n4pBB\n",
       "F0zhtWvjjTAoXV4QjruMUgsJt8p/YNga9dV1L0TCXjjumF6QH2QqXeOwoFfy0U6y5yRwZK8+9XLJ\n",
       "2eYoVjb75elXoHHq1Rks3igfHmgVYgvjDEhcAa/t9cqoMfOLYhJoj8sEz/BJWp+RJiuoXZYqB4iI\n",
       "735qwjwlFRgCBYqceVOIMOEEQQAAAKkBnlt0R/8F9mO7ZKb2SVCxTBl82K63zCTv45GlaGI+TgHp\n",
       "JAB/NL2kUkMncwy1ZN8hmBQRrORbZibkXT85MxdXFE+FIyLIcVlxt8PeX5IRtf3DWNyPOuBcqhsz\n",
       "Ka7zJ8QwO9C2AbVPtn06Ntg95fVKUdXmLm9efJkqnjm9Pjcl4kHxp5j5eMB4RWGZPnez7nk3Q2V5\n",
       "hJgz1Umrj+DlAltYg90X2nN0t4JBAAAAugGeXWpH/wX3ci8o08LbLl68USYFFZAH60f9m36WWc+/\n",
       "bF0mUsAErdnAuPq0YUnc/UOxktkxtbblRJ3xVi8jVD1WeRuCqWnxOpOBUuslJva5R3lDryjnXD4z\n",
       "ZZ+J3A/ek3z/eNtssFIoTBeL48faCR6Oq+mmORXGyIITQ+yHizRsoc52/AG0Ba7OWnjpqEL1xNgi\n",
       "P89CHb4c2xubNxWsUcB47D+wspzqe5jF7LIckK+5aFLD+O28KVfFQAAAAW5BmkBJqEFsmUwUTC//\n",
       "/oywKLvF9o+VuI7DABqyTtP3bkZ8MvqJu9V+YnPTh3hhILzvv0nZH/h/0yie8Wk1bAAck+PGeLDJ\n",
       "4QA7CTJXglUtNRX1flq8R4m8cfW51ljhPYqK6Pk1lHzkvMizh6WrKAGtreIHRVsdR1E2hdVw61u6\n",
       "KyARiBnjuQezKyMCNvlW9RoVCgKGKoTwbEx5ZbxMSriusNIJ0I9Y0yeyAiDyhIRUoaxWMaW8Hbfs\n",
       "xE5iywgozkhPJ1B7e8aj/f9UJYCv7y9A/xNekUY0WpGgGAvju9NfrA0X6/8UY77fcZTjjto4PDRB\n",
       "33zrPwW0aSXpi2pkHNSOtWPIuMJ7BMVfc3Gnax8dcF/iJj55ou9UPGqz+NFHQ1lBKTpM0b+a6S9G\n",
       "OapZzDgf1on3Jf73sLGwwmXrFX9FBJxhwKwq/oDtLSW51eBXJUnIQM/Yqt+Y+3ncSM+RIBlUTdQm\n",
       "fkjgaX5WWCNnBYwAAAC3AZ5/akf/BfeDl9y1F8RBSkvdIzRv//iUgQ3sNI0LEXJq/Wxd/EhnabsA\n",
       "BOii9pvP5XMY/giS6zwzrmyAU/v8tOgVaIKwqk4UhtiFJT50cRrXoGSn0veYbBL+0csoEgZPq9eo\n",
       "8bo8mWxJYWzFjupsF3xTFcqJFEiJVBS/u/T4lcyNGlKLl3517g09o+OLFmTjvjFfTqAynbFq4QdW\n",
       "0P5M8kdj089FkQfQZuWkhBXMoskBhkgmy5pBAAABYEGaYknhClJlMFLC//6MsC7i5AC1nfYKG6/K\n",
       "WmF4Uu3zmVQQaNutwRUsm4fRrTJmGDfA5WSEP7mZ7j5/WMjpZYK2fYf2JzJtPj29PWNJr/JTPTF+\n",
       "YL/2eSOdE/U72iv7fKf1YLV8dbYnDI7EpNGJu5lFSrOcprN1P+EX13O9MENtjiJlOgxHqdpZk+nK\n",
       "ASua7i0e0MDQohZ1jGRkrHbJXDBQtdl1jSEC3BH79f4TaUypgDahfxd1CHLRcCqE5ZyiFcjKYP2n\n",
       "tA00yMsrC2xKhcGz21LaWAbcvlKw/T+lG2tuq0sHDMNqCVOIp1s7tufbIyNl/OSdEtrSVOW8f3C1\n",
       "z0ixAlXbvMPFMJaykVYXGo0Q8fOm1FEcQDHBaZDPviKfYWJXPYQzosa8zbC5RSqR5A3gvt6BYypH\n",
       "5rAsPEVOPmGYfSNBCsP+CPRI55VIuz5oCen/vzXiFtvlqQ50K5Aqk+AAAACTAZ6Bakf/BfeDp1+6\n",
       "/NrIqVXNnOxJwxIa1iQWoB64O1HHPjABN1yViM51Jt/dysQM6hTNEjwfd/XxZjvYNc/dPLMSHhB+\n",
       "nrnI06A7Ag4j49URjX8OzacG44iulJAHaqn003Os6QBvvkiEMJXDNYaHimt7jU7pWpQYeOs6iPUR\n",
       "PACxFNqHr3SofFsavuxAVZ/HugshAAABjEGahUnhDomUwIX//oywLslAs/WiADTPOD93IwwJR17q\n",
       "tKmXZYXd2i4ANDl2cBTlUV/cKeTqbKxqAx+jFuEGKdVS8D5v60RHVzsUFuNkzspWQz5RBWqvgeRq\n",
       "WPTg+VQXAXyrVp4VSvRGYStil+2u+A88u2viLmuNpItN7sJAuiBKmwAxbUUVB5IQP6rZmzlXmdH/\n",
       "GhdaAbEgSnNcsQOzcWsKH29npmrDrIbFXKegSvv0W1Pga99nffEp9OgVZjrG91TnTkAlhQUcmOK6\n",
       "Cy5CaA5TYKqhEawZWmJYRgDuk4/iVi60m/Fmmz06ITayxx8Qk/dOp3hSy0fCfgWqqapnkqgT+oCh\n",
       "dag4kGAo8dWQ9+RBqPBIlQ2O7fvabMuumW4TNGTE+1PvG+LE2h6qoRhNtK/BzieVhckrnSRa22F3\n",
       "6lCZfzN28h9tihj3ry+3s6aI64Q11fTjTzA0dSHYGOBPSru7iyel+0tMgEpdvNMnlrRMZ7BASF4Q\n",
       "HAWkyenko5Hz6Yk+1XWzNYVKX32zkwAAAHNBnqNFFTwj/wPUetfwBKEzyaRDOYezH+i+aUoDB5d2\n",
       "Lyotfj7JBqhf+Hlhvue1x5z54vwuJWSvzODxaRW6lmOzdeHGf1U/MIIKppWoPi0UAH1/30v0DQrE\n",
       "+wEvCrNr2K/kxr1K26Gr/ARn0RN52fQkkMPFAAAAggGexGpH/wX3g6dfit3V3ZuNbpg/p++6urBp\n",
       "aYeB+/xHxN9QAB87ZnFKRgfJnjJPWT8CRxpQtulKjFrHzeiz+RaZ9a8T84tUUB5RsTse9Zz+PalL\n",
       "zZO4Nttl9X/HSPBIIKzf1o1pNGtpyV2kjfIxMFAcUNv6TEGilUIpXRpAt3qZdtkAAAGvQZrISahB\n",
       "aJlMCF///oywLsjzYnlIuNDXP0AH7UHia/gqLB52rjzPqeWkZODmrbvarwSyitRzL+h8OGs3tZGj\n",
       "YROm5Y4YTTwQ+LxQlozd65as3OMLe/6/jU4lCapxfrCFI4RD03DGEES6Co2RljHBWq3OLXdlDhoz\n",
       "W7DPi2pkTDqEr7BgtS19LTzvw3E9IP2Vl+qi9r9LCjQkrEMuNhyAwZ0xuxzHVbfFSKQv7xrnJ7BP\n",
       "Z2n06cpxl3jkGOUO/Bp7BT9C65V/sDKjv2H5G15H4glFI9Yee+DNJEcisTone9rZnVjmzLr5sWJL\n",
       "Al2OYg1qyUaffeQoRndzJbTZZ6d9Ft3g0FwKqwMQmhTWQ5W3xnZMeVBy5/oJO/uODh0+n/yu4HXh\n",
       "Ox2u3eIfftp0nL+wkVLpiVw7sAKRQ9em815dNUHNkBZ6+YadJOsBlZqJcbR0s2yLOYsbbXpr6diP\n",
       "HpidGp/Hw8hSqw7VA/jzrne//bvOlCot0vrrd9/FI25iEslj2ob9yXjo4/k6jL3Z5rzsEMECF1KQ\n",
       "ng5F1FDc84nKZy3x37u5K7QU334zSAwjwb0AAACQQZ7mRREsI/8EAHbzimy18kbw1DB5cs7kUcoI\n",
       "GQ61VsLnp6YTmQiaxV01FD795LDKlP4RLG53yqC9EeaIAYUQccLgBCZq4SOYwAMZRBmmhcbGqoED\n",
       "u9dUuPgpQt9Isfnnnt6Crcl23RNymjjqjnvMoGIMUbPQfHmqH/cyOZM9pWm528O2AkmIMPzENL/s\n",
       "c7a3AAAAgQGfB2pH/wYvgzut7LZJ86CqyWv14yOanVhwXQ0nNkmh4ffQCAB6vtdWBYekQHiL/5yB\n",
       "Ta1QZygsvDWPADFQcGPEUURVvrZioPuQChH3dci2EJTkjCC5J4zo4F56x1jhwsutQcNOYC2yotIJ\n",
       "Cw24CkOkAEqx+IpDRKhApuKb6AhOwAAAAXVBmwxJqEFsmUwIV//+OECfGkeygOCsfZ4GUvLogv/I\n",
       "gvXtcIGoU69czGLxOQDGG9wADhi/ndI4zhgCtgddfRL1uqml1xj0NxT4OeQWW+Cpvl47dKVPjk61\n",
       "9BZCBaCO7ECdnxosF09LaXBIh63NpyuGOCo5tgPFn8X9EdXFCcIfHcyBtgF2rCpA3Kc1JuX/8odd\n",
       "wMjy3XgO2zGUVrB74UUd1bg1HAneSKjsQKwIdFXg5hMh/10STjMPgwuF4KGkbjpy8xo86lYMUY9F\n",
       "zbqrMu0/giezUaJMcYN/ZTuQeGAJ4BK0unUNQUOZmdJuhkwXwZN9cJSiib0l1nLauGi9xoZtmA08\n",
       "twa7hvPQ1aK5pSZG/HVWb18m23M3KtcibW/pS1QvF1DnmPkCehw0apF/vedTT/X/9HCpX2AIHwJ4\n",
       "Elch3K5tXoWWCZZJRPCCv4U/RfthYv3tj349UWFv2eV+/W4MtKJjcGgLNxywk6Lth9F2ApmPGfwg\n",
       "AAAAsUGfKkUVLCP/A/04sN+Sy8tlgPBlPArmAPvszEaOmkP+IZoabPS9NhvdEHd0IHmqgCPMygY6\n",
       "WVoDU3Y0DFhV/iPK0VQoILrex2/APDqmJIiiWPGns1DKxQY0HKbIywA6qKEAQTI3skXjlZ4BwnRT\n",
       "5bq9F3vI3KppHHiJ5GW6jUz5fMqJF4k9Ac1krGZ+ukK+rP0Hojm0I33GH+ogCB8/m8GWdkbTaduQ\n",
       "uK/lTSjh01AQMQAAAMEBn0l0R/8GNBlpGQ1WLE+EDnHANfufpOXupMn4gvDyFRwVbwALis0hxSMz\n",
       "n6PlIiFJ7SHn49IUulBxa4WFqWltHI9kO1LsIljPq/RkHgw6JfEXfbXxqt0sbq6Yy2RVEtElE29V\n",
       "F81rynwQfZo+yBn93IrxL5ivfR95PD32lV6nCd1UHX5WYUmvjkJL1RhM0+ilIy96g/TNwF5qKys4\n",
       "fP8jDLEEIPcw/KircfSwtavw8PdIQoViF7cDXBSZkAf6XCZQAAAAwgGfS2pH/wYzWWXjoKVmMqqa\n",
       "0AHVCFZobqkC2+aI0RtvECADdw0Bt7fust9xz6gHem5LLptZ5CSxvVpmgamFaM8RKGlvE3yjzrHH\n",
       "mZvL/bX2MLXD2BAYJ1fXRR53Kg099LV7AISea6/RjPMwIhZR3UQC2WFlbCKJc9p28G9Yf8yPaetl\n",
       "FLVBzhra6Gfr7Ucih8wfAPsBC7kCnLE/aS1yazXDo5zxTa7bmelFgmbgfNd4ZecuLWbRe5IavJWa\n",
       "qWaYbSReAAABG0GbUEmoQWyZTAhH//3hAnlJ8ALeNIrT4Wt9CxySi44RP0tnueQ8LZhsaKi5P3lN\n",
       "pwoZeJdV1SF+0Te6fAZCWvfLFlwFzmPmdmQjhRtltybs8mq9jPQLeyHZGnIMJywdBLnhvBCOG5/j\n",
       "dJDm9mXR1qabeKrLimskT9hixc48Mh/x6/WgsytAYCfcKUb5pGFuYDR0V40df85aET2vSzyyKCSZ\n",
       "+908PzGXRGxFY0dqwdymyXumiL7kLL875JGSOKWVrZlcGku2Z4JyQn35ccV3hX9Hz3s4tqum5bje\n",
       "OrmhKBU+Gu0xUKdUMEYaYNlkdIfTGnhx5zNgQTckuddEZqn+8M7In/vfPHwjB5oMoDCswlCUVCY+\n",
       "F7gBgpp5CUEAAAC7QZ9uRRUsI/8EAFYcPuO2loAAQ9hlgADxmitP2EyHRFGDYWjbKRujm9Bi+bEM\n",
       "/8QGZSAFyQjE74G+CwdoWY8HwAzekiZQie47i/w/fihRWXnyeRaqa5aS5xeh7MHsmHX26vlloAuf\n",
       "f4GpTPUrCqH7O9pbAjzO96SZ6qjBAsT7nqOc2Mr9YM365sKEgH2nK0/bJ8adVpcyVKpAhJil5C0z\n",
       "h/zcZIYwc83G3wA+VuZAuO5Cr+1twBnlQTHH4QAAAMoBn410R/8GNA2bRWdcsr6/krHnFEKYiqhf\n",
       "DtQYwbuI1gamAD2to+35zwiWEsbejGwXKSjH5HKpYlfH27+6TrsnFKz/I//1hs2g4hNs5MF7BxZT\n",
       "VbyoIRSA+6o9gs0PXp+434O3dw/gVdzmppjV8fwwDm5fDQs0sRB7FmIDm7eFgUVYPW/Z4fdPvtMB\n",
       "kIlRHz3SSFtwpcmpinDaN42NMwBTUUdvU3bYdtHxAwck7pyYs+7DD34un6QwZ3QkuV9rPdK5fqOH\n",
       "veqWjJ+BAAAAxgGfj2pH/wYvg5W9v1VmOJT1HevqdvLTT0kNc8QpGYMx95GRZiiSIGIm62gATrJK\n",
       "/1GqJHH6z/Gfz8darj1VdcndaTlcOf9n+xakVMwWBVDmS0IjAB9lwqcbVW5oJMEhekr3kAmW86gR\n",
       "42lVf5jE3KVKjt6nuXg+FfDxuQcDyI02yut+cfxBiVmSwjIQNJFNdfvabKNT/S4cc0aWzVAfEipA\n",
       "0H0PsO0noIqwf4jvU8/HIxkTrEexdGCiAQXt6NRq86ou3Lj2QAAAAMBBm5FJqEFsmUwI//yECJ8O\n",
       "AAJfsnotx834E2hzLrJYtgAcDrp8oBm1SwDG6lNh5K5H+8I4vdWfgqSkTOyci/SPsRLqAUWc+YlS\n",
       "eegN1YBRZvglRA1tXjvXsJ5xJkmG6zF66uFAPiaj/zK1G4mxEvp1yZl7pqZBeMy/CEYX2DBNaT7W\n",
       "cmylJca+Yzub2P9j/J7dAzOs8DQltoQT9s0SeOCm8lNd7ogh0Vv+A/PWJxcXVjq1QooUSRkKs17r\n",
       "7by0q1MAAAVWbW9vdgAAAGxtdmhkAAAAAAAAAAAAAAAAAAAD6AAAA+gAAQAAAQAAAAAAAAAAAAAA\n",
       "AAEAAAAAAAAAAAAAAAAAAAABAAAAAAAAAAAAAAAAAABAAAAAAAAAAAAAAAAAAAAAAAAAAAAAAAAA\n",
       "AAAAAAAAAgAABIB0cmFrAAAAXHRraGQAAAADAAAAAAAAAAAAAAABAAAAAAAAA+gAAAAAAAAAAAAA\n",
       "AAAAAAAAAAEAAAAAAAAAAAAAAAAAAAABAAAAAAAAAAAAAAAAAABAAAAAAbAAAAEgAAAAAAAkZWR0\n",
       "cwAAABxlbHN0AAAAAAAAAAEAAAPoAAACAAABAAAAAAP4bWRpYQAAACBtZGhkAAAAAAAAAAAAAAAA\n",
       "AAAyAAAAMgBVxAAAAAAALWhkbHIAAAAAAAAAAHZpZGUAAAAAAAAAAAAAAABWaWRlb0hhbmRsZXIA\n",
       "AAADo21pbmYAAAAUdm1oZAAAAAEAAAAAAAAAAAAAACRkaW5mAAAAHGRyZWYAAAAAAAAAAQAAAAx1\n",
       "cmwgAAAAAQAAA2NzdGJsAAAAs3N0c2QAAAAAAAAAAQAAAKNhdmMxAAAAAAAAAAEAAAAAAAAAAAAA\n",
       "AAAAAAAAAbABIABIAAAASAAAAAAAAAABAAAAAAAAAAAAAAAAAAAAAAAAAAAAAAAAAAAAAAAAAAAA\n",
       "GP//AAAAMWF2Y0MBZAAe/+EAGGdkAB6s2UGwloQAAAMABAAAAwGQPFi2WAEABmjr48siwAAAABx1\n",
       "dWlka2hA8l8kT8W6OaUbzwMj8wAAAAAAAAAYc3R0cwAAAAAAAAABAAAAMgAAAQAAAAAUc3RzcwAA\n",
       "AAAAAAABAAAAAQAAAXBjdHRzAAAAAAAAACwAAAACAAACAAAAAAEAAAMAAAAAAQAAAQAAAAABAAAE\n",
       "AAAAAAIAAAEAAAAAAQAABAAAAAACAAABAAAAAAEAAAMAAAAAAQAAAQAAAAABAAAEAAAAAAIAAAEA\n",
       "AAAAAQAABQAAAAABAAACAAAAAAEAAAAAAAAAAQAAAQAAAAABAAAFAAAAAAEAAAIAAAAAAQAAAAAA\n",
       "AAABAAABAAAAAAEAAAUAAAAAAQAAAgAAAAABAAAAAAAAAAEAAAEAAAAAAQAABQAAAAABAAACAAAA\n",
       "AAEAAAAAAAAAAQAAAQAAAAABAAADAAAAAAEAAAEAAAAAAQAAAwAAAAABAAABAAAAAAEAAAQAAAAA\n",
       "AgAAAQAAAAABAAAEAAAAAAIAAAEAAAAAAQAABQAAAAABAAACAAAAAAEAAAAAAAAAAQAAAQAAAAAB\n",
       "AAAFAAAAAAEAAAIAAAAAAQAAAAAAAAABAAABAAAAAAEAAAIAAAAAHHN0c2MAAAAAAAAAAQAAAAEA\n",
       "AAAyAAAAAQAAANxzdHN6AAAAAAAAAAAAAAAyAAAQwwAAAPAAAADyAAAAdwAAAO0AAACRAAAAlQAA\n",
       "AT0AAAB4AAAAagAAANkAAAB/AAABPwAAAIwAAAB6AAABggAAAMQAAACuAAAAmAAAAbAAAAC0AAAA\n",
       "pwAAAMYAAAGQAAAAvgAAALsAAACsAAABxwAAAKkAAACtAAAAvgAAAXIAAAC7AAABZAAAAJcAAAGQ\n",
       "AAAAdwAAAIYAAAGzAAAAlAAAAIUAAAF5AAAAtQAAAMUAAADGAAABHwAAAL8AAADOAAAAygAAAMQA\n",
       "AAAUc3RjbwAAAAAAAAABAAAALAAAAGJ1ZHRhAAAAWm1ldGEAAAAAAAAAIWhkbHIAAAAAAAAAAG1k\n",
       "aXJhcHBsAAAAAAAAAAAAAAAALWlsc3QAAAAlqXRvbwAAAB1kYXRhAAAAAQAAAABMYXZmNTcuNTcu\n",
       "MTAw\n",
       "\">\n",
       "  Your browser does not support the video tag.\n",
       "</video>"
      ],
      "text/plain": [
       "<IPython.core.display.HTML object>"
      ]
     },
     "execution_count": 190,
     "metadata": {},
     "output_type": "execute_result"
    }
   ],
   "source": [
    "anim = animation.FuncAnimation(fig, animate, frames=FF[0:,1,0:], interval=20)\n",
    "HTML(anim.to_html5_video())"
   ]
  },
  {
   "cell_type": "markdown",
   "metadata": {},
   "source": [
    "PRESSURE"
   ]
  },
  {
   "cell_type": "code",
   "execution_count": null,
   "metadata": {
    "collapsed": false
   },
   "outputs": [],
   "source": [
    "fig = pyplot.figure();\n",
    "ax = pyplot.axes(xlim=(-10,10),ylim=(0,110000),xlabel=('Distance'),ylabel=('Pressure'));\n",
    "line, = ax.plot([],[],color='#003366', lw=2);"
   ]
  },
  {
   "cell_type": "code",
   "execution_count": null,
   "metadata": {
    "collapsed": false
   },
   "outputs": [],
   "source": [
    "anim = animation.FuncAnimation(fig, animate, frames=Uc[0:,2,0:], interval=20)\n",
    "HTML(anim.to_html5_video())"
   ]
  },
  {
   "cell_type": "markdown",
   "metadata": {},
   "source": [
    "We observe a behaviour similar to the analytic solution for density, velocity, pressure. However, there are 2 types of \"Gibb's phenomenon\" seen at shocks. If the function itself is discontinuous, we see an oscillating wave propagating near the discontinuity point. If the derivative of the function is discontinuous, there's an oriented bump at that point. We notice that the bumps are much more localised than the oscillating waves.\n"
   ]
  },
  {
   "cell_type": "markdown",
   "metadata": {},
   "source": [
    "Here we find the values asked in the assignement"
   ]
  },
  {
   "cell_type": "code",
   "execution_count": 63,
   "metadata": {
    "collapsed": false
   },
   "outputs": [
    {
     "data": {
      "text/plain": [
       "292.61147152682679"
      ]
     },
     "execution_count": 63,
     "metadata": {},
     "output_type": "execute_result"
    }
   ],
   "source": [
    "Uc[50,1,50]"
   ]
  },
  {
   "cell_type": "code",
   "execution_count": 64,
   "metadata": {
    "collapsed": false
   },
   "outputs": [
    {
     "data": {
      "text/plain": [
       "30250.890167572015"
      ]
     },
     "execution_count": 64,
     "metadata": {},
     "output_type": "execute_result"
    }
   ],
   "source": [
    "Uc[50,2,50]"
   ]
  },
  {
   "cell_type": "code",
   "execution_count": 65,
   "metadata": {
    "collapsed": false
   },
   "outputs": [
    {
     "data": {
      "text/plain": [
       "0.37469140264760109"
      ]
     },
     "execution_count": 65,
     "metadata": {},
     "output_type": "execute_result"
    }
   ],
   "source": [
    "Uc[50,0,50]"
   ]
  },
  {
   "cell_type": "markdown",
   "metadata": {},
   "source": [
    "Let's try different initial conditions"
   ]
  },
  {
   "cell_type": "code",
   "execution_count": 194,
   "metadata": {
    "collapsed": true
   },
   "outputs": [],
   "source": [
    "def rim(rhoL,uL,pL,rhoR,uR,pR):\n",
    "    eT = numpy.zeros(nx)\n",
    "    rho = inicond(nx, rhoL,uL,pL,rhoR,uR,pR)[0]\n",
    "    u = inicond(nx, rhoL,uL,pL,rhoR,uR,pR)[1] \n",
    "    p = inicond(nx, rhoL,uL,pL,rhoR,uR,pR)[2]\n",
    "\n",
    "    eT[0:] = p[0:]/(gamma-1) /rho[0:] + 0.5*u[0]**2\n",
    "    \n",
    "    u1 = rho\n",
    "    u2 = rho * u\n",
    "    u3 = rho * eT\n",
    "    U = numpy.array([u1,u2,u3])\n",
    "    U_n = Rime(U)\n",
    "    \n",
    "    Uc = numpy.empty_like(U_n)\n",
    "    Uc[0:,0,0:] = U_n[0:,0,0:]\n",
    "    Uc[0:,1,0:] = U_n[0:,1,0:]/U_n[0:,0,0:]\n",
    "    Uc[0:,2,0:] = (gamma-1) * (U_n[0:,2,0:]- U_n[0:,0,0:]* U_n[0:,1,0:]**2/2)\n",
    "    \n",
    "    return Uc"
   ]
  },
  {
   "cell_type": "code",
   "execution_count": 223,
   "metadata": {
    "collapsed": true
   },
   "outputs": [],
   "source": [
    "    #Code parameters#\n",
    "nx = 81\n",
    "dx = 20/(nx-1)\n",
    "dt = 0.0002\n",
    "nt = 60\n",
    "gamma = 1.4\n",
    "\n",
    "\n",
    "    #Initial conditions#\n",
    "rhoL = 1\n",
    "uL = 0\n",
    "pL = 100000\n",
    "rhoR = 0.125\n",
    "uR = 0\n",
    "pR = 10000\n"
   ]
  },
  {
   "cell_type": "markdown",
   "metadata": {},
   "source": [
    "Let's discute the convergence of the solution.\n",
    "As we saw on animations, solutions for velocity, pressure and density partially had waves (density even 2 of them, one slower and one faster). Obviously, this imposes conditions on the ratio dt/dx given by the wave's speed and the CFL number.\n",
    "However, given the equations, the wave's speed doesn't come up directly.\n",
    "First, we're going to make approximative calculations to see what direction we should take.\n",
    "The Velocity-Distance animation (and the graph given for the analytical solution in lesson 3.5) gives us an approximative value of 290 for the wave velocity moving rightway. Let's see if how the solution behaves when v= 300 and CFL = 1"
   ]
  },
  {
   "cell_type": "code",
   "execution_count": 224,
   "metadata": {
    "collapsed": false
   },
   "outputs": [
    {
     "name": "stderr",
     "output_type": "stream",
     "text": [
      "C:\\Users\\Chopin\\Anaconda3\\lib\\site-packages\\ipykernel\\__main__.py:18: RuntimeWarning: overflow encountered in multiply\n"
     ]
    },
    {
     "data": {
      "image/png": "[encoded data removed]",
      "text/plain": [
       "<matplotlib.figure.Figure at 0x255bf457f60>"
      ]
     },
     "metadata": {},
     "output_type": "display_data"
    }
   ],
   "source": [
    "cfl=1\n",
    "v= 330\n",
    "dt=cfl*dx/v\n",
    "\n",
    "Uc= rim(rhoL,uL,pL,rhoR,uR,pR)\n",
    "\n",
    "fig = pyplot.figure();\n",
    "ax = pyplot.axes(xlim=(-10,10),ylim=(-1,500),xlabel=('Distance'),ylabel=('Velocity'));\n",
    "line, = ax.plot([],[],color='#003366', lw=2);"
   ]
  },
  {
   "cell_type": "code",
   "execution_count": 225,
   "metadata": {
    "collapsed": false
   },
   "outputs": [
    {
     "data": {
      "text/html": [
       "<video width=\"432.0\" height=\"288.0\" controls autoplay loop>\n",
       "  <source type=\"video/mp4\" src=\"data:video/mp4;base64,AAAAHGZ0eXBNNFYgAAACAGlzb21pc28yYXZjMQAAAAhmcmVlAAA13G1kYXQAAAKuBgX//6rcRem9\n",
       "5tlIt5Ys2CDZI+7veDI2NCAtIGNvcmUgMTQ4IHIyNzIxIDcyZDUzYWIgLSBILjI2NC9NUEVHLTQg\n",
       "QVZDIGNvZGVjIC0gQ29weWxlZnQgMjAwMy0yMDE2IC0gaHR0cDovL3d3dy52aWRlb2xhbi5vcmcv\n",
       "eDI2NC5odG1sIC0gb3B0aW9uczogY2FiYWM9MSByZWY9MyBkZWJsb2NrPTE6MDowIGFuYWx5c2U9\n",
       "MHgzOjB4MTEzIG1lPWhleCBzdWJtZT03IHBzeT0xIHBzeV9yZD0xLjAwOjAuMDAgbWl4ZWRfcmVm\n",
       "PTEgbWVfcmFuZ2U9MTYgY2hyb21hX21lPTEgdHJlbGxpcz0xIDh4OGRjdD0xIGNxbT0wIGRlYWR6\n",
       "b25lPTIxLDExIGZhc3RfcHNraXA9MSBjaHJvbWFfcXBfb2Zmc2V0PS0yIHRocmVhZHM9OSBsb29r\n",
       "YWhlYWRfdGhyZWFkcz0xIHNsaWNlZF90aHJlYWRzPTAgbnI9MCBkZWNpbWF0ZT0xIGludGVybGFj\n",
       "ZWQ9MCBibHVyYXlfY29tcGF0PTAgY29uc3RyYWluZWRfaW50cmE9MCBiZnJhbWVzPTMgYl9weXJh\n",
       "bWlkPTIgYl9hZGFwdD0xIGJfYmlhcz0wIGRpcmVjdD0xIHdlaWdodGI9MSBvcGVuX2dvcD0wIHdl\n",
       "aWdodHA9MiBrZXlpbnQ9MjUwIGtleWludF9taW49MjUgc2NlbmVjdXQ9NDAgaW50cmFfcmVmcmVz\n",
       "aD0wIHJjX2xvb2thaGVhZD00MCByYz1jcmYgbWJ0cmVlPTEgY3JmPTIzLjAgcWNvbXA9MC42MCBx\n",
       "cG1pbj0wIHFwbWF4PTY5IHFwc3RlcD00IGlwX3JhdGlvPTEuNDAgYXE9MToxLjAwAIAAAAvhZYiE\n",
       "ACv//vZzfAprRzOVLgV292aj5dCS5fsQYPrQAAADAAGuIYzZ0VlVAIMAJbKg8CbsPJvwPKbB1aCm\n",
       "TrEeDdQsLwb3mXBsFxEcnv26qL+nZhaap9hmCSXDoxinv1Ur8Tx2mk3e9O7CSt7i4FOnZ/M4QbN7\n",
       "AZED0bg0FDBh27G31fofIHTYORfqzopL/ejT/n5mkgvQs61sGCLxrlq2WM+zjXSWzUqjHdazH80T\n",
       "/BTeqPsPNS8NFzvV0Fycg5F0C7fOkHzsT5dlmcelUtRtOym/6e06CCJx01TjAsnc7UXp88lvYt8c\n",
       "BTcaLkQqL/j5i57pdR1tDaZiyPfB9lgDBt1KMdYgg4GRMo46rNz17u9Lkdr4+9QqSIr1B4/6LoP4\n",
       "KhH/C0guQTJSdQGnC38uMAnmFchU+f9+RuBDhdm+AMqtgeUf69Fq1Ov/sJcuBxFPPfBfqF723y9Z\n",
       "4fd8kswgmVtFUpD2/b5fy3SC2D5x6QCJcqV8ZmBsB32Ng34YY/2hXuLu6IfgZ90BCJ7kjQCOLNMf\n",
       "XS4FbbG91VF7JCv8kY7gKBZrDoK9zMCpasO/PTIAAAMBV+/Y7ABDishWBJHd9fCN+bUO9AVv9SNK\n",
       "tCfDzOGoKxdAJGJeSmHp6JciNNStnat2zkWnDAZJDt1R6txdhzMo3iCWzTuZ7e1vGx1mFkoK72Il\n",
       "MgAAbO33al3ee3g/qm7ZuN7KMZRT6+yLevVUg2vtC+fbrE2oj8SZu2Aq1moTJgZue9088Hki3OvH\n",
       "5PIull2hyLJ7y/3TVizw0CxlhunlpK/84Fqm2Li2MwAg7FZ1O09jEd26dcCTNKiYMcQ8fRgFZrHa\n",
       "fWCFOjkDGQRss2P/FVaA4p3cSnKL2TH0479vBE6lkFcFQ0vtGUC1TrWTmkFH3dVMjcrRFyHUyH2A\n",
       "BWFhvdlTZaTVjXbmKa6L0dnEFA6chQ1W+crwAUJ2m2G+zyu8IoZoSE6zESay9NWNkqHNcyc7NFuz\n",
       "dK2zViOOohXYVCg8LEDcVr0xv8y0QI6+kaW5ndNjbWgc2hb07sI6G+wcWvNRwU+wRmL/iYHF47Oh\n",
       "6UDjfTFeKPqwcHbqB9QGXtLqRZJ72SGLlMMs3+eLWu/+Y7o/n2elInPhqXY1ilRcNSrjYm+9YxHn\n",
       "0uUUABdZNZ+gEQ0ePU3fmCAhM+4iSuhZ1oILsQWXk+6HU1qX6/oH795GLtJJmXnPgt+Z1tqWK5Lj\n",
       "lXSEfNV9XMfI64UK3hAfVN4kpeGYqokupJ49vdK10GSKZvZBgqKkZm9PRitmJ1aDsQ818jE0VN1E\n",
       "pDKxoNL9RujgcxuKwGDMgqFc98ZZFeE5IOchELr5dNxDXQ/UwhjzmjUfPdAnafk4JD9WpYlxvOMO\n",
       "vSUzmfF4rqv5BWaiXOJqLUTEL5rMZPgAxiDFRL1FwHc1ECLWcexmnHILjwTaHd/v3FaCIfQeA2ta\n",
       "JXW69iX6rwWn06wNzdTfINaR02t6a6cHaBjQdteo3Fd77nqN1VfvSFoOf4RBM+5Eb6ub3QOVDj3d\n",
       "Df5w+EIqvOXL3wGBxrFP00valfs2pxD8rDxgcVwWjdrS6JhgqWHs3GX+Ic9+YrdqZ2sbIFf1oXcP\n",
       "4jo1Y3SmQ/dXDp/Mtssdh3Kv3ijFoV+BHB3N5YisIeMJQOuj4Ndxf/lblpCW7jVtufQE1+sSRFcA\n",
       "AHmreL/kVoCm8eZ9XxAP/jeDMiH19z4/XAEFP9VweldAohOsbrjKIQusJOT6lMO+Sn9HKg8kZDoy\n",
       "E78A7efhyNqRVboOcghzNn7qd/4OahRuMunHmuCO5uHJnozuCzwkaK+MsyclEJJXDevQ18cugNnW\n",
       "WI2FjhDzlABHS0HO+u5Am6+G0lOXdgPT0VeAGLmxRZ1w5F8Hj+tjtYdGefy3e7dIwnSqDNN3vFIX\n",
       "6dYYEkwMqlbBbzONG+yWfVEBcyBymcjguTB8n6jVVytfqgq9gAQWfrYyYI1SXVGZzi8QAABA3JiR\n",
       "EjVQfhkKweraLZmrWAa2pwJz5fjcSgQoHGe3XP1h13pZ/+gSWjNG5hxTovK9VDQyZ1mHmIz0oFmp\n",
       "1i/q7/CEtAgMmMLnXB3oeYfflRcmFzu1c+G0zmiQ/OdvFos+kyTpazYh6UialNTvYhhCNKaj/BFB\n",
       "9Oa4Y0wxr/+j1zHY93q4xucl0UaPutuPE5N6lJh2H/TKOCtJ5bz1qi4qkXbCG7IDAETdjjAI+QT3\n",
       "BZrjiK6dwltbWAk/8uRB+D8V48iMMnUKhRaoT00SIpHcQEIx3SlH4VAlPtQNetQqS9IGEVtJz74i\n",
       "i0KDScSjTPoY3YRIUzNt0cLAXu3WOsERRlQE1Qo/ONQX3jjP4bgwQ1kKc1YpKd6t2XXclWWstMaT\n",
       "UgDdc1/OWdVcr+6BfHhLXtJ5H9smNWWjs1WXanMM294EbfT+T5pxPr9xnhGLfNnQZJNoWcC25I5o\n",
       "MjegSE+CEbeCgg2vxQFNB29dHAu0wuNbYsDGo/kebsHQ54kXQhCs8HRVCJiIdIwwW1SQ9gz6d37L\n",
       "rW/jMSp9UeuKeHuhBjxYCRhqCnPb/Hf/7xmy/jL/3NlDDHzBmeJQtBiBFiZnvTS/Q2l86yk4CgGq\n",
       "hy9uK66Bw+sIU0FRNyegWpZBs8T7YHGoJT194sGcqV4uoJdh6Wcac2EiMdKvyvN4dQsJvOpPzvGq\n",
       "YLjjFbirt+oswUhLRCq+s+ADRwMLkXx3o3BcgVpFD7zQuF/nZT8tb1ZPjxnvh44ahaRtt/FEd05X\n",
       "53StmP96yod+CWfL55xl34vfv1klzm1N04VaCfcurjVAI/eCWEmpNPXJM1IEOLKkkWYTNEvYnIta\n",
       "atkwFDR9ZBFdf3O8LaSqTaTIlBXANFo3Eg8kX//eayWDbJ2uL0UHRR/hWHfFTTb2H+wDE6vLyQIa\n",
       "B9SGTtl/pBXKvpORBsjRxOlbvmMB86DVdNZ0XsFXM4dcxgSXZuO5ZV0VutSNoQr/w9Bve/vyQCJm\n",
       "jiDP2uxmPgQv0a4rXgp7jJRbL4fvxS+lwJs4mf4CAM7MGyNtiiEof5d1OcbZMiA205/a3NT2FPmD\n",
       "2soj3Cgqyqf4YBCWYUo5U0DxsTKZHqMElBtMVREOt+ZAw8uRPdurr7RoCbT1D15s5Ho4rPKW5uek\n",
       "1Xc4L+RxjBJlaxBJi9afAH9pSN5Xik8dJSJHlBQU2doJZdk0tuNKmJ2OgXyIc2iD8qeO0syroF8T\n",
       "9LCM5v9MQy6hmd5lVvasMWXhkRu398Cz00Unc5L8U38QEarmkuPaBDt8JPaJJ1gJho/11dcIz3ko\n",
       "KYSfPY6p7w4iBWmCnsgW3+3Fi4xE62fN3oHrZK4Q2aZksMoG4ELmJSRpsmRH/sTv1wGKO/GCXTm4\n",
       "LPQn08wZ7eWs4qndNyHhfqM1ZNfYlyr1HT5mv/Eooz4DT68tCiOGdRtWlEVArbYrXQ6stTFQ2Vbi\n",
       "N6u1oOpaGA9Ylos07T0MXWJBk/19D9yYMak1kgtq5LZ4bTRNgG26ykgwyRcyQtuPf3pDvK+/qmMi\n",
       "PvyylFpygDc0IFxqha1zDXQm5mO2TKakKxEJJBeEmmDIIyzqFC0MxNZGbBZ8apO6faPp3u+GxdAY\n",
       "wxTcV3xJbfCnjB859w65k7z8FB8l1FC1ASgyplJsOBPPrYmud9cOCcowzU01Buot1CB5PyphThTW\n",
       "uHtF/iT9/Otdsg/i24y1LFbs2a+Qlbr5sMJBqeqVaE5iVgve8jOqdADt3P8s3AG2wWHkZvQ3ikpP\n",
       "9mIHOtPO2tBKbd6X6CBMmCbl/TxB90Te+EUztY1mjVyloko03ZVfhP+v9oPkVB4mrZld07hcRUOI\n",
       "3BZLs0O8o5EiVa+K8q3/kbyCy1+RkL4Jl4MsLc7S50NGUyBFbedbDUb3dByiTWWoYGtex90fwKnG\n",
       "gVjDEnIcJTjqRfwBIi+TFXZtKMVwvs9eqic2fpRjoXC957MnkCPxJflgJR+KF6j6H+CTmwPR+067\n",
       "DtBX3tgGsBc0K/q0MqCdOiYLuzIG2HC6NPGUClDyqmnDcnjmN+Sfg+UCqhpbkmQAg5IMFzUnTGgn\n",
       "71KRykWhdbGl8yOMCGl9x+EAAAHkQZohbEK//jhBixmABSMPD6XjmUl/ExFPdway2qmTqi8qcH45\n",
       "c75H9IEHQoPs0Taq8LF04CczkSZvkTi/0oSQi0Wyt9MQ4Q53+/xZRNPHcHhTr3YzqJNmhsQg+YD+\n",
       "QUaITRERj0uBT6bctWhp2WnJiNlay4f95bVAIMf2JbZfVM1K5kL17EmAXUDjkn5cmbbnrENKcJ1r\n",
       "+GnotofYf/S/qdk/qTuoujG0polmLyEQrhV98m74bgjiE51P1PVgvh0I1wP4W8rFAkPS4tg5xIuq\n",
       "A5YYr3DpCEy3lPD+7rD5IwX114iMz+UzKtmnm/WWE7KUTO88PmLv1fL8wjuwN3Z0kkt7MiiM0VJp\n",
       "CA0hBa7h8z2p7fn/82fPqr6sOvLyi55bC3KDG2mXFcmaMJueJstmjyd/EOXwOEt+g5qR7AWzcMK1\n",
       "8MLHetd7L8um76rUmX3mIHVS3vy5yZIIvos71LGKrQ+L23rM8qTn9FOUgChmU4nxmQxNZY05Z/uY\n",
       "dc7gRvH40eN9Hm/csg0AdByX2L1hVUZbhWYWvAC77aUFlU92XBAPol3TL6YrG8xIuEpFimC1POCP\n",
       "Pc842BwuYemxvpUSP5ZKNR34cVcbbCV2/HZQnFtOEAt/T2jVrmVxDPk9uGGKahnlgAAAAdhBmkM8\n",
       "IZMphCv//jhAYl/YgBuu5k/QBX+vdUZSi140uWpeNFoDAqJpD4Pi7DH3nl8D5dtVcSX+p88sFMRQ\n",
       "exiBO4WuWcbQYsZODeQKmK3wmKE8ycGBlLt/ZHaif4EvOjcpgF5TRPQ9epPWiGgmb5Esd1Qn+YS0\n",
       "NxbMtzfhqzbNOw9PpfmqKrKVEfVixdApRZ9yylu+B/RjYR8zwXncyUUhpElVpgHWaBWtBNVAk7XX\n",
       "ZTxPCCNHV89JQkV8egNF5JVLCK2fIkriDBKQuopyU0pGQuIeTtX7zbUOEvhYVFwObMxKFD7f20+1\n",
       "fo7uUeePs7AqeXUc6+UhLLwubypI4oslt8L3viAlxF1m0e3mckpOnQhPtahIZ7bdCcJauvEF54Qu\n",
       "dheWxdenOFxGAUK32o/6SrT87pOt3LTAewkYxrcBop3vl3WeNshkkJpwr5wYEwWyU5qqhywj9r1a\n",
       "TCypWPs5mqviqf7Yl/JoR0Nfxie8KYj6ceNTFwS7pjNrO3P9dJgHe6G/IX9a9lZiSCZ6jFbGTaj2\n",
       "7Bga0FzWMytfW+mL4ionJp02ASv+ReezJrln51/p/I3y0O+4QyVvm/LyB6vb6RA5lFwH+e0WpAtm\n",
       "FL/SlWqlzLaGhwadAAAA2QGeYmpH/wVqGBjEAE7dCn+4RemLr+gRjBek+Bv5GizZqXlHgZ1DLLwD\n",
       "8wjqBrW5JO58a8PZP/aiQa+PRqdfIDFv/aMYbNIM/5hfF2aK1LCC9zRiMMadzxUqjOYTNYIVws0S\n",
       "089HSY5Sn2ZpgGSv1R7XZz2MfErj+bw/Retzi9qlX4a6v0dGZMFX7/Ipl36vpRzRS+MGdP33fgpT\n",
       "R2vCNwq0pxnBa0NFFMpUAcqBZgT1ULh1hzH8ciKtufUeRLdRqA0E9fIf0qwWSfFt8ti0YcOa9QUL\n",
       "UFCAkMAAAAEfQZpkSeEPJlMCFf/+OEBxxLywqMoCnDFU/xeIad4rn0IEZD+wZJvWTOYyezI+WOOA\n",
       "y8aVM9WaIHW8lvUefol5FcUGuVTgHnXZSLlxSayFOfPvoEs34n/5OYhr8VuMxOOILHmCuQoFoGaj\n",
       "/HoE47CzebmwRmNBi9MtJqPfkWIpcBwNl8PKWMr53Ut9AyIqu/HB2TlCFb37nkAxc1tHUnPH42pX\n",
       "cS6MndZ4WWdIxsb46NyOEBJmaGICAMTJRlUiR12ifM01rbymC7UHwW4C83oIPISGKfbnA5rsifpn\n",
       "4+IftiFAuGo77/negADdl7vHD/G8AQQwIFT9glFn8AkXVY8YdQykmKpebDAAZ7qnqZK1KdShnGV0\n",
       "Hy3G3Y9//EvR2kEAAADxQZqFSeEPJlMCFf/+OEBt5p54gBNPGzUAzCvUJAnwCbca+o1U4gIjZdCD\n",
       "ngrzU4mwTtemNef5dGw/owk3ebLgg/IPnRaapSDmVjSCcBa0smkVr54VdUqWJQcRqm4nV0sQsHxT\n",
       "Af2U8Fw6rgbMkMgPgQJie4T1Lu5o2LnWuXqHbwocoCydN9HuKD79syNlAwRopAW21v59agLcqaSz\n",
       "0xsHhRWY0eTSBAsng9gHjrFcGuN102z9tomHYtxMwC804pnd3nwr886HO8edPYpkybmr2aZNyOcI\n",
       "NKH3GXVuLt2J0ydpJhs8+VqFq88N41QT+/w76wAAAPZBmqZJ4Q8mUwIV//44QG9Cw5lzE5YVjiAf\n",
       "BhuD/lBZ+wheuqnZbySSn1O6Sgc5Jn4O6o/QxbW/W66JOFguX1mK6SXUqogUdfw/mu0qPEz6p4r2\n",
       "zhDK4qoXQx/P27pKBcVrTmm1JpPFt0bxKmrFKUDVy85uwzFay2YaaK4Bv/wQo45ccrzKMsNWEZuu\n",
       "ndHZ3nMwnQHnOMXV4NRDzvRWnrCZ1t0nuRKB/0FTJVvq5vgm+wdrJtINmPv3JLe+UA/F/1K7L30x\n",
       "PMJcuNpY60WAkQtMpruTlRCCgIPrV6nX5XdxlvG5LMayh6qDaPYr1W+ReGEF6KpCIIkAAADHQZrH\n",
       "SeEPJlMCFf/+OEBt5puKw0BcugevoZ130LR8I+QqM4f/J8NryObNKccOALUAAM9+8Ivar4RZZa5M\n",
       "yaN54x6VpmIhP25qNM4puSS1dLM+6KXqATTSD7YbWC3nTmT5iATXvsO6QZrLMxUkhLjfOun8adff\n",
       "l82XrMdiURjG6k3/EKvxy3/x2hwsBHVz1KTIMk5tehHygaj8Z/89S5f5dAPu1VvgC4RydEy6doNP\n",
       "IQTfnBtOVBfXP2n9RFOn6m/uqdT4qGeDHQAAAPVBmuhJ4Q8mUwIV//44QHy4lo4B6DRokgIcmxG2\n",
       "IA8AAaJhsqcQz7Umld2egCZRblrs3j7xhz904A/bO6QEa6G3RDTqQYxakBwp5rIiaucSpZOwmS5R\n",
       "zn4h/ujYjlD38Rgf6sapXaRGvUWMXClk9TBvSHIO6hVAjJwuqnhU0yDnxruO+Ru5q/xRnykpt2eU\n",
       "u79UnfNS+CjlJwxNfZ6tiBRYSPAbGTcy/enN43PEWwYlsrN4E28th6G36cu2ZLhPxdvw6VVe8f3l\n",
       "SjpA23KpVV0ZiWMWRKa5kxtY6Z0xAZPVoyYTRLQ809kWgAo0E+PeQ09zZw+deAAAASFBmwlJ4Q8m\n",
       "UwIV//44QHpt9uIAQov1lCJCTjz04CVcEUrHc0boQJx2WNdUqlhmSRZVxruneeLK/zQq/lA+PhJw\n",
       "/hN7YifEEWDBfr/1jOL0Ba60xT48D9TPhVyz3PqOqztIMdwmTzfajHr6PgJFBCvRXvtwnYbW+ly1\n",
       "PJYpoy/0DUwZSy2o9NhYQMOkk78O93apqHHxUu++VlpF7YTqyljF7Bi/q1NU75xO2QIZoZDPbx4n\n",
       "NhtI1Z4Q0oLXdFzUGucRt2dWsYAhvvrnk1ZNIIz6CeLoUv/74vzZ9aorLb++ljwH4hMrtev5aNYs\n",
       "GPZk49cBc1P1Jaur9pPZLsC4cM7WNT5OIqL0w/E3AiD/vM77W5WoHbgnVBaeGeR+HugItKPYAAAA\n",
       "7kGbK0nhDyZTBRE8K//+OECKrgahr7EC0my84GnO0CgOqOq9XPwM2s6ZrK+aTfGiG8FTwJlt6siA\n",
       "ACGAG8F5d7SIcMbbkBtktkERH+yEbH9lr3PSECJD+wCLTpMChnxIRS70NA3Izm/DUuR9oda463KS\n",
       "EmKz4Fxq6WuZ9qTJcnoiBjmcLcJcBrruky80SG5Dju8fFIZfHO8m7XStNLVxiLILdHSBylnJSTNa\n",
       "t+5cUm5RGJ43ACZRJr2DFcmV8fjH9ypPNO8eJKjBJjvrXIPhc1G349KagFEv+8en5EAyRKdAs2ih\n",
       "up0KVzGChAjR19EAAACYAZ9Kakf/BcIYBeVxBCDLXfVV2Db0Uq/TcwlyM6cL600B/3FqQz2p2BHS\n",
       "YZdCCcHnRaUyubM3sa6sFtTSk1I8Tfzrbz1iVrGyUTqpfGjfOslLlvjCtKIK83EVQSAXLqfUkoMm\n",
       "TIzl6WdsAUklu+ihiSVVavO8bRvwf+hRhn4GbpU91pOPwGSKCudHJ/EqIS2ZqBvQO4S/bHYAAADB\n",
       "QZtMSeEPJlMCFf/+OECJ9xtxs/+lBr6LUJBAN67eSJ6L6r3dnRdCfIIV5ZsZQAZRacyhQBsp6fwu\n",
       "ST55ibkkLC68JjW5enoLR2GIreZI77AfAjZzt6kUu/jF79qssqtTPY4tY1p0lWvp7x68Nd+nTQfq\n",
       "cgJqohG4aPjewsuir4l28uwBcRGZRF6HgECc8e8Ja0yyrCMuL6q2tqIt+K8LRz7gUMvy11iYIWq3\n",
       "6dRyJw5keA0FBg1Vce2JiMmm7f0lPAAAANFBm21J4Q8mUwIV//44QIrhYF88v0Om7w4WwZUj2vX6\n",
       "KPuy3bzN10N4HRx5Dg9lET0kAFFTW1T1sA2pYA2ZFzfOoG8ECVxEzZp7w92W3/1VU+Bp1z5DDh19\n",
       "PeHYDafic+MRiIk39FUMfZXmMPArFDIdeRLTRQHKnbDsDRUXihH+kral2W1ho52xx4leC4OO0r2V\n",
       "LlaU7KoYJp7AATpDD89werePZtP1n9RppYE1a2dDmkCHGAcAvWtxXKgPm3OAIAMfBk2OSHYrcQBf\n",
       "fwaA+Ssj4QAAAN9Bm49J4Q8mUwURPCv//jhAn1VjUArcj6u3lCFmBhDDM59KDwAZLuK2k59FJKXt\n",
       "kw6OUvxW+xJYW+FHJleibz7QKtv7LSLQfBD2VHpBtRxapnA9WLixZRreAyozS/o1rxMFn85vrLTe\n",
       "acNfZqHM2ZyfJXEmIs15WXCO6SINjSfkrwKw3EBhIcrEMHtWeAwdrY3v6S7Q8FY+HvoPDqb1vevy\n",
       "UbVSf5XhJhxLsiIWhWD90MN9DS7tYvKfBuWFanB4aVmFCvtDvOtn0SGLq2tysGwimCj2aOf1KoKi\n",
       "w9dvwbERAAAAmQGfrmpH/wX3H20QdoXKXmGkxoAEq/L/7bUB7WIzOf9tQK9HyjEbHNy4lx8W5g1/\n",
       "EWswMYosUTwYMh6c2AJozrsPFUG+qrHKXc/1+y8pS2NgwM0IZQvfpR90dEoH4rpazMP90NcXFPfe\n",
       "q3eKkjAL5ji3ib2GaLkDFfMRcBm6RWdNZER8zCFe8o+kWT9SuByx0WtTCLPzlzHxIQAAANpBm7BJ\n",
       "4Q8mUwIV//44QJ4k1LOZxtQrY9f3hXBPdsi2hFrPpABUc3bJYDjqaNb5GfSosOvbomInVvvL92Ad\n",
       "VXVo/hWkgDqWQhawIsFHKbWS7kuPU7z9SyfmELdU0WZ8zAz8zLtkmuirqjQNiDMCMQgFIWRMOs8f\n",
       "UlOm/ckz4346isFRGJKGpi16z5T6uQiLrnhiC4foExZGyHcES2NZJcFhgzEIjtgB8gtA72eiR8ro\n",
       "ofTEYxcu7m78h/Ag9zkDa47llAx1bj2v9U335gNZ3vEL4hJQE5uQudt2yAAAANlBm9FJ4Q8mUwIV\n",
       "//44QJ4k1LOZ95lZTCB22PmADP0Ouc43Cy8f1+now3ytfD2luAZQdsvNbMWE17YWXcOwh6d+4JuA\n",
       "xbhgxh47/1CSWG+bLhfs/RSn2aKuRGm74KTf9BFiMTwntnqRzOdE8D9UDSFkzWAv1OjeV6wxWk92\n",
       "S2onX/gfMjIqgcRbyjktdv3TKQQBVeztfKHofmfPHV+yI0WQWtOvK+t8o3qg2I8pZgbP4CReW+bd\n",
       "dICQynTrnVxVL04RwLa/+A5nWczuMNcAElqaq0N055rkuWmAAAAAwkGb8knhDyZTAhX//jhAobI8\n",
       "oElqn8d/SNeRHCtr2wAKfCtq55/OQ19Hq8hR0FKyAKTRqipq0COq8/CBVbMO4NBIcp5hcKn4cSCQ\n",
       "lKxhMHwSSCosxVZrlW2Y+cQS+x9uIU8eXau0m+HyxeK5slBM/+jT8DRSe29WNt3awQnSJH3IKZf7\n",
       "eOjv0fp2t+ovgUnB646DLx9b+oih4o8licuCwxOFxaOdUN7OODn/R3qNqUF+hxaXL/6CHIEzp0am\n",
       "714eBrGnAAAAzUGaE0nhDyZTAhX//jhAniOuNHUFfhRb620KAAAzQMLj1KPjCvx5QDrfA0yQh+B8\n",
       "tPXM4X20dpzyFMmKuni3OtU6+CmS0eHH4tNgXBZZ4E72hw+V45AdgjMgnrM/GI7B70O9Z9hBvvyM\n",
       "SaVp+LCu8WA4hM9WOUopYX2fM84jUQ7GvbHQ8GF5HgsxukKBUegh4Y6ZV6p3hfrtixP402BZy61F\n",
       "etakMDg2/5m0wmz80bHxm7LB1Lt+mznAMKaltEl6F8hHyj/bXDWEVJ9M0LkAAADzQZo0SeEPJlMC\n",
       "Ff/+OEC01Uck2AB2Q1N8sFxzVKayK1tx1ZFZYY5dUjlFZZHm/bTBIH79zsV7gKeZU7WW1y+hpdBn\n",
       "hfG1dw+FXjiCp2xRr6e3jrRVEE5fZD3QfIh+L5/YU08aiXzZiFg4+CGkInm4HG/kjIsgt+uSpRIi\n",
       "6YgNFijHGhTjEtQFmAjEdSMs1Y+yeJQF2PAvYlYRTuBSSJp+8blu/n2T9uQ/70CMnWcqZ4yPBT8k\n",
       "5pM0YtZvDYV3QqQdgJIT1nhTvrcIX7pgqLeZliZdDa2ZAW6590uQBH6VUmMEyl3cv5eOSeHw1iFd\n",
       "5w/owtzAAAAA7kGaVUnhDyZTAhX//jhAthWHKAtzshcTaABD8ihu0UBxgG7FAkUsr3zvLFiHURNV\n",
       "2k0Qv/pEqc04nGmikQc+EGzNezH+Xk7L1iA8dZNfyo3SIHcGRVBvBYtL0eY8p5KOXA6AuW+S7pwX\n",
       "Z1TQ2qMpO9UTTrzR7IMHUOQAfbBQLiljmhsBSAhI33lPnMfGUw5gyRvSynZEJFGzEm2viqr1q3Fo\n",
       "7uiZf4kiXa+g07luBXsTsNKgqxuLdvUO3GNRGuwRu4YnF6+mlfjbfXZ1meLxmTyTRSxfhlfz41N5\n",
       "TyvTMa/Ct+Nfa7z7u19Ulquzt18AAADoQZp2SeEPJlMCFf/+OECzpNr8ABtA1NxPo+rvzT75HGZ+\n",
       "arE+Vtfj11OzpOHCjWzM51S+hgPuJ6fhes9K5LZvCucQsPvVbycSqBEFPyD4lyPdCdrjhBj14DxG\n",
       "g6kRY7npCbBT3SExKQWnBSkLSYXWnMOhxT7xre+rfCPAgojZcS67gDsfxF8cYLzFcMt4bFnkqYXL\n",
       "QS7zIib3R8AC/LASx+QHX5ZxSOu/znqiU918/tc9s7HU1WoNWhaQh80LpUOROaYiuz0vPYGjU+1d\n",
       "a72fmamfKmb/uuSyXFOQN+1TWluJaFN6E2tBzAAAANFBmpdJ4Q8mUwIV//44QLd4ZMScQA2572ae\n",
       "talHE87GxeJr29KDEc2NV/r27OdqIw+ajY8U+IXToOr6UOAYUTRM4ZBIE3XNqdNPMmu9TOJH8GLi\n",
       "RGrjGq/lL6+Q16MqKaUrFYBVKepoTr5XC/QJLZS7H3ByGe+Z7JW/i9QNxGkORn4rlp9qCf9T1Q5D\n",
       "GjOO6GtkLx6w/3PLq7UZ6V6PBzX2OLtrBVLPD5N6qMaoM/IJS043Q6DBVgfrTN5HrT+B8aqQMk0y\n",
       "jJrH7vCYHMIM0m6BgQAAAN5BmrhJ4Q8mUwIV//44QM3MQ9K8WgHguXUuRQYAFNh0Q1vQUgQrEEgr\n",
       "4uIoihZQEqdX2Pxn/nBQPEbiP9DpPlCZwDJVu+P3iFE1ayRLxygo0If8y3gnCsSwWAiB20rK5I0G\n",
       "qD4grGAp/P4tZ4er2fbZudw0Rp+HxOpbic0dE+CxPyaTF+irYFLQBytx3ZTkHwopiWmE8Oan8WEp\n",
       "5oVfCLpsnPlqYUsooBsgWWjAyMHGNYg/BSCgfS/AxBV3GcihY+sFllLGlzB6gcGW30weNiDlhLWn\n",
       "cKWsogfWd8y2BLUAAAC5QZrZSeEPJlMCFf/+OEDRKjTwtoAbGpaYbmCCb69w1ZcLrkvwXIZOVjI1\n",
       "vEbv/rJlbVwBnUlY+2PVgUfP22hzB97IKKgvhwAPsk75Fdom+ri01BzZdUACN1E6BtMr2vj4LrBz\n",
       "Id2NY1LndIqurF9ahhtQY32sisySBToOIq+os9rRweY4RVWs3GXyT5HYpT17A3mh2JVWoxpb9PqN\n",
       "GqW3yz5X6mau8q990Rw4BgX4KqMBcv2gzLDkluAAAAC9QZr6SeEPJlMCFf/+OEDNzje1hbC2kOVT\n",
       "29QmKUSkdN4wgtsEzHEk8AFBy/66rDzfYbTqta2FUpq+CBt8nQYNyQHP0G+5UgtI6rjkWpo0lolf\n",
       "kN7J74FGeOnnzD9T+vUpmawqL7ZOlzasUGt0cxdU+afrcUkYHPQmSQ+YrL7CEkrypGjQChjohOOn\n",
       "/fnxdW8LItkRFZXdop8lDuurUNCpcf5240dPxv7UyuF/7Xq0LRyLGogdu2B5+BMP7d+BAAAAwUGb\n",
       "G0nhDyZTAhX//jhAzc43tYWwtbGhogAAZVKBa0U5NHyUMlNQKCP9kQ4NwuNIs0Bn1edBtC0zW9dP\n",
       "Msv2D1A9vgMYgnV9BiBSlruhsb+Jyn6ju1i7t3g59bQX4ywMnCSyCv2q+Fn/F5RMH9kXBCBUqYlP\n",
       "qyJ53cyzBscuhWK/nlCQOdUcx86ipHSOr/i57SxGif2zt0fkeQn1ADpmtIWDeFQloT0bRmzCONlV\n",
       "nS9iVK7tjiz9N2CuunO2IBDE9SAAAADnQZs8SeEPJlMCFf/+OEDtc4PgANpR5CJn74mG5CyaHJnn\n",
       "2XJCtvKLhgiLkbWZi1zYy+l3BabJdhhHg+wUHKc2tPonWbg1yWQX+t7gH6/exqqRliEHbAlVuCq7\n",
       "aJge/c6bgqH50Gv7xRkM+n/7j5xK/91HpLFEp3Guw3FQnxmJiBfJZpNgJltSe1pw2Tf4SpLfo1QZ\n",
       "xVThuOGN2Q7HLcJwo+b7RWkEh0yu4drUAtEc+iOwlFKzzM4LZD3yQNIyE5avQRWzTgvRdT6539FN\n",
       "iR2v8Q5WpWCYrPQYGHEkQIDK46/pU6x2nBLXAAAAjUGbXUnhDyZTAhX//jhA7XWr9dSNMqcAJp4U\n",
       "1KUiYiWyjARAyDEpD10otdeIkqLNh8T8dGEcrsVrAgCy14V0nuXA1B2A0LltzrQDj9qAGk6roXZ+\n",
       "/CQfGUnfR/1m8lgUiIxH56igW7eCWU1qIIQhVXNBHkUVWqqLIOmMQwdsUtpT9rPFZcvw+TVVtQoV\n",
       "wQAAALZBm35J4Q8mUwIV//44QO11q/WVsLZS/9uoAKjWx9nREUGuLvvicv6joVsgNAHUMX/DM/Qp\n",
       "DbKTJzHX9Ew9Ws9wA1gQo87XymaTCy8f2AphCqF8fynwaw3fNgP2rrGBu6u4l7No5SkogvV8CxOX\n",
       "O6nSBAtnCAUMRYAPhugGVbE0568jQNOyE9NgfZyXguLvm9dGfQZNM8K2NS4gWn5RUPw+q4lPkFxj\n",
       "ZKw5WAUFpzw6VG4MGDW02AAAALpBm59J4Q8mUwIV//44QRVJqrJp6XiD2GLN3RIAMgbOf3gEhOaw\n",
       "qis+LPKYPVUH23JZS/443V2bNERBv5fBjAoV0aTzLIm0x7Km2Gz/B8nBSuwLn5CQ/DhoW4T112dz\n",
       "LuI2EnxkcKYYCuEa2fRQavH8qYk3yb/vylnllffnFvjv+/Zm8TstrI69dtPGAeCgLBaPnTeXMC3c\n",
       "hGbdIHXoWz7LMa0fVUeqjzcQuQc0NNX+QmrtqjfmUP4yxlQAAADFQZugSeEPJlMCFf/+OEEVR05U\n",
       "Mo1cAWY3OxuKTD56rElYu3ZdqaIMTVYW+Xg0tf3b3Vl9Wcv7fyyB62AekCJUsFmS0qQE6X2OPFX0\n",
       "n0lHknqi+QVP2yef0kscxuib9DOqEc89nf+daqhAbj7v1b8UanSyIbnhUiWS49vSU8ziZNeNEBf/\n",
       "OKzmLw+CSQfhDIBkA+3ygMUxe95O3gGro+Qt82VXv4RwoVAaNWCPKA6z6ADAVOTFC8x9FKf4pVku\n",
       "BNdtuHFyF9kAAACyQZvBSeEPJlMCFf/+OEEVSavxyIoG7ByMBmF1ABS9YpuduF9Nmysgw+E57KRX\n",
       "gPuU4E45ZoPRo8Za02j8EkRcRYd0k+wHUZ52q2xj12QnZW7dji5HxME+nuk3KOWuyNHodD4iiy+a\n",
       "U6JuXe2lZeBjYSWMve2Xg3QVNO8Z8WUbJAKxlhmpxoYODEYCbpcEm28r2h8z32kNMN5PDJXG+bPj\n",
       "MN/XQ+tp3y/Ij0LeRDmlXVuSsAAAAIRBm+JJ4Q8mUwIV//44QRc05o8ZXD1c6XjOC9EgAw+S1p2L\n",
       "oW4xIrpSrTYxC3baOBS783cKOi6///LyomH417XHtRV/G0bHKRj8Jkn0zuNL7+ynUSSZBo7kCtHd\n",
       "21J2OpEI1aPwTlQxv+1D/rCSo1GtpmCEkDmB0aUszwuTCt+veQmV3nMAAACdQZoDSeEPJlMCFf/+\n",
       "OEFHt5zztu4V3IOPXcv8AAgMNYWFRUmzMxz4vXUHL4a/YhxPoFFn9ODdvm/F5jEPINSM1il4O3ct\n",
       "/XF6iCqe0EF3DIsSx32REBWZsQgF1uuEXPniROgpwHRvoQ395i4FZ8+2pMweYDX4o4pwCLfLs5cn\n",
       "PCYmlZHPiJW2/f92fVpWHxeVLmKOo7nBPXxnUWfZewAAAMxBmiRJ4Q8mUwIV//44QUe6bEppV8rd\n",
       "ck+2Cv8AAyqofe3Cy8f1/YFNKB391GCHElcHE2ppmhcyI6uz+wTVZqWmrYjW85DH4ktKQWIfl97s\n",
       "y1u822SphhnX/S/IcLiTaM9v7YfQAjFJSKvj6/A63UQoUmd5aTP/QbXOZGEn3xE9ECJgJsFkqGxo\n",
       "5vuLTQSrlc0RuQZ8z4Nd6nlFdcEh4yMOs/11SMZqQgExRVP/+4GM6h34S/Ex52dXOrqOe8Ypbom2\n",
       "wTA4c+8HlEGcoC0AAADCQZpGSeEPJlMFETwr//44QU7BZLvRquJp4A6WMQABmgWtJIsNjFK6puY3\n",
       "U+TirmK9FpMSYTrynh15pd64diM9XuFmoL12PfRdpHbzL1NgDPKXM3sF8j05thlfbLnLxPeOPqD0\n",
       "kTmke2Tcav9SGsC+Xk9YMd2CPYO0Ks9kJ2+mfFY418kaQbEgv8yfUd4qkmbTmNuVKra3mFXhw1fH\n",
       "JiQDJHUaP017PunyYJmjdTRGU07cIWP0RVmKII23O6PriG8EVoEAAACZAZ5lakf/B5cmCzuJUOpT\n",
       "b+TpcaGobQAelBam5nkAFV8UuegJmSwRBcu09RZEXxeHZpSMSwS+ApoEYHBZbS3DxpSeNQdcyaQd\n",
       "NGYwoDIhswSqh0j2bC1nbldrscXQBI7G2CmzxAZpGE00O4aKkW8Wz47vn9lI4cxDuolPpdtidaWw\n",
       "/wSBXBuuLTAq3X+mSFAzBw5mf+xSGV2nAAABMkGaZ0nhDyZTAhX//jhBiFewATt22AbVt9sI44s/\n",
       "ENLoMalAK6OTsqCu4yU18z7oYcexy/A0PQg+A9DdcNqkJ3DrRp+B7y4MEN5Q3IOpo5WAtXhxeQhN\n",
       "O2oa0vXGqoG5MU0nt7T2JE9VknCZDyUGy7dBVooeRuuMRrSUbDFt9lGraq5sehdDaug6HKO6M7Br\n",
       "fit/0G95e3oHDNTdRElBuX3sy0cT+nAL2pMsTsL4704zY5XuldFyah1eXpuXNNzJo2aot5fsmH6Q\n",
       "Jl4aeZIRxJaC0v1Zj9jwU2LZ7cI+vZYAUXG86/0Sf8ZKjslDcvl5BXdRevnctd+zZOSmbwcOXMJZ\n",
       "3dW1CbVIfl3T7+pmrsZS2oyMz++h+Vsf/GZ9Ave4iIYbrdjATbA0kY8KP1wjx/XswQAAASZBmohJ\n",
       "4Q8mUwIX//6MsH4f04ATTKlBrYtPc8oWGf3rygBHF6TC+KrSJ8piDhuc7EoTuhcqY2+3tkwa4Duu\n",
       "6oAd/VOatlBiTcrj1ebxhhsaotvQT1u2vj03hB7b/D/VvjUiHwavdYdqaQP32QltCGmoRYY/K6lV\n",
       "p+j06SmG44pfEW86wdrILHkrE8fY1ODbbq0b7PAtJcLRS6x8bNPZbXo7J+F/srX1yUZ6m+W0lV2U\n",
       "egvFITnYkJABBvYTRGMUsbkH93dUgLRWRwRTbmwUl6DpOB5vDdstqfrj72w63RI2Skzcbd+Q7bvk\n",
       "A4e6ckhpgiYckjMGtWdjLKkbjvoL8tsRytE9IQolrUYmwfjg2j3aInNWRi+bwG9PwZMtu9TP3zDr\n",
       "IkaFJu4AAACsQZqpSeEPJlMCGf/+nhB5VLrABGRv9U+EbXi0gDw0lKglL/MbsyPSCpUvB5H2ejA4\n",
       "tf+9FVdo0X5v0o8HWugFw+i+CA73MKtA2RHnbf2Saqkvn2Hr90BIrbwEMbS5baMQJLnBGVElHbUw\n",
       "xsbNEMgfkx314e+CbMCf+NhSDZ0IDnYuAmJKU4sHmEfhDK9DFBDjmFhIufNglR7LfMmHirhkyQGM\n",
       "7X9OLbPxM6X+SQAAAI9Bms1J4Q8mUwIX//6MsH2NZwAsPjTMTj2bcaImPn+TZzreOTuFqBfpmJF/\n",
       "HS9KtqR4h6c7cuDp0uZAhsAMRwj3Rd6qLDJ9hXZ7vLsx4nf9gRKxQjSvm1f4VaG5Mrov5H9km9z+\n",
       "NZehGH7v+fnvB8HkAY42ggbGqCN4SBZabOce4mKe6BL5cCkJA4pp0liBaQAAADBBnutFETwj/wVV\n",
       "S9SRZFnX93IB63hVDo0nqeT4v+NYaAT3GXupktl9ri+LNwRXa2gAAAAeAZ8KdEf/B+KQtV7I6v22\n",
       "Hul7LoTq/TuVySIIuZaUAAAAFgGfDGpH/wIL8cw74isSVlMIMLpJIoEAAABSQZsRSahBaJlMCF//\n",
       "/oywBAEb/0vIANqZzvJ2vqx/A0QY6lDCrUNtWU5jp19IQmthsTf7C+b/jcrqhH1IoN5RaAzE0Oos\n",
       "my7ln3jwZkJ/8PNVnwAAADBBny9FESwj/wFRCY6ETkYIAPLJbEu6BCKoe4v1bZ5lzBey4hKJXWaC\n",
       "YhRFOnpM+GkAAAAbAZ9OdEf/AgrAqX0nU8POeQin2v5PV/1lBPygAAAAGAGfUGpH/wIL8iy8R1U/\n",
       "YqO5L9PCKsS5iwAAAERBm1VJqEFsmUwIX//+jLAEARwNiTMUjPnBSh7+zWYgaAC0x8TRTHqkk/QJ\n",
       "+v4Dl8HB+wD2TYDnaiK8ZBtlVEUbSOJK9QAAACNBn3NFFSwj/wFQVkICtpXusieINTCTt97ikawf\n",
       "Nj4BT0Ao7AAAABkBn5J0R/8CCsSCIaq2ZpsxrE6EA+7276XjAAAAEgGflGpH/wAIL8cw75IxHHhY\n",
       "gwAAAB9Bm5lJqEFsmUwIT//98QAAm3wDdk8lCfKJOfkWq02YAAAAGUGft0UVLCP/AAVBVqoWtsYE\n",
       "InNqVszdrKEAAAASAZ/WdEf/AAgrDum6iXZiNnsJAAAACwGf2GpH/wAAAwO6AAAAE0Gb20moQWyZ\n",
       "TBRMf/yEAAADAbMAAAAPAZ/6akf/AAGw8hlBFVxgAAAFFm1vb3YAAABsbXZoZAAAAAAAAAAAAAAA\n",
       "AAAAA+gAAASwAAEAAAEAAAAAAAAAAAAAAAABAAAAAAAAAAAAAAAAAAAAAQAAAAAAAAAAAAAAAAAA\n",
       "QAAAAAAAAAAAAAAAAAAAAAAAAAAAAAAAAAAAAAAAAAIAAARAdHJhawAAAFx0a2hkAAAAAwAAAAAA\n",
       "AAAAAAAAAQAAAAAAAASwAAAAAAAAAAAAAAAAAAAAAAABAAAAAAAAAAAAAAAAAAAAAQAAAAAAAAAA\n",
       "AAAAAAAAQAAAAAGwAAABIAAAAAAAJGVkdHMAAAAcZWxzdAAAAAAAAAABAAAEsAAAAgAAAQAAAAAD\n",
       "uG1kaWEAAAAgbWRoZAAAAAAAAAAAAAAAAAAAMgAAADwAVcQAAAAAAC1oZGxyAAAAAAAAAAB2aWRl\n",
       "AAAAAAAAAAAAAAAAVmlkZW9IYW5kbGVyAAAAA2NtaW5mAAAAFHZtaGQAAAABAAAAAAAAAAAAAAAk\n",
       "ZGluZgAAABxkcmVmAAAAAAAAAAEAAAAMdXJsIAAAAAEAAAMjc3RibAAAALNzdHNkAAAAAAAAAAEA\n",
       "AACjYXZjMQAAAAAAAAABAAAAAAAAAAAAAAAAAAAAAAGwASAASAAAAEgAAAAAAAAAAQAAAAAAAAAA\n",
       "AAAAAAAAAAAAAAAAAAAAAAAAAAAAAAAAABj//wAAADFhdmNDAWQAHv/hABhnZAAerNlBsJaEAAAD\n",
       "AAQAAAMBkDxYtlgBAAZo6+PLIsAAAAAcdXVpZGtoQPJfJE/FujmlG88DI/MAAAAAAAAAGHN0dHMA\n",
       "AAAAAAAAAQAAADwAAAEAAAAAFHN0c3MAAAAAAAAAAQAAAAEAAAEIY3R0cwAAAAAAAAAfAAAAAgAA\n",
       "AgAAAAABAAADAAAAAAEAAAEAAAAABgAAAgAAAAABAAADAAAAAAEAAAEAAAAAAgAAAgAAAAABAAAD\n",
       "AAAAAAEAAAEAAAAAFQAAAgAAAAABAAADAAAAAAEAAAEAAAAAAwAAAgAAAAABAAAFAAAAAAEAAAIA\n",
       "AAAAAQAAAAAAAAABAAABAAAAAAEAAAUAAAAAAQAAAgAAAAABAAAAAAAAAAEAAAEAAAAAAQAABQAA\n",
       "AAABAAACAAAAAAEAAAAAAAAAAQAAAQAAAAABAAAFAAAAAAEAAAIAAAAAAQAAAAAAAAABAAABAAAA\n",
       "AAEAAAMAAAAAAQAAAQAAAAAcc3RzYwAAAAAAAAABAAAAAQAAADwAAAABAAABBHN0c3oAAAAAAAAA\n",
       "AAAAADwAAA6XAAAB6AAAAdwAAADdAAABIwAAAPUAAAD6AAAAywAAAPkAAAElAAAA8gAAAJwAAADF\n",
       "AAAA1QAAAOMAAACdAAAA3gAAAN0AAADGAAAA0QAAAPcAAADyAAAA7AAAANUAAADiAAAAvQAAAMEA\n",
       "AADFAAAA6wAAAJEAAAC6AAAAvgAAAMkAAAC2AAAAiAAAAKEAAADQAAAAxgAAAJ0AAAE2AAABKgAA\n",
       "ALAAAACTAAAANAAAACIAAAAaAAAAVgAAADQAAAAfAAAAHAAAAEgAAAAnAAAAHQAAABYAAAAjAAAA\n",
       "HQAAABYAAAAPAAAAFwAAABMAAAAUc3RjbwAAAAAAAAABAAAALAAAAGJ1ZHRhAAAAWm1ldGEAAAAA\n",
       "AAAAIWhkbHIAAAAAAAAAAG1kaXJhcHBsAAAAAAAAAAAAAAAALWlsc3QAAAAlqXRvbwAAAB1kYXRh\n",
       "AAAAAQAAAABMYXZmNTcuNTcuMTAw\n",
       "\">\n",
       "  Your browser does not support the video tag.\n",
       "</video>"
      ],
      "text/plain": [
       "<IPython.core.display.HTML object>"
      ]
     },
     "execution_count": 225,
     "metadata": {},
     "output_type": "execute_result"
    }
   ],
   "source": [
    "anim = animation.FuncAnimation(fig, animate, frames=Uc[0:,1,0:], interval=20)\n",
    "HTML(anim.to_html5_video())"
   ]
  },
  {
   "cell_type": "code",
   "execution_count": 226,
   "metadata": {
    "collapsed": false
   },
   "outputs": [
    {
     "data": {
      "image/png": "[encoded data removed]",
      "text/plain": [
       "<matplotlib.figure.Figure at 0x255bf609e48>"
      ]
     },
     "metadata": {},
     "output_type": "display_data"
    }
   ],
   "source": [
    "#The solution rapidly blows up. Maybe CFL=0.5? (I had to augment the v a little bit too, so it is bigger than the bumps from #\n",
    "#the \"Gibb's phenomenon\")#\n",
    "cfl=.5\n",
    "v= 350\n",
    "dt=cfl*dx/v\n",
    "\n",
    "Uc= rim(rhoL,uL,pL,rhoR,uR,pR)\n",
    "\n",
    "fig = pyplot.figure();\n",
    "ax = pyplot.axes(xlim=(-10,10),ylim=(-1,500),xlabel=('Distance'),ylabel=('Velocity'));\n",
    "line, = ax.plot([],[],color='#003366', lw=2);"
   ]
  },
  {
   "cell_type": "code",
   "execution_count": 227,
   "metadata": {
    "collapsed": false
   },
   "outputs": [
    {
     "data": {
      "text/html": [
       "<video width=\"432.0\" height=\"288.0\" controls autoplay loop>\n",
       "  <source type=\"video/mp4\" src=\"data:video/mp4;base64,AAAAHGZ0eXBNNFYgAAACAGlzb21pc28yYXZjMQAAAAhmcmVlAABIWm1kYXQAAAKuBgX//6rcRem9\n",
       "5tlIt5Ys2CDZI+7veDI2NCAtIGNvcmUgMTQ4IHIyNzIxIDcyZDUzYWIgLSBILjI2NC9NUEVHLTQg\n",
       "QVZDIGNvZGVjIC0gQ29weWxlZnQgMjAwMy0yMDE2IC0gaHR0cDovL3d3dy52aWRlb2xhbi5vcmcv\n",
       "eDI2NC5odG1sIC0gb3B0aW9uczogY2FiYWM9MSByZWY9MyBkZWJsb2NrPTE6MDowIGFuYWx5c2U9\n",
       "MHgzOjB4MTEzIG1lPWhleCBzdWJtZT03IHBzeT0xIHBzeV9yZD0xLjAwOjAuMDAgbWl4ZWRfcmVm\n",
       "PTEgbWVfcmFuZ2U9MTYgY2hyb21hX21lPTEgdHJlbGxpcz0xIDh4OGRjdD0xIGNxbT0wIGRlYWR6\n",
       "b25lPTIxLDExIGZhc3RfcHNraXA9MSBjaHJvbWFfcXBfb2Zmc2V0PS0yIHRocmVhZHM9OSBsb29r\n",
       "YWhlYWRfdGhyZWFkcz0xIHNsaWNlZF90aHJlYWRzPTAgbnI9MCBkZWNpbWF0ZT0xIGludGVybGFj\n",
       "ZWQ9MCBibHVyYXlfY29tcGF0PTAgY29uc3RyYWluZWRfaW50cmE9MCBiZnJhbWVzPTMgYl9weXJh\n",
       "bWlkPTIgYl9hZGFwdD0xIGJfYmlhcz0wIGRpcmVjdD0xIHdlaWdodGI9MSBvcGVuX2dvcD0wIHdl\n",
       "aWdodHA9MiBrZXlpbnQ9MjUwIGtleWludF9taW49MjUgc2NlbmVjdXQ9NDAgaW50cmFfcmVmcmVz\n",
       "aD0wIHJjX2xvb2thaGVhZD00MCByYz1jcmYgbWJ0cmVlPTEgY3JmPTIzLjAgcWNvbXA9MC42MCBx\n",
       "cG1pbj0wIHFwbWF4PTY5IHFwc3RlcD00IGlwX3JhdGlvPTEuNDAgYXE9MToxLjAwAIAAAAwIZYiE\n",
       "ACv//vZzfAprRzOVLgV292aj5dCS5fsQYPrQAAADAAGuIYzZ0VlVAIMAJbKg8CbsPJvwPKbB1aCm\n",
       "TrEeDdQsLwb3mXBsFxEcnv26qL+nZhaap9hmCSXDoxinv1Ur8Tx2mk3e9O7CSt7i4FOnZ/M4QbN7\n",
       "AZED0bg0FDBh27G31fofIHTYORfqzopL/ejT/n5mkgvQs61sGCLxrlq2WM+zjXSWzUqjHdazH80T\n",
       "/BTeqPsPNS8NFzvV0Fycg5F0C7fOkHzsT5dlmcelUtRtOym/6e06CCJx01TjAsnc7UXp88lvYt8c\n",
       "BTcaLkQqL/j5i57pDNAtPNloGw0J6UMI+ZkGPX1JiSNU9Xf58bob2NmN1ay3KEsYBLpPi6KOmm7g\n",
       "HCRDqSSA768Faa4JIvlz2GrKcbMmaBs4+Xj2GMuUbYnN4rBotQ98F+oYfv+9J0JH/wx3BwkjJPEi\n",
       "pg7BBBKykjQcIXfARLlSvlIdMQcr5rXy1pVJDEilA3P+W7J/TfGjrdwdS1zkilxqOcOdTt/4AGGU\n",
       "b05CtYfd+YQBWX1XpqXjikzhYCkldgIudOljRkng0PCgAABhmifgDW9jfu24HkxNP6108KAmE7db\n",
       "fPFLmKAYFdGBrIuu/41Ymt3XrqODV7zEwnAiMuerdOWlm6D9qizfAUNN+ZMDslialQJUfKcopaJC\n",
       "DgUTnsuhI88yOooTcOVEF/EMJHdk8pxHJvxCb46eBXwbVkqnYm1Eftfm8fvXC//eYGVH+ov/dcdD\n",
       "hUctUc7VppDv5eQgAhubWj7tQMKvpGBTovL/LYoEX5C0ZVstQ/BAZwcLrqjHjf8Sow4806Ye+yTQ\n",
       "Fpgwvek7LVDWIokR3KPwsBg8cU7xx2991kx9OO9vxIsSYDJx4tpf4uEtptw3NRkFH3dVvHeP6RyH\n",
       "UyHsoAN2AfQ+onj991p25iWRsyjs4goGzp29PMdfsRqUmSvc+1mQpYsmZDrd4RQzQkJ1mIk3kck8\n",
       "a9bHlJrP5Bpn2VtmrEcdRC+32FCbVL7ioTMWee7aQI6+kaW5CLGiWy6g2hb07sI6G+wckIgFge9g\n",
       "jsX/EwOLx2dD0oHJaQ/emmjglDeZ2MHCsNdeSP2aeYcPIC92on1r4ta7/8DQ+78Ikiu5drUuxrFK\n",
       "i4a32HpN96xiPWsaooAC6yaz/WRVfK9Td+bGBEz7iJK6F22vu3ASJj2qbDBipfr+gfv40a9HqieO\n",
       "c+C35nW2pZLt/WuMcgDdS4+jB5ggZrwdW1s5MTcFSsxVRJdV6HHYGMA4qNunBJGCoqRmb0/3ZT8I\n",
       "Tcu0PiSfJJoqbqJSJwuFPkajdHAxG1YDBmQVCvoVZ7iSvKhZwuyJJRkic60mGDknvQgVPwvTgTtS\n",
       "yjw2ocfalcTl/5RTW0Ib9573SIuJE8K90+o25+JzPAT7cmZyNOPjrQInNPYm+QGjWhVpw4fW6okf\n",
       "sxCFmB1Pq0nzRFpIF1IKFDnZzU9zAbcXOHhrSWG68gf2jHYcaDtr2eYrjQW9RursjWGg4LUGHPIX\n",
       "tvcvqub3QOVDmvuzf7Gj0IZOpmkfOa1NUnw/DbnnC0L7U4Ssq6x6wi4LRniJdEwwVLD2bjJGgOe/\n",
       "MVx/k7WNkCwGqPuH8R0as0cKYl0BRDwEEbt0mdyr94oxaFrFGgdzeWIrCHi7VaMC+0UbQ2yaF9IS\n",
       "3catubn8k5pwDKbvmGe0i/49L8iTYf/G8GaDVB3Pj9cAO0/1XB6V0CiE6yIlypsrC0E5PqUw75Q8\n",
       "XegP2yBY++vR8dF5Lc6+MUTktNdwxoerdTv+M5CKNxl0481VJ1PQZKPRPSQjhGivQEUjE5fdbpyH\n",
       "To8FT+DOa4OUjayJ5yf0tUTRdfU96k58aR+P3dgPT0Kx2k/plRXY8EQmPH9bHQ4h4y80CMgLf9lK\n",
       "oM03e8UhdlRlAJJgZVK3fZGcaN9ks+qHV5kDlM5HBQHr331Gqrla/VBrqYdwL1EXTgCLF2pOtBW/\n",
       "odnyAeAAM9800xIiRshx+q+MbbqfRcU9xvFEb6UwjlHl+fp7t0aKCbHYZPI3bJ/+SHUuYjTm2MhE\n",
       "XGR/wOuuTpx4x+663w7q9eEn0dI3EIBLwk09N0o1L74fdo+TX5E+IJVvoy1tc9J4VPlQV/Lnpwru\n",
       "bQbZhPlWkbje1NTrqS5LekSTZTDzhsUEr/xdPAwkM7A+lLXGkSe0cUdxtNkdwWdwz7f8L5Gk+XMJ\n",
       "JratTG3i8hqUaKIeoNE9dK4UAVJ5CtHdcxjlLKqf87iVFp0UOEyGDyJQjhJb/oAL0JqmBXrvYaT9\n",
       "s6q9BLnA5bwLwACwCzMJPx2y/xMz/FNcSFNzPezzm84o1YC926y3QhTOqgIilCo8d9V6kf2gsC/y\n",
       "t/5F28Eemf5TQi0DAEmZPrI3z/R1lgNaPOu3Yelzsf2qBK2ZP5DHdHlkZrTsjw7ImKN5LCUvzQ+j\n",
       "m+F1YiPNNAr30e9CxCoS6FB/1pKFxIknkXs6cBALtqor/I17r7sc13wMbVGJvrPnBG+IMghY2r4Z\n",
       "dBMRJ4NfeSPFXCDx2V8D2AB2XeRHhLpY66z0GbQTuZYAcfytfl6JVKebrdwAiKRQ27lFHKjQjNvz\n",
       "SVD9389EOuenTl1mo/i42WmASR/H2DYkn/enxyY0lQFlbf3PE+89qpgpRClzlMpX5aCyBcvvSzjT\n",
       "mwkRlZ9/RkdKO5/D8fetxYqh0LjjJ1OWydRZgpCWdFV9Z9RJ2+lK+el4WhaAnU/2XX2LEm73kP6i\n",
       "xSrlgb374JxTDK3bb+KI7p0/uj38OcMaXBF2a6mHxtNck5E/LaXQul/X1sFiG64PsSjHBD7ghtya\n",
       "PGF9QIWPGT/Ni/9IWUAKY1q0kXV4vKpkSZF15bAcONKWtqM+ZT6+E2nqtO0IFA2SE7KbLug7nbsP\n",
       "/+sBTlnECWl+7/yhPs60y5bah75my+2VmLVbeEZOzOfqFhxd31EI5FhtJYjBnWBgld0hJ9O90V6S\n",
       "Xr7P4dQZjwZSORn2cO8H/XRLJKkbi5077zfmwJnXF4iT2cKasp+WokwtRZ0IRdR0sJbJeOjbmDPG\n",
       "qNmBZLv8mqOWcvLWgj1H1udq792k+1Q5HQLeEG7Hs9edpyCMb5YKV+3EVNFN6NDS65eS/+jFaeTB\n",
       "lxUjRjUlPQkczbYSqOwOAksLr7RoBzG0IvD++kyI5CLkUdCw7EVJhSnkMEmVrEEnDLZ2D/2lIu8G\n",
       "jQuzpe7DSoKbPAU5k19BzppUxOx0DkdiWo1/KnjsIFLG/36TxBGc3+mIalA5JJKXHU1q/PUAtgtR\n",
       "fi56IYASyrAuZKGmnecyq/saBhQpRF4axXGkjz/WS94eh+A6FkGMmV6k0zkNsfgNmenL9uQITo6d\n",
       "R3fwm7kos4sFJTJSJGimSiRHAiVHJc7DjfgRXrfYyh9XY6BATCVK5kKM+nmd3ZPd+FU7puQ8NjaR\n",
       "cTX2Jcq9R1J8FUPnb2fM7RxF2o4xp8qNgcHD6yI6RfVGJZdobLAZfNXa0HUtcnxLK0Wadp6WK0Eg\n",
       "yf6+o+6tq+1Ip23TixiDVyWzw2mibANt1r7i6djo8uSumzfjqa6Y99MsqN32bBFRm6N3esZ4gfpt\n",
       "5ytWUy2tLYq4XgkYqEn4q6f2kDod3keQrEQ8LwvgIxeLNa0FehBUnmfmtfWZFvTWwokW+2fGSYrl\n",
       "sjXTjChPL++Eft4nir1hZmgCGTQh1JvQmTnRoWCVTHz1QYFI/mgMbFbnz4mzQYmPAzr5v1zirT2M\n",
       "/BI4mliGshK8WCBux8lovdFhzErBe95GdU6P0ruf5Zt/ysfRyyU5f7HXTWA74HOtPO2tCpHd6X6C\n",
       "BMmCbkfNDR9MkmqEUztY1qKNnecfn2Bi9eBP+v9oPkVB4jNZld07hcQ4E/RjfovDmCUbE/Xcd5xX\n",
       "GYrczQ4ZgQ1VsHf1QANj4BpakRaJF3t3R4G3/Ltnd0XHqdua9j7o/RI/HKp2z4srxKpecX2AL8cz\n",
       "Yq7Nh87Uh0IaHum3S+Ab888QAXrcS7IK2QNHVNlzXNUhtVEIGWiTVtbYKxYVLYhAsGK9F/kfZSUW\n",
       "cenrV4lKZInnqIHHCf7e/MQPMdqrNZuEZa30L+CoBFPAQcEqLFqTpjQT5ZfUCaD3Qbnw5R5oJ5cA\n",
       "AAIoQZohbEK//jhBixmABSMPD6XjmUmAzhLr4EZhQs5JDWLkSAp0P8MnTW+ADKvol9ClVCRCCY1M\n",
       "pcxoKSyJVjL0MtCRBZmd5D5wE5iwiRHeLDFYrShYmQszIEHA4J3XJ6xizsSI1m6sGtTqOT/a3ewp\n",
       "AHOyqtZRxFBP+pnfMxtebqQFGw8Z70JySSmeprrDv/9x5EqcpWPwYrOCEYvkLxgO1/OXvuA3FPOt\n",
       "H0Tjd4mrAHgDjETVhmpDPEukZ2poLUtmP1H7osDzwd6RnvSnqhZOxVA9j9tGwECia/UWQElt/5rr\n",
       "zqbIgnzeP56g5PJ7uikmp121/uFhK9rn9oVMRC8Psybc9+g5H5Hz4PRwcI+wyFy9flpTHnwR4pW4\n",
       "izaFVe8iLxRKbIGFEv5fMtRx6Q7qrvRkn0g+Kuru4AZDZv8/3vzU4KDoc2oM6qCfG14OVdyuB6x/\n",
       "7hWwoA//7pELx5Xfuutr57ptJZ9dHc8PpQABsiayvp+OYp1KMheB/gBIbJ5NTkOIA4jmGjam/hGL\n",
       "CtG0nDfD8EAUNpV9Buw9HoV5RplrgDHS5Z69Glcb1lW09vgNxuLDEkSVPnR/OgmyF/nUV+HsGM4k\n",
       "lh3K7QfERpEv+kPlFYuZyX5SLqSB+rgV4RZDC7pXoZFj2GsCYIvOIDbygZNRwJAenu5oXUDj52Eu\n",
       "SN5Kx9p2wPizymseEZx5p8p5WhbRHd7O2Q1WH9Ncc+534Suc2He7ALqAAAABv0GaQjwhkymEK//+\n",
       "OEAKPu3wNfo8ARquSu0vAo6hGj8tDKaJmd5FzY3HwTQcz2lQswpa1QBxgQ1TBL3ZopD7MrUt0GcR\n",
       "xGFiUPIFsuAkyvurzp7tgnSE/xnh/TDy4iznrZACY+EToabPyg2pmRtzwHoht/tOPEVQnF2LnfBi\n",
       "TzUn/FdHWpv1/+DSsKho/9Gj142a3c4EPQyYS/f9QOUvPba7/vB7yrTHJ0x0HDZ1HwW5T1lfwKkQ\n",
       "FnT8wtB+ukemRKBUu40NnmMhqvGC2lUw9rtyzvzJi/twnlsTJKmObpNy7tGi0Cx5fRvjsd64KXVx\n",
       "TnfoYNZkAJuQ3y11Sd4fmeojZNusdBcPX7b6QMqyr2q6MvFS7RdsHWAQAfVt5z3kt615sL27LvAz\n",
       "OH2tVTc1QXLP+1zaPZElzJzbgJDxWBZAIqnLT10wEjOngqwzlyglLaWF69I2Hs7NYIwOgpS5fP9o\n",
       "SbWqsy/zkVQcB55viTT04FYTrOkC4kYvwqDW0da9fKJcz/n96gl81cxF/9U1xlxToO+FUGGFhIRB\n",
       "mXVLdzJfTXE4sMNTdS7IyxsLEncbloSL+0N5eyfHqZ/aBHYSoQAAAdZBmmRJ4Q8mUwU8K//+OEAK\n",
       "OkcHm+ZEAIxhi3JRy0ZdL9cdVVMI1bCBuAlYfEyx2YF3oPvfi5nJ6EFE20pJAvX0jIYovzC6IiGq\n",
       "KJ17OA3ozSnX3et8TeVcx8YaMzTYDCrWQcDom4ALhzYywE1eshMakGYTjw4K8ZT3evR2BqzxW9cI\n",
       "8BT9KaOeyf/KSM4M7nw/uobG+TEPXBIDMEud3fpl5VtxCo1DQCLIQS3fm+j//vxqyFjaKzOJ02Ir\n",
       "0BUD4KAUlySF1iNKI91fUJCZx6B/jevIvacJAvtueSSinC/kPejBXB6RFBBq8x1AQbQ7tNxl6fQP\n",
       "qTEeDvhQXpHo0H20hMxgxD4OFh8vlREx7wWipE95LLstMjt7Zi9PWs+naikKQgowZw5ZY5sM+PLR\n",
       "MLsstInmJ3tjJm8Z0MAH3Npvz/a/HtHA1xtfQUJOlE4nOW2YT+hUykxF/CbMRVJbyJb2Y3P/wmcq\n",
       "gqdu1OU4nKnj05EEr9YE26AJvps4Pt1h1c2XwvjQeGdpWFUhLQN8bW/UxBMHJnnVlmYnF5Jy87MQ\n",
       "x0i0AO6SzgiEoXfwxLcAmJNQMJLSqhzP+FlNo+kBSTw7UpSYljp7kCbR0HgWmHSY/S4+ke3ZrgAA\n",
       "AHoBnoNqR/8DWvEs922iLHSw4VQ+l4Sl8M7CCHTMFDKyUMKAd5RK+K6DgIAP3k5gLcREQOVR3r5o\n",
       "KOW0BXlsGprF0vYxeq9CkJbAwiy+lW/UaFcgWg4V7R6lxckl+NazJhYLRhMMZEOb4naqK0oOF0eG\n",
       "PtrY9qdmg/3P3QAAAYlBmoZJ4Q8mUwU8K//+OEAKLqrc8XFCH3kAXaoIE0mv7smceKFUXbs8JCD2\n",
       "o2920cUHqW/SSyXfw4uKvBHJEP664BzO+pZsJ5ncaRXvGbNziEu6dTft4F29t7rCbOL46CU9hBdG\n",
       "Z4mgrk3bp/JwqM26yrSqKqKjU1WVqfkh5KcM9g3LWLvm1Ft4mh18KE+E8psMB8RglOL1eE2YJrra\n",
       "wsLDTVn3/mGuzI0A2NZiNMaOaZS9HIvhzM3GbJi+rc0WD8oS8kf7iC8bX613NYD/Ivy0Lk8eAkG+\n",
       "1pnJxJpTZz6PO7sHSM9lM8QrrQNDaMzUhYrMX6Snc1Vx8FyCqXCP57dUT97ySnI3OAsnirpRmUDD\n",
       "KaLMNNNqxoWo5ANZo3wM7mbv8CdP2ZlA2GIPo5JJLSydLz2pE+a7OUV0ZtNaCkc33fIvZ5KYOEht\n",
       "U/u/HOjd6tYpLlMpFdPY5S9Po1xojVAodeoIVgAeuMannnbvEZs3+x18eKS03jcrWRTVzveNMO2G\n",
       "9pzE3sKVpEcAAACvAZ6lakf/A1rxLPeDmbQIoVyWXi/LpuACauzuOTtLCmG1KOd4Ib6Hz7SmQ+lb\n",
       "1FrleBlL9gM9x7To7tfcSHD9C02L48Jn5mpHGSsPCmRzIiCZFTkYdVCyvFa8Z/kgy4jWB/FnJjGZ\n",
       "SK1hBbH08PdzHq5I+VFdvWVa5XYwF1xkjorEvRl/gXRRJrzerNssZxOYONob2DIR3OtsFVkLeLB4\n",
       "jIc0taYkvIp3ngylIc5mQQAAASBBmqdJ4Q8mUwIV//44QAov1RwwEFQA5+UU390TCo0DHE7ZcGXA\n",
       "cSW5S9R6Sp+7kqXiNHa9OlZjX1KBgJ2YCpoSL3husOv+9lMjAc9UkLKCu4qIZJqS2FKM/TuvhS4H\n",
       "wGvpNjAXVoEHT9dKhsX3qw0i8zPYFbCvg0YrmfKCCeQA08oOe8Wy0c1RqLONaY/njB/h97Ee2x4v\n",
       "DZjcO8Mfqad+7g4/ZHfx0e4ptneBPWy83sChQMeWnm55pHdzidO7Eq7e7h7xVWGmALieksk9u5o/\n",
       "PZanwNqeY7oPqpFzMdBwb6CZVjamZLbN7VW2m9Sdxob0viyF8eBoWs7TNaX+4H2yI/eWu3PR1Eyc\n",
       "ruRhQifjgmHYD2gPKIh1dupvtZozFNEAAAFqQZrJSeEPJlMFETwr//44QAouqt7b4l0ADchnA8St\n",
       "T0nP0X9eDshZrXNbAOUyIda/Ajx7fzU2fT19bLGK2d4DIDmzTM7cuLxm097sMS+Yv9k2W9lEqtiH\n",
       "QnBoGZRyDdEzHex9n75HJLawMLzJtppxwJcLmF2ThtpCNjTiC/EbdJd9g6PCcNTepjN89ndU10lQ\n",
       "Q6oYbWuqkNcXWVvV5ll8sTi1RVFpX5FtFlw1BkVpnI5yd/oMPVGoTYq4dc2ozc6c9yUZRoTcB92N\n",
       "8kifcmf2WDfP6K152UlEUMfxDEOB7ggH3ykNSmNpgYW8OCfbkpHervhpO4YqphlU7srK8xlXakCa\n",
       "h04c0Ibh1bCgeUCNINqFNSiDyiVxcYSblKWqTk5aoFfmqHD2kSXAneBBs/MzmGFPMmv8rWr/Ve8s\n",
       "hKRnD/zpZIryCy5VpfiXug/hgeWhiab8e7d8oUwTqJQSI2RRi//OnVpv5feF2qAAAACOAZ7oakf/\n",
       "A1rxLPeFHxrVbQIzlPetSzCG1la34dgAh//jpetL7VVWQzOhiT3twoF5vopiVxosP0hX5PR9FsQH\n",
       "DkLnd5F1zm4f6zW8KrepntcHFYk9+qFTq7RKPDS6cI0ymrxo2KQZvV/dubGnVw13pv1tAFJQsTA4\n",
       "cUavYu/tcjNF/0Z42p/CNKpsGLo1CwAAAU1BmutJ4Q8mUwU8K//+OEAKL9DFQBD2EQBWUXx7iYzY\n",
       "YtCj/M8a9w04cZt6c6d9zU+QfabpqkEuw5ol2emQ1lnvabhx97L6wbGcrbLtshabVvv/hMh7FMgU\n",
       "+4WudpdgQ1WQ9tCiOqgoSMKpdqOmV6u71GQCl/idzDEs9p4vBCRt/Pk90/z+PBoX6HHxx3xJFWTk\n",
       "mRgFhoBp6YgCo7tTLeMJ8eEo9wfn4EMEKSMssQ/brW3qIylcQjkdfhaWcAd6VUozn+TYDaqYtimB\n",
       "lHwQb9NvNS2Eh0DqOOwvYVin2R3YLBF9eb14KTd5kCeR1zsFr4EpsAZqpzK8vFLcxtIasPwLO9d+\n",
       "7f6JXvgO3s/hIfvhk5pu9LmQWJbvRIkjI9Lyh4KiTeSiGK/PvLNTxYWYrPcnfV4rIzPMwBTJXBDv\n",
       "lfMoiB3Dp78M7RIffMqCfa8AAACiAZ8Kakf/A1rxLPeUrUoagVAXoevJrTwAmCtL+lHb/OBO3k4G\n",
       "Q0QfDoSdYhz3LeKdE2VXyzsTuVK8I8HQyjOl6+jVh2k8B84fsfSfWOgG81EvOQKyqdeIp/eLwF5T\n",
       "p9NIzyLdg8SblKKB+2kti96cgnzA9SY+7dkE2g1urtphn0cM5WjY9VdLrWlAdJ7laUbE9W6toJXd\n",
       "JIkpCn3WedvSeUSAAAABIkGbDEnhDyZTAhX//jhACi6voValvcTAFQt5NEif/kAV09HwhbWFXJ+r\n",
       "wJ+DYpe2+wTO5DoKJt0F9u4fHqWgK5mi4BP1YJ/S7k3J8upZQfFA7CKPBKwT59zzaEX4I6fd7leT\n",
       "ZrhPGRR78fA4hP7VhXczf/rksMaALxkZghepw7BQA8uwNM871zzvyTYciHJDAebP/k9NZTUJKpsY\n",
       "wsri76986bWOc7/eHcK5P0cyJaa4mnzy2XS902/uvZmumicxJMTI95diqATHeIEpViHQ6nxPTPXj\n",
       "v0K+N8r308vFjEQDRdwI7p7Tz7gQnIM1lwqv6fUpBRy2rpnDeUiwIkRd71WOK0B9uhn0czbKR1CC\n",
       "GpWThRAWvpQZUpRmf+ggOVmcwBWgAAABJEGbLUnhDyZTAhX//jhACi6voXB16KuhJbR2dDAJgFWh\n",
       "zo6XazyUuSzjpbqm8e6LdKlnz7iooJY5UMCpJgHPct9oRcNeVfRhrV20kZkA8eerd7FSBerJZOBo\n",
       "fmcGYBU0BQL3KeniqPNqQ6kWsu9LrNYLYgt7LZQOi0/R4mW6J5Fn2bGTXFm2pAES/0hYvy/0MWPo\n",
       "3roUhtfOn98MBWfv0aJ0ER53+kEmCCxK9FHYs1tmXd8k524PAOVFKdwODpuStv3lPs8GOGD9++sQ\n",
       "wEGH8yH2j6fNRZ1kqb7S8Tb/X9BkyiO4b4uFbapYKjd5IAsOgC5nLkDaybeGU1+FhWbwowlETD2G\n",
       "GS3BNeK2DZvYc9twEbLM54dJDAyWiHfQeXfbQWPF+OkAAAENQZtOSeEPJlMCFf/+OEAKLq+h4mfo\n",
       "WMkAbHDlEu/3ACzNHD9JyXLaVhliNyQfQibggbvbXNHnwaxnN9R6fRK1F8KHt6yo+Ifb8SAF3M2T\n",
       "HV3be63lsPleVVjmQCs/nScIVAk/vQl6odjzogfUt65YOIbS+d+64j6XMUZ//25cgSmVR8OFcik8\n",
       "wonegHkHSFunjQNjiIYF/yBou0sdcGJx0FZsu2ylfy4eFAOhqS/3Gaa4qzlkotDfmzhyEFUtL/Uw\n",
       "SEgoCAJytEzvQ1ZL4Buw7PXgyxp8+02WTYVXJpWi8msfk5L+OAQ2WCuPHteRxrUX5WrYteLB9mMh\n",
       "wM33/DTpLukOpVjV+64deqNguYEAAAFLQZtwSeEPJlMFETwr//44QAoukR23AIUSwZMy5G3TcBgC\n",
       "B8ipDYI039iLpgcg+eb9l1yB9RMYjdUPjk/yq4T7QC6Ft+OIqYg7CZ8kfl2rjHeQ/9rh16gcd+0L\n",
       "1yRMscPfFANsx5CK5qPwz+OKLrxy7gqw5YOQ33FBdfN9vpQ/mEmVmvD6I3rJdw0h7RM1cb/uV0Xw\n",
       "9VMtYcQtB6YFDpzrLGbfI0gjpCMv7FduFvr7OgArGmaywoUgZaMMnoUGHhMQetVmbbLXmB38GeDM\n",
       "D7P0yh7vEZR6J2vc2VVS+8DcLalC50Nth0WT52NZkTcHRRoL6BDUOLggP1U9CTzLldFKFGm9h2BY\n",
       "s/7qL2SyjK9NHnOBYOjxpE8XK6hOnpVxhMnt/S0PVaPN2dkM0rcX9sYw3pC4O4yhTjXwLfKwyEC6\n",
       "n2YjHX0xArovPywZ/QAAAJYBn49qR/8DWvEs920RAagMyDuY9rMgAAPpAtjVso7hnLGDd8m0qPTb\n",
       "qIwiDd7OS8fY4+1HRIMXlQ5vhWjzuaaP+S0qgCxNEo7GfRA9b2jO185VRK1c316FQXseEacEKjQe\n",
       "VApCyNYRXIB4/yaQqnu2pq3F0bWvOzS+EDq92iLcfyu5pDzWPx8N8wodxthi+iLA61G7+zoAAADz\n",
       "QZuRSeEPJlMCFf/+OEAKPyfZ/5JQLgdJ6PCiQpR0iIpV+AAnL8ROQbPJwIvOktXqkKUc2pI1FA43\n",
       "f1Ye79Hex+7beM3W88tGLbwobwDnHxUvDsOITTnLPH0v19NvSMY71eBy9Uy6Y7LkB54SaEf3tGad\n",
       "5ULmj7utclalMyFai2tfXLryHH/pWfvNPEA4ud25APdIVdvLhvWYyp8GW/yPCt+enUqX4PKV3ZU4\n",
       "4evZV3/LIP7ffEt/DZK5/5Ti6LIOKZ0DvxFaCZqycdkGDBSTzd7hb2x0+zyXmHw8GtceoScvhgjm\n",
       "ymd3mf5FSJlhlFohVknjAAABCUGbsknhDyZTAhX//jhABRtX0KtBfXHZH1vtWYHlU1GcLFGABfEv\n",
       "BDBON8MsZMV9mudmx5INFT2HFGtBpqFw6kPYxQZ7iBEhwOWEGOPqt/BGdcbAitqQFuzAuE+pYf2a\n",
       "DJNM3aLtPDrx0bw81QVYnMBCRgKM6QZEBRgSXz5n9pbO7HYxKBjWW/e0EP8Zg39eOht8NpU+dwZp\n",
       "tA5yCTvW+Bhyk7yO63kCgePiZcBxw7cuIfeFVS9W1xIeWfrfxClhAZBdCWEXxr02wXkGNMrJi0qu\n",
       "AFYjPLc9bi1c8HYdP1FKccyqmW+l8RxoIpGWJ9mxt+3HlxBFkL6v0jnPw/cESZ7IRCeV7VHoq8EA\n",
       "AAEMQZvTSeEPJlMCFf/+OEAFISlJPd6FsTjfrLap6bc66gAXQWuMrhne7FNsoW8wAklKf6H/CK0V\n",
       "TXneD9I/ib9rNqa/CyRkZvlDFQN3G6bKtm2EcSv94vTJpUhhkyJ5scnBY4jaAHTJAXyHSRkyqN1a\n",
       "IR4xY9B3Cyjaxk3nNosajYDt4cyWpAAKPdybPKSDXTEsUrHSHTSE63xN08yf+B9mF7ZugyG/LsAj\n",
       "GAYJkBfAWf/M3KXJLOOxvoqcw59X//jwOt3zX/A2KtUzwXtVnHq9nGvJ0fMuJ24esS9uA8vhnTKu\n",
       "wRCkp/e18s3FqXMszISnigJ9mN6t9s9DIfqp6HLTzzuCU555eatKDpdWQAAAATFBm/RJ4Q8mUwIV\n",
       "//44QAUbXA0z6gtZJ1Z6+QCOkYIDZfKCqHmKNPj3241NTsWx7UJuDQOV6poSmZzn2GeTD2c+PIfU\n",
       "qPIZGy5wgzCqsBo2IzoTWILLcsZShVhCS2Vs5FZ5A5BcAc9nzzzgLLIXAyko44JTjENcf0M8cakI\n",
       "yasfztKCXjkBohF34YRea6S624zo5+KXIySJuz4Xw/SOQ2ESHMKoffhKqVy18GEjOo6QmcMwvNaj\n",
       "vGvU2U36XwWhHXPjW5TZMQAHl53EvgU+k7lORNK1r1oimK3dJUqbynLSB0IrTw7H8YzXIj+OmeRc\n",
       "HQevPtkEOZcy95fe/ON+B+KhCWmC4qx8AA9EZGX7Z93Lfvg4LmFkYM7yG7VoYOf7aQztoaUulWvA\n",
       "ljb6Rg2OQcpooAAAAPdBmhVJ4Q8mUwIX//6MsAFUStlLR+xYi4JB3kGiYbrVgAiD2fh1f3tX9uBm\n",
       "Qj2/WgWVlwUznnc+ZYy9CoKD1KvwxgkeZmmpcpEasy7g5wNlxbjFd3mgKm3YepPpzOEswKwyNNfp\n",
       "8HLebrDy2m5iUCfxfAnvTa3mzRZp31xi7q/DBSb7tUcEw9a+5+DnT1r7N97rYQI+2WdqXnGgZbf/\n",
       "rrZ81RrUtAf2PVqfpKUT+xatGsuexzpjw/h+0pwwYkiOQoMfE3OEbCBOLQrPW1ze3qfyhIXMri+r\n",
       "wVGhlHbDr5hXhsJGdQQtl5a96OBjR/ishvSYD71aCG+BAAABZEGaOUnhDyZTAhX//jhABSEiHBJt\n",
       "TBYM0AQ0Dltw/xYXyAaLbqz4EOvu9DinnXEApIib//rfc6Lu04EjPxDHmPPKKEv4XeOtVh/oBTgr\n",
       "ZaaTjxIgBx5p2aQBPIxUf11Whi7XFJAYmdnu+LCdMPVoXD4yfDJZHv2tcif2DDk9eqLgn71EmUgG\n",
       "gE4R5nM4FO4iWgYc7uHqUMYMt2/NDSjtJxa9UoU44pjbOvIdQOL8hi4ztLOoYLGER0shtStbiuO6\n",
       "7GfUBbNJZwo18j1FEI2MdEyxucWKoypyiiMQUOTGeya2qxPpS2JzIRCAc2ZrYtKySph9gBa126uQ\n",
       "tKl0j6w1gMFd6Ha7jHaMcGA7OjGI+aZxlmPpXBuB66Gp3G1kGpOxEHAvY8w2nObuGfVKso+OS3D4\n",
       "DIi0IXH0pKjdOEB+t2NOsdSYfksBdqtthi0RWd9Wj10xeYVk2ezUT8sM0fESaChz516QAAAAuEGe\n",
       "V0URPCP/AhpljQHrRtIncaWAaZzU0eHxtToxwILeFJ/fJQAmVLFTT2iz7CdM3VJ+iQDEtgosq8+i\n",
       "9Z9P9JUhkwc7hFU/ah3CEFeqK9E4Xgb+GULMv8xanC4bnON95T0yPUxmVLu20OHK5d2kRjsfxXBe\n",
       "7lasg0XWCUVp+CBQ/G3Ztr3IdscUhO+LgCBSFYWjhskHcjesLAirvp3h7Q/QuCWBgvrjhHPVA/kp\n",
       "9EMHdl9IUIv3t3kAAACBAZ52dEf/AKygaOGlMJmDgAumZu8Nh/lvZmO8GU+hBt+kpYpWLOxYTWhY\n",
       "Z9Tupvgqhm4caY0VZxQeheonn0MrNG+j3rQYZ3H5efUoRpaP5qYEb0Cw+j0oke6XV/jICrjmI5/F\n",
       "ZUN5FGS90NKR8VYX4ON6LtqTnsXBkZyo0ifTIO6BAAAAfwGeeGpH/wCsy7cOHoX8ODxVitmid+2A\n",
       "rIAQnEXIZIzKzeIRkIvvwLPBRF6CcB1rQMpIme5kEIkG7j8VfApkh1xu6ZsNH9eI+pRbBch4/ftK\n",
       "pUH+0okchQHRDMLZrTTOMkM7gua564YsdIv0mO7J13DREZJ/W7zpuNvsZ2XoIzwAAAD3QZp6SahB\n",
       "aJlMCF///oywAVLmavA4NADj1vS4tqt18Sr967heWZhvzmH5DYjw4fTdKTM8x551UAjx5p/p0ZYq\n",
       "Jjirph1Bn9ay/PgBJjOX7olZBgaEbSg7+OZSdJGK89xsG9v+LWP9B9YAtXZSOVxKQYz4Nd/FJHzz\n",
       "nzLi8uG0miBXsFNf/KQVPZv+e7mV1ki/ffbONl8rgu7e+sQC190blmmK8rgWTVqzOjKwxhEgAU6/\n",
       "8qUgfOVOiMsRtcKuWVc6R5oJU6T0Dnkij+vNqgDFQ2q1rMsrCiCN8Zy0OHyLguHXPYOLoFyxg6EU\n",
       "BkcdjBWbKo3Ado6ZBQAAAXBBmp5J4QpSZTAhX/44QAUb6R9cHCKQAROjuWRb6JTJSXKf4s1Va+9e\n",
       "lOWw0uIwCPbJRi+UWe1XK/9vtV7WnZ2W+n9a/FnncyJX7JQbCcy3SqwtJoobKmbOGej2diQ8uVc8\n",
       "Sid+1rvCNHIcSbuqweLlXNy81/jaCqQhyXitYXIyBc+PTrTExTkWtAootjtI0MDxslTtqX5f/rzM\n",
       "0pKQA4Mt0QbYjKNoMrBG31i25v3W4CuIshxmVF+cIi4zp/cqX/GD+vCWIqvQk/MgZBoTqZHkELGd\n",
       "GfY9eMCV8aivqzTbVAsssJMuoiEOQYp7Skptzh2aH1f3aa4Rt09DIXVjDJiLeg3WoIsOOcuiFbk5\n",
       "PQ8u7XFPOmoGFaaEl8s7tv94//yhVLtTsF06hBZmfOEuM+bBR25BKmY45lUVPyaj//1FhzXoQir5\n",
       "6HvVPQrUydx6tfZOV8aZ/f6/0Exewu7C0fSfGO5swDe7sqjq1C4DOLjJ1QAAAMFBnrxFNEwj/wIa\n",
       "ZY0B7HekVRkovjmvNE/binzZhpLvaObYboQ3a3ngXzygcTtY8OZug/qd7gBLXjINJV0zJF7WevYU\n",
       "kiLr/EDPkH6pLBwtptCVAV5qEco1UBb1msx4eLNOwetCWKPgSWMi4Fr+o9ifrJEIC/SuZCbSdXT5\n",
       "eRi51nL7Y5baYzAdayprh0guBhOiBCPzKAsW2VCFzzFaI93obcsuIYG7hJclSgsOEj3wFbpK+ebP\n",
       "DVM+RCi9KxnC2zSBAAAAjwGe23RH/wCtE+kW1HuYyoUAETEuCXjJhr7LB+n74ay5tyPcJzpHrI7c\n",
       "JXehtk7Bj/zK6U3Ya7u3r3I3RbXG+ZKz6LosRC85KHTGnqXd8OvaNX3uMy+SdLXDzT+Nh9Tvyzyr\n",
       "o53LQttFVQ4VBkp/0K6FlksYP4nkQuget7OzcMg4s9nVKQvuOzJgydWKTwUdAAAAiQGe3WpH/wCs\n",
       "9jaPUTf4hN89amABco+U3ovy0YtS3MP3rgGwFDk9gOmaNCG42x9cBITelHASPw4mO4k7FDucEvrS\n",
       "JqjmhuT4HnNR9XyMNw2pcG/QAl8XstHlDl5KrIk8JjtjJrDQgQvih1zFFg87Vy8y7dafOfFLtxZV\n",
       "c9u1ndUjGM370uW4tYFMAAAA9kGa30moQWiZTAhX//44QAUbXA1e3iwnAA5vE7lJVxL2HtedQPNw\n",
       "0e6N7MvQn7OJb/w/NnPqyRGks/L14UBH6bJnPxhYz7ShD/eq9l20t7k7PGoVJyyKwhnIazyLa3fO\n",
       "lt54mK7f0jXz5yJ/0G3FveOOQx5HkENFFy/PT7TXGpNkDNiVaBpvzBNXv4wzi7WtLtKE2I6geW1J\n",
       "cnHLJ8DiAm8Y8ajgDQS2Q8npm6j1GFLxOUMfdFOZU3v0SVRru+E8LJ5v1kgbOK6Z9V6fDcAVR2nJ\n",
       "ezGbnIabmmH7dRS7ysf/3cRuVZupGzrK44CZSjoJxhIiNgL2gAAAAVZBmuFJ4QpSZTBREsK//jhA\n",
       "BRvoFxpH4oAEZDfkQX2aU4w7T1zCYzWNuhUeKaiVc3Mlt1KZ93BdGL6omPMwfk/VXiUVCjizwL1k\n",
       "KAI/DQZ80poeTIBTjVUCwz4o4Kn9Kh6LR2bS5FGk0z/jscbVPx+J7L3Cn90G3a9/3KMyMGBUp0Be\n",
       "FcW/tJulo3bnGjRoGuqx4c/y4e2driqRIweh6VXxzOizH/70sjRWRQ/yNoH6tWmEwi2DEQLHW6ZJ\n",
       "GMIrYd00XMcs32i2PmZDO/T7qzGAi2whOESUsevvx+Cxt6WEjMefL1+VzAhdn9N4ULM2e5uk3kMh\n",
       "11YCFeUHwCdzBkPGnnDRAtbL6n9jsFSeTMvOUaglcRkEwVo92jfAzTKQznckRicOyeCTqDHdSHv7\n",
       "oR8rnB1J1YFZ0GDM/WMe+5AX3PUkbbXZ9LVv5jxOMfoD55wYTlTH40EAAACXAZ8Aakf/A1rxLNvU\n",
       "AvF6cxxeWnvlAUMvgVoDlVljr8XFBks5WGLSB8ZbeQ0eGI/7ICxpSgEns3PdQ8ECY7Y+VY3/nHA5\n",
       "wDxqWOqaLYFN9P4vKmCEUDUpu56TT7Bb22MDQxKdvn9S1PFTbzoym2nkbuC7rkUpYMklIiZcCM74\n",
       "PqioSQHBRObdyJASeg1SyiMlKkNVuoYhoAAAAVxBmwNJ4Q6JlMFEwr/+OEAFHBxH2AFmqz4AhIGg\n",
       "vnlglJVdWTA9Y3Yv0xIu2MydyTYHecc53o7kOkeUMrlzdEEad9lsh9dALq2VZGCQjS4uLnGLk/Lr\n",
       "oGG5KgrO3CizVyBzVeqd5ZPafoIw5rSGGmuBnflDNEbJTZMUt87KXNvNZD6jI/7x82/uT1Ix438G\n",
       "lM96y8UqkzbekDLa4J950OfREx7tEymAm+8kjhy3S+mJbXTkdV0IhaTtqEf4PLYvQ4kT+BbFTjtJ\n",
       "MLKK45/owEkrIss1b9zqDc927tRm3ZtyWBWIS8PI/85HRE/A3JwXECJtJ66C3DFMyUmecUc9bHca\n",
       "wNPeB2TANj3DfOCsvYznfGs/NR0urSzJk5026g3Rf1Y96aeH28V9Wv8CJUE9iWcduxDwbpmkj8Zz\n",
       "HRzk6VF+HXAlA4LApL7qAtwSGnq4Pz6GtfKmR5KfB3iXf4EAAACOAZ8iakf/A1rxLNvT+XdKEQNm\n",
       "wsYlSzABbteQ1SmSnitQZnQa08plyuW9icC9Hj7y0k1FFV0109aYpAKOh6u0mR/NqKwFAFASlmEa\n",
       "IYBiSgjavC96PFUKt/p0bOiOElG3zR6n5y6mOrTDse2Kix72z6zmOHXMTc0agGZ4Vhxt6Mrw2fxw\n",
       "0t6p/As6nJcTgAAAATFBmyRJ4Q8mUwIX//6MsAFS5msF3JBPYAlsdY63G+lk4iAvSTESOanXyl1i\n",
       "kZtnTkmPu3Ax8OsFIU8rHi7dQkNwdlGUQMfdL3xcpwJeMcU3PSlhZ/i3wyuIVT9PM2JB6pkGcT0H\n",
       "pA6nTqZ/H/Va3OT4aj9PMDNr2h4F1LRaj9yVWX7D4DKTtbUpeJ+LNBLqUgvFrLHnS4qUJJUyPfmZ\n",
       "s73BlU/ztnezoSXVFXlIzZD7mKtAVWO0praanE294IItsmAWkasDHDmDrIy3HbKkNZOjtcduwV26\n",
       "/It/B1pM5FhYk5cLYs3wHoreXPJyLeEeMDQTgpLdFxiO3dTGvj9hvr87DF7jjTXxtFpsQ5eMsQwL\n",
       "8cE36drwz9ZJAEDpTw7MUP8qFLveD9m7kUno/i5GN5IHgQAAAY5Bm0hJ4Q8mUwIV//44QAUjk+0F\n",
       "pvyyqrQAi7fwKZcBVL+zGB1fZjJ8Y1aImsDHI6TDL9esWTVUy0RdMdGppWk3mP+jcs8rUOU3/uwc\n",
       "iDx5ucR+n2RvhqmmAI9mgvYhSbKYsqps21DW7KHKubwXsXXApDYd4IfX/NN3K+3IdqgVfn4wqQAn\n",
       "DOIJN4g+IihrpfFqLJLxE8b3mVDP/uBjCQYWvKEl1hf0GZ3goSDKbIHmXTvD4rfgZvfA8nkMGrTa\n",
       "fAqT3Nw6HarQPNE2RPhEEPwfvCxnw5FVoBe5HXZ8PJ9tZ+TJBAQidZ8rOamZKLL2RSwPbR0sI5qt\n",
       "ZU8FKiClKYnkveVtpaGiVAhjUNFoLqbtINNif6qxuu6sckPRQHnYS5OaUs2xx39psLYWte6l1Hj2\n",
       "c1UE1KmU1ift0lEhtfMVlHMixeMK1HUnTf2EiUyndujBu7+YR2wonNTXYD5b2WxuV/Xm+cVNCSVD\n",
       "gx2e9nNf9fUYzaUAkM7h/03zpfZZOsnAup4go1HdUPd/DyjlsQAAANdBn2ZFETwj/wIaZY0B2k9R\n",
       "o4O+GaxGF+yvYZLPRRHuALBKZ3FMY4cTbE3lAuR94bLvGWkMfVg+pE6YNbXXtd5ylq+xhKtsttaT\n",
       "kL9cAQZ6VX8Bg7gJcVCFCqLcuk+HHzOaAs+Rnb6bCsaKlA8j/knWTW9+HB4/hJkJLPFpk7NcLT/7\n",
       "aM0u5kSAVJpiIC796j1knl8/krxnQawLjwAEMITU/w4fpHVzioQkkdr2N1GcFDLlJJsNv45kdo3J\n",
       "POYingnYqc5/WcWpvWhFEr5IrLzdBJ6axqYh0QAAAJABn4V0R/8ArIug4K53jCWE8RGCoy6VO5AA\n",
       "nFw3unWbPyjf/8BNwlkWmOgjYBwGm3YAv0xnRI2QCbHo2u6On2F23a7mTrI/NACuyVSHbA4Vq5+T\n",
       "DSMFk3jnBDO9xTS3lcLbGviCvz8PNTTePi6wxR7naMiNK4OSetJ1/jfpK2R7Z7KGG8UAg/cEyNhj\n",
       "vFXbqcEAAACRAZ+Hakf/AKzmmet1lOLpHpgV4AB/Jr3uLQutnG/6zg4pUfSSUlNY2yIVLBZc5CE0\n",
       "OOu3iAwEb8HIjzB0p1rxM1gqRxyzWNHpoFtYYGoPgbFhFZkk0DP8qpimzROkWFWYlazIdCrVzXql\n",
       "f1Cgm43T1EvcdU48npXiQ6lNh13zKbTNn+vJuRHYZDsYqCLsLUfCgAAAANxBm4lJqEFomUwIV//+\n",
       "OEAFI5PtBMVWZyA4AEaB4aV+6SenDNB9YX5jDBV6pqUzkKRF2bErQkHDVJMb1CD8xflie3obVsra\n",
       "Ap52TNYvccqHSr7pJH4n9nFLyNSKjo9pOVcZ3jzzA5loQSfAF8DZK6nRMrtul+YbgSQMjgIq2e+o\n",
       "BxSehpspymMOs3LvYKvjjqS65F76vS+OWEd2xRpZfM+aWF6D885Painm7N3wfG8/twFnvmCCi2v4\n",
       "cx/f5yvqWxhm/MveLloXnBykEQrebolC/c6E+AX1AH30ObaIAAABEEGbqknhClJlMCF//oywAKol\n",
       "qy5gAmzOnmzNFUgdsIY23v9BM7UNxWCP/yG/cXxznq9mFEdwNqEz5U+SBXLRQWd+Td/x3RWa+AhT\n",
       "pzjxny3f7TwO6XeGoT3kbfHUXmSzk9Hm/3JK7Hr5BYQzll7gF2cjdpZwN+GW145O1lHBZ8MdnRRi\n",
       "fJwTL1/7JD6BsJTH/VS6/fTqP70tA5w59rflVjhD6g5XJarj955JEhvU+YMp6ACL2LRaH31HZUx5\n",
       "7EHlTCbI64fYaIlSbskyWUcmMSNIMMVum31TQsTrPQPg/yUYcV2/VDOi7ntTH5vHosXRmxxkvzc8\n",
       "lX7L3dx1GgvIW2XLGNE3WmxYBmSaxJdpPwx9AAABcEGbzEnhDomUwU0TC//+jLAAqiUfmTLACacs\n",
       "s7Wk/w5wlyxa5GE90NCBQwUrk7s7isYCyfdjtSsFNmbnSLpuOdIxiRREIZVRLrHlL2X08yciPnUA\n",
       "QgbYqMQ2f6TR3ReeYkbaP6SGjX+RsEN4TRnZ61aGGkMB4rTqzhoMONUZnG65WDyIaYx6NhBfioA5\n",
       "M/e3Ms86+Qz0DOUMBiUw8GDYiWrGM7Y4Bwfcm1xyHbfvjs11OryBebnhfJ6XaNjl1wP5Akvbi8/p\n",
       "OJ6szUDB2UAcvx/I474v1oa1pVNSruhQISnHeTYViBNvfpbcmEE29dOg5I21dKjz9TfDsZdtQkGH\n",
       "WR0uC6tAVCDyf999cWO4ovFxWvNE6lPZdEfnyh/G3V5NgzM0JqaXUr50Y50cyY9BpziCPjwnWUyK\n",
       "HN/ZyQnrDeLipWwMvMy1XrRK0veNZLz0w7u/jVo85uRABhT5MP3w0cV49HlgFQ6kBYSvsUndlYVg\n",
       "AAAAkAGf62pH/wNa8SzXXmPvl9DyvzUCe0gwboTSQGGx3hAA0WS+K45JwhjG/E04tElrnKje2iZm\n",
       "QdyPkP5WCTrbc/D9of/7SxSIg6fVoaXhV/GTTVSosyl9CghZ14G1YMCZ4TAifACGaAcNVAJ8bJER\n",
       "qAhgW7YJD2/hFchFhf4Xi0vrGPa4N37ALpgarCFdXBYaugAAAZxBm+9J4Q8mUwIX//6MsACqJN3u\n",
       "P5gA4OHjYGPO9/liwcd/GRWkT97tLquvq4jJqQOQrvLBL0UEa+8uo0d47+Zrko1oZXhhnRj+GznX\n",
       "iYL6wUvHp4NAjBgt3MQAKYNRRWBKwbAocTJ5aht46yHLBsqcLuiehcLPZlEUvs65PbkiEBUFfW/H\n",
       "PEFV5nkg6QF7IOQyhlL2bemG201WpvBxCJkMYIvH4Lrn6oJshJTdEXUaOAkE8qP52SNGf2DL2uWB\n",
       "S8DHmMmQkNDlRv97z0LKNDVEyBs9gEX0j3ZWaxtgOROWDmjVZpWHOiFGyDlLKEEbAp89w/pwIWrH\n",
       "v1G8S7aN4eUoNe4XhMtMU028s8xbASomM6XKjCGWPSFu3hD8yTdkcZLLrQxjXngA7FRzhGBG0htb\n",
       "iq5AIhQEctN6I6fjGEQCFhJbjLiJGuw0txOjVTXs765D+HefjzdFPqILfI/m7f9i7oeSiA+1/kzP\n",
       "RKLJWq9k+0eVgrtYmYC+zA0SbIqExJePrM8Ls8t4hW8BPNeDg0tISi8o4LUQo5xR2NxBAAAAo0Ge\n",
       "DUURPCP/AhpljQCL+VxhavAELYA5oPJANxDrdw0AIO66KCQzfvP05vZ78HKskN7wlw84a+4DDEz0\n",
       "qjzNamqwxlT5W3kTautr/mVIdTVq0Qywn/hcePFl22UhOmZsW1tFIZh4RdoqyPmfUNxSAedfIpX5\n",
       "hUm2jQ4aWheFlhv2du6eWV49mhvYrbvwjEKlWyr0/ZwO2Y9DRy6lPPnXJdYKwyEAAACdAZ4uakf/\n",
       "AFYzE9RVi6QFUfOiABMvIABnCvl9EE7HvDmMSz3UcMM8RFAsVdepP2RUPeKF4Gtmfcg3aDjsGaZU\n",
       "wyzNvKj1GCMUisJr9pUhnqN8EuRStkCXQMO3NYYaNPeSMwWAlutlJ4dLNENS+cpfs9uIcHzNv0Ti\n",
       "Ysc6N/O8/zSl4/l/KjUpbx7IYNloa4cCzQ2CJ/X5Kms8tJOPgQAAAQNBmjBJqEFomUwIX//+jLAA\n",
       "qiH58wAcGt89Jy7QVMfsMlUXLWTg8wX8sbCzs33UzZ+pfhx8v75328G6vnREDyFZCasu/t3rTmZO\n",
       "sde053JgLVncAeJcUTaqG+HGCiqJxLhpuF5dls11drauygjvLxAbB3S/mHx47EIPNnvupF72eZ9P\n",
       "J+qmVO7lQwJi/tY9UkLAdfQ6G4dUls1rvZJOzh5oX1iAS+PShPYq75d4i9t60Mxu5/4hcqoWOuLR\n",
       "iyk6uBsYtjeXP1dTjsc0/2I7T9Zvx3v8ieaxzCdeBkG2LiMLTcoFeyF7yegaDi7Vmux6ZwzbDUp/\n",
       "5a63vXvI58RdHSqFvwnAAAAB5UGaVEnhClJlMCF//oywAKmIHzl3ADbTJvbKkDKhwhbV/cFiPmnC\n",
       "cBsWsqpoB8qXwJIzIp7MnEGiqHvlQkbOP2RZbx+ArR4HWIQegzQSktvr2DJang+4cjihPulBuGKx\n",
       "cDSJXWN3a9vn2oLw83763Ahj2lU/EViTC67gJfLrAtkzP0qVju0eZ0+NiZ+x1n8nLI8Iphwm/oUB\n",
       "hQc5AeWuKnkjUj5egjv/C6CYG7GA2jzeqLZUUweSgiL7/KTJ1b+fuT91jKn87Tjn1UKuZAW48vVa\n",
       "xQZHHXwukW45vEH9MQOchSWj8/4X/TXyvV7RgPrId+tvyUlC9U8fgYkD5k25+01uKfOQVpRDnb+V\n",
       "ia7nFTHOsdXmvYVq41j3rYdb4W+0YILHsyCXDc2iKek6RSZqHwb0JUZMiH43+MA8MGYPT+Rje2UO\n",
       "g4YvYOA8iEeNxrX1N65l3xJvqcstYY1rZc3daLju0gmezZ3HMGhCsmPtDgxHhIP5tbMGXbEVz3UB\n",
       "pgt0a5gwzApGdtnirNOMCbf/0WAAAAMB/6tV1UAWik/ox/Wn2/ezJvLFu/9uNOGKaNIj/EYA5IXq\n",
       "TtlZKpFa5TnrTW1rbtA5J66WbNUxg+6EykFuMcneI3s4q5m/YyHDv4h6cfj/oZyAAAABVkGeckU0\n",
       "TCP/AhpljQCL+VxlDdQA2sT9uqnr7IGrdlo4oZfrVEtnneu//MTfK513xmfiXGSaZULeVAalrX5a\n",
       "KcgUuZVahHm+AAADAXeS5x6X/ZcA4w39cHF9Q3buFHlz0qNBMT1EmsjkszE4AwgSpy/PpDg0Nm4S\n",
       "4FiyjAcuXtm8wLZl7ywNdF9bdujhJhRp1Dc1Dgmf/6fAMayUaB9EQO5V9D3Kv7XAvfOmJuVCc66k\n",
       "OD3i8Oie8KWlPJVggt8pMXyszbjNyK2CFGF1ZNBghxuazXVG6KtTfUhmbFKyjqRPPy1a6XpsCXLC\n",
       "un9a9mJPMMbPpLNHoXz0QwW3Uz3s8AKNChyYamhvapuhIjbRl6yE2c7+XJVEXP9IvlqimAfV8mUv\n",
       "1g4vwAD8pPFT+AgjbEUcfTTT9EQOyJu2IjTArwVsbBgZm7i4Q1a27JEUd6dZSJY6HcRGcQAAAKMB\n",
       "npF0R/8AVqY4AEmMMSgamDwPMXjngKUr5jspFtJldO5HlvgU9VvS05wDCEDkJPzhLkiVEgaJN7F7\n",
       "L+Ew5FBlsWyJLLrHs2H1jZCAMbjE52Dd26rdOvXpT+ItpdmAJS6I0/Tu3NNf9U6DiYF9hO6BeEYA\n",
       "U7p+NhwPwWlZgOfiYXTWwtanaQ+ISts5gqL/NMIlDqnSDSGHCFugXmQ2CpM88+4gAAAAgAGek2pH\n",
       "/wBUJiC8hR1a11X2OfFz+m3aRhgAnCh97iR5ncZDRd3XStiwquBiklwPzS0KAvvkuGSsNEHub8cw\n",
       "qVvGux5QGlg9czuwbmU434CUZ3t7rx+y0Rosb2BtKR7igb68f8aZEvNo4JUY/iKvZYJpU7vhqkSP\n",
       "AfrGGpMZGe1rAAABTUGamEmoQWiZTAhX//44QAKNKUPGADg1qIoa0s09jBs+Ox0JTHOsyS7VKPjR\n",
       "aV5tRwZVd0Hq8JxiDiH33kHwybzqgF76ezy+7UVHhNjnw8BZDbLGPFpXk/vWxSRejaOIXu6qgwfR\n",
       "v7+6/6lNInEu/1RIDa/ZjPvlBu27zLwaTY2+u2jR2NBzQbDHtvT0tyT+haDE2Huh5K7wttOPh1zp\n",
       "zN47Oct+B2sUrdDSHNTOcGmtm7sWGcBf6mqXS9TbVfqWihZU+xzoRgoBw96tejw3mE9U4azOYhMi\n",
       "QPMOfCS4niTsnUYzebFUj8ns9icIXcw7PZQL5HF6iq1EXC59R1q26TMo/FBSH3Adj2h43dDrIkk3\n",
       "9I5nlr5oaq+L298ATcfcNnPaYbm4Lu9RffWQI47DL8JPauzoTuRqUAsemHx8Nxs+j6uqNV40gopn\n",
       "pzbGJQAAAI5BnrZFESwj/wIaZY0Ai/lcZQ3UAN0eVmBdswAvqpqELDbsr8cOKNVINKgfYyxF7ou0\n",
       "wn7jfJZpNjbZJFckv8Estjy+pPOV28AImbcrc4weyLlDYj9tlf+S+G9qxHnwFnelqaIxtOwrLU5Y\n",
       "+nL6XM5G/UT6/ZESwm7xEt6RpB97VBxKvtMCOIsAzXjTQq9IAAAAWAGe1XRH/wBT8w0NS8TIDCWD\n",
       "9naur67OH8V/RoEXGSwQ7SpLmyJs45uLt3ke0XPCoHu3chou3w7LHa32LZDC77esPvOmA0I/g3Xp\n",
       "2aHcE94Js6U2kqrpu9kAAABIAZ7Xakf/AFPXk8otaiYOcnrco9QN6JlMTvSG718DRvgKoXDYq3Ny\n",
       "5vT2vCWAVpWfAzRJkaM32gmxNIi4cYYR50gM0JguhxEnAAAAlkGa20moQWyZTAj//IQAJpdttvSQ\n",
       "PINQdAAlu9joDdBDV+8KKsamZAdyLi/L1CqIH6xaLnBhziLWwClPbeVG19wSogTUaD7gNDOx0kKD\n",
       "lCEICdENYST0TQYefk3lcPz+tWUo/nkpTYW1ddKRu1v7pFieDOSWKORLFTaWv7UTE4cdQDPzVUg9\n",
       "5xebHINKmT/Q/4ZoRxg7wAAAAGxBnvlFFSwj/wIaZY0Btk9UVYO+DtJLooOtPc6VuAdA6HnB6SzY\n",
       "2lF3GLf6+QUGyIGc7LsREzEnS0pnlBbQxIDWOPXFwlVi3/qcVnDT0XpXqO0SwCxgUG09FQyVLkFK\n",
       "gx7TDRw0JhWNIDLWeGEAAABIAZ8aakf/AKhmmefd8H2q3gaQ+gA9JAusEQ6xSn5vFffZFS2PIZjQ\n",
       "NfUe8As6VuIpdpjDbefoxqNLBPgJEM7wTqQN4QZslJ0YAAAFpm1vb3YAAABsbXZoZAAAAAAAAAAA\n",
       "AAAAAAAAA+gAAASwAAEAAAEAAAAAAAAAAAAAAAABAAAAAAAAAAAAAAAAAAAAAQAAAAAAAAAAAAAA\n",
       "AAAAQAAAAAAAAAAAAAAAAAAAAAAAAAAAAAAAAAAAAAAAAAIAAATQdHJhawAAAFx0a2hkAAAAAwAA\n",
       "AAAAAAAAAAAAAQAAAAAAAASwAAAAAAAAAAAAAAAAAAAAAAABAAAAAAAAAAAAAAAAAAAAAQAAAAAA\n",
       "AAAAAAAAAAAAQAAAAAGwAAABIAAAAAAAJGVkdHMAAAAcZWxzdAAAAAAAAAABAAAEsAAAAgAAAQAA\n",
       "AAAESG1kaWEAAAAgbWRoZAAAAAAAAAAAAAAAAAAAMgAAADwAVcQAAAAAAC1oZGxyAAAAAAAAAAB2\n",
       "aWRlAAAAAAAAAAAAAAAAVmlkZW9IYW5kbGVyAAAAA/NtaW5mAAAAFHZtaGQAAAABAAAAAAAAAAAA\n",
       "AAAkZGluZgAAABxkcmVmAAAAAAAAAAEAAAAMdXJsIAAAAAEAAAOzc3RibAAAALNzdHNkAAAAAAAA\n",
       "AAEAAACjYXZjMQAAAAAAAAABAAAAAAAAAAAAAAAAAAAAAAGwASAASAAAAEgAAAAAAAAAAQAAAAAA\n",
       "AAAAAAAAAAAAAAAAAAAAAAAAAAAAAAAAAAAAABj//wAAADFhdmNDAWQAHv/hABhnZAAerNlBsJaE\n",
       "AAADAAQAAAMBkDxYtlgBAAZo6+PLIsAAAAAcdXVpZGtoQPJfJE/FujmlG88DI/MAAAAAAAAAGHN0\n",
       "dHMAAAAAAAAAAQAAADwAAAEAAAAAFHN0c3MAAAAAAAAAAQAAAAEAAAGYY3R0cwAAAAAAAAAxAAAA\n",
       "AwAAAgAAAAABAAADAAAAAAEAAAEAAAAAAQAAAwAAAAABAAABAAAAAAEAAAIAAAAAAQAAAwAAAAAB\n",
       "AAABAAAAAAEAAAMAAAAAAQAAAQAAAAADAAACAAAAAAEAAAMAAAAAAQAAAQAAAAAFAAACAAAAAAEA\n",
       "AAUAAAAAAQAAAgAAAAABAAAAAAAAAAEAAAEAAAAAAQAAAgAAAAABAAAFAAAAAAEAAAIAAAAAAQAA\n",
       "AAAAAAABAAABAAAAAAEAAAIAAAAAAQAAAwAAAAABAAABAAAAAAEAAAMAAAAAAQAAAQAAAAABAAAC\n",
       "AAAAAAEAAAUAAAAAAQAAAgAAAAABAAAAAAAAAAEAAAEAAAAAAgAAAgAAAAABAAADAAAAAAEAAAEA\n",
       "AAAAAQAABAAAAAACAAABAAAAAAEAAAIAAAAAAQAABQAAAAABAAACAAAAAAEAAAAAAAAAAQAAAQAA\n",
       "AAABAAAFAAAAAAEAAAIAAAAAAQAAAAAAAAABAAABAAAAAAEAAAQAAAAAAgAAAQAAAAAcc3RzYwAA\n",
       "AAAAAAABAAAAAQAAADwAAAABAAABBHN0c3oAAAAAAAAAAAAAADwAAA6+AAACLAAAAcMAAAHaAAAA\n",
       "fgAAAY0AAACzAAABJAAAAW4AAACSAAABUQAAAKYAAAEmAAABKAAAAREAAAFPAAAAmgAAAPcAAAEN\n",
       "AAABEAAAATUAAAD7AAABaAAAALwAAACFAAAAgwAAAPsAAAF0AAAAxQAAAJMAAACNAAAA+gAAAVoA\n",
       "AACbAAABYAAAAJIAAAE1AAABkgAAANsAAACUAAAAlQAAAOAAAAEUAAABdAAAAJQAAAGgAAAApwAA\n",
       "AKEAAAEHAAAB6QAAAVoAAACnAAAAhAAAAVEAAACSAAAAXAAAAEwAAACaAAAAcAAAAEwAAAAUc3Rj\n",
       "bwAAAAAAAAABAAAALAAAAGJ1ZHRhAAAAWm1ldGEAAAAAAAAAIWhkbHIAAAAAAAAAAG1kaXJhcHBs\n",
       "AAAAAAAAAAAAAAAALWlsc3QAAAAlqXRvbwAAAB1kYXRhAAAAAQAAAABMYXZmNTcuNTcuMTAw\n",
       "\">\n",
       "  Your browser does not support the video tag.\n",
       "</video>"
      ],
      "text/plain": [
       "<IPython.core.display.HTML object>"
      ]
     },
     "execution_count": 227,
     "metadata": {},
     "output_type": "execute_result"
    }
   ],
   "source": [
    "anim = animation.FuncAnimation(fig, animate, frames=Uc[0:,1,0:], interval=20)\n",
    "HTML(anim.to_html5_video())"
   ]
  },
  {
   "cell_type": "code",
   "execution_count": null,
   "metadata": {
    "collapsed": true
   },
   "outputs": [],
   "source": []
  },
  {
   "cell_type": "code",
   "execution_count": null,
   "metadata": {
    "collapsed": true
   },
   "outputs": [],
   "source": []
  }
 ],
 "metadata": {
  "anaconda-cloud": {},
  "kernelspec": {
   "display_name": "Python [Root]",
   "language": "python",
   "name": "Python [Root]"
  },
  "language_info": {
   "codemirror_mode": {
    "name": "ipython",
    "version": 3
   },
   "file_extension": ".py",
   "mimetype": "text/x-python",
   "name": "python",
   "nbconvert_exporter": "python",
   "pygments_lexer": "ipython3",
   "version": "3.5.2"
  }
 },
 "nbformat": 4,
 "nbformat_minor": 0
}
