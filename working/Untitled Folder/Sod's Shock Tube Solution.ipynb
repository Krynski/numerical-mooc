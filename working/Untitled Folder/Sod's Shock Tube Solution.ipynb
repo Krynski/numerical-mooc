{
 "cells": [
  {
   "cell_type": "code",
   "execution_count": 1,
   "metadata": {
    "collapsed": true
   },
   "outputs": [],
   "source": [
    "import sympy\n",
    "sympy.init_printing()"
   ]
  },
  {
   "cell_type": "markdown",
   "metadata": {},
   "source": [
    "We need to find the values of constants A,B in the cubic flux traffic equation with given values of $$\\rho_{\\rm max} , u_{\\rm max}\\ , u^{\\star}$$  .\n",
    "\n",
    "The derivation of the cubic flux traffic flux equation in the lesson 3 gives us 3 equations:\n",
    "\\begin{equation} 0 = u_{\\rm max}\\, \\rho_{\\rm max}(1 - A \\rho_{\\rm max} - B \\rho_{\\rm max}^2)\\end{equation}\n",
    "\n",
    "\n",
    "\\begin{equation} 0  = u_{\\rm max}(1 - 2A\\rho^{\\star} - 3B(\\rho^{\\star})^2)\\end{equation}\n",
    "\n",
    "\\begin{equation}\n",
    "u^{\\star} = u_{\\rm max}(1 - A \\rho^{\\star} - B(\\rho^{\\star})^2)\\end{equation}\n",
    "\n",
    "First, let's define variables"
   ]
  },
  {
   "cell_type": "code",
   "execution_count": 2,
   "metadata": {
    "collapsed": false
   },
   "outputs": [],
   "source": [
    "(u_max , rho_max ,rho_star,u_max, A, B, u_star ) = sympy.symbols('u_max rho_max rho_star u_max A B u_star')"
   ]
  },
  {
   "cell_type": "markdown",
   "metadata": {},
   "source": [
    "Now the 3 equations"
   ]
  },
  {
   "cell_type": "code",
   "execution_count": 3,
   "metadata": {
    "collapsed": false
   },
   "outputs": [],
   "source": [
    "eq1 = sympy.Eq( 0, u_max*rho_max*(1 - A*rho_max-B*rho_max**2) )\n",
    "eq2 = sympy.Eq( 0, u_max*(1 - 2*A*rho_star-3*B*rho_star**2) )\n",
    "eq3 = sympy.Eq( u_star, u_max*(1 - A*rho_star - B*rho_star**2) )"
   ]
  },
  {
   "cell_type": "markdown",
   "metadata": {},
   "source": [
    "Solving them for A and B, we obtain the following equations"
   ]
  },
  {
   "cell_type": "code",
   "execution_count": 4,
   "metadata": {
    "collapsed": false
   },
   "outputs": [],
   "source": [
    "eqA= sympy.Eq (0, (-3*u_max + 6*u_star) * A**2 + 3*(2*u_max-3*u_star)**2/(rho_max*u_max)*A - 3*(2*u_max-3*u_star)**2/(rho_max**2*u_max))\n",
    "eqB_solved= sympy.solve(eq1,B)[0]"
   ]
  },
  {
   "cell_type": "code",
   "execution_count": 5,
   "metadata": {
    "collapsed": false
   },
   "outputs": [
    {
     "data": {
      "image/png": "[encoded data removed]",
      "text/latex": [
       "$$0 = A^{2} \\left(- 3 u_{max} + 6 u_{star}\\right) + \\frac{3 A}{\\rho_{max} u_{max}} \\left(2 u_{max} - 3 u_{star}\\right)^{2} - \\frac{3}{\\rho_{max}^{2} u_{max}} \\left(2 u_{max} - 3 u_{star}\\right)^{2}$$"
      ],
      "text/plain": [
       "                                                   2                       2\n",
       "     2                       3⋅A⋅(2⋅uₘₐₓ - 3⋅uₛₜₐᵣ)    3⋅(2⋅uₘₐₓ - 3⋅uₛₜₐᵣ) \n",
       "0 = A ⋅(-3⋅uₘₐₓ + 6⋅uₛₜₐᵣ) + ─────────────────────── - ─────────────────────\n",
       "                                    ρₘₐₓ⋅uₘₐₓ                    2          \n",
       "                                                             ρₘₐₓ ⋅uₘₐₓ     "
      ]
     },
     "execution_count": 5,
     "metadata": {},
     "output_type": "execute_result"
    }
   ],
   "source": [
    "eqA"
   ]
  },
  {
   "cell_type": "code",
   "execution_count": 6,
   "metadata": {
    "collapsed": false
   },
   "outputs": [
    {
     "data": {
      "image/png": "[encoded data removed]",
      "text/latex": [
       "$$\\frac{1}{\\rho_{max}^{2}} \\left(- A \\rho_{max} + 1\\right)$$"
      ],
      "text/plain": [
       "-A⋅ρₘₐₓ + 1\n",
       "───────────\n",
       "       2   \n",
       "   ρₘₐₓ    "
      ]
     },
     "execution_count": 6,
     "metadata": {},
     "output_type": "execute_result"
    }
   ],
   "source": [
    "eqB_solved"
   ]
  },
  {
   "cell_type": "code",
   "execution_count": 7,
   "metadata": {
    "collapsed": true
   },
   "outputs": [],
   "source": [
    "eqA_solved = sympy.solve(eqA,A)"
   ]
  },
  {
   "cell_type": "code",
   "execution_count": 8,
   "metadata": {
    "collapsed": false
   },
   "outputs": [
    {
     "data": {
      "image/png": "[encoded data removed]",
      "text/latex": [
       "$$\\left [ \\frac{1}{2 \\rho_{max} u_{max} \\left(u_{max} - 2 u_{star}\\right)} \\left(\\sqrt{- u_{star} \\left(4 u_{max} - 9 u_{star}\\right)} \\left(- 2 u_{max} + 3 u_{star}\\right) + \\left(2 u_{max} - 3 u_{star}\\right)^{2}\\right), \\quad \\frac{1}{2 \\rho_{max} u_{max} \\left(u_{max} - 2 u_{star}\\right)} \\left(2 u_{max} - 3 u_{star}\\right) \\left(2 u_{max} - 3 u_{star} + \\sqrt{- u_{star} \\left(4 u_{max} - 9 u_{star}\\right)}\\right)\\right ]$$"
      ],
      "text/plain": [
       "⎡  ___________________________                                         2      \n",
       "⎢╲╱ -uₛₜₐᵣ⋅(4⋅uₘₐₓ - 9⋅uₛₜₐᵣ) ⋅(-2⋅uₘₐₓ + 3⋅uₛₜₐᵣ) + (2⋅uₘₐₓ - 3⋅uₛₜₐᵣ)   (2⋅u\n",
       "⎢───────────────────────────────────────────────────────────────────────, ────\n",
       "⎣                      2⋅ρₘₐₓ⋅uₘₐₓ⋅(uₘₐₓ - 2⋅uₛₜₐᵣ)                           \n",
       "\n",
       "               ⎛                     ___________________________⎞⎤\n",
       "ₘₐₓ - 3⋅uₛₜₐᵣ)⋅⎝2⋅uₘₐₓ - 3⋅uₛₜₐᵣ + ╲╱ -uₛₜₐᵣ⋅(4⋅uₘₐₓ - 9⋅uₛₜₐᵣ) ⎠⎥\n",
       "─────────────────────────────────────────────────────────────────⎥\n",
       "                 2⋅ρₘₐₓ⋅uₘₐₓ⋅(uₘₐₓ - 2⋅uₛₜₐᵣ)                    ⎦"
      ]
     },
     "execution_count": 8,
     "metadata": {},
     "output_type": "execute_result"
    }
   ],
   "source": [
    "eqA_solved"
   ]
  },
  {
   "cell_type": "markdown",
   "metadata": {},
   "source": [
    "The first solution used the positive root.\n",
    "Now we can calculate the solution using the values given in the assignement.\n",
    "\\begin{align} \n",
    "\\rho_{\\rm max} &=15.0 \\nonumber\\\\ u_{\\rm max} &=2.0 \\nonumber\\\\ u^{\\star} &=1.5 \\nonumber\n",
    "\\end{align}"
   ]
  },
  {
   "cell_type": "code",
   "execution_count": 9,
   "metadata": {
    "collapsed": false
   },
   "outputs": [
    {
     "data": {
      "image/png": "[encoded data removed]",
      "text/latex": [
       "$$-0.0281023443605751$$"
      ],
      "text/plain": [
       "-0.0281023443605751"
      ]
     },
     "execution_count": 9,
     "metadata": {},
     "output_type": "execute_result"
    }
   ],
   "source": [
    "Aval = eqA_solved[0].evalf(subs={u_star: 1.5, u_max:2.0, rho_max:15} )\n",
    "Aval"
   ]
  },
  {
   "cell_type": "code",
   "execution_count": 10,
   "metadata": {
    "collapsed": false
   },
   "outputs": [
    {
     "data": {
      "image/png": "[encoded data removed]",
      "text/latex": [
       "$$0.00631793406848279$$"
      ],
      "text/plain": [
       "0.00631793406848279"
      ]
     },
     "execution_count": 10,
     "metadata": {},
     "output_type": "execute_result"
    }
   ],
   "source": [
    "Bval = eqB_solved.evalf(subs={rho_max: 15.0, A: Aval})\n",
    "Bval"
   ]
  },
  {
   "cell_type": "code",
   "execution_count": null,
   "metadata": {
    "collapsed": true
   },
   "outputs": [],
   "source": []
  },
  {
   "cell_type": "markdown",
   "metadata": {},
   "source": [
    "CODING ASSIGNEMENT"
   ]
  },
  {
   "cell_type": "markdown",
   "metadata": {},
   "source": [
    "The PDE we need to solve is\n",
    "\\begin{equation}\n",
    "\\frac{\\partial }{\\partial t} \\underline{\\mathbf{u}} + \\frac{\\partial }{\\partial x} \\underline{\\mathbf{f}} = 0\n",
    "\\end{equation}\n",
    "Where\n",
    "\\begin{equation}\\underline{\\mathbf{u}} = \\left[ \\begin{array}{c}\n",
    "\\rho \\\\\n",
    "\\rho u \\\\\n",
    "\\rho e_T \\\\ \n",
    "\\end{array} \\right]\\end{equation}\n",
    "and\n",
    "\\begin{equation}\\underline{\\mathbf{f}} = \\left[ \\begin{array}{c}\n",
    "\\rho u \\\\\n",
    "\\rho u^2 + p \\\\\n",
    "(\\rho e_T + p) u \\\\ \\end{array} \\right]\n",
    "\\end{equation}\n",
    "Using the equation of state for an ideal gas, we can calculate the pressure in term of $$e_T , \\rho$$.\n",
    "\n",
    "i.e. $$p = (\\gamma -1)\\left(\\rho e_T - \\frac{\\rho u^2}{2}\\right).$$\n",
    "\n",
    "Now, we can write\n",
    "$$\\underline{\\mathbf{u}} = \n",
    "\\left[ \\begin{array}{c}\n",
    "u_1 \\\\\n",
    "u_2 \\\\\n",
    "u_3 \\\\ \n",
    "\\end{array} \\right] =\n",
    "\\left[ \\begin{array}{c}\n",
    "\\rho \\\\\n",
    "\\rho u \\\\\n",
    "\\rho e_T \\\\ \n",
    "\\end{array} \\right]$$\n",
    "\n",
    "$$\\underline{\\mathbf{f}} = \\left[ \\begin{array}{c}\n",
    "f_1 \\\\\n",
    "f_2 \\\\\n",
    "f_3 \\\\ \\end{array} \\right] =\n",
    "\\left[ \\begin{array}{c}\n",
    "u_2\\\\\n",
    "\\frac{u^2_2}{u_1} + (\\gamma -1)\\left(u_3 - \\frac{1}{2} \\frac{u^2_2}{u_1} \\right) \\\\\n",
    "\\left(u_3 + (\\gamma -1)\\left(u_3 - \\frac{1}{2} \\frac{u^2_2}{u_1}\\right) \\right) \\frac{u_2}{u_1}\\\\ \\end{array}\n",
    "\\right]$$"
   ]
  },
  {
   "cell_type": "code",
   "execution_count": 1,
   "metadata": {
    "collapsed": false
   },
   "outputs": [
    {
     "ename": "NameError",
     "evalue": "name 'sympy' is not defined",
     "output_type": "error",
     "traceback": [
      "\u001b[1;31m\u001b[0m",
      "\u001b[1;31mNameError\u001b[0mTraceback (most recent call last)",
      "\u001b[1;32m<ipython-input-1-a7a5e3a9b446>\u001b[0m in \u001b[0;36m<module>\u001b[1;34m()\u001b[0m\n\u001b[1;32m----> 1\u001b[1;33m \u001b[0msympy\u001b[0m\u001b[1;33m.\u001b[0m\u001b[0minit_printing\u001b[0m\u001b[1;33m(\u001b[0m\u001b[0muse_latex\u001b[0m\u001b[1;33m=\u001b[0m\u001b[1;32mFalse\u001b[0m\u001b[1;33m)\u001b[0m\u001b[1;33m\u001b[0m\u001b[0m\n\u001b[0m",
      "\u001b[1;31mNameError\u001b[0m: name 'sympy' is not defined"
     ]
    }
   ],
   "source": [
    "sympy.init_printing(use_latex=False)"
   ]
  },
  {
   "cell_type": "markdown",
   "metadata": {},
   "source": [
    "Let's try to compute it."
   ]
  },
  {
   "cell_type": "code",
   "execution_count": 2,
   "metadata": {
    "collapsed": true
   },
   "outputs": [],
   "source": [
    "%matplotlib inline\n",
    "import numpy \n",
    "from matplotlib import pyplot\n",
    "from matplotlib import rcParams\n",
    "rcParams['font.family'] = 'serif'\n",
    "rcParams['font.size'] = 16"
   ]
  },
  {
   "cell_type": "code",
   "execution_count": 33,
   "metadata": {
    "collapsed": true
   },
   "outputs": [],
   "source": [
    "    #Code parameters#\n",
    "nx = 81\n",
    "dx = 20/(nx-1)\n",
    "dt = 0.0002\n",
    "nt = 51\n",
    "gamma = 1.4\n",
    "\n",
    "\n",
    "    #Initial conditions#\n",
    "rhoL = 1\n",
    "uL = 0\n",
    "pL = 100000\n",
    "rhoR = 0.125\n",
    "uR = 0\n",
    "pR = 10000\n"
   ]
  },
  {
   "cell_type": "code",
   "execution_count": 34,
   "metadata": {
    "collapsed": false
   },
   "outputs": [
    {
     "data": {
      "text/plain": [
       "500.0"
      ]
     },
     "execution_count": 34,
     "metadata": {},
     "output_type": "execute_result"
    }
   ],
   "source": [
    "si\n",
    "ve=5/(50*dt)\n",
    "ve"
   ]
  },
  {
   "cell_type": "code",
   "execution_count": 35,
   "metadata": {
    "collapsed": true
   },
   "outputs": [],
   "source": [
    "def inicond(nx, rhoL,uL,pL,rhoR,uR,pR):\n",
    "    \"\"\"Computes the Shock Tube at t = 0: there's a left part,\n",
    "         a right part and a discontinuity at x=0\"\"\"\n",
    "    rho= numpy.zeros(nx)\n",
    "    rho[0:]=rhoL\n",
    "    rho[int((nx-1)/2):]=rhoR\n",
    "    \n",
    "    u= numpy.zeros(nx)\n",
    "    u[0:]=uL\n",
    "    u[int((nx-1)/2):]=uR\n",
    "    \n",
    "    p= numpy.zeros(nx)\n",
    "    p[0:]=pL\n",
    "    p[int((nx-1)/2):]=pR\n",
    "    \n",
    "    inivect = numpy.array([rho,u,p])\n",
    "    return inivect"
   ]
  },
  {
   "cell_type": "markdown",
   "metadata": {},
   "source": [
    "We will write down the u,f vectors in term of u1,2,3"
   ]
  },
  {
   "cell_type": "code",
   "execution_count": 36,
   "metadata": {
    "collapsed": false
   },
   "outputs": [],
   "source": [
    "#First, we need to calculate the eT value for all x using the state equation#\n",
    "eT = numpy.zeros(nx)\n",
    "rho = inicond(nx, rhoL,uL,pL,rhoR,uR,pR)[0]\n",
    "u = inicond(nx, rhoL,uL,pL,rhoR,uR,pR)[1] \n",
    "p = inicond(nx, rhoL,uL,pL,rhoR,uR,pR)[2]\n",
    "\n",
    "eT[0:] = p[0:]/(gamma-1) /rho[0:] + 0.5*u[0]**2  \n"
   ]
  },
  {
   "cell_type": "code",
   "execution_count": 37,
   "metadata": {
    "collapsed": false
   },
   "outputs": [],
   "source": [
    "#We create the vectors U and F#\n",
    "u1 = rho\n",
    "u2 = rho * u\n",
    "u3 = rho * eT\n",
    "U = numpy.array([u1,u2,u3])\n",
    "\n",
    "def computeF(U):\n",
    "    f1 = U[1]\n",
    "    f2 = U[1]**2/U[0] + (gamma-1) * (U[2] -0.5*U[1] **2/U[0])\n",
    "    f3 = (U[2] +(gamma-1)*(U[2] - 0.5*U[1]**2/U[0]))*U[1]/U[0]\n",
    "    F = numpy.array([f1,f2,f3])\n",
    "    return F\n",
    "F=computeF(U)\n"
   ]
  },
  {
   "cell_type": "code",
   "execution_count": 53,
   "metadata": {
    "collapsed": false
   },
   "outputs": [],
   "source": [
    "#Now we compute the Richtmyer method#\n",
    "def richtmyer(U):\n",
    "    \n",
    "    U_n = numpy.zeros((nt,len(U),nx))\n",
    "    U_half = numpy.empty_like(U)\n",
    "    U_n[:,:] = U.copy()\n",
    "    U_half =U.copy()\n",
    "    \n",
    "    for t in range(1,nt):\n",
    "        F= computeF(U)\n",
    "        U_half[0:,1:] = 0.5*(U[0:,1:]+U[0:,:-1]) - dt/(2*dx) * (F[0:,1:]-F[0:,:-1])\n",
    "        F_half= computeF(U_half)\n",
    "        U_n[t,0:,:-1] = U[0:,:-1] - dt/dx * (F_half[0:,1:]-F_half[0:,:-1])\n",
    "        U = U_n[t].copy()\n",
    "    return U_n\n",
    "#I copied the global pattern of this function from the MacCormack function from lesson 2#\n",
    "#We will be able to do some cool animations with it#"
   ]
  },
  {
   "cell_type": "code",
   "execution_count": 55,
   "metadata": {
    "collapsed": false
   },
   "outputs": [],
   "source": [
    "U_n = richtmyer(U)"
   ]
  },
  {
   "cell_type": "code",
   "execution_count": 56,
   "metadata": {
    "collapsed": false
   },
   "outputs": [],
   "source": [
    "#Uc is a vector containing information on density, velocity and pressure in space and time#\n",
    "Uc = numpy.empty_like(U_n)\n",
    "Uc[0:,0,0:] = U_n[0:,0,0:]\n",
    "Uc[0:,1,0:] = U_n[0:,1,0:]/U_n[0:,0,0:]\n",
    "Uc[0:,2,0:] = (gamma-1) * (U_n[0:,2,0:]- U_n[0:,1,0:]**2 /U_n[0:,0,0:]/2)"
   ]
  },
  {
   "cell_type": "markdown",
   "metadata": {},
   "source": [
    "Let's place our results on animations"
   ]
  },
  {
   "cell_type": "code",
   "execution_count": 57,
   "metadata": {
    "collapsed": false
   },
   "outputs": [],
   "source": [
    "from matplotlib import animation\n",
    "from IPython.display import HTML\n",
    "def animate(data):\n",
    "    x = numpy.linspace(-10,10,nx)\n",
    "    y = data\n",
    "    line.set_data(x,y)\n",
    "    return line,"
   ]
  },
  {
   "cell_type": "markdown",
   "metadata": {},
   "source": [
    "Density"
   ]
  },
  {
   "cell_type": "code",
   "execution_count": 58,
   "metadata": {
    "collapsed": false
   },
   "outputs": [
    {
     "data": {
      "image/png": "[encoded data removed]",
      "text/plain": [
       "<matplotlib.figure.Figure at 0x255bf513400>"
      ]
     },
     "metadata": {},
     "output_type": "display_data"
    }
   ],
   "source": [
    "fig = pyplot.figure();\n",
    "ax = pyplot.axes(xlim=(-10,10),ylim=(0,1.3),xlabel=('Distance'),ylabel=('Density'));\n",
    "line, = ax.plot([],[],color='#003366', lw=2);"
   ]
  },
  {
   "cell_type": "code",
   "execution_count": 59,
   "metadata": {
    "collapsed": false
   },
   "outputs": [
    {
     "data": {
      "text/html": [
       "<video width=\"432.0\" height=\"288.0\" controls autoplay loop>\n",
       "  <source type=\"video/mp4\" src=\"data:video/mp4;base64,AAAAHGZ0eXBNNFYgAAACAGlzb21pc28yYXZjMQAAAAhmcmVlAAAwz21kYXQAAAKuBgX//6rcRem9\n",
       "5tlIt5Ys2CDZI+7veDI2NCAtIGNvcmUgMTQ4IHIyNzIxIDcyZDUzYWIgLSBILjI2NC9NUEVHLTQg\n",
       "QVZDIGNvZGVjIC0gQ29weWxlZnQgMjAwMy0yMDE2IC0gaHR0cDovL3d3dy52aWRlb2xhbi5vcmcv\n",
       "eDI2NC5odG1sIC0gb3B0aW9uczogY2FiYWM9MSByZWY9MyBkZWJsb2NrPTE6MDowIGFuYWx5c2U9\n",
       "MHgzOjB4MTEzIG1lPWhleCBzdWJtZT03IHBzeT0xIHBzeV9yZD0xLjAwOjAuMDAgbWl4ZWRfcmVm\n",
       "PTEgbWVfcmFuZ2U9MTYgY2hyb21hX21lPTEgdHJlbGxpcz0xIDh4OGRjdD0xIGNxbT0wIGRlYWR6\n",
       "b25lPTIxLDExIGZhc3RfcHNraXA9MSBjaHJvbWFfcXBfb2Zmc2V0PS0yIHRocmVhZHM9OSBsb29r\n",
       "YWhlYWRfdGhyZWFkcz0xIHNsaWNlZF90aHJlYWRzPTAgbnI9MCBkZWNpbWF0ZT0xIGludGVybGFj\n",
       "ZWQ9MCBibHVyYXlfY29tcGF0PTAgY29uc3RyYWluZWRfaW50cmE9MCBiZnJhbWVzPTMgYl9weXJh\n",
       "bWlkPTIgYl9hZGFwdD0xIGJfYmlhcz0wIGRpcmVjdD0xIHdlaWdodGI9MSBvcGVuX2dvcD0wIHdl\n",
       "aWdodHA9MiBrZXlpbnQ9MjUwIGtleWludF9taW49MjUgc2NlbmVjdXQ9NDAgaW50cmFfcmVmcmVz\n",
       "aD0wIHJjX2xvb2thaGVhZD00MCByYz1jcmYgbWJ0cmVlPTEgY3JmPTIzLjAgcWNvbXA9MC42MCBx\n",
       "cG1pbj0wIHFwbWF4PTY5IHFwc3RlcD00IGlwX3JhdGlvPTEuNDAgYXE9MToxLjAwAIAAAA1mZYiE\n",
       "ACv//vZzfAprRzOVLgV292aj5dCS5fsQYPrQAAADAAGq07a5wTCo8QFAyxNmt3Ir7brqLgHaL0/v\n",
       "LpDVPar0f3/A735fols31DYSNaHPWX8z5MOE86jJD/xfe+JJFvwO2ZAHePQAWZ0ddsh0BYfhwMST\n",
       "gU8k+J9Kcs5G12whskfpvfxR9d6YBaFi139DSMwnK2ZmQRnM2u9ZBPAxpCc5TkVEqpHbx7HvvDi2\n",
       "adpNcGPF/V0QXY2sjNSKy8WPMkRWkRn4qUopLKGnM8pd2il7JgAYnDcX6poHH+AjNyuEEZ4rAGq2\n",
       "h96RTCoQU2m10TerMAeL2j4UfYL7IoPaBuARqiNgaeWhofP/MYMysUBMmGCUL2BLqQjxnuEq8BKL\n",
       "8YEXKJNjBZLE/KwO2zfpMj3DHdkLjeKw9LvQYXef5pnO8NNEYsn8SSPhg6vdb76L+He0VqY5c4HW\n",
       "1vnNTAi7WJTwUXQpI3A6fIp56gPZV/vlJMje3+t12H+ACKekbfU3h+ESja3sAGGExZe4af/MHCN4\n",
       "AACV8u+nqz3yZZmmUPFhSVj5zpgB31QcQAjOKi/tQ+oCuK5FWKW4aG78ny9VR3qb9yAb3OPzw7US\n",
       "gyn64FJLwTHroxbmjj2PbIzrdFBKhs2/2sxxut4KlMehi3F/bZHfblOeEMuT9AMR9mvkuRAUSYf2\n",
       "+y5ayGNMHQHUPAraIBqb7lynjpWod8wdR29vS3KYk977telc6nX+fqr5f7IZENNbJciXuQixC2YJ\n",
       "xzoOQLUertuX0FwKmjmNJQylkIJN8vNRY7w5IORUHcAu9kbgR+rc8OSeg/BDQuEWKdNt8w6zlcM2\n",
       "JmHwWFWmZUlkEJxpAtgBKQgV12QKG8isuvGvojGpae3btgyUtz10UwOGF30i+Qtzv0MSj4N8n8yX\n",
       "7fu3entky/NwQFh6i60F40ZjTfO7ReqxVtgflPGD4byWm//e5P9VlypH3O8iD1MG23NvXYV5Cbm4\n",
       "I5oTemkcI8Gw9iQjMqqZE+1zsz4Wr/n/PXKvjUDes3NB+Xc5x4N+pVgOhC4Y776wIuho84yYGrIO\n",
       "SU+0g9bo9tSSXP0PUElWi7I1kAru3QcqGmJ8vrO8jtBX2onk6QGgLsYJOfu0pJwakDTDZHPC4tt9\n",
       "YPOXD8ulNKbOJ9bm9R/+yCxF0XHbu31hJoW+yBinBxx+YTsm32NaMInHcFZ0TEfu2StC0rhdve4E\n",
       "QH8Tdf0UBErSTFGRBZBk62HyPx2oYRQw7nqXb5cWq1Bf/+PEOYJDsQ5GxnZbCVhn9oG4bCDS4Bsj\n",
       "//2rtySnbUN/a4QJMpsXFNt2cKC3it6WVN8uvWTZl9ro5wV91tUTCYo1FZmg7Tqa6gzMoM7JXWdD\n",
       "m2M16jZYhjFSrbdlD2ReZYIWxglWXTxjYDqqe0zhL/GD4h99sKLkwvyeIADivNL/FuBxSXQBPohA\n",
       "YAkGeDnaBcs9dP2iCKqJGVA09VAJWqBcZW7x5tccbM27GovFaHV4pjf08X1B5APR5C+ntu3DM8ms\n",
       "+5r1oJ3ix+WuBkHt2/MhOd28Eazamh2YMZvPqyrRhnrOM18naXTvJx5fGX9SMqE7/4S4tWct13d5\n",
       "zQeS+tExdzYa4FmrSSFRhZsoljr+F2pbKqysDMKeFCKjgs87nFQRX6BsnKpmBoh5xA8GswOjGq5/\n",
       "wcWlvvTUaI9hMyGrPd0NzdPYOw+6l0PCLAq0LCzcgNDoNFlpe0yTGOLQfvPID6mozdYGbxkWmppd\n",
       "jBXZZlTUzBAh168a0Bj8PqQAuOTJGetCJ+s0RQD9f5gpAxdGeh/35oXYy+dmIQGDmKJyp05QOcC7\n",
       "/XV854zeCydlM9lobiy9MZWs5/4diW8TAVlHCQQbYIkkfJPd8aAbwsu/tOl/fQ4fs/n3o0Dhtnwt\n",
       "md140FpOFLf8mHXmQ5G/xhoowkwq3hHfumQvgJ4h5bc611uxdaTWrqKTKV2FkJgfLkuCAMIG2d7d\n",
       "wDwoUXrWEXZFiLqXnonraU8YNCjVd8t498uyMgp7eFuQT0FmOYu3C6X74zj8tuL7a1UFlWLniCGs\n",
       "MAY/npOML+KZFeJfckq4sMJrm+/FuAjyeuBPFEArlg22bdhkvrT26C3xHn+ycGB5lZBHWRzvOYuG\n",
       "w6PDqFqZQgg0Xkb5uaS3tED/n/PrGxmt3xZ7bIhEyhXnQmv+AN0fqhGlpEJkPsUbGgbLs6D2D3T/\n",
       "t/HiWblD6OCtnG3RNK9PoyQMocAJgGDBnIwerhINRvbVu04BOLri2GjD0fdxulBxonrkFptkrfgz\n",
       "2as7iqmdrJ3mrUf2NjzydXi/J0+rXk8SWE+MkSoU/Ys8zfaf+gpxvFg0ZHGnyQM/q+tqYN55z8TA\n",
       "jdAM5rzv1sA9y3aIEkXXYywg8/HLQnw/+Y5gD9THGBH27qcjKJyloltHsJNAKLU5d0IY89tKxHNe\n",
       "A39bZaANzqM67trCXVzQNtGULUmTOms56yNoxTqWYsAt6i0HKK71AvZ3TyOaJVHTs+jNy77h3HWw\n",
       "ipe1fSPBOlfFi0+JCTF1C7ORy4TALsG2kClSzVtAgtRggkxlsMPee7AV/8bhu/0QWWkqfZiGNnyN\n",
       "eWKApsVwUN5j2t3P5nwG83A7I/krRv4gp4llugnxru6d4RM94fn4q9esMW2zBi4D/KbhJx8sawDg\n",
       "cSkcXJO3BddrGMCq/Ch50ISrf1XR0CmQIJeAyBaQkSEB8EnzQ+gLF3c1lNdBRSEGaFM1U7ZJQ4Pk\n",
       "IKBCOb2WqEfSvvyQgr3qxqbK1CqmvfNGgF5ys2DV7GyfpP/hqjg6zFaYm9tRyR1y/uYfD+NdG9ex\n",
       "ueVIyLVj8dP2/mv3kzdVErxR8Cwi58Y6XFXXlLTj3MgmfX37i580k7amLMihPOEwB3ochRfg9tsy\n",
       "v/O+IFKGZc/xepA2fTCxffZpzhZW9x6NgAAPlFnrczfanaE4ZJ1cYdPfeoz+07vWG+xAX9U1Bopf\n",
       "MFtoSd11s3jKOAq6swbWGl0+FfR8N0e6jeE3fOLoR/pZNvH87h7RSRxpLSs7RIX9u/N/dxnEWSa9\n",
       "CTioNk2BdZQgWYcbHcOUE4cqDUMaAcCMGvESkPdrAuDS53/9zaaJu9V1ghtRUXP5DEGrUUo5dA0P\n",
       "Uwf7em6GLrsZKSKXZLMRyiVZplTWqb2sgxvKS9E5S4Q6b4TLwesoJgE9QU3vIUmnicE4khE8L2kn\n",
       "uKpR5BewsygBlobR6qidnVno/Y8+Ep3cEjU2Rfos56/g8GyOl0p9f05BvOmBnkJ+6xO5vfb5t71H\n",
       "BfRBDfmUWElJiUC6bxkF9997cqG6/I6rXRdjSmU1rILaq06awJbxKX/fFbUBTZUImj7ASvK6l95l\n",
       "RNOAsmVFrCBhch9Yp2Maw+DT/77O2iGwt8P/4IBhiJlAgaoz5/TauEL+s3XtMNXUuB6knSylauzD\n",
       "hAFEg7ZaDNOt/kxdO4s/86tPVLvLQvL4VEKrvvO8429+bCdT6gnk9+58inkRsjVADmRkuHMt7zBi\n",
       "uK14KeuwUiD4fvxNMfHU6Kg51ddYHTEKjVaUgsMqpcYQkyexX0dUH2tzU9R/UcsBKItewRtcDlnO\n",
       "J60rvXsB5H1cgWU+bGfykLHTFURDrfmQwRvBE926uvtGa0CnCRKHIJq+KV/wNPmXtOITlRUlFdX/\n",
       "VuTIvLB4LlGGUg6bBXqvXEXfnY+7GoPrIL0oZuNKmJ2OgMXsKxaavi3XBCVMb/bdMtqM5v9MQ9AL\n",
       "ZeKgokVK2BWXhkRu398C0lwEENKlpqm/iAjMM/RnNoFC3LNn5rFcaJ/twiLj1iP4DfRWkm08F/2A\n",
       "4yhziSY8mP25AhFhSL5gxiKjPSPNDLcIU2fYDir/ZluTWTXswP4jYqNoClPwwlrXs80vv5PLh+26\n",
       "Cw9wxwzum5DwqXNHxNfYlyr1HUq+JQ+dvZy4J9PZ+1jKSzG1aURUCttivQDWoUxUNkvejertaDqW\n",
       "ML52sKLNO071QoecMP9fQ92r972V/K7t41OkxWANxlqUMDZLizr1dDadHlyV02cIqsIx76TZQt/M\n",
       "bUBz2Q+i0GaoWt8GTZsUZjpdZTJj46w3EqoxpVVLgOdQoEm25TWMg52O6o/ODIE/Nb1aopkHzkXv\n",
       "JzhsMfRCs+Nn2OBSN1NVo8atPyyHiGs/gZ/2gCA3rPx7y/Qu+77iY3U7Fe2F1J36G/jG7g01ooG6\n",
       "xUFwWQqtPYS6UYirjy+Sk2RasU7HyWi9xr5ISsF73kZ1Tdyx4sbjNvve2Cw8jN6G8Ugx/sxA51p5\n",
       "21ntLSoAN/9d5MREutaI+ox46hFM7WNZIVcpaJKNNtN7SiplLvNxj42JK2ZXdO4XENBRL/v6Lw5g\n",
       "lGurPYkn80UEevLGLj5Tlb9tgAYABsfANLUiLRq58weYdTR/Ltnd0XH9OCa9j7o/gVOMD7VYJOQ4\n",
       "SnHUjbISsj7G2nWYfO8l0CGhnptyvgG/PNpnz2ZPIESIhTfzJH+fR4b/GwSc2B7NmnXYdoK+9YAu\n",
       "GK2hX9WhqdB6u3Mpcs9y4cXRp4ygUoeYA04bk8cxvyTnHygVUNLckyAEHZBguak6Y0E+GWN8QcFa\n",
       "DJ53aZbhJQAAANFBmiFsQr/+OEGLGYAFIw8Ppbmu1eoOQB8CMusRNV7zQuLcB1qT/aKMig0wv9CW\n",
       "TvxNOOZFMGOn3pgn+odzTa9kqyGWakL2v4PQYr7lpNvshIwAPvnCFSGctI9fU1LWFVgqnvZbTTtJ\n",
       "YaeC0tpbQ+xv+ePjIUyqYQb7XtCkdI2uCFUFX1OEcq7uNcG5eF5A7QtWa+Fr8LhEBWRLyqijyH48\n",
       "dgmczMrnnynMWFKVSF3bMEvV9n6Y7x31HPk3KWAatrOPiAS3yNAkewo74FtZBAAdEAAAAIdBmkI8\n",
       "IZMphCv//jhABRoqQvau6LK/sAGzbI9uwQJv7dES7OauvGURS08K+/Or2gcXICBZUknq9MKFEJPQ\n",
       "8gtgibonaOR+ZK/xb0RlxqIOYPO6vwYpkXBJkTnIw7LeYmUhP/S/FQu6aQVTeqlCHM6jSJ8bKZJY\n",
       "lq9riag/OubmLQCA0N/cOCEAAACKQZpjSeEPJlMCFf/+OEAFPsoEA1fKmssV/hVRLLANvaRCWMLl\n",
       "rkrwPIS+5PYkmcj7/lTzyyUhSgEH+1XsYFyQTh1eCMnomgb7r0/BK1i2g1Ush43HQxhtVSb7Ynv/\n",
       "+AWp79J3tjLE/7yYpppYHoltmjIdYJZBi8hpQ9lokbz6DAmw0yPMAv6aObsVAAAAp0GahEnhDyZT\n",
       "AhX//jhABWLemoA9j7rLGFHqhQLsgs/r0179ez+T7TgsX8xb2CrStkm7vdx3JqxB9ImrbmdwoQc9\n",
       "IO2mwqV0vnYlzJAjMVUycAhTu6rLcZHTuCpaxOAhnkV3qOyj1HnGw22Ia0MUb7UPZTAwmdkXPd9a\n",
       "6VnW5m1kdKGF/QMqIA6uVQMiDtxCN6sBiniiOc/YEtwFTpLulYm1g1y6J53ZAAAAw0GapUnhDyZT\n",
       "AhX//jhABT5CsINbXvm0QCExk4VcyaEAca8dIZNqtD++cXdlin1D2m0se+9u2lIaRTWyPxplKsQR\n",
       "XHBmvrtecAdteF2b07wqKd5w/dZYFbH5UTiV4UFLywmpxn/8oNtP4PiLAzW5L+EYMVt6ap//wQjo\n",
       "JetGq3m/vyEreWzkdFq2peK6g0frXSjfceEgiaZ18eS66ISOo+1aBLvSiCW/0SnlJ98UeMxl28TL\n",
       "y9fkLceBtXqFWp+aMOuylQAAAM5BmsZJ4Q8mUwIV//44QAU9GUQEhSQeiwEAGm+oN6CTjDt7G47l\n",
       "IGgjNAWG5bpZfbBUodO1fpTOL2Ga9MI2zIVYpcdgaAQLRppdpO8TCcqQpO0/jBCKqtoehTZaXasP\n",
       "XFrBLXVzfsx8b0PnXZPlHgdvzok+AvIrcm/1LckhXe32WfRD81dK13xtCB1terZqj7OoF82XlK2n\n",
       "oG9c9jHGE+xe8mC5lq3NRH0MpCo4oXumxr2XaJqkjN1yt0fc00NyRljkOfPXU06BJaFtYv3g2QAA\n",
       "ALtBmudJ4Q8mUwIX//6MsAFb8yieG5UNRFtywANFE6C+nBt3V9v9MVjOT8RV71+3In0hAhDei4Jp\n",
       "CdQE4a5xikDqibiXcoiITpQ+Qas2881MRXJVYJj2pkkdPPEZonxHL1usZliNRDg5fH0XVvXI9gJ7\n",
       "D9p8t6XrSdReF3LZ/a65vnerXNegXbVzUYgNOiKUKddPMMwsXve+tzJmkSunn62BVblJnnueeHZ8\n",
       "eeiaI8WUdKaCJt9Ew1h3HId/AAAA30GbCUnhDyZTBRE8L//+jLABW6all18vK8Mg/hKJx4ADVDu7\n",
       "/N4az8tZEYhqkt7t/etawaITdTukieDJmgAjHGl3OqJScjrj37UbZnZDIFLheFGAAnh/nSNENbc5\n",
       "1lYaSXtT4/P8f6rut7gIADGekbCbbDfwBY7j/XNuYoVfEquUt9PkrvEku2qGycMb/7L8BJeRsKro\n",
       "QDQeSGHK2iQWqZPKIhOzgU89diJ6OCwIOByQs3phEFI5kWpm5Ei+KMpUM2KIUVqpIZfHiuNRuz//\n",
       "JRrHDMyYPi9gPACjBMGG5bAAAABZAZ8oakf/A1rxLNZnWyg+Z1eXmmAA8bvjuR6/ZbiFJO00WS2O\n",
       "KkVMjRQtqaXmK95hdRfZ+bWQSXAX6XDjT2W+X17kYjucg7Q3VwYVy88ShQgEQjYSYccwQoAAAAEA\n",
       "QZsrSeEPJlMFPC///oywAW3LIwAG4Uum0iErxvq0qnPFBkLgOg8tTXqOvw1DwEPogJ0EDax9DxOF\n",
       "Pn080pEpy1lH56/JybTRUGXaL1fbvDoxorOZv5QvJ7g53LBf7alTc4RMJvb5H3pt2e69sGz8XfK3\n",
       "g3xOtTxNsEyX1Bn9WKx0pTiC32898MTNUjwAMcFAE4DWx1n9n61vTS7PAphzfdUmDwfl+xEs/+Mi\n",
       "7i3VCDcfdHfB0qY0oY6Br5UkSHlmLX6ui1/yQwdHjRbMU5CjUfdxXi7dOvF22ax7IpADlIAG21VK\n",
       "jBp2nRGSqRUi4bNk7+wNiLZYUWQ4Yzd4jI04wQAAAFABn0pqR/8DWvEs1o9YPOJCStwls+68qe5B\n",
       "anwC9cEf2WeQNUg30JYACdMSf4b6bNhnO60X39L6dDcdzLV3OTGkrAS4F4iVBAluv1B0S8wUoAAA\n",
       "AO1Bm01J4Q8mUwU8L//+jLABZKXjg0vHnE+XlK3FSmx3dfEAGohF/Qq8h+/bWg53y28iTgziMK/R\n",
       "QgfPtHdwXbU/jOa7B0xFqbGRIDMCWloLX3N9SGvC5nDDLB7C/Wi+XKd8eyegRxKn3rUP7+InDKB6\n",
       "cj97FjvZWpnsN/1sJ7CF++8BJBUipnVZYRmCmEiqVV5QDsUGeZldAD8YZ9H3wa62l3gMMXS8RRzK\n",
       "M0dFGeaQDc5xPCtVAya5RjV7006Hjnd5D3RUR0gZ0XDiK1rtVMndAyuH+JLmMLl3OEWrCZO2xMG2\n",
       "DxyYkdG32/3ex4AAAABQAZ9sakf/A1rxLNx0Za5jx/H2+jVnyUxKMsh30Ku75+1clQ3SqNITWu3h\n",
       "/luezMVOgEYrXSuhtxDo1mREswB+iwAkz3DUm0A/2HtZRaB0PGEAAADhQZtvSeEPJlMFPC///oyw\n",
       "AW3FQQEo5adB9TbL4Ifu0SyKodadOhclzchnatZjKWRSAE4Q0by8keBUveRs+q2ebR2u1D/U5xQp\n",
       "mFu2xhD6l1CqGxnfbD56X5frI9x3ln8/9Tzf7+KfRl1k0lgrJhA1tKyQILkOCEAKKOuDC/sr+p4Y\n",
       "guF+hkWyJfeXr3tLL1F1dm3MGnz6jgRakMunYeBFAUzraLkoilaExZnc6fxGqCBUrXtaAO673Rmu\n",
       "49BdgVLA9qbdb71fnnSTZGlon5y7ChpOY9zeTJj++YTUCoM861p/AAAAUAGfjmpH/wNa8Szb/iIM\n",
       "Omb4Z5snvXAo50TTsTZLkOGlb8aXe+Jits+I1Iu4eE6jg5rugAfyaQhGlfOxxKeedfiZhEtVlutO\n",
       "aeBnTKufrMNBAAABK0Gbk0nhDyZTAhf//oywAXbLIwAG4Uum07abyvAS/ttBwPkkIqX4L1W+30VK\n",
       "8Tk0WWM+mvff9HxPly/Scm4V6tof28FIlN0TNCS+mXUeHuYbwi26WcoR+t/GnD09bFaGzzpE0lMl\n",
       "/yMk0c/yXdDWQlHmnABEOJJ9LMB8+w4dlTmOAeAUkzi5WjOFgBCw+Yq83oNGtnsny88TDhsxWnFI\n",
       "7o6RhZ7b0vaKt9tDRZsm2g26FzSsyrIVW60Kr/0VsXiyTN0fLKCBPIvOvYWWzubhxzY22TGXulNK\n",
       "+pCkb+CjcKij2DnE/8IPvLeAJ1q16HzoIn8xJrR3sZA9oFF2M9K6GeqZr8XWOtbZLP9cFJWuY3Ir\n",
       "39DpHy1Em+7eFaG5HSUMpSzSAbrvcehdDNLAAAAAg0GfsUURPCP/AhpljQI2kmi+CVTP3xkKnN0R\n",
       "Gwr3ZBJuiajjPY3kh12ZnnM7eRVXdpzeqPwEnACTs6S0M+mZEkLi4Cxuj3R25LgwTOryJmwO3TeN\n",
       "E+uTJtLxgmBszUQOeFFTy8DPLP0mHsm5DNWRJXg/szv1KSJMxsUTfNBYDFwDcESAAAAAUQGf0HRH\n",
       "/wCxC7jJX8h5QszmntKFsYmzwODvF2frXbFrwf17P61+OzF2rXzdoJbABHuGowH4dLGcI9vHQf9B\n",
       "GFt60jgHSgHp6H6raqIY/NHXwQAAAE4Bn9JqR/8AsWbRrrBK4ZzcRTU65E7fmYGbebXjrfQRrXvt\n",
       "lmaW7Xqhr/3E09yoWWMU1MAHvWfNXS6S+5JoKnb3MgmqfltkkFi7+6U/2ioAAAESQZvWSahBaJlM\n",
       "CF///oywAW2oIPM90Ymz10NmdcB7I99dM6w3DFkgl1j9xwd+it/nwuGpPMILEOGoatwqsfdQWtpX\n",
       "sn1lWVAQpU1HnFHDgLWo9FGjDi52ObT10MNFZf9zLpwGOYgvDcghNCdyQ27UQAhkTXnRhAyCDUK3\n",
       "0989PAXcTYpLEZ2AzXe7FedICEQS4vfGWDrnhML4RU0eBJ3Mj3UxtMms1C3syZAO56+T58dBYYzi\n",
       "uwqAsc1MwT9SJvAzHZHGGBck/WLjUStX7JdJvtXBPxPE8uZiIU8Q6qGYePNbGh6nV+QtN5tknpWi\n",
       "KKhq5e13OZ2DLi7bhbK0POR1cG+UXsJws/aPmK3HRM6JpsEDgAAAAH5Bn/RFESwj/wIaZY0CNpKn\n",
       "tglrOAnYGDzqyi5VgxnsRXqVNiIwtzyIlX+6JWmJsAFq7Ze7I0iRnKaNSxEKooO4CDaybY4NHnD/\n",
       "Bx2Lz93n4mg02ApMD5/T3dlWVl2Vaa62npAgukILV4LS7PgQ8vgPnJkbZyNWcUrMptfd7kEAAABp\n",
       "AZ4Vakf/ALFm0uTiUc0L0clmW98QEmccaQBrjTAb0gBbC7nZcSlGqO/+5/gyxJ4A8fXZc9z33HLQ\n",
       "hXbdOlmpegzCywAfDltLUFMB/ua4EpNXZe0g731YI7nT565OjXIl+/kIBPB4qz+9AAABHUGaGkmo\n",
       "QWyZTAhf//6MsAFtqLFbTa6qNexddqFW4AP6VZrvaYNSl8KmztfoFv5etFVIUhQzJJ6fsrDQNl+M\n",
       "9hF043rIMtWuZeMmOYKa+fNUkkQKaeDkqiYg2tANyOMZDoYiWUtqs3PY9eNgISX8QGkruuWy6YD4\n",
       "I8C7chNHhUfHwhkCuiQSoBximuEUP9qxVvZP6j0gbTI856qpLIyjgSaPtJFebXopbtr66YESpt7/\n",
       "zpx0WEnpYYRQ/MKCx/jC23jFhLluG9j7gtFLwdYOL9TViuC88WLypud/fo6G8hkoZPnQMjuSOgVI\n",
       "hBH3dawsBIZ/C5/ZsX7h/DMF/dHSUcIFlUT9OBCFfgGGZMPtuhUa24jchU4ozzEWBcYseQAAAIRB\n",
       "njhFFSwj/wIaZY0COdd0pCa6pfKP0wdNSyEaWofDPv2PNLasDTyTNXahNHGRkPcb1YQCjmkYAW8J\n",
       "9EuQqRuAZif1ysH9Fg95H/udrByiZ+TWsNalisZCy2L0rAdkWXTURF7T95YW43siSfGVbvaHfN+Q\n",
       "xOD+LMRJHPs+sNi5WPfS9VUAAABpAZ5XdEf/ALEL11CantnMRPLYemUFkuJ/JMddDNAvtSPQkkWz\n",
       "1Ka+OBsP/84Yo0k8o/Pz4ESa6gAhx4w+uYlCAs+iaWx02FlXWhOVn+WXvAcW6tlxJXBLVD2M9bw5\n",
       "4/urdrOL5Nz0j3CAAAAAXQGeWWpH/wC1pp7AV+6fZwK76GbmjMnkH1I2l1VXyOL+Ol8dGUYmb3+o\n",
       "+DEzXIu6uSPp0QAINQzAU7wVpBwUrsX9J1QMunVzSKnKtUrhZCMunen6rJ2krA8Ky1SLPQAAARdB\n",
       "ml1JqEFsmUwIX//+jLABdsVBAMcou6uMLRKr8L9Zco1ftGz0jAjzDxmfCkxOxDzIodIiq5IKJ/v3\n",
       "426OmN/ArSTPGCf026fHCQAEip35qVfwkovXuL9mIMbYRb8YfWpyJITNSltCE9H8/Yoh2Q5AbgNs\n",
       "FhIo4LfrTLHACguNaVQBJQggUf0wr5zIMSd4lm7iNaakGi95U05B+GJeKZfHmYsOgNW9G42LdIxC\n",
       "h/fqAkgAD/Qez/8ZE/K3gVqQO8id8iuowAgjyh0PI6spOg1zCHbLGeuaBfaIDYVZ0RVjYvuPBxTp\n",
       "nRdDG/fFhth8poWe6Qhf/X2/7oJBEaDMBR9xKg/vssPc7DPZZsb9I1C+Al4TcERx+CgAAABoQZ57\n",
       "RRUsI/8CGmWNAhOxm/QHngVs0VFRIUc07jvOcdVe6GJWKRplr+P1FUEa/U3q7Pfu6EOgRMjflnlR\n",
       "dPZT5TeBDBwAJdYDPOGxjQTaKK9FOyH+GETg2X3P+wmTsW+R4lKHecy2IPMAAABsAZ6cakf/ALFm\n",
       "1fmqt908wNF0ax5N3pwsX0l94NgRz0OpSrjl4U6j+etjQKIBgY6tvj4cTJrPIELphPmACTikR20o\n",
       "Qpu3gxmcj1ij8XGwkTtqBZ8gTVWOXXfJqGnGkJVCKsPDky3FfKfIgBJjAAABJ0Gan0moQWyZTBRM\n",
       "L//+jLABglV2AATb/5OeTcqkSKNIHFE42bXXGMVyWB5y+Nq6idFasBNlMVV+iSJnUsViV8yhHjRS\n",
       "MbCIcZBKOj/MnRWCrhnxUAx9KRHPbWxTKVL578lCHw5zQ3dKD54OGJ+WAE9ULEs+wvt53XO1X7OS\n",
       "zHv23ppogYYO3HK0/uE6iw38iOH69xkwuWsRYvO3LPNR9SOQH+7qkLLe9BLwwH22MGIz7j7WKNQF\n",
       "ZSb7Dz2BAcxf8vCqe67ABp3wR//zSJCzGAQLfzH2szEs/S4JTUups7i1irwAqpmvl2uTCidanXDt\n",
       "xfUMq/mB0C7ycEemY29mC8y/wehpKz1ARoS13CmmbxG+iTATyQy4yx+7DuQTr69laeQTFNvnXCwA\n",
       "AAB2AZ6+akf/A13kJ7vRWtMdyZG9B+0EIDWFS8SQjSk/FjDrVxjHB+RhGr9o+3Sk2Hv7OrkwXr0N\n",
       "8eiQMALXlpNEx0AH5eS8t+cuE+svzOLEGi3BqxrmHYEHkfg4DibkL6+fk76OZ4HjTN0WDukqR/pt\n",
       "teWlzbNLFAAAAT9BmqNJ4QpSZTAhf/6MsAF2qID4bBXe1cLbc9FeVwAt2vDvqtPgMDnoEnYf3DHo\n",
       "xC6RzdlhZg22Hb/2v+QjOCIyAngbYVoKobCRZMAFpVQwGOdelJUp6T1hwhQ95qrNN1U3sm8jmwKD\n",
       "sj8j/4U84vELrZ5wwx41bwWU2JQUOohER7ZjXpTCnwfTwOFRwb8jbeH4JSxrka72t7Tv1eJ5UhdT\n",
       "XtdD7CDZKtKQZDbTdsKertzs5YYGGgbA/6B+H390XBn/+SUZqMZ69dv/o2nPuP68w2a5dOVet29U\n",
       "ofuK4lWtMauRwQ+js20IrETXuS5zuQuNI8me3DV7mYmFBvjxEm5/XskDbvtiLYHqX6RcdmQGHcYF\n",
       "rz24wfD8vo59Ebc+lWlcF2WVKfWnA8s8vCzbmmCFAVRsgqfemTlwXY47QyGBAAAAeEGewUU0TCP/\n",
       "AhpljQJejkTeDcqf/HCO6wq5B0ISuqg2KCVey06+smPtG7+L78/Bd/gw66YKbABbOxt6CbBT+jPj\n",
       "/crUCJTa9878eZt2JAVvGDKR2Kjmknlq+4nxp7l0rvKfC6y0S2SimuuWEtJYILqzcoNx39hJQAAA\n",
       "AGcBnuB0R/8AsQu8gGp1R2MCQ39ri9+Gg85Y66+CxtFVetzTidO05tAh2gU4Ygx5MBARLnYAP50D\n",
       "nix8z2S+bd0C9U1j9/LRXlExbhvjs70zheNO33WCtayUTIhDPwFvQcpiSIDzBqGZAAAAbAGe4mpH\n",
       "/wC6XhopiZlffJZoLWeeGUKJzibSnqhoAQ1ETy46H579m4bNpXA1XzmJOXcO5sWM+uw4CAE1di4e\n",
       "yPTPsnAq7eGCVWouV0SomvdYpqUyqirZwiWUpN8zXoLd+rcrru8HG1GNHsWNGAAAAUhBmudJqEFo\n",
       "mUwIX//+jLABdvPlrOVO3whF27gAigzSi4XLL9MmFp69cQsPIn1ogybByzZZywJmIsGhfuNMwunb\n",
       "oSmVQNGnaP4a+9c0fuLkekb4oKY7bXMNs26kE51xSJ/X8EWbxikUx3qGDvwdtz5OW1Z9Zu3b4Mkp\n",
       "zdSYpltlo7hrYQFPnqXEjsle5G0kk09YQDKu2Tfmgs7TydcHjHxhjHrjZm2tjsPkH+scc2c82XW4\n",
       "+9uVPP1rUT6XceHK7853WgQilg/BnqBWTUjvtsc7vttpfPVrGgly4H2phe3BG1NGyRaxE649hq1C\n",
       "GLauyK0YZdNLhzfUm9CMHGxmAnrOnPRUdX8oJrfifqZQjNOc75jNwQ7WsCbahR5BccZeiaCJijC7\n",
       "nJ39g++waZVEUMqBZAOw5A5lzsKDrEWjGgbUja/CyRrazQtpAAAAiEGfBUURLCP/AhpljQKGjfHq\n",
       "+BnDiDtKAN9hBRRLDNq75L20nchCN8WvAbsaGfbSfqjjA7RDHL06h4jUaRyy7LSP6NwDD8CJxsZh\n",
       "YxTz6dUOU4YRygMU+wpK/QaDPOHvYzD+dl78MYRUMtalckTYGfIUBZLAHezbV3ppXJdACSmv37/3\n",
       "9O1IXKUAAABkAZ8kdEf/ALmeZ6jtdpu1SvzSv+dPsnc5X7Fgx0eRqgFp98GAbyNYHaTBKEurWw1Z\n",
       "n+esH962lC/PDZbdpgATphkgAD3Od/PG95DjWfUkNMruqzE/kuKfdpq7DOvUHXHh8HgKWQAAAG0B\n",
       "nyZqR/8AteYTEjTb1QlHo4moBLaHNXLGqKdeg2Qx9AKUJeE6scTm+viq4jEzUhr8LMaiDqHNr2AA\n",
       "hdAvbMEGL0KkeIfOA874SPlbA+FUUKIo75P1/9BIroKqjb+AstQh60/TaDDG2f8z+3jHAAABAEGb\n",
       "KUmoQWyZTBRML//+jLABdqXlkjPX3ft8t2YAIGqmgEx2z5w18ffLEsI+mkY6Paw+ILtpzjU6GIUk\n",
       "NEsrQCI/yzlH/tQX5/pYihR6xYk1aluuzJ31fZ/ExL8bUuQAMhVmZcNtmmlB/7Y9qkXB2ggbx7Yy\n",
       "mgLY7/kjSlxYvnCdbpxSQZArTMqbDZ38XU5+NtsZoDDIn+SCSzwob96e3/yUVKKaaAEOZmIYm4v6\n",
       "HGGtsMcWxtfexNjpzvX8P1FX9Lug6riMsrVUikC1sPss4fsu3PvSOdXzmRIebdyIsVc6O8Pf2nXB\n",
       "kPpO5K1mo5pgN9PdZJPcNHXAXMm+C6osXfAAAABuAZ9Iakf/A13kJ7v8UBPN6vxasyi9iNrjlvY9\n",
       "YHo1y/crYN8aO2mOZKIZnkYUgw3FmWKr2C8m4AzvKICQAmjdPjeGP5+Klw8iSYJKo6ObGGAzojLg\n",
       "Q3wktRO61MFIF1i5cn5lBGnrfcXxG675PlAAAAFIQZtNSeEKUmUwIV/+OEAFzjA7SIduIlB/UVVs\n",
       "AG8jqrueSNh5BcCpVseTwgSN9gH6mRNoLpyBVWGHNSCbwR6uDptfS9l8jvvAdcrejdQuaIUZ09RU\n",
       "/TLzdE4z/4MFWgGVzUGofiqZl9nzARW1DVsdyaujl4MQbXR0z2Rt5X1SbNXnVfvX/k3fN+8hXCEP\n",
       "BrzTm1AhXA1IVySOLGncR8/aiceA/D+Mj7l5kiUo1dH7ZDqMgwsMx9+ToNl89/N8UAT67SIr60AV\n",
       "jyMt1zmzpHDOI0Gwv/7IwpH5hbtwg2mgp6sdval4sQwk3xVMAzEdwLHxmesXj2mLg0LnIMZ9PXHG\n",
       "FNpA61YITbbZwcXqgpVxzSnoP0kLBgVt7ta/qkc866V2Rj97Z9oQf8qDFkxcTeAWL/GMwP/dHILN\n",
       "LjzILALvDKGzDniUB201/wAAAH9Bn2tFNEwj/wIaZY0Cho5EVF/Dq/ZBjOQtfIsIa9ZGZYK2Wnz1\n",
       "dncI3QLhROrZf0SYVHX/RvqEwfjj80E7MPWohddhWTsBNmMLoa9PZ1R4IWBh/9nmP7GV/OC3DwSS\n",
       "tR96f0rakn4zV2tIz2FiS2X2lHtAGBw9m3HYfKcVGPVQAAAAawGfinRH/wC1ik3TGNUKF49nP181\n",
       "TGe4BvlrZw5+Gj6N+PXC4Rrr21faAtjHPwjt5fkqt47YSAFXsbkgAH8woO1MGTzjgaOtOQaoWgdY\n",
       "NCufGZF7Ggpmz+zdd4sM8LpHq7HKcF+ateQGGQPAAAAAawGfjGpH/wCxZthP9XuxRRnLsIynlzwZ\n",
       "CaO4IdOVc9IGnwVskTkwvjtLMbtgwge136ax0JBQQAH8Yq3mDDuGq23uO6LLRcB5VqdGeJQERm6R\n",
       "DU3qgOglCBftYqDHWt4E1C+Gl02WP+mJDOBNAAAA3EGbj0moQWiZTBTwr/44QAXOIiP9BisxxbTv\n",
       "O/UTAC2GfMx8vOTONAWEeybzYZYzYIqh4Xf5g2d11vzcwDf7BK4T7LThWEQipsoWGwWI4DM8hLk7\n",
       "mJ3WuWuCognOVKLC1WC2zlxo7k1hlIhfcFt0Tb158+P4bjCDBqr9Wuegrmr16oUkwMpmmAuYlMFp\n",
       "FPDl6bDYRnA3OUBpzlVSbpJKXpC0FXqdH3aFE/TPSqA/Edd71Br/tcAiTmWRsnSdHpkhXrrK7bVh\n",
       "BCTPLJB5f3qUiNKZdBUu/qIHHJvTmYEAAABnAZ+uakf/A13kJ7wQKbDCfIFB1pJvBGjmVtGl0kK2\n",
       "SiTp37pZMNR/iElAvA5aWvpaOMob6y1eINcCn1BsOJInvABNn9JfoO8lSjIeJ2SLT9fFg4gv+Izt\n",
       "MdWhHZco3yQL+5HOjy3IwQAAAKlBm7JJ4QpSZTAj//yEAFhR04FF+7PVSHDsi6JeKSaYqHdlefVS\n",
       "glBJ9vtpHGIbXWF+B2GdVWvlnuk8QAnbeiMXCHl6RxCZE8wqRPt+c0h6ovwcF9I+Wm67jlFG84IH\n",
       "JtBQjdHlWRNzuH4rpliAvMkD/DED2cvNQIdKtUAsXFkpbcTcP/UCipFH24O46vtDoBajEtvFOTKv\n",
       "Ebm3+HYpMVD50PXTe7DNwfnIAAAAcUGf0EU0TCP/AhpljQKLjemZ8jsMw63Zi1x9aKXqsjghfn4X\n",
       "xCY59pi+A3zJVbK0a/QQQtK940yn0iIlsv1qRbpwrkOJV6C4+DNw0gAzjsoO5LxMojy5iTljmDVb\n",
       "F/8bR7J3qR75bepJD8U6/khQMyr8AAAAUAGf8WpH/wC+/BsTG0eQsSmVwaQm16nLoOWuyuo71tJ6\n",
       "GJwyIptUnWpEF0V+0NpVLdserugDVbHYE3EKzgEPd81dQ+SYwQzRcvqIagrSvdWzAAAFQm1vb3YA\n",
       "AABsbXZoZAAAAAAAAAAAAAAAAAAAA+gAAAP8AAEAAAEAAAAAAAAAAAAAAAABAAAAAAAAAAAAAAAA\n",
       "AAAAAQAAAAAAAAAAAAAAAAAAQAAAAAAAAAAAAAAAAAAAAAAAAAAAAAAAAAAAAAAAAAIAAARsdHJh\n",
       "awAAAFx0a2hkAAAAAwAAAAAAAAAAAAAAAQAAAAAAAAP8AAAAAAAAAAAAAAAAAAAAAAABAAAAAAAA\n",
       "AAAAAAAAAAAAAQAAAAAAAAAAAAAAAAAAQAAAAAGwAAABIAAAAAAAJGVkdHMAAAAcZWxzdAAAAAAA\n",
       "AAABAAAD/AAAAgAAAQAAAAAD5G1kaWEAAAAgbWRoZAAAAAAAAAAAAAAAAAAAMgAAADMAVcQAAAAA\n",
       "AC1oZGxyAAAAAAAAAAB2aWRlAAAAAAAAAAAAAAAAVmlkZW9IYW5kbGVyAAAAA49taW5mAAAAFHZt\n",
       "aGQAAAABAAAAAAAAAAAAAAAkZGluZgAAABxkcmVmAAAAAAAAAAEAAAAMdXJsIAAAAAEAAANPc3Ri\n",
       "bAAAALNzdHNkAAAAAAAAAAEAAACjYXZjMQAAAAAAAAABAAAAAAAAAAAAAAAAAAAAAAGwASAASAAA\n",
       "AEgAAAAAAAAAAQAAAAAAAAAAAAAAAAAAAAAAAAAAAAAAAAAAAAAAAAAAABj//wAAADFhdmNDAWQA\n",
       "Hv/hABhnZAAerNlBsJaEAAADAAQAAAMBkDxYtlgBAAZo6+PLIsAAAAAcdXVpZGtoQPJfJE/Fujml\n",
       "G88DI/MAAAAAAAAAGHN0dHMAAAAAAAAAAQAAADMAAAEAAAAAFHN0c3MAAAAAAAAAAQAAAAEAAAFY\n",
       "Y3R0cwAAAAAAAAApAAAACAAAAgAAAAABAAADAAAAAAEAAAEAAAAAAQAAAwAAAAABAAABAAAAAAEA\n",
       "AAMAAAAAAQAAAQAAAAABAAADAAAAAAEAAAEAAAAAAQAABQAAAAABAAACAAAAAAEAAAAAAAAAAQAA\n",
       "AQAAAAABAAAEAAAAAAIAAAEAAAAAAQAABQAAAAABAAACAAAAAAEAAAAAAAAAAQAAAQAAAAABAAAE\n",
       "AAAAAAIAAAEAAAAAAQAAAwAAAAABAAABAAAAAAEAAAUAAAAAAQAAAgAAAAABAAAAAAAAAAEAAAEA\n",
       "AAAAAQAABQAAAAABAAACAAAAAAEAAAAAAAAAAQAAAQAAAAABAAADAAAAAAEAAAEAAAAAAQAABQAA\n",
       "AAABAAACAAAAAAEAAAAAAAAAAQAAAQAAAAABAAADAAAAAAEAAAEAAAAAAQAABAAAAAACAAABAAAA\n",
       "ABxzdHNjAAAAAAAAAAEAAAABAAAAMwAAAAEAAADgc3RzegAAAAAAAAAAAAAAMwAAEBwAAADVAAAA\n",
       "iwAAAI4AAACrAAAAxwAAANIAAAC/AAAA4wAAAF0AAAEEAAAAVAAAAPEAAABUAAAA5QAAAFQAAAEv\n",
       "AAAAhwAAAFUAAABSAAABFgAAAIIAAABtAAABIQAAAIgAAABtAAAAYQAAARsAAABsAAAAcAAAASsA\n",
       "AAB6AAABQwAAAHwAAABrAAAAcAAAAUwAAACMAAAAaAAAAHEAAAEEAAAAcgAAAUwAAACDAAAAbwAA\n",
       "AG8AAADgAAAAawAAAK0AAAB1AAAAVAAAABRzdGNvAAAAAAAAAAEAAAAsAAAAYnVkdGEAAABabWV0\n",
       "YQAAAAAAAAAhaGRscgAAAAAAAAAAbWRpcmFwcGwAAAAAAAAAAAAAAAAtaWxzdAAAACWpdG9vAAAA\n",
       "HWRhdGEAAAABAAAAAExhdmY1Ny41Ny4xMDA=\n",
       "\">\n",
       "  Your browser does not support the video tag.\n",
       "</video>"
      ],
      "text/plain": [
       "<IPython.core.display.HTML object>"
      ]
     },
     "execution_count": 59,
     "metadata": {},
     "output_type": "execute_result"
    }
   ],
   "source": [
    "anim = animation.FuncAnimation(fig, animate, frames=Uc[0:,0,0:], interval=20)\n",
    "HTML(anim.to_html5_video())"
   ]
  },
  {
   "cell_type": "markdown",
   "metadata": {},
   "source": [
    "Velocity"
   ]
  },
  {
   "cell_type": "code",
   "execution_count": 60,
   "metadata": {
    "collapsed": false
   },
   "outputs": [
    {
     "data": {
      "image/png": "[encoded data removed]",
      "text/plain": [
       "<matplotlib.figure.Figure at 0x255bec01160>"
      ]
     },
     "metadata": {},
     "output_type": "display_data"
    }
   ],
   "source": [
    "fig = pyplot.figure();\n",
    "ax = pyplot.axes(xlim=(-10,10),ylim=(-1,500),xlabel=('Distance'),ylabel=('Velocity'));\n",
    "line, = ax.plot([],[],color='#003366', lw=2);"
   ]
  },
  {
   "cell_type": "code",
   "execution_count": 61,
   "metadata": {
    "collapsed": false
   },
   "outputs": [
    {
     "data": {
      "text/html": [
       "<video width=\"432.0\" height=\"288.0\" controls autoplay loop>\n",
       "  <source type=\"video/mp4\" src=\"data:video/mp4;base64,AAAAHGZ0eXBNNFYgAAACAGlzb21pc28yYXZjMQAAAAhmcmVlAAA8+G1kYXQAAAKuBgX//6rcRem9\n",
       "5tlIt5Ys2CDZI+7veDI2NCAtIGNvcmUgMTQ4IHIyNzIxIDcyZDUzYWIgLSBILjI2NC9NUEVHLTQg\n",
       "QVZDIGNvZGVjIC0gQ29weWxlZnQgMjAwMy0yMDE2IC0gaHR0cDovL3d3dy52aWRlb2xhbi5vcmcv\n",
       "eDI2NC5odG1sIC0gb3B0aW9uczogY2FiYWM9MSByZWY9MyBkZWJsb2NrPTE6MDowIGFuYWx5c2U9\n",
       "MHgzOjB4MTEzIG1lPWhleCBzdWJtZT03IHBzeT0xIHBzeV9yZD0xLjAwOjAuMDAgbWl4ZWRfcmVm\n",
       "PTEgbWVfcmFuZ2U9MTYgY2hyb21hX21lPTEgdHJlbGxpcz0xIDh4OGRjdD0xIGNxbT0wIGRlYWR6\n",
       "b25lPTIxLDExIGZhc3RfcHNraXA9MSBjaHJvbWFfcXBfb2Zmc2V0PS0yIHRocmVhZHM9OSBsb29r\n",
       "YWhlYWRfdGhyZWFkcz0xIHNsaWNlZF90aHJlYWRzPTAgbnI9MCBkZWNpbWF0ZT0xIGludGVybGFj\n",
       "ZWQ9MCBibHVyYXlfY29tcGF0PTAgY29uc3RyYWluZWRfaW50cmE9MCBiZnJhbWVzPTMgYl9weXJh\n",
       "bWlkPTIgYl9hZGFwdD0xIGJfYmlhcz0wIGRpcmVjdD0xIHdlaWdodGI9MSBvcGVuX2dvcD0wIHdl\n",
       "aWdodHA9MiBrZXlpbnQ9MjUwIGtleWludF9taW49MjUgc2NlbmVjdXQ9NDAgaW50cmFfcmVmcmVz\n",
       "aD0wIHJjX2xvb2thaGVhZD00MCByYz1jcmYgbWJ0cmVlPTEgY3JmPTIzLjAgcWNvbXA9MC42MCBx\n",
       "cG1pbj0wIHFwbWF4PTY5IHFwc3RlcD00IGlwX3JhdGlvPTEuNDAgYXE9MToxLjAwAIAAAAwLZYiE\n",
       "ACv//vZzfAprRzOVLgV292aj5dCS5fsQYPrQAAADAAGuIYzZ0VlVAIMAJbKg8CbsPJvwPKbB1aCm\n",
       "TrEeDdQsLwb3mXBsFxEcnv26qL+nZhaap9hmCSXDoxinv1Ur8Tx2mk3e9O7CSt7i4FOnZ/M4QbN7\n",
       "AZED0bg0FDBh27G31fofIHTYORfqzopL/ejT/n5mkgvQs61sGCLxrlq2WM+zjXSWzUqjHdazH80T\n",
       "/BTeqPsPNS8NFzvV0Fycg5F0C7fOkHzsT5dlmcelUtRtOym/6e06CCJx01TjAsnc7UXp88lvYt8c\n",
       "BTcaLkQqL/j5i57pDNAtPNloGw0J6UMI+ZlJpKFLTOWiz485mvqT+sKGCK152hq4aK/FQ1yAIJzJ\n",
       "fto84ELxKPk6azp0N9F4VWUl/80hscF9bwzsNtpAjkN8XzJp8g4S2MrDv5DnOxFm12RhHO0cF+oc\n",
       "iq6JaEkVdbAVch37SfpzZiaQEWeEEr7eS93duBvUFdY85iMv5o2BPBVYXXj/9Rqe+PwO73LyWpFS\n",
       "sHn5Vt2AN6vjZAID/hxhrYI7UBkRn1TBrNXIAScAABiWO/xuserEFjhhY9dENbfm1FAkpU/UjSrQ\n",
       "nw8z5PQX4IEjEvNzBuMphuNNUtpV8kxK3kcAYEcHCmncAa1Yb+KgRGYb1O3tbxsddx7MeSdiJTIA\n",
       "A62Ea09d3nt4X755jPG9lGMtduXKJvXpk+oMLNhm0pe2ok9Scbx+883iXlRhP2Wxozv4Q6deYNWU\n",
       "eS2KeFNR0mHLm1o+7UDC4Hqk8zo9859H3jKBaM4dbe8ruQc22fXyiRBNpRQw806NrYvyp9a4IHiz\n",
       "RlroeibEbLNkd0/9AcU7tp1azNtywlx6TwROraAXWpxBDb3ds1O0EOaQUfd1Wb+/EXUlhglwPhFJ\n",
       "sOOUETVuV0asa7cxTXjejs4SXJtwz78Zuk3SwQYQVp/LgGpDyVqiFApPt1lvDMOJaIa9bHldW55x\n",
       "INm6VtmrEcdRCxVeFB4WIG4rXpjf6z+VqbEwrBEzQYmGMUpqCsCCH/eUU2A5Majgp9gjzP/EwOLx\n",
       "2dD0oHFmmK8UfVg4O3UBCnURSAuQEChH2ckIZfTifWvi1rwAms0+PwiSK7lwN/ToSOUXDVspIxjv\n",
       "WMR90SkzzYyAP7K+4Riu4jdBFLWxo2o3U0CtSeZDSm3ZwI2BtprUv1/QP3x/124hpgOc+C35nW2p\n",
       "Pbgily1plWFFKkC8Au+euBCA+qbyHwn10A/LdpbI+ykPhxzcae7Hw0mSUEGCh3DT8ITcu0Pf13cB\n",
       "ITu1EooZ0FPkajdHAuoaxQlZh7yGntjYoIkryoWb3tOIUy6biGhmqpMIY85j822zwJ2m+o3R7OPX\n",
       "he4NOnNzFr74zvbrrq8lTBsDGfu1B7MLPgiuvDpQ8LLQurXYqppYZuuuuMutOFIXnF3tsAn34ntU\n",
       "RiJ81VREBdSChQ6chT5EwJuqsTpn9uRN2t6a7lK7HHQdte3azR78uK+5xa9c7AvJIug+t4F5a5vd\n",
       "TYmq+a9olXD4QDee0UGJKdVOf2F+lqyXHS+1N4G1YeMDiuC0d9aXRMMFSw9m4ygpyhA/eV/GmBPF\n",
       "eZGgrPbNbr7VESKjI0jQgiI/FuGqn21Mu6KYhj4ESZNF2T4o4UwqwfNHwa7jB5ov08Et3Grbd/Yx\n",
       "o/u6evggh6ihZwbC9il+RJsP/jeEM8M4R2e/XAFkP83q8a6BRafFIyseAr4aHy9JTDvkZZgjAPJG\n",
       "Q6Mhd4nO3ripdakVXvTndpjQ9W6nf+XmpobjLpx5vTYCUdgmjoOivHCNFpqpHzFVs7U2Q6v2AqbQ\n",
       "TrzMOwscIecn7wuYeZ313IFMMxMWL2LFU7L0ngBi5u0idcORzYsHSLFzPob8a3e7dgSfSqCdN3vF\n",
       "IXKdYYEkwMwygZKR1MEnTcNrKGx8sEefpxaUsHyff/klCI0VtDaAAgs/WxkwBgTmd9+2L+WWbszx\n",
       "c2CAjUC1HieQ5YO7dljbdT6LinuNztgRDZu/+4dNQnu3RooJsehMHYjwH/5IdS8utuNsZCIuMj/k\n",
       "sdB8zjxj911vh4168JPpEse1wErzcDGmGTAfQs66zIY7hroFcgH5ySjA03Nf/vfp2owduBzaDbMJ\n",
       "yZfvLxVBsgh9SXJb0iSbA4XrI4/haF07gN+EfK4Yfwc7ky7wzDJk+1GUHahRDumx4YBEtqayTOsc\n",
       "9kOlqXq3C5OC+7K/TiDuzMWvSpVC1dmJPbWW3OyRLsX7iK/hWD0uUIQ8vUr32AAAT5QgagFa74mW\n",
       "O3eg/Ml+3UHn+bq0AumZQAAfcjDYYZWIr154STz6Lte0Z3vbzijVgL3brKF1DsXzCS3k8Ht6C8G/\n",
       "Lt0eh3jdEjkdzBHpn+KqvsoSfrCVVKgv5cd+XTk/gYPzI+RFKmNEFmKq2aDplQWITyU4at7wI3AN\n",
       "7P4XIl6rrefUW6ikMopK84eEmJNLaG0SnqtxFf7XsyReiQCKmDJTfe6fTEAIhwC+hRib69kiF9db\n",
       "IWFLB0VQiYiHSLZmydoPYM+ngeIdxyu5Et1n85hJdGZZrQTuZYAcc3xVtI/e+c11lHwSy/5/KiFx\n",
       "nsMZm4YFYmZ700yAQQymkyMET4ujnDhLn4jIMMP/7sDc3Vm3BQ2e92TCn6d1ABbX1iNPH2b6uxLB\n",
       "Ew5io3R4Z6r3iCfoELS7NyS0Tun8WKodC44wRTlsnUWYKQlomnPwlapH9ciwYzS3RuB5IrR/q3ng\n",
       "IziGkP6iVQxdj3WF8E4cb9uBKaRtt/FEd07f5v0LOqMEX/MqDm7bgzVpjHPcngF1mYIwC6B3rN6t\n",
       "Xlqo72v9LRhfUCF+R1CwChav68OCNp6z6zBJ/xX5nwlwCgsBpzdmWIs2xzVTBu849Vo2ocboxjrI\n",
       "Dh38dyH/9KBTi+hw68nz/ziCMwj0p0t4nvXJz1sDRarbwjJ2Zz9BC7h1fUQjjoaVZcsS8/labdIS\n",
       "fTviE6WL19n8OUNN4MpHIz6E1Wv9hHTZ1DAg8w7hpznJj2i31Zhn86OOJ+4nMbp2/DAVxeEqiC9i\n",
       "8lF3l/ZdTdXTTESSVBGLZXASjTRcGYLN0vIrHVB9rc1PWk3HLASiLXsilf1c7o0Bn9Fyw3wHkfVy\n",
       "BZT5sch/QsdMVREOt+ZKBQv4nu3V19ozjx9Nx682cj0cWB7p8JizClwzBwp5DBJlaxBJx7WTg/9p\n",
       "SLRzL0Lr8ZGw0qCmzvEtg1CqbjSpidjoDtZFTnqqAN1/HNBjf7qm1tRnN/piGPk9UL5BRBrTiqcv\n",
       "DIjdv74FpMFeTucl+Kb+ICMsmd2Q9AZ0KUXumsVxorfB3ouPWI/gPZLXY8Q8F/23h9a+01579gns\n",
       "40bwa0v9wAJucLZhIqTMo6RopJFThwIlRyXOvcE1AQMB0YBMppzUAmEqVzIUZ9PM8OnE78Kp3Tch\n",
       "4bQv5ThXmQvoUJ7BSfP5N8UnuwziLs/hEuabTlEVArbYrYg+s4mw22WbS+au1oOpagjZewos07T6\n",
       "gtEUxh/r6b5+M5SXg3fPthex5TkNxlqUMDZLi1ionTsdHlyV02b+gLARw1OP6jyoRRFRm5F42rwP\n",
       "PCS7Hq7YMy3zgAk+SoJGh/J+KuYWME6Hd5HLdty5rjyFGMbSGvPm3x4OFnQw4hO9RWI9jNeC7tzG\n",
       "XGqE2qt6cYUJ5/eihNOSgypfztwfMBUaCB7l37mxlGotBmBzewZVQifqSw3efjKaKcG4olNF6UY4\n",
       "suLBekTbkGdAl1hiUbQdYXe5kQ/5UNt3dQViM/UFHIlBTYfh/ObSRPc5f7HX5uw74HOtPO2tBKSp\n",
       "RB6CBMmCbk5lFt7OI+UMfazUXLGf7GxJRpuqvjFTspd5uMfHKCZcL3TuFxDgT8zWAZEwu5fCWe7E\n",
       "k/migj15ZCifIPrftsAlR5X0i0pmTgjCYU6OGo+SoLtnd0XHwdua9j7o/RI/J6s2z4srxKpejYKU\n",
       "KLgtZybNpR5wt1nr6kTnL9KMdC5FbXGzKEajdE1dG4D2Po8VCKiEDLRJ4y7NAwL5DEigUPFbQr+r\n",
       "bXiBNXbwQrxM72QXSUq/sctGFsajFyeOY35KiypQPtuluSZACDAgyZ9SdMaCfLYr47hhkTZ/8IKk\n",
       "K/MAAAH0QZohbEK//jhBixmABSMPD6XjmUl/H0B4NHulpwidPtJ3hS0B1+Oxmwtqxn5PCE/QT5vl\n",
       "ZsZNu1kuH3vSXJy4EQBlKRmw9keQRJMjRZ2OXy3ctR7q16Qxi/GuIctXV88JqDudLNfKxJJGPtQp\n",
       "N7fBSiZrdtTRN3HgzJkuSBi6aHG1qUNUhnuUo+tS2HbiZA29Cts2VkychUKe0aBGuZqGcnpdliY0\n",
       "FkRG6MZ0KVZjjN4jWZx55Wngk6Bb9xcivTJiBUleqIcbCSGyB+56lGPYMdrGn90uxxyxBLn6d86F\n",
       "CugndQO3sHgwOCC/5oLCcNK7qaE2AFS0iGOwnjHsMDDsk3MCaTQA6ykrN7J58g/+6D2tN432NHeu\n",
       "OfQPWXLWR+3x4+HVep0caotEELWR2XH2XtGLxswWVJvs+ttmydeFXh9KJuKs7nB4KbPIgIf8wyqL\n",
       "xHzXaIpvgmX7od7Y6C8fCJbAERjpfBL0bXx7iMaxhKPgzwfHWTQm1qM5Uk0RaNOKHx7F/gUZQyzs\n",
       "EwW3wosgQhBdhF0Dmo/zH8kAeAVZj838FX10C+QxJB9zALjZE0pEyxiLFArn3A8xKbNs9acg51z6\n",
       "DH1u4dGax3puGgyA9ne2vqBftwGj8ypfMMIgSW1AaNCmsfwHNSkRTzwB2Vy8CGAto4wAAAGDQZpC\n",
       "PCGTKYQv//6MsAGq9bxvhmQAJatqJK+j5atxlz5XezC8X38TL8zaiHidyE68WC/UNPLSzcd3c9O9\n",
       "7jQ9IkgdCJtdH8RcSOOhVceWMGE+5D+Vdc87AN7jFB8avGsg9WCddAcw5gVFd7rDo/kIzMOBpps8\n",
       "/7yshdi0WoCnA2ZtEQ6qBeGAxaZ7CJJF7ZIdYWJpjFbKbJPHdBW6YxYs9QDx9BIV5eLTX55xUtIP\n",
       "VWXygjbo5K8aXUsggo0ZESTAWTTUt0zHR44roBHmQfHMKKH92G71reGDbF8g1cuOdb6PWHCTy5aV\n",
       "m52CAqhPxZvM3CMYPtQyDHZpCoDl1x5M4LLuiwJzIeR9mbwu22i+0xMIFNxOZnXCbnHPa2m4e+W/\n",
       "8RdqbWU6ECWdWuok3Y5kC7JWm7RZdKDFTNgTtQgOEXnwhvkLJnmGEuqD2pxl+sD4br2u4n9gdZ/k\n",
       "/cpwbzJyllTP/HxSNC4/5CX2WRznBatGeUzpAPMmxIXPugs0gYr6mUlBAAABvUGaZEnhDyZTBTwv\n",
       "//6MsBvpKNgBbPCmjKJn7GDighvaDzFu+ASuShRkpvWeGzRYL9Q08tLVuLj93aIjgK9tmt5o6W94\n",
       "wIyHCH0lmLt/JuH32FJo0kEJSOag0IUlXKETIxly0EXAfkOI3hxjXAbtRka29mV0xSrh0gkAc/9Q\n",
       "/5OjNiggt/saSq7AmC3zaDjBYJn/rToz40oxwx43Le95SYil7cFCC+Xl0rxZge4UM1j0yg/t2JrW\n",
       "yupJ15KLSe6UnWe/LWDHRccoVvOrbP2RCTgSdrD2JKnhkeFazzxHr0l60k1uzLrvPGilYVHb6Zk8\n",
       "HUuMXrDfC1fUllU3qzx+4Ho9uW3QqUb0yCIcSD1wb/lqjk2ojmFWNL7oEnNK8+rzetJ5AiqaMWKO\n",
       "hyFn+WhpAV1S3QeBmmEzIWSb9EJH6V2pR1l5azi90oA8/r/2RiGX8cFLD33kOPXTNApJ56kNn7Nx\n",
       "MBspk2/MD2Fxw1nIDebr1b13a4h3S9crFdqod0vY/izLCKj1j+dVaYWJ7kyYf5A43DAkoyWLuWf7\n",
       "1oqOVpWL0KBCSNUJ7o1v9HAfGcWyRrtHtG4ttxvkApR93gIAAACQAZ6Dakf/BW4BymR5az0AC1rS\n",
       "sZuJm8n6WcB417B7cFwtb0q5zUf3KDkG6CSyKDDolslbo1ePQ9ge+T6YYUZl9ClflBpIwcOQri1q\n",
       "LACRCkaV4KWjoSlB3eObC3froXGi3mFAsx8gx43IpLdnk6QJKAZ0kS34F+y3qKp15ay9mygas473\n",
       "1NXbMt4UZZRRrwNPAAABgkGahknhDyZTBTwv//6MsBvvcgAS05tuoffUbQM30POW9jc/X0SEZPP/\n",
       "HqFLQHPuzMZmkdPPR2XgxotaaLa9jIVOFG2Ga46Wz1G5acdBYqlyboM4aq4Fne2fjmTHBqGpQ8oT\n",
       "Y6c0wBC+wxdNg+8zvr076LMuegl64uSqPlB9uzC3RW0rRDhdUxn/6fcaG0KLw/lcAt9KLpM2vBkv\n",
       "BcN9fWwW229qi2T0ku81qj3+Iy3qv0FwWvm2+dCyd1tXf+A6m8Emn2u/2Jnz4rJAdwtOHrTEpVJd\n",
       "bJUMn5s8koLi50HFYSE946zibtryD4QNFZ1G7fP7JB29wBdHpoUZ1JEnScleIl2s0Bn479f2DJry\n",
       "9AqHhwNktcCDsbYb8lnvDhN/+S9EDIrzLjCjv6ZsnOegvqxtGAmPy56kFoUPY/26kjiXktQDEE2A\n",
       "KaSBDMxd+NNOV9z+Z/PGgQWFtN1BTBNy3PLGQjXRuIZOJHoj0s/UOwsRhFtHj2Wh3IDmofMCfhnG\n",
       "nN+9AAAAeQGepWpH/wVrO16NpHVKNWyzuM8UjqxnARn0aI3xL/XeQ1YiYekJVmi7KseksBe7HwOm\n",
       "gBNLIq8tfNos+LFIXnbRN+2kTqnrPPPwljO7JlG4aMAZ6cW8y60NUsHq92G79e1dzVaYhbGApja0\n",
       "cSnVkHiazfrsp2J9/jkAAAEQQZqoSeEPJlMFPC///oywBVuSj6eAEZlUzo5VMWk0w6p3Oxj5nlEc\n",
       "1XRxHrOpsntIszCFVljfntcoQ4XsKlYUiPBrxAksY68dAescgm9fn13f9fnPK8iIK8IZXNY5EKNW\n",
       "c66jt/OVsmKoKlYoEoAOnPIUonma7Td6nZhsJmsN3eDnrK9dE77amLPHtf6ptWee62Pi5pc1Sxg8\n",
       "vx+1cnVU6sLz4DCskS+c6g4i1XlH47BC5oCH8GL7BGmAKFfdEnHX733LLqI6AfXOOJj5n381J9fm\n",
       "T0/PV7Db4LxYNOd7nJTdxQ2t03b8QOMWW2+rGg6CMJ0gu4NE5CBVIklrx4sND8pv3w05iWQiUgWO\n",
       "OeNmsSEAAAB9AZ7Hakf/A1rxnOWEEbKAaYv4zLpx+z6Vra60RM1e00dJgQAJjd3uvWvAkkCtPm0P\n",
       "kekhJbVC2l/cStgHSa3qYRjgjfshL6dFxpnOCxRrk3DEM/5YzLkZBWqAumfmFmmbOpZBcgExh9JI\n",
       "ix+5V2K42k8KU4Xc/O6xC18oUh8AAAEcQZrKSeEPJlMFPC///oywHAmUPNNQArkAU0+1Wx0h3eRR\n",
       "GlKscZS28MdZkB4QPfy/00aZQArzgKjc+teuCTAmvC03wVkBqOLuV9WC13iJ/WFmdujmsLMXTIIO\n",
       "HT+zGEU7zU/F9h9tkn3Os0gPNyiyUjUubQ2DVJwcgjxglJWYRXzE1kVyG6gDR3IY7KfZNYVMqWSY\n",
       "EDZm8keGC6D5+OoRBh8CietNf48OnIfeiSTXweyIG1qb/M37O+GLCOx0/DJx0qAAKygRNyTzHN/W\n",
       "CIHIsi9lXO1ROlSB9MByUDlYpBCzXUeLKQSuJ/7BXvQtP94jvQl2L9rc9IENnMjetC02dH3pWsYg\n",
       "wcU4ikDrAXD9JaEOBEn6xOFCyZvJLzoAAAB6AZ7pakf/BWs7XpDZ+x3PvqIkgAgMCiwxdO/D8TqT\n",
       "ACHVhR6/a3AHbcYoeDUcAJDJVg32tWPuUVTjUgUQJO9FSn1WIMIKjcPsmoNFV6u6/Ka3q7+v2IzQ\n",
       "ZJo8bdty6alTA4c+bCUNhuQFd/M9G635F00NyghxjRvp4oEAAAHjQZruSeEPJlMCF//+jLAb4kDB\n",
       "gCg2GoY4v+3sqC95rMw9nIjrg9lk9fO6h7lDQzH2LYY/obhEsa/kw3jJbmu6wvfJXxzSRF/5Lqfe\n",
       "vIABeHKzyXMv5s83jUugcP1xTaWzzHunHvvHj1YI9Ch2tXGhB8GJBJpEWTORIHdXWUecsSPrYKWv\n",
       "59OS5fcQ8p4fje3zxdFABWy7xZyTjAK67vJKGZglC552i8vGycbsFA9CRhXCr++LKZSquW+Czzyn\n",
       "vLLZmwpGdBEqFDDlGz4u14cQSBU4xhLKzaVKACW+UjLm1kgPkYKmkakCpUEO1bSXtqRf9w5jAXi7\n",
       "4t6pUKyx8Sw5ZbpxP+ALOnyRH2rM72xR+3TEA/iFCiB2cDoW4odF+mURsJwjLnYcnZo0UwsEgjzu\n",
       "a10uvkNMF5LpcpM8efVnykBbLNhP1tfjY6zoJXxEdPd7l0Jg8nOr/Jf0PfVZrd4DDH0GjzEYyDZS\n",
       "8ocP74d0Fi1quK4fvtMn6FXrVqyaDDg0NseVbF4juWRXje2bYsN+XUw0IVEGkquXc8W/Ph/O2wEW\n",
       "cHFuM7tpY7Poy/83s3MaYQf/tENS45pm9/cSYUntfAxcAFJRXyIrs4X3JhdcHXZj2n3imxDHAM/n\n",
       "1B8rg8p1DQ9AAAAAmEGfDEURPCP/A3U15r/oRy0xe/ptLEvxYhc5pxYAEN2G9ZkzaVwh6K0AARod\n",
       "Jr/JIX+jqeAI5tBr6nGvHmKM5dlIRN2jdurvUmSt979h2YhmTlSKbgeHUDU5xQbWQXgGAQU21m7z\n",
       "rb6mIXchIIPGZcdHZ1RvzOhdycZMagZxQfDLF9VcqUbbzjqPmStHP/eTb0/tEL7xAAokAAAAdgGf\n",
       "K3RH/wVqKfAhOpdfhQ5HiyACDkGGe2jzbBwnjyvppxLAgX+WibhAWaK2hDvgaRvN4YOJRz09LYIn\n",
       "1ZavCPY0+R4+xACTKnCPubPI413EUlMJZ3y0NVFWCuHKgfv2q/EEKcT0j9+sy7c+h1iNPrHA7jfD\n",
       "IYEAAACZAZ8takf/AKgoIcWJo5XX50AEQNnosYiXqOykkG0X/xviMV6H7XaqXQTAaHXg/ULrTbZE\n",
       "tcoClvwD9BlUtAPihjd9RP8WRoIVCuU6PMj0l2aG7hSXog+M/5y70+yF3ZO5EfPClPZCicIZmYTt\n",
       "tpgZTdTdfd06Pc5YWYAwL4ap9c5Vyc0oZyQC1uL0ZroNw83xMieCQqbr1leBAAABQUGbMUmoQWiZ\n",
       "TAhf//6MsAVblQAMiUJgcXIQCNFlz0AX6g3TrzqIOOUX2/RUT2qTFeJVshzoGAfRqrHoFvCZ/Zk3\n",
       "dXg3Bhdh4S4NgVb9LdVdFIEYyIS6qj959ZiFSWw98m5T5chdiW7z9i5WyTMu/6NraEhwiddGFyP3\n",
       "jdd6MxqHq8+qID493OgY//8b42AmDczN03nq+5ZeClpnSeAVpv5qMCkkUKKbx26Y6mEysGzt8hZh\n",
       "Kf5ZXWXzWrIlDbZ57hyURaUUVBk//ueLThy7CVpcoE1PVqfYS4JX2aPGsgEt3CeWc2FPyK6Z5gjk\n",
       "NItyG1OgoqvynZJHxS4oxsKohtGNTTzNBPCkrDvLJcET5IUpXLvQb2Q3YtTRVyK7WejkzB0+qSaa\n",
       "WOpJq1BtYZF+XnbQhqIuPdqny6uoly3FdIghgQAAAKdBn09FESwj/wIaZcBcLwlJpjSZ5ACFLqWS\n",
       "qP9cvwDnW4XKxnz0FQcNi/qjs7gEdfQgSFVBOKkaYuBjWbtfF9uyacNA03pEn6jZcHDwENim3acc\n",
       "UgwXDtlqxeg7c5kUj9mgzn5T/2wYwUdT0+3DMff7PaOnfV+8kLJIqhzyHM012bMVTcYOySGKiMyw\n",
       "nSjv+sQhNZY+I4/Ggl2eMSkZsyw9i0e4n20JQAAAAH0Bn3BqR/8AKXnVR082iACGxYkU8jtuwUm1\n",
       "F0rjygSJmi5S1Lwx492vDOK0ff27zi69y5kDbtXeSpGjvPSCx8Iu8HktUWTvraSgRl1mOgkMnUFs\n",
       "oOIbbNwWq/XILhS7isnUnFCcOcDpumD7ThVXmvJRVml5lwqJctncFs/owAAAATBBm3NJqEFsmUwU\n",
       "TC///oywBVuVUzoAPxNJY2Id6efdzW0Zl8LWVm+RmP9GsKDnlonsHBh9gEeDSIYz2Nsj2SQdp+oj\n",
       "50HnOPXAxpswb+rDoojpM2L7nlgjGVjGsCeFPR05gZ9IonTXA8/stDlUCexibYAXdNnRvIc5nzrU\n",
       "sbnnez5lU+pWEloWUOkaynf/aCXhb6hrAjLfdqrRI2kSZo/cS0qR/Q1yIH00ihrT2B41OpVa0H9v\n",
       "IWelwDCACTlOGJczY3uXyg6UcWYvHdyHgWpWK1Z5WyiFNvRIjfdIL54Htp5q/6FHvUeVSz8judWn\n",
       "lVER+4DkHMyrzuTPTwzbpVxbidTk9Wn1cxkmsL+cDGWQGk5FNv/vgz4RhYTrg2Sl1FPsrQQZvq6O\n",
       "k6nIDbb9xuRhAAAApgGfkmpH/wNd5M6OzJcAHGfEZJwcJKuAqB3kABK3ugUrBcKX9xIliNr5vZtg\n",
       "yOXKB58PnhFT4fMgjp5Od555icpU1jThGPG6723zonhSafAKN4Le/+lLpkWDC1/mmruqJKXxtkMn\n",
       "PJYGVFF95NAsYW0L9ImpLmTMjBnEGjswobNs9h0ociWEWaYWO/Iw2YY388648UsD1Focemrgu/rH\n",
       "sfXDOraHU4AAAAGzQZuXSeEKUmUwIX/+jLAFX20RbquYAODwASQTbR7VDTym+Hmz1rW81YoZ2bhG\n",
       "HboBtNNC4jEgGKq5RFA8ncflNiXMXsWPpWaGNpjqX9F6MJQF5KI14TCahHJ9/n+uHCzKO6Nj5077\n",
       "+rOyHvIQR7VIgMbAnIkxZmMYekzCeGCyK6fBa0Pu7gAK1D2AKtCE2ZEhiRVi29459O8OZj/yhIpG\n",
       "+XQHk+A6l5rDL0bwGbixVyw4+Ipl7gbk0M5AQ4XG0OXLQZ1SXuT30nbTXHUVj4zwrWcNBxFy2NfT\n",
       "9JQs6yUCkfg1aqvaTNSTug/S03bx7wtPzTXXzjcaDA7+AUG6vhecA0WaAa2li3amLOSpbpWsQU92\n",
       "fTWQr7O3RcI8f5uPYNwBwIFdI5s9rag7Id2+2Sdjo+KDFXrtyEJ06dbFqkDE3IDcdSz76Hlt271F\n",
       "5KaNWCO/T2ZTsYdgSAR4yCD8uRnIzKv/lhb+8NUkCz+NSEH4sXaHlCxFG12p8vDb9qP93wh7+7wl\n",
       "Bp6cYhk9JyMkZf/QOYKGD+OwoP4bXmVlxpKE00+YyQD9UMs26FBNiZ+hRk5dNORmAAAArkGftUU0\n",
       "TCP/AhpmejfbYFXUAFtWCeLYic4f47Fm9Vo0P3fAJstNeSNz8regVdExfoPvu9XtJCWBD6W0lvJF\n",
       "m+6gP6gfbjWkUg5XuYo2k6Buxjhvk5hWnoZXrG1Jr6HFUZ4JfMX7+FHHq22r9u6W9b9uJDD4xGUu\n",
       "qKHZI+A2BwHA0ZAiVOfG8xR8tNFn1Tfd7cAtaz0vNtIUvfx0VDSv4s4SNgxCentb+dwSCNp0QQAA\n",
       "AJ0Bn9R0R/8Cw+Pl+zFZtUIh6Oc4lP1jjH0OlvYARAXZ+wKXgPQ88O06wi9uXILepNm1nCjBrxyv\n",
       "Rx+Pm6z3XcZ8PaW6MayK7lATXolelSDcX4qKnoGEES1sdxjUuH7A+B7u+sy1h0gF47mwiESORQOV\n",
       "vo3mFKXn19HMtoZ9nh93Cw9YdWY8pXaJNx+jennWX665mjn/PNhGG8hxPXt2AAAAlgGf1mpH/wLE\n",
       "P5HJBmMohVfpIhrGHb8VLZYACHOqKe9ZlxzY3XgPkkx+pIn01bYNbkOce/1zpa2VVrF0rs17OiqV\n",
       "NzdEihFAOmIxP2hSHlmfVBWfZqByrZ9YR5LHdTqjoELV5kMy3jcEfE6eAucrpFnvJ6syMNgqXxdJ\n",
       "TTCkcNaWidq7YrwIbAny8Xq2d7DACt/r3sSecQAAAVpBm9pJqEFomUwIX//+jLAFYCXfrIAA38IS\n",
       "GtmNU/udj2ss7U74VFTnEQegs+lgfxbwtBRKPOvpTjdZ1e3xIXtMDVbcheskPqfhq8JOd2FjgJe4\n",
       "Dx9ofVWMc+WyRKuyJhw10ZDrJxL078L8zA6sR2YpwFDVlTfTKqZ6wN4HCqAfsMgWxowoBu/HiqWK\n",
       "ioO03edmWaRSV1AQHQL9zTNnnLXlL5lJ/QQ7AZ8mwMR/Jybw9ZGxf0sd5nYNlp0S7J21fKkmrmAT\n",
       "8P0//8CO1aAs/mZmAj0/4aYqjJg57EEGqaa1HclgEsiDBNYyFjj/4z/Co+Eejh8ROqYIjCjUqULe\n",
       "PWWsFbqv9wOX54vtnx0WfR+tOv+ta5egW5eJ5NeermUvtCIY3A9WRgO99Vf52y3C370ftPK2zpPc\n",
       "/p1kR7t4b+9ibLIFF2Cow0GkYHmCEq5xIXyJwag9pihLoCnZAAAAnEGf+EURLCP/AhpmkHn4Nrhe\n",
       "Z4J3oIpuNtLdv12iAAhjTP80PNDEunFrN0gXpF7jrKq9MYaUSHGh0XpX3FYTjyhH+mUQVsN8be26\n",
       "5hOKpF3JGY9UFGYNkk0vZuWzeJA7hQRxUcVs1ULPJCKFB8mydhZBbV3mmxyoBt+fjEIRCZLOkQSa\n",
       "8I5FNLYsdnU4m98+gg0/9LmQCJaYwVL3tAAAAHgBnhlqR/8Cw5YAjWQxc3u1YPyY8OJVp/JAATns\n",
       "W5lvB5gpkStYBBNBxIemAP8R4OFEHOw2GqtoRW82gMRK4f7OHjApgD+W019gp1ryI53l7KPWFGMI\n",
       "zcRQDQjnO8KqO5mPDSCpzUVJ3zKceCkos2hoiIDUYUhDmEEAAAFTQZocSahBbJlMFEwv//6MsAVj\n",
       "RwOJwEOBdoYjpn7QRmwTDc+hdnFZJDYPaJLnLSpPY/4RNu6dCWSZ3pdzpGDsPLWtcOSuiAdplSGQ\n",
       "lQIX2ZBAlKMMm9Y7e3iejGi9ETHwctj7RZzcHenKsgDTPKqg1BPxjtqyQg1DGOnhDlfxb4VHTbLy\n",
       "9VqJB5nUMAG8IX1zwRqN4uY10UoKNfY4Eqpqxpl0JzSC4KqUWruZe6mfpDVs+ktalArwJN+J1a0O\n",
       "7lbUVSiM85CRyco0SkhjKJtTWP9zv3FL1QU0jME2LAsb8IsTJF+wRbhZTSA0YqNfffGc380jd5Oo\n",
       "GvrJ5MLFULEAJV0M+rD3IyrlP+AM9OSaky8ONb80hwZ5TC/xyJTdv6i/WJ94nnBFKvXWCLTA0skr\n",
       "dx54p68rn8FetJRK9PT8hcaNaVTZCzUlHGDX7ZbHSOvVnULCAAAApAGeO2pH/wNd5N5THp389cYQ\n",
       "qlz7Mh3+YC97AXXQAD/55y0kqVq666g0Y27SOIABPAwfNaHrUyNHUqtez4Oqbivfz6wfF1URLkV5\n",
       "TCME3GL2yUeN8ppw/ZiGvAP/ftEmIs3ctBueceow1gVlp61iaTfvXMuMFWFVUDlEiEwkv8vhCq1F\n",
       "qRcqS+mSqp2Mi7TNF0WcaNBmTZQ01CCa29OCD74QYEjhAAABoUGaIEnhClJlMCF//oywBV/+cw/j\n",
       "K5XfSslCPk6jNqABEyJnrQn/7SAxyyWHtv//Mshg7g55U8eCACpkxW/DADDOkh8mNhvLMzJiNVj8\n",
       "HkiWl+UB6lYQ0Twz/cCoy3J3yjeWMdS9jM5HOdZ3w/HLKDjS6xnbpheiVty+VYpd1fVZw14BG2hN\n",
       "LZW14qp67YL7pX0XXifFOI8LKOSYNGXIjVWkv1NjMlYVLXPLpbgrTgszH3FPOEPsOWsBBg3O/2LR\n",
       "01/RZNlLziU+9YMShNAJjrb31IGffMQv4QhWv7psvkv7m+VDfAFHS1pbFPVcynj6WnpxstG1IhTR\n",
       "G6OojKE1FxmCoosi/ap6I3aAp62M5jrQWy0b8O7Shch1XrnnQdSTQj08d85XU14Km1Y5hELkMNlQ\n",
       "p3nq22Zdstla4n1ds1hGHt25QciIlqD77cHsQnLFeP0o6ZV+8bwYvI2d1h/wa7xOSlHeiPBk8877\n",
       "6kvbjwWtb/urdXBXAAZrmZw1NRriY6r0FpKp30zt4H7W8SfRKIZPK6ZR6gdnGfArRXPYzzcjZQAA\n",
       "AKRBnl5FNEwj/wIaZpB6kxpHHBLz2X/Wu3kc1kfmAE4F4JBrMGtQAaHx4vfjBRpVSX1YyZ+96h8f\n",
       "5IMbjc7UHKNWTmFxSzRwqLvmkVejpMJlBYIrL7+o7WnCnvKYWKc8IusX5oEgfPRUJJwCG8UXx5GJ\n",
       "4uoEhZqp6010MMT/VTA4owmBjVdYcR9oQEgwl6B3O5mFHJiRGfG3ZwLpEhGh/kG3TWAiYAAAAJ4B\n",
       "nn10R/8CwiksSj7BCc3vNE2DcMdxYADYn1rLHlY4XmanEl9pQnTyx9t2K/0Uh5IESX4AbcqVSrTt\n",
       "7sBk6O7jnHXE3TA2wKB5C/gf8a+g4JzayLx2hNkYsGBB5EX+aqVW8xlg5fsciOezFyiMxKXM+UFr\n",
       "7NCcXetIEFbu2RfdM9LmX0kNGnwTKSuDpLotoSvoryJuWY9iGDeu9ilECwAAAKoBnn9qR/8Cw56n\n",
       "FA1M5sZCsaA4tayIF4Ca7QQgAaob37tAxCd8WBJDtlc/58KCfCQ+XGCINZqRBg1nP703v+Nwx8UM\n",
       "ssf61zQduH71ARlUPGGCdHCbuDAu1eE6kJgUYK7rBAUUkNTaP32Fe7Do5EQ6fwFxPEfWR28zmxMf\n",
       "YAJyUI1XyfuqzbF3k5WABgDmdSynaTTZ/whXr6PRm7ijaHIteYvKhcsbbcf7gQAAAadBmmRJqEFo\n",
       "mUwIX//+jLACpcafRIlE4SA8DHngAb1FmHRSA1naNGUJ2NRDvBvWOxEhHAGMPloFdASgPx9p2tfA\n",
       "D70lLeMat4IgCBZ4N9tPxHJevVuDeaCN6lSIiCw6KepKxCtyk8yW1viLrQGPtA2JEGnHIzwV4pdZ\n",
       "InKJKyu6LwhawyYABmaVGzVwJ7m1CCF+A2EjVpWw6ZIMSTN0iPB3j5ATcknmghmKKz5IWYmIm1Hj\n",
       "o2uUKirn+0C6NMs0SHfL3IsyAOTminBvkMJ6sv5XM5VRaYC038pFC7zpM+SSXM1l/jKEQycIXkFB\n",
       "zbbh49bltYouMo+KDPgpl1zuTPEsUItedNDd3/O72IQZQLrPiovntQ/MnQFUnb7S3s2JNCMCb5ut\n",
       "UlkymWE6XM56YJTNx/T0YR0RfWxvsxEKX7xh6ifk6i+Ev6pLN/fB7ItyKKm91wngAj7hbvnHsnMY\n",
       "qbJFIQj7Ob30VjYipQ0UslOEuIvpcSK1dzqIuBE3zdc5xyCfW7c+WxIVnSdIE6X8sxXNeiUnW3vD\n",
       "ySJQ/m1LpIEkSknYlH5Fx2AAAACdQZ6CRREsI/8CGmaQ2BT3aslkptwiy2Ry4bG9SSUaSTCZbIeZ\n",
       "7hoAPgXDFIVMoKF0FiJiQ0LGZQcsUOBs6KdzDO5ROJgNndjwi7n0H+rTVlsNmYrUe3WCUBehckqS\n",
       "FcBXK0oQFAkP85vnK2O7B7s1d3jaXaqpeJVt5DRCp1UiC16wUxZnGNlGS0T90cRrhuXbs5uqQhtX\n",
       "PWHIWx2bgQAAAKIBnqF0R/8CwjL25xtuTcVrH17UAvFwS5oQAB9M5BRYxteQYlYcZ/az8qpr4YKS\n",
       "HvvjzqJdWDBSwZ7bWV8tMBZT+8K8YJfzmkfxzXRUW+5eF0T23DphksyCpBl6GWT2Utfca/C2Bm1G\n",
       "HKxb6OU1pYRsahybEf6Ht/PFgleNgzboHXgHypBo19B177zwvkS8Hsggs8WU+HbP9ZOkj841ah8Z\n",
       "o8AAAACrAZ6jakf/AsOepxQPdSbgEFCW2gj+mdyChPiYYHgAg6Vr7KVPbrqUlah9NFd0ReAQoai8\n",
       "gRemxORsCzFXfNVQw/wl4fd7lCcuKPSLYEJLtAHMWMBnQCFaIQK4PujWgGurQba3C/Hd06TIBIPB\n",
       "5o1U1HPdVY6swZkTwWA0btvAXFJVrmk5qiPziA8P+8E1NonEBTl4aoanNEmqgc09SyfmdUf6CsVS\n",
       "8zi9i8fdAAABTkGap0moQWyZTAhf//6MsAKmCsNAG5kOwQABwDUku6MV+LUAdM9v2oAfOAZhchhO\n",
       "/jNVQZjMRX3zvatgcpldPXo+Tt45v0JBRP6pqULowbcBsaS/4r7kIvyG6T2kNgaSDkQWaQwNwVdB\n",
       "pef0VM6NDJOMS2kHIeFgeHPp1PokWfBoZ13lTauactPPho3MRl4iuD3+C5CGj+R4Nn7/iHGUvdDz\n",
       "vg+pDQGFyU/IAcS5DqyXd4sa3gtAOzFMQk39ckP8wOt3KR6SjVnE35N8DThjjENfzzCKa1Fc/Q9S\n",
       "TlvV6wmyOr4gcqd+DWjmq6ML9evmH7pYn1oQS1CfTpwKO4alBNHQrPxIw9TaZ7UgX6/WM8oYQcex\n",
       "UTNLkpkYtPVPuLDHOphwbX221twXAAslxTC2DI9fHZNyQICG7CFK7zvngr1IXMZXFUVyDCrBTDUg\n",
       "CesAAACXQZ7FRRUsI/8CGmaQ2BT3asrUN/DopIDheLCcM9lmQXeG2N3FAAa41eoqvdf0ZX3pZP0Q\n",
       "WPpotsp2h2JR6bk3iGbnyiJmoB9JLcC/p/UhP4Rsi3HyxQFiFwzU9aqSd0B1F6WlGHbBg4ypvUZD\n",
       "g8hTeOulusK4USsAlNM3f9Im8zTe33ApGe70WTyIStA4a7FwroDKDsGLewAAAIYBnuZqR/8Cw56n\n",
       "FA1M5r+GcO95ZVMlYM3PtJROoo8AAQcgWUvHVfiTT20DmF/JaQNb627kl+cI+oqITIkc9zoefllp\n",
       "7cekxMTcSXTjtaNcCan5DDV3MmhyFZkL1MFlSAdT7A9uWwaDBV2wA5BrCB/okj8EKVyuY5Cmf2wd\n",
       "Xdzumvc3O3zbLwAAARxBmulJqEFsmUwUTC///oywAqXI9vL03yBACslQMRsSA/6ZTZcP66ekadMZ\n",
       "iF9Yb3gBmez5EegwSDbS+W9hsP9X2UWSxsbnSO0xT/E7FwF0SPechqZgUEiaT+JBRIbHYUq+ab1P\n",
       "V1rF43MErlUZjv/G18H9wG3gc9aTbwmxdIuLNqWEYPhY8aevl1iGmkoa8/PszOX3Dad/xtigNgTG\n",
       "dRGQJdy9VkFFcCef8xW3OygDGNKRO6B+T3a3n3U+8okGLhFdHcmlHA+hZHeUmve2eZVgEdqDaMp4\n",
       "ix9IaA+ZGj8g925UUfE/rx2UaTbJ0z74xORHE0L35i3jryIZpLS669yi0nx+RquxkT49ZhmpXw1V\n",
       "9aALtcze7rXZBeXIgAAAAMQBnwhqR/8DXeTeVyN5KgzISLgkbuIAAWk6P1es1KamDmeIu23EJ+NQ\n",
       "q/YrnXJe28vCCY/jjbTUosYfHLll3CUVLh29zK0leL7aibw3vRE2k/xcvWUybXEiVm9BZ6Rz36WH\n",
       "QDWMXQF215E0bDmzvSx6cktENmNts3bTkxYylgTU9KalR/JTVij0a9rsTPYmQPpvummBmuaAE/sU\n",
       "AFrO/mrKz1RrKSbU4J4UrDNlPr4VDVLh2Qu3iXb3YFhlU4rokGxbAsUfAAABfkGbDUnhClJlMCFf\n",
       "/jhACj8ndqOluY6iABIy0fnMKDcs9H0fuhoFDhlH7OpOLdYSmucUjiAYad/LnTAhAJ/aRlAD6g9v\n",
       "HGrnR/gUBBVPl4MdHWd9laRk/JaE9fMX9T0j7SvuVcyyHrGvTi/0rpgB+GW7lXNAddxGMS8+w6v5\n",
       "rgrB30Fsqe1a2mxnvN2N6ZkGSuGR8iLCvexa40kuT6xzh+hosCXqet7q9kD9lNqC1bohrpD7Tj85\n",
       "CKyL5NVKkSrQoDTPwUt94ZufRRSLDwZLRyTojPH/8tIicyLsOooSWdiKd/DhBIshdT0LBuj9ioRR\n",
       "sYHBXyLFm9N7WbbCI2g/X38Jjl/2BoGenewoGHnZt7TJsRKZHaeUN/VRhGeDd3ZgH2koPGoneBOn\n",
       "o5O6op/9vGyr7UK7O1N5O07Mdmsr5u31EwUPujM8Oe5CZF5vQQ/lyWv/F1w6aR12ErVtsmeTFQ1m\n",
       "RNZtNgxL4eRCo7YvaRY3mM7YE0/AzmlYEJdBcmEAAAClQZ8rRTRMI/8CGmaQfQeCtU7euiSIQLtH\n",
       "WoG/97xUo2HyUN/AIMjanegAQJLMWHXkVUBfkiMwj8XO3bz5WHiGjkoXNzP440ifnQbFnyLMqIvL\n",
       "1g73rRWZLpArA4Kxa88eaRLNASUkKEYoPI9FE0aYaag6g9ShzFCYOW9qRZwRkd49INCER/U3XrtW\n",
       "gh9AYxF4lBUIZnQ8VrB4ea5r+1Dcwy51JF2xAAAAqgGfSnRH/wLCMvbnFPjmv/QZrD56jJ+1Gvgz\n",
       "dblb2nf4AJWvcAQnFttn6Zf6UicG+S3k/wxMlEvzLZ8N6ovKixFnAK7P39EHNjTF/9LdYbvDxPSh\n",
       "TbHYoowqT9JxJkPjmcW7OccY/+sVMVpudsLGDRtUPVmsSPokgu6gH3haq0vhbYqizvmiOfoOhvN4\n",
       "yo4z6wkVz/64o+jFo8PnEx/RpIb1uTOvJ+wyvPWxAAAArwGfTGpH/wLDnqcUDBPcG3jEyBYADjH2\n",
       "5+xA0FqlcS9/hcQiTy8JxxjkgKzopONi+h6ahJHzUn8o+94HOXjdl5L/8cfa3DxBWZ79QroTSX/Y\n",
       "zSZSI0/n/2sAZVaC9MmOVhqzHFeSP6jzAFVLkGIbHyF8/+n/ZHX7BTilIO+MBMrLq8dg0hH2tAou\n",
       "sPaOwxY9HGgH/1T715lvHsb/CZKOq2K+uMHqAIhlU/2khrPH1iEAAAEeQZtQSahBaJlMCE///fEA\n",
       "DJlMSrcI7n8gBJUdUnYMk9OA0aPhNQmJPWbf5P3FOiVlXwTGE4//07oaivfQHHOG9MewiqBawf9C\n",
       "7TGUa3xiJExzqTvYtQt3ziAT9NMh5pzj0spktDRd4+6A2FlyhMYQQx/nKXAQ1iNUBtJbFrbWYAHj\n",
       "cf99PGpDQegMMmZhVHo+pgNbW4mAP3cTXzs3zvd7j3VXWqSpPK+pPvwPK5nVjci5Nfz3q3G6RhC8\n",
       "RzxIyIhNPDOr+4F1NXec++oA8Y5GvBVBiknKzGSlEw8sWk//LFWqE/o+WanaJvYwacNVLafdplqc\n",
       "ynmc8WeKvALqm1p6a9aH32OxtZwhOR/G9y43qK3CAg5qE04X+GoSfBPxsQAAAK9Bn25FESwj/wIa\n",
       "ZpDYFPdbLaQ9r6bgHpKuTvrvqYxy7/PqgKp3tcAEL1KVvzYJ4VkWTN131hFBS8Tw74NcL9Hf5+mv\n",
       "5jcwGRqgPU/dfxz/Yj7hTT7Yx33DlSRHmk9c5Ez18mTXn+TV4OXHvXQnzGEaC3hGaFncNyAj9F0R\n",
       "mRmFpXsCJLKK2KujoiZ6FUpgTa5qaVz8/8WMNwfV4Y4KwJvv6kNQEf4nWVm8W7w5RpaBAAAAmgGf\n",
       "j2pH/wLDnqcTY0mRyI2kNKphHDkhW7T/ZmA8QAbKYzfLRmuRHibh6GMIQO1dfzo1+pVjU2fHmqLo\n",
       "GUpkhNanSVAYK13moN+t9WfjvaN819KnQkvaE9HJWpg7bjbESJC9vhymVVFhENBayfyXXjkuo+6K\n",
       "vQd/WFoqqkZQQVu+JhKEbEaiVJwr0j0lr6C9qiGTafc8kuisDEAAAACkQZuSSahBbJlMFEx//IQA\n",
       "TZaVnlZeaj1eTt2JnOzYHWHEcAE40P/0eTsVYWMzZcyrLcXlZoKLwNq3YG6tQmm17wmG28PxMDVa\n",
       "uH1OUIbwxsLt09cgotNskRlyv9JubEOv/9a/PUKp+hwQAJlrcM3WCj8jf3k+gVrLt7dslBi7H8JK\n",
       "DoGH/oy7BHlB+urJ6+9HnH+SKsXxzxYUR3nUbPWeAD5UpiQAAADXAZ+xakf/A13k3lcjeQ+cRb5H\n",
       "YxtVVmU4G9gokDRKOkAGwrv84rjM+sRvybpU0QPR2orfiiiCZZC3V2MYGWN/XPOgqQ4R5xWEo/tp\n",
       "QbsI1ZLR5JwjY6LFGZXwrk62gmbOS5oMB+J97He5OXo7/JhOgnwzzhRk9lM2Z9/1oo8D4P1HW0z6\n",
       "MyAWiOWSEY+MNwTQ/bh819mlQ4u7DOWBa2bLIdIDtnExLPEsCpvALldp6FbZ72odYgM44BI97lVy\n",
       "n7D5Q9m7vBSRmaiHqvI0i58Avp0NB5pwltEAAAVibW9vdgAAAGxtdmhkAAAAAAAAAAAAAAAAAAAD\n",
       "6AAAA/wAAQAAAQAAAAAAAAAAAAAAAAEAAAAAAAAAAAAAAAAAAAABAAAAAAAAAAAAAAAAAABAAAAA\n",
       "AAAAAAAAAAAAAAAAAAAAAAAAAAAAAAAAAAAAAgAABIx0cmFrAAAAXHRraGQAAAADAAAAAAAAAAAA\n",
       "AAABAAAAAAAAA/wAAAAAAAAAAAAAAAAAAAAAAAEAAAAAAAAAAAAAAAAAAAABAAAAAAAAAAAAAAAA\n",
       "AABAAAAAAbAAAAEgAAAAAAAkZWR0cwAAABxlbHN0AAAAAAAAAAEAAAP8AAACAAABAAAAAAQEbWRp\n",
       "YQAAACBtZGhkAAAAAAAAAAAAAAAAAAAyAAAAMwBVxAAAAAAALWhkbHIAAAAAAAAAAHZpZGUAAAAA\n",
       "AAAAAAAAAABWaWRlb0hhbmRsZXIAAAADr21pbmYAAAAUdm1oZAAAAAEAAAAAAAAAAAAAACRkaW5m\n",
       "AAAAHGRyZWYAAAAAAAAAAQAAAAx1cmwgAAAAAQAAA29zdGJsAAAAs3N0c2QAAAAAAAAAAQAAAKNh\n",
       "dmMxAAAAAAAAAAEAAAAAAAAAAAAAAAAAAAAAAbABIABIAAAASAAAAAAAAAABAAAAAAAAAAAAAAAA\n",
       "AAAAAAAAAAAAAAAAAAAAAAAAAAAAGP//AAAAMWF2Y0MBZAAe/+EAGGdkAB6s2UGwloQAAAMABAAA\n",
       "AwGQPFi2WAEABmjr48siwAAAABx1dWlka2hA8l8kT8W6OaUbzwMj8wAAAAAAAAAYc3R0cwAAAAAA\n",
       "AAABAAAAMwAAAQAAAAAUc3RzcwAAAAAAAAABAAAAAQAAAXhjdHRzAAAAAAAAAC0AAAADAAACAAAA\n",
       "AAEAAAMAAAAAAQAAAQAAAAABAAADAAAAAAEAAAEAAAAAAQAAAwAAAAABAAABAAAAAAEAAAMAAAAA\n",
       "AQAAAQAAAAABAAAFAAAAAAEAAAIAAAAAAQAAAAAAAAABAAABAAAAAAEAAAQAAAAAAgAAAQAAAAAB\n",
       "AAADAAAAAAEAAAEAAAAAAQAABQAAAAABAAACAAAAAAEAAAAAAAAAAQAAAQAAAAABAAAEAAAAAAIA\n",
       "AAEAAAAAAQAAAwAAAAABAAABAAAAAAEAAAUAAAAAAQAAAgAAAAABAAAAAAAAAAEAAAEAAAAAAQAA\n",
       "BQAAAAABAAACAAAAAAEAAAAAAAAAAQAAAQAAAAABAAAEAAAAAAIAAAEAAAAAAQAAAwAAAAABAAAB\n",
       "AAAAAAEAAAUAAAAAAQAAAgAAAAABAAAAAAAAAAEAAAEAAAAAAQAABAAAAAACAAABAAAAAAEAAAMA\n",
       "AAAAAQAAAQAAAAAcc3RzYwAAAAAAAAABAAAAAQAAADMAAAABAAAA4HN0c3oAAAAAAAAAAAAAADMA\n",
       "AA7BAAAB+AAAAYcAAAHBAAAAlAAAAYYAAAB9AAABFAAAAIEAAAEgAAAAfgAAAecAAACcAAAAegAA\n",
       "AJ0AAAFFAAAAqwAAAIEAAAE0AAAAqgAAAbcAAACyAAAAoQAAAJoAAAFeAAAAoAAAAHwAAAFXAAAA\n",
       "qAAAAaUAAACoAAAAogAAAK4AAAGrAAAAoQAAAKYAAACvAAABUgAAAJsAAACKAAABIAAAAMgAAAGC\n",
       "AAAAqQAAAK4AAACzAAABIgAAALMAAACeAAAAqAAAANsAAAAUc3RjbwAAAAAAAAABAAAALAAAAGJ1\n",
       "ZHRhAAAAWm1ldGEAAAAAAAAAIWhkbHIAAAAAAAAAAG1kaXJhcHBsAAAAAAAAAAAAAAAALWlsc3QA\n",
       "AAAlqXRvbwAAAB1kYXRhAAAAAQAAAABMYXZmNTcuNTcuMTAw\n",
       "\">\n",
       "  Your browser does not support the video tag.\n",
       "</video>"
      ],
      "text/plain": [
       "<IPython.core.display.HTML object>"
      ]
     },
     "execution_count": 61,
     "metadata": {},
     "output_type": "execute_result"
    }
   ],
   "source": [
    "\n",
    "anim = animation.FuncAnimation(fig, animate, frames=Uc[0:,1,0:], interval=20)\n",
    "HTML(anim.to_html5_video())"
   ]
  },
  {
   "cell_type": "markdown",
   "metadata": {},
   "source": [
    "PRESSURE"
   ]
  },
  {
   "cell_type": "code",
   "execution_count": 62,
   "metadata": {
    "collapsed": false
   },
   "outputs": [
    {
     "data": {
      "image/png": "[encoded data removed]",
      "text/plain": [
       "<matplotlib.figure.Figure at 0x255bf450390>"
      ]
     },
     "metadata": {},
     "output_type": "display_data"
    }
   ],
   "source": [
    "fig = pyplot.figure();\n",
    "ax = pyplot.axes(xlim=(-10,10),ylim=(0,110000),xlabel=('Distance'),ylabel=('Pressure'));\n",
    "line, = ax.plot([],[],color='#003366', lw=2);"
   ]
  },
  {
   "cell_type": "code",
   "execution_count": 47,
   "metadata": {
    "collapsed": false
   },
   "outputs": [
    {
     "data": {
      "text/html": [
       "<video width=\"432.0\" height=\"288.0\" controls autoplay loop>\n",
       "  <source type=\"video/mp4\" src=\"data:video/mp4;base64,AAAAHGZ0eXBNNFYgAAACAGlzb21pc28yYXZjMQAAAAhmcmVlAAA1jm1kYXQAAAKuBgX//6rcRem9\n",
       "5tlIt5Ys2CDZI+7veDI2NCAtIGNvcmUgMTQ4IHIyNzIxIDcyZDUzYWIgLSBILjI2NC9NUEVHLTQg\n",
       "QVZDIGNvZGVjIC0gQ29weWxlZnQgMjAwMy0yMDE2IC0gaHR0cDovL3d3dy52aWRlb2xhbi5vcmcv\n",
       "eDI2NC5odG1sIC0gb3B0aW9uczogY2FiYWM9MSByZWY9MyBkZWJsb2NrPTE6MDowIGFuYWx5c2U9\n",
       "MHgzOjB4MTEzIG1lPWhleCBzdWJtZT03IHBzeT0xIHBzeV9yZD0xLjAwOjAuMDAgbWl4ZWRfcmVm\n",
       "PTEgbWVfcmFuZ2U9MTYgY2hyb21hX21lPTEgdHJlbGxpcz0xIDh4OGRjdD0xIGNxbT0wIGRlYWR6\n",
       "b25lPTIxLDExIGZhc3RfcHNraXA9MSBjaHJvbWFfcXBfb2Zmc2V0PS0yIHRocmVhZHM9OSBsb29r\n",
       "YWhlYWRfdGhyZWFkcz0xIHNsaWNlZF90aHJlYWRzPTAgbnI9MCBkZWNpbWF0ZT0xIGludGVybGFj\n",
       "ZWQ9MCBibHVyYXlfY29tcGF0PTAgY29uc3RyYWluZWRfaW50cmE9MCBiZnJhbWVzPTMgYl9weXJh\n",
       "bWlkPTIgYl9hZGFwdD0xIGJfYmlhcz0wIGRpcmVjdD0xIHdlaWdodGI9MSBvcGVuX2dvcD0wIHdl\n",
       "aWdodHA9MiBrZXlpbnQ9MjUwIGtleWludF9taW49MjUgc2NlbmVjdXQ9NDAgaW50cmFfcmVmcmVz\n",
       "aD0wIHJjX2xvb2thaGVhZD00MCByYz1jcmYgbWJ0cmVlPTEgY3JmPTIzLjAgcWNvbXA9MC42MCBx\n",
       "cG1pbj0wIHFwbWF4PTY5IHFwc3RlcD00IGlwX3JhdGlvPTEuNDAgYXE9MToxLjAwAIAAAA6XZYiE\n",
       "ACv//vZzfAprRzOVLgV292aj5dCS5fsQYPrQAAADAAGq07a5wTCo8QFAyxNmt3Ir7brqLgHaL0/v\n",
       "LpDVPar0f3/A735fols31DYSNaHPWX8z5IzE9HviU64PTjKGQl4/ArTo67XXoCl3R0aQ9kZZP8z6\n",
       "PD450vRerhyowbbHmoz0+OkS1U+m4QNMSGRieURC1bFdmSyBh8ierOvSA0069NXa1qr2HalOA3u3\n",
       "U+3fV/l1ygbzPIzfDyUFb770u0IDsQDF4n/frGUdpcZUCE76X1HDrV7jvJh8NGJUe0wPjN1MokWU\n",
       "+XI/GFEAoJe5wmgMAmglYw8Yh1+K0FKFaegG6WoWHct2pdzgOVjvpfpuEqfix8bkst4KiwH/btiV\n",
       "J1kwRAEr4vjcVGbXPFmCtFNST4A4dsE2Lls2v14gieIgOXezrq9P6mMkwN8JYQAzVQp/ZV417lFj\n",
       "geWhSj9NTf/Z0dZzH2y3Red7KLRPJWVIMCnZy6ZsYRI2VjrHkLp+kZIiJwT3/4PoYlt3MuKkF7sF\n",
       "Ov0ohLZsvHFJnCwHeRTN9dvrGVgyBpeckefYmLcLxSmWbC2c2TAJVLPNZZ7j8kyi4ttH3yIlQxkV\n",
       "NXjn+ZAE2LecYv/e7Zj0tnQaopokhlVwF7wxK1LoJvHkKOKdcQ1SZIOGnCO7600A1Fghf4GLtvoc\n",
       "W2J5OovBUYIJgPilUTSznTudJgragWZNbyGjeRhaew/pzc1eV/0d7tCmg+bGqk09Pp47T2IYXdFM\n",
       "kFujqvW4VCWlwlaCkpZTYC4sK6sm/7AbXqD2aRdqZ0KRsPlDzDgFv8QmSIjK0vGw59TkM7W7mr5w\n",
       "KxbfACLfHB0BwS4GS2G3/B1rcQsgP55S0ry5JDTWcAGY7Leg8HmVXB0V7shurnegvk4W2viYZmPG\n",
       "sZuHYmFWcg9OHXJqsH0HmKGEOrQtw6YyQt/JLD1Ef5ImXsBj8YbCx6/M7VyJFM994dbhpqtRb09P\n",
       "ibX61/QwJoi34No0/lsPW3z/dIWAO4ZtGmiO7cQp/jmuKrj2bJKTv4B+o/gAuimX7gd2EbifG8k+\n",
       "bb3XvXyznibAy5N4aC+hZ81iY4scorCENCyufZx6EdlfikcQrJwn6078enrQRXSBUxv1drTNr2AB\n",
       "hgApZLjT5RygZo42iLLrXKgGeLRCkJAchsTlR5pgyUbPc3D7827ZLYya0f25CVVeZBsoXdRZvF36\n",
       "kIWakrsrJGp3jpsVwF+Wk1roDYCI5fQtePczMg4Htkg/HJbq+ZZCxtjYSHTAVkVjLLxwdaxbLvBm\n",
       "Bz/awHGvIn+ezuAZgUBgMfOIgYdg+HyGQ27KqMEXYzdmeaBvbfLEQ2LBK4hMvF4YeiXMpaPwMHQu\n",
       "0vtxy/3QYJZUDf8OIdCyKsaJgrJxlok4cLaETPzfQPHArdjCNoJkoyLni3asorTOsyAEvBc/u5Sg\n",
       "WkaOg/cIY2D1vIYBc3dXzF6UoYp4Bz50kDE6K3adSSf1XEBn2XXruYrgd9HJL0PaWzqlTgAESSPL\n",
       "yLhvTT2+cFoZhmUoY9+9lI+qHBmbaTZR12BVJhGQh+yfjveWZLU68euCt7WzIWZSN+Wv71xbNQ6D\n",
       "7SGmjVE3BcIg6DJZlE8Ep/qSQ/OyHcJX0347QJyOM4NP0arNE/D7+GBza/F43SJ5dJNgLHZR3h8g\n",
       "kmkDGm4kt/ntSZojO7QOW+cZcaKxqtvfGigBXaz57kU3h6Q6P0stPjFrD74X+3oRl1/JcJujiec+\n",
       "m/LYhjKhrHNYlV7H/F27T7vj/XyOf1vxM7rV1GIZZt0MAXNMt93tVX2e7g/J5BleUPHfIbhW3xh5\n",
       "gnOguWHA1oEQ+xzefWBxhCgIUWfXt1wsOsy/GFigA/Bl+9jvrO/wjm4oXfCelReQ6cCL8eDRjHas\n",
       "uIeB0Ng0Sk0qapIJp+eNPHIAdgqWNtzs1rJYXCLWAYE/YGKCu8P6FXSmkRoQffETVmyi4KqG7+/8\n",
       "dVoxkNARB1d4V3cZ/S9yN9QI50Y5QoKBwMGGIcoye3UiE0uX2PlaMP7WBycuhbXAp12bJTWxeqm6\n",
       "du4hnw6DEJxfHJet+UBFnzmxURfL/fwnLrzO7q4hUIQKr+tClhw8nYT+uBah6Nwp5ACoyC+Yg4Zp\n",
       "TbIhgDW7rIYdWLdMw7kXfBkpSmFoyX7DaMzEiOXr8fnjGIN7nvzB/vz1fW9PC1woBN+TQ8bj1jBW\n",
       "PQcJJKNbz2558QQjnb4yq+hlu3glETZXUaKlALRk4excOrJANtPdxbQbSIJ0AzzfO16/+bMKrMoO\n",
       "P3KLRZ/a8uiZ0HmqgX83xgfmtiSOYShJD/1aX+wlFZUUOOgyiYTU6YKbaXCceLh2bSBAlHWzlQfw\n",
       "ehh0A3fq4JrfRGCpaqQ3CaMsySI+7eGkONStv5fkGqBsAUc6xLx513G/dzoFkJ5D06Lp0fInRJ88\n",
       "Yy01nBVd5YFvLMzRu/cAx01Cudoy0lDehA9MQqjEg0BE7O9XjtRkYPUo48grCv4wQs3HJlEiT+so\n",
       "RYr7myd2gjd3qJ3/MYFe0NBBNewNoDzP+Q36lRk3nxQ4DDidkzZmztMC2Nw2sdRRXtTFeRa7J4hI\n",
       "6znixmcvOKOMGp0hyd7D44LNgzQZA44P1DG9ZUev+inwslXpe826dOQVeQDslSncDMPQ/uEsVqOM\n",
       "gqQxarUQxuRIiF4FnGUiSQT3lXzdDoflV/zQ5K5syCpQ1JzutoDujl0winRM48p9LIu7WxWajIJP\n",
       "3taIJ+3OCrD/NSHepbKlvbkWOhFVk/h18QKpYokmFVKijAhFPiNb4EeEtENEpey7s/TC2kbYi1qJ\n",
       "j4VRcEC4yti0NeN0LfcikvneabWJZGxh0ywDyKfHUL1irhmhuuTxh5W09SmoQitL0qOxUI4XLS3z\n",
       "dk4WE0pBrV80AAjktPXJt5o9JnSTC8SVHNkwpOoR0EJXmbIHjYy5E0bRIVKKUy8Mvovfg+DcE8ln\n",
       "srNqrhLzKGr9E01J5eOSwOVDnvnlDZiVqgCB4ETGcvbrQbvCTuql/Osc6B+yTZbCBq34e3dVVufC\n",
       "y4SfR5dy62/zeWl0Az5nv4huOjZy+aaRw1Hr54w2qMbGSzzwuoDmS2Wmq8jqG4NYg4XAfJZAlZlX\n",
       "0Gs1hSG8M1NAU/grffZ6b6jPQszIyLKrDEhpLzDSAE20sBJVewOxVbccxAtwXToP2vnfVDgap8V9\n",
       "31o7zZuuvTsqzSlsFCNoqbOO9tt9nH7vgLgv1zXfrlRZkSyQTc6J2JNmmp3hlBFadTFRCa7m9o45\n",
       "BeYXQrztPYbCBGxXgOwX0ngbHCxnmjjd6/vhGAOLC7vISkMt5XGvB28W7Dg3M/yZ7ZuBpHc7QhR9\n",
       "vlmDstXsxZZAG0PxG9RW9/LPHSjB6n1HI8aeDfrSncRKS+7px4dWSTxTR+O7em2fbvFZ5YBW1o0U\n",
       "q6OGIKOZzfJ1rmu76LE8VMRffK0iHftM1ZNURVhfk3D0bYDUAewgg116plZ4jgJv+wLa00/8bM+3\n",
       "Inl2jG4Rj03LmFFc3elcv9kGe2Y7ywc19PZWwSIMhDHD7DZRggM4YiMcUJ2sVp42sCLXecEPBbcU\n",
       "ovCgT6/sX4nu2cpRC71llzXWyFq46KnuZ+yCxJ+UfTzO5jCoGx/nyme087xNQuJ7Qh3XoUswUhEM\n",
       "fw0sz40/P0QznspMKySAJ5QDH3txjya6S/tXgVASn9LetrrFyzi9vyCZlgaLgvFtGyXCDiCsWZmO\n",
       "JrN0fUyTBdXUOsBX0J3ebaiWd7I+Z7PkeQtsLT/pEq2pUkrKlL/yqY8hUhhot/jtMw3o0VTKn+sR\n",
       "y8w7ujcKo31Fwb9uvxsYBE+U3r8fXpxVcCLidb+eXVaxM5jQ11+S4mLAA08n3oJfW+dg236Jiges\n",
       "6h70FY/XCg/hlH98ldT0YX3Sz++EdyLXVvL6bVWcQuTw8nmAJqefrK5nK6uH1CDQDhzUZUMKwrmT\n",
       "BtvCRE5i1ptcbE79eg8ZGuyOdDO7jof43TxwJAJiukwZWLVQ6eUbhUPMq2A42MeQElhdfaMnueVC\n",
       "Lw/vpMiFNfK3RpGGZ5GChyUV1f9W5MpMYh9kf+0pFxjtdwhw7152PuxqW3uFaVNxpUxOxz4f2JnP\n",
       "VUAb3fx8fG/3X/5QjOb/TEO0R8pndmfkdYfzA9QC2C1F+LnoXBhdzkvxTfxANZp+7oLQKFuWnBNF\n",
       "u/AlVtL0XHrEfwHBlqkm08F/2EP7bpjbmbVCezjTOc/LItscicrOVyQ/unpsVWVdO0YBDwAQfpQx\n",
       "NZSOjcElwIHpuN5Z5pffyeXD9xH5KqjHDO6bkPDmuRscK8yF9ChPZcd1D529nGvuR6e/g1MbVpRF\n",
       "QK22K0/43uJsNWNNU7zV2tB1KTALgNtGO4fCdybV/hTbpWnHdTWW5/Xq0ogKBcuV4an9vvFG2Yb7\n",
       "F0WjNNSJkd566S+zlDA566F12d1KliJDTtkqNcAdgdV0OFD5qCsHdyS3mXCbxdgn40F2A8nMQWW3\n",
       "WD4+Tr4mjpS68nny+QxDDhOBHlDmHFzM/34Dd95akuM7z5cMfmqfZrMx1/EG2mgqYDM0CtOqtObi\n",
       "TR+JKqxSfQIjl/zoGN3FBJES0oAQr1MMYgQttSDV/zeYahk/ZprTsfJaL3cnkhKwXveRnVUQlrwn\n",
       "+Wbf+XhUcslOX+x18VgO+BzrTztrPbY1Vl+ggTJgm5OZRbbWmsZ3ZtZqLnX3dxM5n2Ba9mBP+v9o\n",
       "PkVBslLZld07hcQ4GFf+fovDmCUbKPXcd5xXGYrczM5nlOVv22AFlG36RaUzJwRhZelWjv7qP5ds\n",
       "7ui5EVATXsfdH8CpxkPmrBJyHCU46sdZCVkf1xV2bD53kugQqwkTeT9gMcfR9gvsyeSLcu5r/y8J\n",
       "GfR4b/GwSc2B79k7NAwLtIMP4Q5C5oV/V4ioKFaJgu75Cl94Lo0OpaOWjDBUKG5PHMb8k9x8oFVD\n",
       "S3JMgBBwQYLmpOmNBPj0oIylVW/BM8iob6ohAAABEEGaIWxC//6MsH5EjQDVtZBaxnZUouYAuI7x\n",
       "fXFSLr5ZhkvTXhUf+Yr8kSxq5Ckr1Oma8SZFsy5EHLBMdmMJ3mL5qqSPcoP+bd658sgRZ9725efj\n",
       "RpkJe8AYQyuKIM3j49hFe1do9NB0OYi7TtnJhyzRjyKiXcUwmg0J7Oq32HqCJmp0YrQzjCJnZ26F\n",
       "+HgT4luXQftFgdnPUun2yWJYZUfS+PqZYovASwfjGiTuea6/d9svyigVK1pvcV8FPDBNZn2GkhoY\n",
       "US2P6/1zdyd91ozxcdXazhUYoBkADbe8H8dfz5P1eCwZMpTOMpc/VTDhvbZB3aQiRgLnSNVVy43c\n",
       "rJKUYTSSMfLKD7DGwGorVzuAAAABV0GaRDwhkymEK//+OEAdXGLQCtw4ZVPyIv8wxzSZ5B72nOno\n",
       "N9Kl0y5zjCfaL1cW8FyCC/LfCN21B2x9HQFhGk0vDx1pwDLxd/Ql/4UTbk0r/aCH0cBqBjU2r5R+\n",
       "ZL06OAGtY3ir75Z3NZmc1dlN/1MkHrUVHivFDhdYksI4gHolxke9QMRS3Z5p+tiqOgMUnaBNfcTw\n",
       "Nk85vFLie01MuUcUEg47SOseYokc+FAmafwsip+2XU5mKhycN/5nom5sjFfTRyn2nH9Ep801rATx\n",
       "i6EvTncoGlyYTTvlYghhKU+N53tddxoD81nbNcLyKPIuSu1B0Gq4en4DcHj5YK71c6kZBboVGIHz\n",
       "jZbKtBFIsYgof98dpj2MzdqO2+VaKSfcZHjcpXVfFu5wtk48cnyvQuXsNxjDyospwhG7NvJEe/6u\n",
       "5onEEheuvd4Dfv0RbpLDMy1ZfZYlEEsAAABuQZ5ialPCPwIbA3hhXye0s8ie7UEAG0bgjcPlWQc7\n",
       "0E/gdvNO3dcvQHHxw36p7LNAFniTgUls/PY+70gZGBrgfeE5w+GP6hKeCKcKHVe6MoGkndAM9WxT\n",
       "vUGGKZAto87pPxNiq4tRcJMC/AG0k4AAAABWAZ6Dakf/AWISO9S1bW1awAPFU0hZpNwWGOSL0kLq\n",
       "spyE0yvrRoHzEAKd6/GEQZ5iSYERIBouqA2d9/zVuRPXy6eUeq9zu3a0eI3vkqdfodekd/PB5XkA\n",
       "AAEOQZqFSahBaJlMCFf//jhACoR/gRDwAQYkBiIZUC2+BAw0Ry/NCs/S1kMkc8RK0BcWgScgOxPN\n",
       "wfsgOhYw75f9XnTdIzljN9sI1+sjINFJaZZ3tIuUJ8TMBnzNPag7io8QLvJPajQnVibF6rVkBwzo\n",
       "9x2LaIwPxKQ5fWHh7tv/2z9f7A/mhEzwcU2PwIU6c53nhIX3Qu9zgslRYAoFiYUkM2ILgyood6k0\n",
       "j9w9rTZat0oIYhl/8AJ6xUFCZ4xxY/Lg70BYHrkspzwGGgAbMdV6AS1UOzzYKUmbwCyzMG59shiI\n",
       "dcWNCA9W2j9aQZbbs3E4WS9wLsqNwzzeVdWK7XkWR2iPUtEiEy+cOPOo7zo5AAAA1kGapknhClJl\n",
       "MCF//oywArrb/knbABqjwfl11mguq+mHlEWE81GmaVYxrOuwdgWs6TujS2HjLjRPLRitzst7EdUF\n",
       "FGBg/jPLAL6TD7pUO91U6xFNxIBEvQiLR7mK59ne/MLAWE64drPVJ+qlT2gCHVgInyn+Cb/ud5xd\n",
       "DjqyvQWiHhZPsm3NAO8P9/Awn+NiF9z/dI9c99LtyXoYxQYFlqoRwC3PcJYIQqP9BLXsnuZV3bOk\n",
       "cGvsIODaQN+oBovx7Qupj4gOnmN7cRBJN/QrdwVEf+p0q4EAAAEEQZrISeEOiZTBTRML//6MsALb\n",
       "ioIA31pbU6GyQiFdlMj8U6/OIv9/BYDSnQUYXc3DBJMnbCrmhneTVOmerqL6vi/5WHABCqlvQsq6\n",
       "3tTzT9GpW/R0ljJNn2oX63g3lFC8aITI+7D+GDtw72e/bR8yHRQs8+Xu4rkq047XRXkAtUrovyuy\n",
       "FYdTadUjGf/pwy/8sw/4nT4CcrzUjPpZzWbfCXpcjfDRpQjSXcY8u+Zwe9pO/69+qkcFjfho+RYp\n",
       "MMpvRd37H+o2JI38bR/Q0vUVjgTQSICiY7oAZLjbDd7K8FGhFiK2Qc+o/X5LidkKUe8pNHji7h+b\n",
       "jZphhovLpwYTbGwqF9UAAABfAZ7nakf/AWDbBGblugqACA/r9vdMMHC9aIIS0z1OD+zxVxuLmGrE\n",
       "bzUaM1OhC80y0/PxMZCOqTKyk6e4DSE3YJ5mjzg1iLG8EaZ8aLyqSmntJr+9UJ6+0EUEHjtQkcAA\n",
       "AAEPQZrqSeEPJlMFPC///oywAsoWAo2DkzlKQoAVkZSp+XJnvFT0TE1pwj5UnGjkzThOsKOGURiH\n",
       "6+MLFTTT3VPfZVjDnJSTX8ZhLHW3xN8W5LaB4lj7fmemoVWAi/QQMnIFSkGP29sy5GqW+94FZWOs\n",
       "qCbdUOj1kYyMMMGiHc/ZCZxWdgsAz7onKnhjPvdXXduC/2ErEIt020XeqYBUiK5SiWMBbLZCKvDL\n",
       "QjElXQ1PrwbtZr6crU2AD7mlLchperMygoq8Y1+KYio7NUgFby7FouePI0cWhlzZpoK47hgLeOfx\n",
       "sr1z6q26ZcxJHnpPjhqT8rphPkIViq4J7yFfZlb25G7ECCC2XfvJqTpx+P1hgAAAAF8BnwlqR/8B\n",
       "YcdHqaOXB/F9kj7ORsXxTb9Bc/NFOId1l3fqLuoXds6wAl5UeUU3euYoe5Mq+7weBZwp0PoDk2fb\n",
       "8nKU82iPDGk0ctElq5gUqI1I4uIAgTdmDy7RWTsnuQAAAORBmwxJ4Q8mUwU8L//+jLACyUyKOUZn\n",
       "y5/RgAtGQESTR6dE/6etOTfDTu8r8j+0fP5I/PGXmhZPoFdcp8NbX+sCAgW1Bt3rashfMbiWkalp\n",
       "arOtiDXYwbIUq2cL1xkFYw+CcOfnHWzXriTTBDotwXpuxpMMJX+vVI9aHG8kqoLi4rViq0JpoiBi\n",
       "ZAj7kSZRw5Kp8jfqOAvUFSqB4uRDtaKf1ouhTvRCArxinKfLJRd+TktO+H89Rijr5cCjLvsJ/ylt\n",
       "3QHWOLXaSuWlzLxUFDZglvaE7GIwv6y4Kd4iLdkoybQ5ZsAAAABhAZ8rakf/AV5GsKDEm3/o7K45\n",
       "hQZ/0LBelFMl3hm5leaOIBn7gR8XV/PABNl7k5zTy8Bj6UUh1Rj+yzYQ3YYdNU8ee2ZNU2DMZ9OO\n",
       "qZLlKNBnLKbr82HRL9qpctSndPcSrgAAAQJBmy5J4Q8mUwU8M//+nhAC6fnQQBFAVT2GjU6BAwoa\n",
       "cdJ2YVFzfpmR4W/4+N3Zy78var2ny5oPBodmYv+OlGsM5AtWHsf00YfaspTAXLaV+KxZPE/uDsjs\n",
       "8heuT6upVhkDrmNx1PCz1aNFoU+nJhfhk2iMYZIZG65oHFJsUSI7WfHD4t/91lIo4kuZFNPrWwxK\n",
       "tOq67oBYObD7lfgL4HzC9opswu5eTfDJrZgUGnVgZQLlMVoqRGtD+5Wd8QggbigHSKPm72oIhYkW\n",
       "wGcwtdcYSQiOx771hvX4WXYcvpSAhDlJ3yHGpeqyZ8vxlxIAkpnGW9pO7En2PP74lTbdwvDtaVkA\n",
       "AABoAZ9Nakf/AV0ep0XrpXCv5x5Naet0zht8WwqRYnm6oYKvpgO0nu+x1tkuFitACXn5gkDp+vUK\n",
       "YGtE4Xm5PgcIIguL1eiZJ8wSJ1FfJvLAK2lE+Df8OXi4n6gnMvNgoEwOIfLy8H4Zz4EAAAFlQZtS\n",
       "SeEPJlMCF//+jLAC3+Lwgkq7BDeHdp/RVecVTOUjVHX/geQxwvs53FS7zrVIohCO0p+PfMpBICO+\n",
       "5St6pOAt8JQYq3wsIxgvhMpg/c1bSsR0UcOLgDWDyCCQtkvFu6ylt6jbTerb0HKaJ5Oarp7uKzMm\n",
       "flyH1rn4U1btMjMwzeJrIbLy1dO/oZIyG8zyHveG2LniEJKsgIoLSvzQkCVstMAecuXNYYcxr3b9\n",
       "2bHrC8yL1LwTSYGzOinMVVqD5PtrtkgtO9f35mSIa88BtvDH2SCsb0S2T5Oqyv/v/xD/AitRd5Je\n",
       "3QLKvxtLbpV0HtpwVXBU6RDoTh4yI4iweKDSEvzb4VVSj3mY+wx7LU3NAGFPICiQW4lEI41Iy4gY\n",
       "NFK4RblaSYJkYS4f4gSNC+0f7j13CVhCE5anlWUxyX9BB4cIM1p9Q28a5hU/M752y6PLnvGhNSll\n",
       "3RBOpnqEWbL/bOkpAAAAe0GfcEURPCP/Abq+eoRhn48FqhExiEIASxSHLPpZLwF+8xhAmx2ivzoY\n",
       "WKuLbZzjOqvlNvRkuajV61iGS76uxByD1nGCPXUsuaNoIRZ8JLCBABEyDTPe0pjBabFqltky1r+j\n",
       "KAvgB98nQnS+TZG9rUE8FjYhMs/HWvjtPgAAAHYBn490R/8Bav4ML6clJ7/fUq96+txMgP4sb8WQ\n",
       "WTY5BHXq3CX+FXfVbkVju8UAEyMC9/B/QXw3IF+xl+XcULbBNep5kzkNv4RFYHCz8oqAwe2BUsKS\n",
       "Sr2JoW0NRw7h3IoH/vie6qKp8q4H+h5/c5Q6i5nbE4HeAAAAcAGfkWpH/wFpLcxRbqSlWLMe2bFq\n",
       "mbHAuV3aG1cWqwCxkyJLq7XYpj1x04AAW6ubujBsNvRqUeAvJrXNDlbIRAjjgbn17JCpXUX8ABEE\n",
       "pnYc8c2aTr2dUND2r9jGJtvCz4UwL7XABUQgxbvi8eV2hNUAAAEpQZuVSahBaJlMCGf//p4QAuVe\n",
       "4tcpCAWc+v7MZ++CL8u11fw1CMe4K8SSkZk/ibI3m7JDR5wf2lyLs14Njka0c50D+mtF+/ytSNve\n",
       "dVWMrNq0AJearU77VvjLmi5owPibvNpdtlN7sfWU4/63LPAqgmhgdSTrPrsYJPfa/44ziMisoSNN\n",
       "v8gxHktiTVXwSCywNRODBX/KVV6wUvXSfX+aNiaQiQzU7pciKyw5YN4ndGN0X5yab9ptQ57binqj\n",
       "LdziSUe7sq9IpCrKzMnVpCF2QZ/5LkJHxKBtW1incyYeI/R/v7mcXdvXy7j8LuKFVA67348QwOEh\n",
       "nSmKaPT6ePmCceZWl0QKwsTbzTkEeT899N3vpTG4t8i6WU54DYxgVRWJeKN7HkhV7HyAAAAAhkGf\n",
       "s0URLCP/AO2C0tQQrgVABLDeLDg9y2ToChstm6dHhN3cppik8rCVi049ob6FRzdq3P3UyRGz088e\n",
       "PhDoKEcaPzcMgj6Am9Oi5eNDzgN55eq5qKm8blpe/MZKkJDD7218ghCS42jfOIC5AulxatB+9gNb\n",
       "pR5RLoDQsA6VQbB18PBrto1AAAAAbAGf1GpH/wFrJ5Dr71ZGTiGrzBoR1IkpJ3qqU1TVJopTGcts\n",
       "R6K66OXA3lbAATsro1Fm+clLsADDJQohZG+P37F7/LpX7MqNXRMSjcUroUb90Ywvsnv6c9wzQoqE\n",
       "qJwGUGVai7VkjnYmdNDT4QAAAUFBm9lJqEFsmUwIX//+jLADALTALi5+fe0AKruOtR5shamlAx6S\n",
       "lzDzeV1lkiNcnEfyuXCy49OW/DXPJhk74unoM3bfh/kcvomXRQGhHdCAovpWwCS4C+zyXqtc7Dmk\n",
       "BHUBt92e5mpjG94I9QiutT85veio38yRN1Gd6rZIT3EAQgBSsrIdRPZ/SLP4UpILuKtyivTN9PJI\n",
       "Pa/V5piq9cbIEycootzdnVFPU2L3hbZD6Qc4hpfQHNtmsuvezNXOmiSJqONj+9xoPPHDx/8QUmY1\n",
       "i/okzSFy8QqJ78x7+GNN9m0dcPZuppRliYqM4+jXcNndIUeKWh9OCdfdRETtWKXnG8i+dwiYBWz/\n",
       "cifDrtIlkxzcz3NBDGyBUYFe2Z23y0/H9QyxlSpjdlywBxlf/TgjZnrttjtYZNBTwre5mYXJDUAA\n",
       "AACHQZ/3RRUsI/8A6DcnleyWsB+Vl93wTLLdoNjWNFgZ/2KEaPwF3eUOo4CmgJpGNE22Tm41Ol27\n",
       "G+J20S2tj/ojQAmh8xEOzqjpD/ycG6AofOp47/oDtDHYGJu5ZJKCN6mPb9MpDYMY6jXnBR4TEouf\n",
       "J2a//WGc93Yq0cAJimErAitcSGvR4s/PAAAAgQGeFnRH/wFrAPu4rEuR9bmtuTNKd0YbVXctAR6M\n",
       "YRs2fGUC0b5UOALzbXGDK4AEJws2EuCkJMkX3CiOKgEJTJx/AM/CaYz2po2vH3tp53fFeIYJw3cn\n",
       "JWcn0fO5s7Ko5je3KLRLYwrqUnDk+ZrPsT16Dw1IonBVGS/EbGC0tzk2/QAAAIQBnhhqR/8BasdH\n",
       "q/DdN/5jec4qrckszNx+1ZPb7ULVF6e3cV7pQ4pgr4YQAD+dkEGHcZ/wbXzjJVftu66mgH6EdReg\n",
       "SlJ8S159bdf07U5fgkhXNAcwtv4S76EgfJDEUq8JeTrJhoyxDeqi5c38t883x/EJxOmsOVwqx2zl\n",
       "urmRKWVrkewAAAFqQZodSahBbJlMCF///oywAxS0tLgdMWjqiwAK9FxSD79stQiTffj3xuKWFmTE\n",
       "yWkM4+z9meH5Iz4AX4bXBqEL4TIxdKPNfYBgTVvLCQvIgnGFl1zI1CBEpxd+k4omSpb8cSqJD0GI\n",
       "8wGND1jMXAVW6edb9zlEzOJUK04sYsbBfw1NdgfOmsKukkVZzvuzM/0adXA7ZvjPCtrfkhX3+5mk\n",
       "D/YH6QPpm7O8CQJI9gRmgn/b3awS2axxZKAF3XRmOELsJOUs379tn2PEy2dwT53G7dccvZpcw9vv\n",
       "72vdeNTPrN2xfdAQC92IaPEv6Hk1c/pgW67yU0JuFfgPF9M7mOpnESsOAFo/465CPkPeW1y/FRJm\n",
       "YRmGhCf3mcugdvaAV5NFDXnPvHFRmY5jxpnvP37RlZT5lA2iUA09AkStiEKy2sdiD7EsSJkx02qE\n",
       "bxdunJ2jnIS4HSAEYO3gypMAh+RbRS5h1zHr7LsmpmEAAAB9QZ47RRUsI/8A5+G99IX2JgBK3QEs\n",
       "yxCGK3D0y5D4jikIS9DICs7L6a8RrKz8l50H2bMYjzl5u7umMB96J4wpgP2Kl8kMb2w68M3jKkYq\n",
       "3KQONOiqafZBBMJtSS/R3EeE2d9oKy2w32HzT8J6sZizRdfol0huTNRy04kf+7MAAAB+AZ5adEf/\n",
       "AtUbJbZhCfYmSmivA7MgS77yAwoPiXaQ1wnNQ4BSDQsRWZSlVwnUzI8z29v7o5jm+AAH7CRVnWpJ\n",
       "JBiKg67y4VJOl1DQ95iK1lxjaWKSD48RzT8Sqj05qpVYPXOYFg9Jsbfsw/j/p3V+cJcBvGxx+ELn\n",
       "yYZN7fXVAAAAeAGeXGpH/wLUoRdb/Jc3tq5GGgJ4TJ9jv6Tw9GAUoobzdflMVNpSxeHW0t8rJJwx\n",
       "uRmx6LgAiDXHFgnMj2qIhFmB/oLjOFCmFdoluA2QZNdRC1sOkTkxf9USXPnOA6OHunv/eCZ6FS9l\n",
       "QlHN49+wLYbQgaa9p0NHIQAAAStBmkBJqEFsmUwIX//+jLADKLS0uB8giOSzjc+eia2fwl1ybeXO\n",
       "72lP4AMJ2g8Lr2yU3Yhf6YqQ/lc9QAllX7FIsoOIDCzpVpNrIss2rv86M8IVbXtyH5X6vuxvOSC3\n",
       "sH0+3/vlSDQBgNx3mk81C4cE/VsQ52az6deXYlTSVehXsbOLsWJAiFhRKDU/msegvcnF5Hc4jpM6\n",
       "ZtgwTWyxkas7NlnjsOxjMVW1mzYeLnX9do5MyrSlp8Xi2Pi9O6c9C9Dpg5l9aVmSq8Fu9ayszjN6\n",
       "tD3t71tb5Uy3CYmoLZzHQ6XEyA519RpjT4W2Nn3pucynyz+2b+OgnI4vIyrXTTxJhSYXzqFLzju2\n",
       "prexFPpSpHaHXCdINPSTl+1ZhBoQ5QXwQcXPusakZD674AAAAG9Bnn5FFSwj/wD+AoRMw9jbZVsi\n",
       "/BdwV2iS9Kup2Wq+ZD7bZx8C07D/W+ITohEzKyqmdWXedYVz81wAQ+z+rN2oHxwf2DEyRHtqDhKJ\n",
       "NPH0B1l4kGelkYSByWXIVQ+zefaj63YzhvGPJ4HKilMP2XsAAABVAZ6fakf/AXS8Jct+hoBwf+Cx\n",
       "x6QAiInoJO+n6GoH0ycu7vhT8CGUosgNDZV4lPgAiBt1OLHUBVzVM/nczH3zUzQQyYF8MzOUA8tS\n",
       "jW8knXUy0hRNIQAAAWpBmoRJqEFsmUwIX//+jLADPLS0t3UfGHAMFFdB77ABXxj+DY9viADcgNAc\n",
       "eD9F2TzuvqO+O3jdeB0UOk6CRq2ar74FE+rre+smHcCw4lGfRy0sTNV7MeeU7aXbHlAWR9jpDnk1\n",
       "KQYNpr/tUm1V5vJDMqqgoE52koxz8BDymjaPARstFXD3Q9wG8GeGUpX+NekD067TaIC/5GDWugqs\n",
       "BPDMIfI/5511Wu8oE7yBJTxpZf7dODizv9Q9/HRbbRXkoSwkn62INy8HXnCIgXE3gtq3Lt6NUlTG\n",
       "bvfzWtiA1r320bTI/PaiIApkZhv0MDee9ti+rVFc9s5eD6SX4s4FTsC7h4FmpkuwUjxtkT6Q64Z/\n",
       "gCt+LMwYfcIEIM2UchDI4YCvyU/n85daqO3VvO6oyOf7iEhBIIg49NTypdxOyQW7l/5t5hBVwrq0\n",
       "XoqTdY+idxhdjjP8NDYaWSLOTLlVF3J1s9kNdeAi1WDhgAAAAH1BnqJFFSwj/wHQiIfWuRHdWEO0\n",
       "Cc10otRHHVrWwzbsGK0OcG6ghwGmGBcIo1Vq3xxq83vX69ALfrjiIQ1VOkvWySOJisMAISaIPgeI\n",
       "nGXC+MBZxqGj76a23qPutAj3JdqVzcv7nqIVDF8Pgdu/w1AwgAAELwajwBg9pHiT4QAAAHoBnsF0\n",
       "R/8BdAD88fIFdyMEnqY6LC7knQTuG7h0hgsrr/KDM8v1RVSJXpaoeb6IAA/lEzPd7IaG3wHeRSfr\n",
       "jGOVSlq4UlxcbnEslR/LfZFX0BtnlHJekJl5CElt/cfuyj5DssI46d5JEUbRjbMJmOxz30rzLqx9\n",
       "jaWQQAAAAIQBnsNqR/8C55p3/DD05tjadxZVNFWwFbwgas1Gnghx3T3zHIA6sDdRpO1gsABaz/mm\n",
       "ywP3WqOPrxJTgc0DvhftUC/4VjyBLngr/HK3EYS85uLgk6CP6ZYHdSU5qJJwlDkAVyFzW+7I843P\n",
       "QWczG7nNXr3uzEJ+tmjtPjYIiR6yYQHghl8AAAEPQZrGSahBbJlMFEwv//6MsANQtLS2/x6lR1ub\n",
       "wWABMxRBAqMbQBzOns3Lf0diVNKM3sH9Tcn9UngFLhN3pFJUGgNLP365XMYsEzlw6HGVkJHfHQ0Z\n",
       "gddx0O6lLIR94YGQViCL6QBwTJwcOXHGOaf5kF75i87l+Oi75Jqma+T4wapLvQZsQJDrChirDcbO\n",
       "XFWWE5rjk7GCe9N2uC1RLZnP/4Cq4o0WAhQXBYn3Dwm1bMVTD6L9WHo35cDJWdIOlxXfAK1UvJmf\n",
       "X3+2ClMtw8RUiM21hUUB2CO9pRr3pR/Hl/8drk0ca9vPuDuYmnWkmUcgnqNPUz3FINsTlNEklkgR\n",
       "66u0kdCPntAgtEiYimPrYQAAAHsBnuVqR/8C6ED6qWuyW2O8aJFssFP+qiMg8BAU/GLBS63NJZ8F\n",
       "guw/UIUQYriWH7pDzhkvHgUYkAAhnty4BIKN780BZ0+76PI1cqftPJzsEMDS8SM9hnxDjxQ3BC2K\n",
       "WJ+Uwyyv2HxVv+xqpjR6BbejfMFabT9uDgoX4UEAAAEQQZroSeEKUmUwUsL//oywAvBS0byKW95Y\n",
       "Q2cEAJmT+Wws/NiBoclwzJxBAH2y98BL1Xu/a8+D7cM6QP4cHOKsBA0wtKMU1zzeB6s+ocHOCf6O\n",
       "kxYxWQBXs13aeQmuKWrieU1fpoQW3ptdf0zCjcd0yeXeCkeX5mxcyYCd1wjF7MqajQc/hRa1DFZF\n",
       "ZYNf5wzKEzqxM8OsODlmLPQ8CWZ2NYHEW4Fcfy6aiDOMEiEhj60/NmousF7NzfP/XWjNUQQ5kRMZ\n",
       "XcOxbHADLOr331k+Ij7YMQRPfFSJ0Vk+anCplGUTYXIdWtBnrKwlDTJp2veIYspBF/igxzegDuGB\n",
       "1CnyWUOI1rsnFPyDoEo0dgUJ3IEAAACEAZ8Hakf/AX3L3XkDKGZgQuwXT5rrjFsX4G15HCVlnLnP\n",
       "/P5JI79r2rkxqICzwUlTZo+MgAaopBtkDcal9kzrchyrzvwD+0an3hWSAuaJlU1YXLMESCESwqwB\n",
       "NY43X+rEhFt4q9fEGsvE4eN9K4BKzrZGPhe/d89h5y2eO8lbuAy5j4UoAAABNEGbDEnhDomUwIX/\n",
       "/oywAwJ1FAdTRUksACdj09nSfuCqeuFkU34bJJ5a7vbJl1FpHCKMMPVCx876G8bRGxOgSxmxcIvQ\n",
       "+PRF+jtfhlbIABvkuLxfpMOBqBuwNytqiHGurVEZp9DCTFbgEHZNk/Sv4oCsGjAkpc68W6lzI7BL\n",
       "WPdM0AnVk19bW2X655/EPI1EQUNZFGlO9XUeQYtYVbZb29EyWssqvsJBdcezV2JO2cNmkGURjQVH\n",
       "cftXlQx//v5K72afT3Ctqf2btykyPWla0lOg20k2HZWaaMSM1EzWN10Odooo78LSbpQXxwaRiN/w\n",
       "V7gXfo1+GX/MVQgP4sbPBpIA2SNDaaOUc+mRnBmZMqgg/ZaiAPbpWqJBZQ2+Mui5fr6UaBnuX1Vm\n",
       "evL8wWpiV2SGnhDcAAAAbkGfKkUVPCP/AdACisajmBL8+Yb+TKxHzbyiufi4tZ0sNs5y629bDyd7\n",
       "otXx3m8+r4vwczwZT/XzjaqykG8lLOytWImIhFRvFBA0TI+r/bVOmwFp07M68Getzr7HQEee9sUM\n",
       "otZkGfdSbAo9SI6BAAAAgAGfSXRH/wLmLuSQAO83WEE9S+rymaMbZHVSCl1cX/9gkUzuCjIjcO3/\n",
       "u8q4AH83W+3QdcK6pwzyc4cgp/HT/e02YctGT46blb7oQORJmUwO4reND1qv9jV3LiM0YqtcXfyt\n",
       "MqAoro9YQRrVn75KWwxsQLVMkcuc1F+B0ZhUs0WUAAAAfgGfS2pH/wF9zvQqDf+0kE+RUaOyiyNQ\n",
       "BHdxw/ms5/uKB1SRmADsAcvMry3/MsRHEXABOd4eqW1GDLLo2pMLhWraIGtSl9QcYTRvBcgNkxHm\n",
       "4Shxs7sgmzv1iIRU36IRrbf787Y8cAxF5n+PczpfzPJAT1Qw5Zn4f2F98/J+QAAAARJBm1BJqEFo\n",
       "mUwIT//98QAcMkG1i4Di7j9RORLKYKi4qNO4UvdNX7kSIre6WPHTx2ToEmM5DWvlT9nJ2gzssXZs\n",
       "LFkikoHc2SY5gjMACwWUIzOA65/Mhjlvfo18bRksL8H3fgUBo7sOtvIMAK1HLL2T5HL7Ic1Y2wIq\n",
       "RXY7IwZLuHVc/mhuvhNkPBDhEdu/r3ghbYWpo0DDB1ecQbvpESG4Q/OsQOTiXxgFQf0EtbWPyFNh\n",
       "1gGXmXdBBcf5oIF13GsCrqRqT1VyZtieVsf7OWTN67qh3njCf+mLhlO2OIn7xO9vOBk2DoZW/dA/\n",
       "/wuhFOrKqZDyRs0lE9dRYmdzcZDhx9LJrS7mT/UWErr95dqmLJeBAAAAekGfbkURLCP/AO038Zvz\n",
       "7fF4ZHvnuRrH3MDSxNQPx0QoORlmcAYElFyYiWqWMv4qv1kxsXag5fJM0b9R545CilP4WMWMzBco\n",
       "anpuZpXoYD5WT4NK76DUPtVhJTiTbsLbJ1Fd1y6hwGyRKruY4gjNRj2HRiZdRkSSQHGVAAAAgQGf\n",
       "jXRH/wF9qDw+MEN1Tn/6d4AAGReZqERptCvi9TCPvkN6ent/AWsn2LM+KoZffE2i4AIZ7NfJAjvw\n",
       "3plnHl6dGZ38xIkNR9obKDvABvkNvoIuhW2p3W9qkKyOPPcqixbS0Vkrn8CdqNg113befGbFeVCd\n",
       "YXoT7QDITSx8qEQLYQAAAIoBn49qR/8BfoBbbY+pgIjAAEvcZdp+8VCZXHkQBgijSqiRQuuhflj9\n",
       "6bhCoFK9XJ1l7Bl7k3Z5TpahrUWrYCb765BH+hciDKopOk7rk+ZYjpMqud7ZzFdN/PDlspsuY205\n",
       "YylZ7mOue4hLl07Feq3tw7NY2Sep6Z7HjryiKrkY4V1SGrUIGoBbRcAAAAClQZuSSahBbJlMFEx/\n",
       "/IQAsCIPefplHjBGMuNbYPd63chXYPZmVnV6eNueJLrA9jAC6W36fCYHz/CV3y7INlL/+xc429Cx\n",
       "SoAJ2eLPDn/6c5hKBoCAEbxrM3CT1zDUYA/Rkp8VlX1vxjDRZRYXb+3HZpYykLw4IsXL4NnIevSB\n",
       "GYMZXsJe3uRDqh3oMhQQINGqPBoDeOC+rrDMLWnQ/JihnXE18zYgAAAAiQGfsWpH/wL5mnf8Kux1\n",
       "VV/94UkAJZE2XYqnofGw3thUjEq7LZxZe1S1GuTCmehLlGTQqOdG0sXfpAG7flwwZLE/auaUHsiL\n",
       "yEIPcD/a8kFbidJ2uEsHsmtQPtWfJe2CxFsSgClpyvPQfdtptNBjr2OljYv4Tf4Q/312o9unJtZb\n",
       "JhseOURr4aBhAAAFam1vb3YAAABsbXZoZAAAAAAAAAAAAAAAAAAAA+gAAAP8AAEAAAEAAAAAAAAA\n",
       "AAAAAAABAAAAAAAAAAAAAAAAAAAAAQAAAAAAAAAAAAAAAAAAQAAAAAAAAAAAAAAAAAAAAAAAAAAA\n",
       "AAAAAAAAAAAAAAIAAASUdHJhawAAAFx0a2hkAAAAAwAAAAAAAAAAAAAAAQAAAAAAAAP8AAAAAAAA\n",
       "AAAAAAAAAAAAAAABAAAAAAAAAAAAAAAAAAAAAQAAAAAAAAAAAAAAAAAAQAAAAAGwAAABIAAAAAAA\n",
       "JGVkdHMAAAAcZWxzdAAAAAAAAAABAAAD/AAAAgAAAQAAAAAEDG1kaWEAAAAgbWRoZAAAAAAAAAAA\n",
       "AAAAAAAAMgAAADMAVcQAAAAAAC1oZGxyAAAAAAAAAAB2aWRlAAAAAAAAAAAAAAAAVmlkZW9IYW5k\n",
       "bGVyAAAAA7dtaW5mAAAAFHZtaGQAAAABAAAAAAAAAAAAAAAkZGluZgAAABxkcmVmAAAAAAAAAAEA\n",
       "AAAMdXJsIAAAAAEAAAN3c3RibAAAALNzdHNkAAAAAAAAAAEAAACjYXZjMQAAAAAAAAABAAAAAAAA\n",
       "AAAAAAAAAAAAAAGwASAASAAAAEgAAAAAAAAAAQAAAAAAAAAAAAAAAAAAAAAAAAAAAAAAAAAAAAAA\n",
       "AAAAABj//wAAADFhdmNDAWQAHv/hABhnZAAerNlBsJaEAAADAAQAAAMBkDxYtlgBAAZo6+PLIsAA\n",
       "AAAcdXVpZGtoQPJfJE/FujmlG88DI/MAAAAAAAAAGHN0dHMAAAAAAAAAAQAAADMAAAEAAAAAFHN0\n",
       "c3MAAAAAAAAAAQAAAAEAAAGAY3R0cwAAAAAAAAAuAAAAAgAAAgAAAAABAAAEAAAAAAIAAAEAAAAA\n",
       "AgAAAgAAAAABAAADAAAAAAEAAAEAAAAAAQAAAwAAAAABAAABAAAAAAEAAAMAAAAAAQAAAQAAAAAB\n",
       "AAADAAAAAAEAAAEAAAAAAQAABQAAAAABAAACAAAAAAEAAAAAAAAAAQAAAQAAAAABAAAEAAAAAAIA\n",
       "AAEAAAAAAQAABQAAAAABAAACAAAAAAEAAAAAAAAAAQAAAQAAAAABAAAFAAAAAAEAAAIAAAAAAQAA\n",
       "AAAAAAABAAABAAAAAAEAAAQAAAAAAgAAAQAAAAABAAAFAAAAAAEAAAIAAAAAAQAAAAAAAAABAAAB\n",
       "AAAAAAEAAAMAAAAAAQAAAQAAAAABAAADAAAAAAEAAAEAAAAAAQAABQAAAAABAAACAAAAAAEAAAAA\n",
       "AAAAAQAAAQAAAAABAAAFAAAAAAEAAAIAAAAAAQAAAAAAAAABAAABAAAAAAEAAAMAAAAAAQAAAQAA\n",
       "AAAcc3RzYwAAAAAAAAABAAAAAQAAADMAAAABAAAA4HN0c3oAAAAAAAAAAAAAADMAABFNAAABFAAA\n",
       "AVsAAAByAAAAWgAAARIAAADaAAABCAAAAGMAAAETAAAAYwAAAOgAAABlAAABBgAAAGwAAAFpAAAA\n",
       "fwAAAHoAAAB0AAABLQAAAIoAAABwAAABRQAAAIsAAACFAAAAiAAAAW4AAACBAAAAggAAAHwAAAEv\n",
       "AAAAcwAAAFkAAAFuAAAAgQAAAH4AAACIAAABEwAAAH8AAAEUAAAAiAAAATgAAAByAAAAhAAAAIIA\n",
       "AAEWAAAAfgAAAIUAAACOAAAAqQAAAI0AAAAUc3RjbwAAAAAAAAABAAAALAAAAGJ1ZHRhAAAAWm1l\n",
       "dGEAAAAAAAAAIWhkbHIAAAAAAAAAAG1kaXJhcHBsAAAAAAAAAAAAAAAALWlsc3QAAAAlqXRvbwAA\n",
       "AB1kYXRhAAAAAQAAAABMYXZmNTcuNTcuMTAw\n",
       "\">\n",
       "  Your browser does not support the video tag.\n",
       "</video>"
      ],
      "text/plain": [
       "<IPython.core.display.HTML object>"
      ]
     },
     "execution_count": 47,
     "metadata": {},
     "output_type": "execute_result"
    }
   ],
   "source": [
    "anim = animation.FuncAnimation(fig, animate, frames=Uc[0:,2,0:], interval=20)\n",
    "HTML(anim.to_html5_video())"
   ]
  },
  {
   "cell_type": "markdown",
   "metadata": {},
   "source": [
    "We observe a behaviour similar to the analytic solution for density, velocity, pressure. However, there are 2 types of \"Gibb's phenomenon\" seen at shocks. If the function itself is discontinuous, we see an oscillating wave propagating near the discontinuity point. If the derivative of the function is discontinuous, there's an oriented bump at that point. We notice that the bumps are much more localised than the oscillating waves.\n"
   ]
  },
  {
   "cell_type": "code",
   "execution_count": null,
   "metadata": {
    "collapsed": true
   },
   "outputs": [],
   "source": []
  },
  {
   "cell_type": "markdown",
   "metadata": {},
   "source": [
    "Here we find the values asked in the assignement"
   ]
  },
  {
   "cell_type": "code",
   "execution_count": 63,
   "metadata": {
    "collapsed": false
   },
   "outputs": [
    {
     "data": {
      "text/plain": [
       "292.61147152682679"
      ]
     },
     "execution_count": 63,
     "metadata": {},
     "output_type": "execute_result"
    }
   ],
   "source": [
    "Uc[50,1,50]"
   ]
  },
  {
   "cell_type": "code",
   "execution_count": 64,
   "metadata": {
    "collapsed": false
   },
   "outputs": [
    {
     "data": {
      "text/plain": [
       "30250.890167572015"
      ]
     },
     "execution_count": 64,
     "metadata": {},
     "output_type": "execute_result"
    }
   ],
   "source": [
    "Uc[50,2,50]"
   ]
  },
  {
   "cell_type": "code",
   "execution_count": 65,
   "metadata": {
    "collapsed": false
   },
   "outputs": [
    {
     "data": {
      "text/plain": [
       "0.37469140264760109"
      ]
     },
     "execution_count": 65,
     "metadata": {},
     "output_type": "execute_result"
    }
   ],
   "source": [
    "Uc[50,0,50]"
   ]
  },
  {
   "cell_type": "markdown",
   "metadata": {},
   "source": [
    "Let's try different initial conditions"
   ]
  },
  {
   "cell_type": "code",
   "execution_count": 38,
   "metadata": {
    "collapsed": true
   },
   "outputs": [],
   "source": [
    "def rim(rhoL,uL,pL,rhoR,uR,pR):\n",
    "    eT = numpy.zeros(nx)\n",
    "    rho = inicond(nx, rhoL,uL,pL,rhoR,uR,pR)[0]\n",
    "    u = inicond(nx, rhoL,uL,pL,rhoR,uR,pR)[1] \n",
    "    p = inicond(nx, rhoL,uL,pL,rhoR,uR,pR)[2]\n",
    "\n",
    "    eT[0:] = p[0:]/(gamma-1) /rho[0:] + 0.5*u[0]**2\n",
    "    \n",
    "    u1 = rho\n",
    "    u2 = rho * u\n",
    "    u3 = rho * eT\n",
    "    U = numpy.array([u1,u2,u3])\n",
    "    U_n = Rime(U)\n",
    "    \n",
    "    Uc = numpy.empty_like(U_n)\n",
    "    Uc[0:,0,0:] = U_n[0:,0,0:]\n",
    "    Uc[0:,1,0:] = U_n[0:,1,0:]/U_n[0:,0,0:]\n",
    "    Uc[0:,2,0:] = (gamma-1) * (U_n[0:,2,0:]- U_n[0:,0,0:]* U_n[0:,1,0:]**2/2)\n",
    "    \n",
    "    return Uc"
   ]
  },
  {
   "cell_type": "code",
   "execution_count": 69,
   "metadata": {
    "collapsed": true
   },
   "outputs": [],
   "source": [
    "    #Code parameters#\n",
    "nx = 81\n",
    "dx = 20/(nx-1)\n",
    "si = .5\n",
    "u = 600\n",
    "dt = si*dx/u\n",
    "nt = 300\n",
    "gamma = 1.4\n",
    "\n",
    "\n",
    "    #Initial conditions#\n",
    "rhoL = 1\n",
    "uL = 0\n",
    "pL = 10\n",
    "rhoR = 1\n",
    "uR = 0\n",
    "pR = 100\n"
   ]
  }
 ],
 "metadata": {
  "anaconda-cloud": {},
  "kernelspec": {
   "display_name": "Python [Root]",
   "language": "python",
   "name": "Python [Root]"
  },
  "language_info": {
   "codemirror_mode": {
    "name": "ipython",
    "version": 3
   },
   "file_extension": ".py",
   "mimetype": "text/x-python",
   "name": "python",
   "nbconvert_exporter": "python",
   "pygments_lexer": "ipython3",
   "version": "3.5.2"
  }
 },
 "nbformat": 4,
 "nbformat_minor": 0
}
