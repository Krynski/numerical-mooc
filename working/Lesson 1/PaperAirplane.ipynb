{
 "cells": [
  {
   "cell_type": "code",
   "execution_count": 10,
   "metadata": {
    "collapsed": false
   },
   "outputs": [],
   "source": [
    "#lesson 1_3\n",
    "#import libraries\n",
    "from math import sin, cos, log, ceil, radians\n",
    "import numpy\n",
    "from matplotlib import pyplot\n",
    "%matplotlib inline\n",
    "from matplotlib import rcParams\n",
    "rcParams['font.family'] = 'serif'\n",
    "rcParams['font.size'] = 16\n",
    "\n",
    "def f(u):\n",
    "    \n",
    "    v = u[0]\n",
    "    theta = u[1]\n",
    "    x = u[2]\n",
    "    y = u[3]\n",
    "    return numpy.array([-g*sin(radians(theta)) - C_D/C_L*g/v_t**2*v**2,\n",
    "                      -g*cos(radians(theta))/v + g/v_t**2*v,\n",
    "                      v*cos(radians(theta)),\n",
    "                      v*sin(radians(theta))])\n",
    "\n",
    "def Euler_step(u, f, dt):\n",
    "    return u+dt*f(u)\n",
    "\n",
    "def get_error(z, dt, f):\n",
    "    #approximate solution\n",
    "    #timestep\n",
    "    #analytical solution\n",
    "    N = len(z)\n",
    "    t = numpy.linspace(0.0, T, N)\n",
    "    \n",
    "    z_exact = f(t)\n",
    "    \n",
    "    return dt * numpy.sum(numpy.abs(z-z_exact))"
   ]
  },
  {
   "cell_type": "code",
   "execution_count": 11,
   "metadata": {
    "collapsed": false
   },
   "outputs": [],
   "source": [
    "# model parameters:\n",
    "g = 9.8      # gravity in m s^{-2}\n",
    "v_t = 4.9   # trim velocity in m s^{-1}   \n",
    "C_D = 1/5  # drag coefficient --- or D/L if C_L=1\n",
    "C_L = 1   # for convenience, use C_L = 1\n",
    "\n",
    "### set initial conditions ###\n",
    "x0 = 0     # horizotal position is arbitrary\n",
    "y0 = 2  # initial altitude\n",
    "v_step = 0.1 #v_t step\n",
    "I = int(2*v_t/v_step)\n",
    "theta_step = 1#step of theta change in degree\n",
    "J =int(180/theta_step)\n",
    "\n",
    "result=numpy.empty((I,J))\n",
    "                \n",
    "for i in range(0, I):\n",
    "    for j in range(0,J):\n",
    "\n",
    "        v0 = (i+1)*v_step     # start at the trim velocity (or add a delta)\n",
    "        theta0 = j*theta_step-90 # initial angle of trajectory in degree\n",
    "\n",
    "        dt = 0.1                           # time increment\n",
    "        n=0 #number of step\n",
    "\n",
    "        # initialize the array containing the solution for each time-step\n",
    "        u = numpy.array([v0, theta0, x0, y0])# fill 1st element with initial values\n",
    "\n",
    "        # time loop - Euler method\n",
    "        while (u[3]>0):\n",
    "            n=n+1\n",
    "            u = Euler_step(u, f, dt)\n",
    "        result[i,j]=n*dt"
   ]
  },
  {
   "cell_type": "code",
   "execution_count": 12,
   "metadata": {
    "collapsed": false
   },
   "outputs": [
    {
     "name": "stdout",
     "output_type": "stream",
     "text": [
      "98 180\n"
     ]
    }
   ],
   "source": [
    "print(I, J)"
   ]
  },
  {
   "cell_type": "code",
   "execution_count": 9,
   "metadata": {
    "collapsed": false
   },
   "outputs": [
    {
     "ename": "IndexError",
     "evalue": "index 1953719650 is out of bounds for axis 1 with size 180",
     "output_type": "error",
     "traceback": [
      "\u001b[1;31m---------------------------------------------------------------------------\u001b[0m",
      "\u001b[1;31mIndexError\u001b[0m                                Traceback (most recent call last)",
      "\u001b[1;32m<ipython-input-9-01959bea222e>\u001b[0m in \u001b[0;36m<module>\u001b[1;34m()\u001b[0m\n\u001b[0;32m     11\u001b[0m \u001b[0mtemp_best\u001b[0m\u001b[1;33m=\u001b[0m\u001b[0mbest_j\u001b[0m\u001b[1;33m[\u001b[0m\u001b[0mbest_i\u001b[0m\u001b[1;33m]\u001b[0m\u001b[1;33m\u001b[0m\u001b[0m\n\u001b[0;32m     12\u001b[0m \u001b[1;32mfor\u001b[0m \u001b[0mi\u001b[0m \u001b[1;32min\u001b[0m \u001b[0mrange\u001b[0m\u001b[1;33m(\u001b[0m\u001b[1;36m0\u001b[0m\u001b[1;33m,\u001b[0m\u001b[0mI\u001b[0m\u001b[1;33m)\u001b[0m\u001b[1;33m:\u001b[0m\u001b[1;33m\u001b[0m\u001b[0m\n\u001b[1;32m---> 13\u001b[1;33m     \u001b[1;32mif\u001b[0m \u001b[0mtemp_best\u001b[0m\u001b[1;33m>\u001b[0m\u001b[0mresult\u001b[0m\u001b[1;33m[\u001b[0m\u001b[0mi\u001b[0m\u001b[1;33m,\u001b[0m \u001b[0mbest_j\u001b[0m\u001b[1;33m[\u001b[0m\u001b[0mi\u001b[0m\u001b[1;33m]\u001b[0m\u001b[1;33m]\u001b[0m\u001b[1;33m:\u001b[0m\u001b[1;33m\u001b[0m\u001b[0m\n\u001b[0m\u001b[0;32m     14\u001b[0m         \u001b[0mtemp_best\u001b[0m\u001b[1;33m=\u001b[0m\u001b[0mresult\u001b[0m\u001b[1;33m[\u001b[0m\u001b[0mi\u001b[0m\u001b[1;33m,\u001b[0m \u001b[0mbest_j\u001b[0m\u001b[1;33m[\u001b[0m\u001b[0mi\u001b[0m\u001b[1;33m]\u001b[0m\u001b[1;33m]\u001b[0m\u001b[1;33m\u001b[0m\u001b[0m\n\u001b[0;32m     15\u001b[0m         \u001b[0mbest_i\u001b[0m \u001b[1;33m=\u001b[0m \u001b[0mi\u001b[0m\u001b[1;33m\u001b[0m\u001b[0m\n",
      "\u001b[1;31mIndexError\u001b[0m: index 1953719650 is out of bounds for axis 1 with size 180"
     ]
    }
   ],
   "source": [
    "best_j=numpy.empty(I, dtype=int)\n",
    "k=0\n",
    "temp_best=result[0,0]\n",
    "for i in range(0, I):\n",
    "    temp_best = result[i, 0]\n",
    "    for j in range(0, J):\n",
    "        if temp_best>result[i,j]:\n",
    "            best_j[i]=j\n",
    "            temp_best=result[i,j]\n",
    "best_i=0\n",
    "temp_best=best_j[best_i]\n",
    "for i in range(0,I):\n",
    "    if temp_best>result[i, best_j[i]]:\n",
    "        temp_best=result[i, best_j[i]]\n",
    "        best_i = i\n",
    "        \n",
    "print(best_i, best_j, result[i,j])\n"
   ]
  },
  {
   "cell_type": "code",
   "execution_count": 18,
   "metadata": {
    "collapsed": true
   },
   "outputs": [],
   "source": []
  }
 ],
 "metadata": {
  "kernelspec": {
   "display_name": "Python [Root]",
   "language": "python",
   "name": "Python [Root]"
  },
  "language_info": {
   "codemirror_mode": {
    "name": "ipython",
    "version": 3
   },
   "file_extension": ".py",
   "mimetype": "text/x-python",
   "name": "python",
   "nbconvert_exporter": "python",
   "pygments_lexer": "ipython3",
   "version": "3.5.2"
  }
 },
 "nbformat": 4,
 "nbformat_minor": 0
}
