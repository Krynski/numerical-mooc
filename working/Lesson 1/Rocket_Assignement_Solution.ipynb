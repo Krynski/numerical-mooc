{
 "cells": [
  {
   "cell_type": "code",
   "execution_count": 3,
   "metadata": {
    "collapsed": true
   },
   "outputs": [],
   "source": [
    "from math import sin, cos, log, ceil\n",
    "import numpy\n",
    "from matplotlib import pyplot\n",
    "%matplotlib inline\n",
    "from matplotlib import rcParams\n",
    "rcParams['font.family'] = 'serif'\n",
    "rcParams['font.size'] = 16"
   ]
  },
  {
   "cell_type": "code",
   "execution_count": 4,
   "metadata": {
    "collapsed": false
   },
   "outputs": [],
   "source": [
    "    #Problem parameters#\n",
    "\n",
    "ms = 50                 #mass of the rocket shell#\n",
    "g = 9.81                #Srlsy?#\n",
    "rho = 1.091             #air density#\n",
    "A = 3.14159265358979323846264338 * 0.5**2    #max cross sectional area of the rocket#\n",
    "ve = 325                #Exhaust velocity#\n",
    "cd = 0.15               #Drag coefficient#\n",
    "pbr = 20                #Propelant burn rate when t<5s#\n",
    "    #Every coefficient expressed in S.I. units#\n",
    "    \n",
    "    #Initial conditions#\n",
    "h0 = 0\n",
    "v0 = 0\n",
    "mp0 = 100"
   ]
  },
  {
   "cell_type": "code",
   "execution_count": 5,
   "metadata": {
    "collapsed": true
   },
   "outputs": [],
   "source": [
    "            #Movement equations-One function to express them all#\n",
    "    \n",
    "    #Variables : array containing height (h), velocity (v) [h,v]           #\n",
    "    #Return : Using the equation of motion, returns the d/dt of h and v in #\n",
    "    #         the form of an array [dh/dt, dv/dt]                          #"
   ]
  },
  {
   "cell_type": "code",
   "execution_count": 6,
   "metadata": {
    "collapsed": false
   },
   "outputs": [],
   "source": [
    "def f(u):\n",
    "        \n",
    "    h = u[0]\n",
    "    v = u[1]\n",
    "    mp = u[2]\n",
    "    \n",
    "    output = numpy.array([v,\n",
    "              -g + (pbr * ve/ (ms+mp)) - 0.5 *rho*v*numpy.abs(v) *A*cd/ (ms+mp),\n",
    "              -pbr])\n",
    "    return output"
   ]
  },
  {
   "cell_type": "code",
   "execution_count": 7,
   "metadata": {
    "collapsed": false
   },
   "outputs": [],
   "source": [
    "def euler_step (u,f,dt):\n",
    "    return u + dt * f(u)"
   ]
  },
  {
   "cell_type": "code",
   "execution_count": 41,
   "metadata": {
    "collapsed": false
   },
   "outputs": [],
   "source": [
    "                    #Euler's method#\n",
    "\n",
    "dt = 0.1\n",
    "time=0\n",
    "t = numpy.array([])    #Time table\n",
    "u = numpy.empty((1,3)) #Solutions table, initially contains only one 3-vector\n",
    "u[0]=[h0,v0,mp0]       #Putin initial conditions\n",
    "while u[-1][0] >= 0 :  #while height is g.o.e than 0, run euler\n",
    "    if u[-1][2] >0 :   #if there's still fuel in the rocket, then BUUUURN IT\n",
    "        pbr= 20\n",
    "    else:\n",
    "        pbr= 0\n",
    "    eustep= euler_step(u[-1], f, dt)  #euler FTW\n",
    "    u=numpy.append(u,[eustep],0)      #Putin the step in the table\n",
    "    time=time+dt\n",
    "    t=numpy.append(t,[time])          #Putin the time in the timetable"
   ]
  },
  {
   "cell_type": "code",
   "execution_count": null,
   "metadata": {
    "collapsed": true
   },
   "outputs": [],
   "source": []
  },
  {
   "cell_type": "code",
   "execution_count": 42,
   "metadata": {
    "collapsed": false
   },
   "outputs": [],
   "source": [
    "#Getting the values of Height and Velocity in separate tables. They will be used for the graphics#\n",
    "H=numpy.zeros(len(u)-1)\n",
    "V=numpy.zeros(len(u)-1)\n",
    "for i in range (0,len(u)-1):\n",
    "    H[i] = u[i][0]\n",
    "    V[i] = u[i][1]"
   ]
  },
  {
   "cell_type": "code",
   "execution_count": 43,
   "metadata": {
    "collapsed": false
   },
   "outputs": [
    {
     "data": {
      "image/png": "[encoded data removed]",
      "text/plain": [
       "<matplotlib.figure.Figure at 0x18d77ad8320>"
      ]
     },
     "metadata": {},
     "output_type": "display_data"
    }
   ],
   "source": [
    "pyplot.figure(figsize=(10,4))   #set plot size\n",
    "\n",
    "pyplot.tick_params(axis='both', labelsize=14) #increase font size for ticks\n",
    "pyplot.xlabel('t', fontsize=14) #x label\n",
    "pyplot.ylabel('h', fontsize=14) #y label\n",
    "pyplot.plot(t,H, 'k-');"
   ]
  },
  {
   "cell_type": "code",
   "execution_count": 44,
   "metadata": {
    "collapsed": false
   },
   "outputs": [
    {
     "data": {
      "image/png": "[encoded data removed]",
      "text/plain": [
       "<matplotlib.figure.Figure at 0x18d76a44470>"
      ]
     },
     "metadata": {},
     "output_type": "display_data"
    }
   ],
   "source": [
    "pyplot.figure(figsize=(10,4))   #set plot size\n",
    "pyplot.tick_params(axis='both', labelsize=14) #increase font size for ticks\n",
    "pyplot.xlabel('t', fontsize=14) #x label\n",
    "pyplot.ylabel('V', fontsize=14) #y label\n",
    "pyplot.plot(t,V, 'k-');"
   ]
  },
  {
   "cell_type": "code",
   "execution_count": 45,
   "metadata": {
    "collapsed": true
   },
   "outputs": [],
   "source": [
    "def RK2_step(u,f,dt):\n",
    "    U = u + 0.5*dt*f(u)\n",
    "    u = u + dt*f(U)\n",
    "    return u"
   ]
  },
  {
   "cell_type": "code",
   "execution_count": 26,
   "metadata": {
    "collapsed": false
   },
   "outputs": [],
   "source": [
    "                    #Runge-Kutta method#\n",
    "\n",
    "dt = 0.1\n",
    "time=0\n",
    "t = numpy.array([])    #Time table\n",
    "u = numpy.empty((1,3)) #Solutions table, initially contains only one 3-vector\n",
    "u[0]=[h0,v0,mp0]       #Putin initial conditions\n",
    "while u[-1][0] >= 0 :  #while height is g.o.e than 0, run euler\n",
    "    if u[-1][2] >0 :   #if there's still fuel in the rocket, then BUUUURN IT\n",
    "        pbr= 20\n",
    "    else:\n",
    "        pbr= 0\n",
    "    eustep= RK2_step(u[-1], f, dt)  #euler FTW\n",
    "    u=numpy.append(u,[eustep],0)      #Putin the step in the table\n",
    "    time=time+dt\n",
    "    t=numpy.append(t,[time])          #Putin the time in the timetable"
   ]
  },
  {
   "cell_type": "code",
   "execution_count": null,
   "metadata": {
    "collapsed": true
   },
   "outputs": [],
   "source": []
  }
 ],
 "metadata": {
  "kernelspec": {
   "display_name": "Python [Root]",
   "language": "python",
   "name": "Python [Root]"
  },
  "language_info": {
   "codemirror_mode": {
    "name": "ipython",
    "version": 3
   },
   "file_extension": ".py",
   "mimetype": "text/x-python",
   "name": "python",
   "nbconvert_exporter": "python",
   "pygments_lexer": "ipython3",
   "version": "3.5.2"
  }
 },
 "nbformat": 4,
 "nbformat_minor": 0
}
