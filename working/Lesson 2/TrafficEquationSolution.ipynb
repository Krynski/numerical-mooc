{
 "cells": [
  {
   "cell_type": "code",
   "execution_count": 29,
   "metadata": {
    "collapsed": true
   },
   "outputs": [],
   "source": [
    "#import libraries\n",
    "import numpy\n",
    "import sympy\n",
    "from matplotlib import pyplot\n",
    "%matplotlib inline\n",
    "from matplotlib import rcParams\n",
    "rcParams['font.family'] = 'serif'\n",
    "rcParams['font.size'] = 16"
   ]
  },
  {
   "cell_type": "code",
   "execution_count": 30,
   "metadata": {
    "collapsed": false
   },
   "outputs": [
    {
     "data": {
      "image/png": "[encoded data removed]",
      "text/latex": [
       "$$-0.00026648912670920613$$"
      ],
      "text/plain": [
       "-0.00026648912670920613"
      ]
     },
     "execution_count": 30,
     "metadata": {},
     "output_type": "execute_result"
    }
   ],
   "source": [
    "#sympy solution\n",
    "from sympy.utilities.lambdify import lambdify\n",
    "\n",
    "init_printing()\n",
    "\n",
    "x=sympy.symbols('x')\n",
    "y=sympy.cos(x)**2*sympy.sin(x)**3/(4*x**5*sympy.exp(x))\n",
    "\n",
    "yprime=sympy.diff(y)\n",
    "yprime\n",
    "\n",
    "yprime_lamb = lambdify((x), yprime)\n",
    "yprime_lamb(2.2)"
   ]
  },
  {
   "cell_type": "code",
   "execution_count": 31,
   "metadata": {
    "collapsed": false
   },
   "outputs": [
    {
     "data": {
      "image/png": "[encoded data removed]",
      "text/plain": [
       "<matplotlib.figure.Figure at 0x2c4dd0fcf98>"
      ]
     },
     "metadata": {},
     "output_type": "display_data"
    }
   ],
   "source": [
    "#Traffic equation solution\n",
    "\n",
    "#Every units are km and hours\n",
    "Vmax = 136\n",
    "L = 11\n",
    "pmax = 250\n",
    "nx = 51\n",
    "dt = 0.001\n",
    "T=0.05\n",
    "nt=int(T/dt)\n",
    "dx=L/nx\n",
    "\n",
    "\n",
    "#initial conditions\n",
    "\n",
    "x = numpy.linspace(0,L,nx)\n",
    "rho0 = numpy.ones(nx)*20 ##note this change\n",
    "rho0[10:20] = 50\n",
    "\n",
    "\n",
    "u=rho0.copy()\n",
    "\n",
    "#solve numerically the equation\n",
    "for n in range (nt):\n",
    "    un= u.copy()\n",
    "    u[1:]=un[1:]- dt/dx*Vmax*(1- 2*un[1:]/pmax)*(un[1:]-un[0:-1])\n",
    "    u[0] = 20\n",
    "        \n",
    "#show solution because we like graphes\n",
    "pyplot.figure(figsize=(8,5), dpi=100)\n",
    "pyplot.plot(x,u, label='Computational')\n",
    "pyplot.xlim([0,11])\n",
    "pyplot.ylim([0,100])\n",
    "pyplot.legend();\n",
    "\n",
    "\n",
    "\n",
    "#numerical information for homework\n",
    "#finding the biggest rho and where it is\n",
    "roh_mx = u[0]\n",
    "th_mx = 0\n",
    "for i in range (0, len(u)-1):\n",
    "    if roh_mx<u[i]:\n",
    "        roh_mx = u[i]\n",
    "        th_mx = dx*i\n",
    "\n",
    "#V is a min when roh is a max\n",
    "V_min = Vmax*(1-roh_mx/pmax)/3.6\n",
    "V_min\n",
    "\n",
    "#finding average speed\n",
    "tempsum = 0\n",
    "for i in range(0, len(u)-1):\n",
    "    tempsum = tempsum + Vmax*(1-u[i]/pmax)/3.6\n",
    "V_av = tempsum/(len(u)-1)"
   ]
  },
  {
   "cell_type": "code",
   "execution_count": 32,
   "metadata": {
    "collapsed": false
   },
   "outputs": [
    {
     "data": {
      "image/png": "[encoded data removed]",
      "text/latex": [
       "$$33.7524552671$$"
      ],
      "text/plain": [
       "33.7524552671"
      ]
     },
     "execution_count": 32,
     "metadata": {},
     "output_type": "execute_result"
    }
   ],
   "source": [
    "V_av \n"
   ]
  },
  {
   "cell_type": "code",
   "execution_count": null,
   "metadata": {
    "collapsed": true
   },
   "outputs": [],
   "source": []
  }
 ],
 "metadata": {
  "anaconda-cloud": {},
  "kernelspec": {
   "display_name": "Python [Root]",
   "language": "python",
   "name": "Python [Root]"
  },
  "language_info": {
   "codemirror_mode": {
    "name": "ipython",
    "version": 3
   },
   "file_extension": ".py",
   "mimetype": "text/x-python",
   "name": "python",
   "nbconvert_exporter": "python",
   "pygments_lexer": "ipython3",
   "version": "3.5.2"
  }
 },
 "nbformat": 4,
 "nbformat_minor": 0
}
