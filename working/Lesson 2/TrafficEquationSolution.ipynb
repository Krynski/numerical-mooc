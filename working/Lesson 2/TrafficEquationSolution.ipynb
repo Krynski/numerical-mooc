{
 "cells": [
  {
   "cell_type": "code",
   "execution_count": 28,
   "metadata": {
    "collapsed": false
   },
   "outputs": [
    {
     "name": "stdout",
     "output_type": "stream",
     "text": [
      "46.6127470839\n",
      "5.8235294117647065\n"
     ]
    },
    {
     "data": {
      "image/png": "[encoded data removed]",
      "text/plain": [
       "<matplotlib.figure.Figure at 0x1be2e5cd630>"
      ]
     },
     "metadata": {},
     "output_type": "display_data"
    }
   ],
   "source": [
    "#Traffic equation solution\n",
    "\n",
    "#import libraries\n",
    "import numpy\n",
    "from matplotlib import pyplot\n",
    "%matplotlib inline\n",
    "from matplotlib import rcParams\n",
    "rcParams['font.family'] = 'serif'\n",
    "rcParams['font.size'] = 16\n",
    "\n",
    "#Every units are km and hours\n",
    "Vmax = 80\n",
    "L = 11\n",
    "pmax = 250\n",
    "nx = 51\n",
    "dt = 0.001\n",
    "T=0.05\n",
    "nt=int(T/dt)\n",
    "dx=L/nx\n",
    "\n",
    "\n",
    "#initial conditions\n",
    "\n",
    "x = numpy.linspace(0,L,nx)\n",
    "rho0 = numpy.ones(nx)*10\n",
    "rho0[10:20] = 50\n",
    "\n",
    "u=rho0.copy()\n",
    "#return an array with the solution of the traffic equation after \n",
    "# a time T time-step dt. Over lenght L space step dx\n",
    "# Initial condition u.\n",
    "\n",
    "#def TrafficEquation(u, T, dt, L, dx):\n",
    "for n in range (nt):\n",
    "    un= u.copy()\n",
    "    u[1:]=un[1:]- dt/dx*Vmax*(1- 2*un[1:]/pmax)*(un[1:]-un[0:-1])\n",
    "    u[0] = 10\n",
    "        \n",
    "#show solution\n",
    "pyplot.figure(figsize=(8,5), dpi=100)\n",
    "pyplot.plot(x,u, label='Computational')\n",
    "pyplot.xlim([0,11])\n",
    "pyplot.ylim([0,100])\n",
    "pyplot.legend();\n",
    "\n",
    "\n",
    "\n",
    "#solution for homework\n",
    "#finding biggest rho and where it is\n",
    "roh_mx = u[0]\n",
    "th_mx = 0\n",
    "for i in range (0, len(u)-1):\n",
    "    if roh_mx<u[i]:\n",
    "        roh_mx = u[i]\n",
    "        th_mx = dx*i\n",
    "print(roh_mx)\n",
    "print(th_mx)\n",
    "\n",
    "V_min = Vmax*(1-roh_mx/pmax)/3.6\n",
    "V_min\n",
    "\n",
    "#finding average speed\n",
    "tempsum = 0\n",
    "for i in range (0, len(u)-1):\n",
    "    tempsum = tempsum + Vmax*(1-u[i]/pmax)/3.6\n",
    "V_av = tempsum/len(u)"
   ]
  },
  {
   "cell_type": "code",
   "execution_count": 27,
   "metadata": {
    "collapsed": false
   },
   "outputs": [
    {
     "data": {
      "text/plain": [
       "20.272092574856309"
      ]
     },
     "execution_count": 27,
     "metadata": {},
     "output_type": "execute_result"
    }
   ],
   "source": [
    "V_av\n"
   ]
  },
  {
   "cell_type": "code",
   "execution_count": 30,
   "metadata": {
    "collapsed": false
   },
   "outputs": [
    {
     "name": "stdout",
     "output_type": "stream",
     "text": [
      "18.0788669259\n"
     ]
    }
   ],
   "source": [
    "print(V_min)"
   ]
  },
  {
   "cell_type": "code",
   "execution_count": null,
   "metadata": {
    "collapsed": true
   },
   "outputs": [],
   "source": []
  }
 ],
 "metadata": {
  "anaconda-cloud": {},
  "kernelspec": {
   "display_name": "Python [Root]",
   "language": "python",
   "name": "Python [Root]"
  },
  "language_info": {
   "codemirror_mode": {
    "name": "ipython",
    "version": 3
   },
   "file_extension": ".py",
   "mimetype": "text/x-python",
   "name": "python",
   "nbconvert_exporter": "python",
   "pygments_lexer": "ipython3",
   "version": "3.5.2"
  }
 },
 "nbformat": 4,
 "nbformat_minor": 0
}
