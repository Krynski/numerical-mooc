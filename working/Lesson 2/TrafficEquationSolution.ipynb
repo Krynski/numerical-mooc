{
 "cells": [
  {
   "cell_type": "code",
   "execution_count": 1,
   "metadata": {
    "collapsed": true
   },
   "outputs": [],
   "source": [
    "#import libraries\n",
    "import numpy\n",
    "import sympy\n",
    "from matplotlib import pyplot\n",
    "%matplotlib inline\n",
    "from matplotlib import rcParams\n",
    "rcParams['font.family'] = 'serif'\n",
    "rcParams['font.size'] = 16"
   ]
  },
  {
   "cell_type": "code",
   "execution_count": 2,
   "metadata": {
    "collapsed": false
   },
   "outputs": [
    {
     "ename": "NameError",
     "evalue": "name 'init_printing' is not defined",
     "output_type": "error",
     "traceback": [
      "\u001b[1;31m\u001b[0m",
      "\u001b[1;31mNameError\u001b[0mTraceback (most recent call last)",
      "\u001b[1;32m<ipython-input-2-2285929a2e0c>\u001b[0m in \u001b[0;36m<module>\u001b[1;34m()\u001b[0m\n\u001b[0;32m      2\u001b[0m \u001b[1;32mfrom\u001b[0m \u001b[0msympy\u001b[0m\u001b[1;33m.\u001b[0m\u001b[0mutilities\u001b[0m\u001b[1;33m.\u001b[0m\u001b[0mlambdify\u001b[0m \u001b[1;32mimport\u001b[0m \u001b[0mlambdify\u001b[0m\u001b[1;33m\u001b[0m\u001b[0m\n\u001b[0;32m      3\u001b[0m \u001b[1;33m\u001b[0m\u001b[0m\n\u001b[1;32m----> 4\u001b[1;33m \u001b[0minit_printing\u001b[0m\u001b[1;33m(\u001b[0m\u001b[1;33m)\u001b[0m\u001b[1;33m\u001b[0m\u001b[0m\n\u001b[0m\u001b[0;32m      5\u001b[0m \u001b[1;33m\u001b[0m\u001b[0m\n\u001b[0;32m      6\u001b[0m \u001b[0mx\u001b[0m\u001b[1;33m=\u001b[0m\u001b[0msympy\u001b[0m\u001b[1;33m.\u001b[0m\u001b[0msymbols\u001b[0m\u001b[1;33m(\u001b[0m\u001b[1;34m'x'\u001b[0m\u001b[1;33m)\u001b[0m\u001b[1;33m\u001b[0m\u001b[0m\n",
      "\u001b[1;31mNameError\u001b[0m: name 'init_printing' is not defined"
     ]
    }
   ],
   "source": [
    "#sympy solution\n",
    "from sympy.utilities.lambdify import lambdify\n",
    "\n",
    "init_printing()\n",
    "\n",
    "x=sympy.symbols('x')\n",
    "y=sympy.cos(x)**2*sympy.sin(x)**3/(4*x**5*sympy.exp(x))\n",
    "\n",
    "yprime=sympy.diff(y)\n",
    "yprime\n",
    "\n",
    "yprime_lamb = lambdify((x), yprime)\n",
    "yprime_lamb(2.2)"
   ]
  },
  {
   "cell_type": "code",
   "execution_count": 5,
   "metadata": {
    "collapsed": false
   },
   "outputs": [
    {
     "data": {
      "image/png": "[encoded data removed]",
      "text/plain": [
       "<matplotlib.figure.Figure at 0x2139f2dcac8>"
      ]
     },
     "metadata": {},
     "output_type": "display_data"
    }
   ],
   "source": [
    "#Traffic equation solution\n",
    "\n",
    "#Units are km and hours\n",
    "Vmax = 136\n",
    "L = 11\n",
    "pmax = 250\n",
    "nx = 51\n",
    "dt = 0.001\n",
    "T=0.05\n",
    "nt=int(T/dt)\n",
    "dx=L/nx\n",
    "\n",
    "\n",
    "#Initial conditions (Used in part B of the assignement)\n",
    "\n",
    "x = numpy.linspace(0,L,nx)\n",
    "rho0 = numpy.ones(nx)*20 \n",
    "rho0[10:20] = 50\n",
    "\n",
    "\n",
    "u=rho0.copy()\n",
    "\n",
    "#solve numerically the equation\n",
    "for n in range (nt):\n",
    "    un= u.copy()\n",
    "    u[1:]=un[1:]- dt/dx*Vmax*(1- 2*un[1:]/pmax)*(un[1:]-un[0:-1])\n",
    "    u[0] = 20\n",
    "        \n",
    "#Let's plot the solution because we like graphs\n",
    "pyplot.figure(figsize=(8,5), dpi=100)\n",
    "pyplot.plot(x,u, label='Computational')\n",
    "pyplot.xlim([0,11])\n",
    "pyplot.ylim([0,80])\n",
    "pyplot.legend();\n",
    "\n",
    "\n",
    "\n",
    "#Numerical information for homework\n",
    "#Find the biggest rho\n",
    "rho_mx = u[0]\n",
    "for i in range (0, len(u)-1):\n",
    "    if rho_mx<u[i]:\n",
    "        rho_mx = u[i]\n",
    "\n",
    "#V is a min when rho is a max\n",
    "V_min = Vmax*(1-rho_mx/pmax)/3.6\n",
    "V_min\n",
    "\n",
    "#finding average speed\n",
    "V_sum = 0\n",
    "for i in range(0, len(u)-1):\n",
    "    V_sum = V_sum + Vmax*(1-u[i]/pmax)/3.6\n",
    "V_av = V_sum/(len(u)-1)"
   ]
  },
  {
   "cell_type": "code",
   "execution_count": 6,
   "metadata": {
    "collapsed": false
   },
   "outputs": [
    {
     "data": {
      "text/plain": [
       "33.752455267069401"
      ]
     },
     "execution_count": 6,
     "metadata": {},
     "output_type": "execute_result"
    }
   ],
   "source": [
    "V_av"
   ]
  },
  {
   "cell_type": "code",
   "execution_count": 7,
   "metadata": {
    "collapsed": false
   },
   "outputs": [
    {
     "data": {
      "text/plain": [
       "30.812535464361666"
      ]
     },
     "execution_count": 7,
     "metadata": {},
     "output_type": "execute_result"
    }
   ],
   "source": [
    "V_min"
   ]
  },
  {
   "cell_type": "code",
   "execution_count": null,
   "metadata": {
    "collapsed": true
   },
   "outputs": [],
   "source": []
  }
 ],
 "metadata": {
  "anaconda-cloud": {},
  "kernelspec": {
   "display_name": "Python [Root]",
   "language": "python",
   "name": "Python [Root]"
  },
  "language_info": {
   "codemirror_mode": {
    "name": "ipython",
    "version": 3
   },
   "file_extension": ".py",
   "mimetype": "text/x-python",
   "name": "python",
   "nbconvert_exporter": "python",
   "pygments_lexer": "ipython3",
   "version": "3.5.2"
  }
 },
 "nbformat": 4,
 "nbformat_minor": 0
}
